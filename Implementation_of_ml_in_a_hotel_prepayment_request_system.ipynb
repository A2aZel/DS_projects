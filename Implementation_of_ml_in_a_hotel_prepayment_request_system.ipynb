{
  "cells": [
    {
      "cell_type": "markdown",
      "metadata": {
        "id": "2YtM4V8xEurt"
      },
      "source": [
        "# Прогнозирование оттока клиентов в сети отелей «Как в гостях»"
      ]
    },
    {
      "cell_type": "code",
      "execution_count": null,
      "metadata": {
        "id": "n5IW4eS-sZTj",
        "outputId": "bfacb317-5c49-4938-dcaf-3a84a222293e"
      },
      "outputs": [
        {
          "name": "stdout",
          "output_type": "stream",
          "text": [
            "Collecting imblearn\n",
            "  Downloading imblearn-0.0-py2.py3-none-any.whl (1.9 kB)\n",
            "Collecting imbalanced-learn\n",
            "  Downloading imbalanced_learn-0.10.1-py3-none-any.whl (226 kB)\n",
            "\u001b[K     |████████████████████████████████| 226 kB 1.1 MB/s eta 0:00:01\n",
            "\u001b[?25hCollecting scikit-learn>=1.0.2\n",
            "  Downloading scikit_learn-1.2.2-cp39-cp39-manylinux_2_17_x86_64.manylinux2014_x86_64.whl (9.6 MB)\n",
            "\u001b[K     |████████████████████████████████| 9.6 MB 2.7 MB/s eta 0:00:01     |███████████▎                    | 3.4 MB 5.3 MB/s eta 0:00:02\n",
            "\u001b[?25hCollecting joblib>=1.1.1\n",
            "  Downloading joblib-1.2.0-py3-none-any.whl (297 kB)\n",
            "\u001b[K     |████████████████████████████████| 297 kB 24.5 MB/s eta 0:00:01\n",
            "\u001b[?25hRequirement already satisfied: threadpoolctl>=2.0.0 in /opt/conda/lib/python3.9/site-packages (from imbalanced-learn->imblearn) (3.1.0)\n",
            "Requirement already satisfied: numpy>=1.17.3 in /opt/conda/lib/python3.9/site-packages (from imbalanced-learn->imblearn) (1.21.1)\n",
            "Requirement already satisfied: scipy>=1.3.2 in /opt/conda/lib/python3.9/site-packages (from imbalanced-learn->imblearn) (1.9.1)\n",
            "Installing collected packages: joblib, scikit-learn, imbalanced-learn, imblearn\n",
            "  Attempting uninstall: joblib\n",
            "    Found existing installation: joblib 1.1.0\n",
            "    Uninstalling joblib-1.1.0:\n",
            "      Successfully uninstalled joblib-1.1.0\n",
            "  Attempting uninstall: scikit-learn\n",
            "    Found existing installation: scikit-learn 0.24.1\n",
            "    Uninstalling scikit-learn-0.24.1:\n",
            "      Successfully uninstalled scikit-learn-0.24.1\n",
            "Successfully installed imbalanced-learn-0.10.1 imblearn-0.0 joblib-1.2.0 scikit-learn-1.2.2\n"
          ]
        }
      ],
      "source": [
        "!pip install imblearn"
      ]
    },
    {
      "cell_type": "code",
      "execution_count": null,
      "metadata": {
        "id": "s6UCvPHosZTl",
        "outputId": "11a2d0a8-1d7e-4b93-8299-3ef3c787ef9c"
      },
      "outputs": [
        {
          "name": "stdout",
          "output_type": "stream",
          "text": [
            "Collecting phik\n",
            "  Downloading phik-0.12.3-cp39-cp39-manylinux_2_17_x86_64.manylinux2014_x86_64.whl (679 kB)\n",
            "\u001b[K     |████████████████████████████████| 679 kB 1.1 MB/s eta 0:00:01\n",
            "\u001b[?25hRequirement already satisfied: pandas>=0.25.1 in /opt/conda/lib/python3.9/site-packages (from phik) (1.2.4)\n",
            "Requirement already satisfied: numpy>=1.18.0 in /opt/conda/lib/python3.9/site-packages (from phik) (1.21.1)\n",
            "Requirement already satisfied: joblib>=0.14.1 in /opt/conda/lib/python3.9/site-packages (from phik) (1.2.0)\n",
            "Requirement already satisfied: scipy>=1.5.2 in /opt/conda/lib/python3.9/site-packages (from phik) (1.9.1)\n",
            "Requirement already satisfied: matplotlib>=2.2.3 in /opt/conda/lib/python3.9/site-packages (from phik) (3.3.4)\n",
            "Requirement already satisfied: pyparsing!=2.0.4,!=2.1.2,!=2.1.6,>=2.0.3 in /opt/conda/lib/python3.9/site-packages (from matplotlib>=2.2.3->phik) (2.4.7)\n",
            "Requirement already satisfied: kiwisolver>=1.0.1 in /opt/conda/lib/python3.9/site-packages (from matplotlib>=2.2.3->phik) (1.4.4)\n",
            "Requirement already satisfied: pillow>=6.2.0 in /opt/conda/lib/python3.9/site-packages (from matplotlib>=2.2.3->phik) (8.4.0)\n",
            "Requirement already satisfied: python-dateutil>=2.1 in /opt/conda/lib/python3.9/site-packages (from matplotlib>=2.2.3->phik) (2.8.1)\n",
            "Requirement already satisfied: cycler>=0.10 in /opt/conda/lib/python3.9/site-packages (from matplotlib>=2.2.3->phik) (0.11.0)\n",
            "Requirement already satisfied: pytz>=2017.3 in /opt/conda/lib/python3.9/site-packages (from pandas>=0.25.1->phik) (2021.1)\n",
            "Requirement already satisfied: six>=1.5 in /opt/conda/lib/python3.9/site-packages (from python-dateutil>=2.1->matplotlib>=2.2.3->phik) (1.16.0)\n",
            "Installing collected packages: phik\n",
            "Successfully installed phik-0.12.3\n"
          ]
        }
      ],
      "source": [
        "!pip install phik"
      ]
    },
    {
      "cell_type": "code",
      "execution_count": null,
      "metadata": {
        "id": "ajdTdfUAsZTm",
        "outputId": "a059969e-ae21-4e98-93c3-bea0f9994631"
      },
      "outputs": [
        {
          "name": "stdout",
          "output_type": "stream",
          "text": [
            "Collecting scikit-learn==1.1.3\n",
            "  Downloading scikit_learn-1.1.3-cp39-cp39-manylinux_2_17_x86_64.manylinux2014_x86_64.whl (30.8 MB)\n",
            "\u001b[K     |████████████████████████████████| 30.8 MB 43 kB/s  eta 0:00:01\n",
            "\u001b[?25hRequirement already satisfied: threadpoolctl>=2.0.0 in /opt/conda/lib/python3.9/site-packages (from scikit-learn==1.1.3) (3.1.0)\n",
            "Requirement already satisfied: scipy>=1.3.2 in /opt/conda/lib/python3.9/site-packages (from scikit-learn==1.1.3) (1.9.1)\n",
            "Requirement already satisfied: numpy>=1.17.3 in /opt/conda/lib/python3.9/site-packages (from scikit-learn==1.1.3) (1.21.1)\n",
            "Requirement already satisfied: joblib>=1.0.0 in /opt/conda/lib/python3.9/site-packages (from scikit-learn==1.1.3) (1.2.0)\n",
            "Installing collected packages: scikit-learn\n",
            "  Attempting uninstall: scikit-learn\n",
            "    Found existing installation: scikit-learn 1.2.2\n",
            "    Uninstalling scikit-learn-1.2.2:\n",
            "      Successfully uninstalled scikit-learn-1.2.2\n",
            "Successfully installed scikit-learn-1.1.3\n"
          ]
        }
      ],
      "source": [
        "!pip install scikit-learn==1.1.3"
      ]
    },
    {
      "cell_type": "code",
      "execution_count": null,
      "metadata": {
        "colab": {
          "base_uri": "https://localhost:8080/"
        },
        "id": "zp12FoQvE0Z1",
        "outputId": "54444ec6-8c18-4c56-9eb2-31786186c2ca"
      },
      "outputs": [
        {
          "name": "stdout",
          "output_type": "stream",
          "text": [
            "Collecting shap\n",
            "  Downloading shap-0.41.0-cp39-cp39-manylinux_2_12_x86_64.manylinux2010_x86_64.whl (572 kB)\n",
            "\u001b[K     |████████████████████████████████| 572 kB 1.8 MB/s eta 0:00:01\n",
            "\u001b[?25hRequirement already satisfied: scipy in /opt/conda/lib/python3.9/site-packages (from shap) (1.9.1)\n",
            "Requirement already satisfied: tqdm>4.25.0 in /opt/conda/lib/python3.9/site-packages (from shap) (4.61.2)\n",
            "Requirement already satisfied: numba in /opt/conda/lib/python3.9/site-packages (from shap) (0.56.0)\n",
            "Requirement already satisfied: pandas in /opt/conda/lib/python3.9/site-packages (from shap) (1.2.4)\n",
            "Requirement already satisfied: packaging>20.9 in /opt/conda/lib/python3.9/site-packages (from shap) (21.3)\n",
            "Requirement already satisfied: numpy in /opt/conda/lib/python3.9/site-packages (from shap) (1.21.1)\n",
            "Collecting cloudpickle\n",
            "  Downloading cloudpickle-2.2.1-py3-none-any.whl (25 kB)\n",
            "Collecting slicer==0.0.7\n",
            "  Downloading slicer-0.0.7-py3-none-any.whl (14 kB)\n",
            "Requirement already satisfied: scikit-learn in /opt/conda/lib/python3.9/site-packages (from shap) (1.1.3)\n",
            "Requirement already satisfied: pyparsing!=3.0.5,>=2.0.2 in /opt/conda/lib/python3.9/site-packages (from packaging>20.9->shap) (2.4.7)\n",
            "Requirement already satisfied: setuptools in /opt/conda/lib/python3.9/site-packages (from numba->shap) (49.6.0.post20210108)\n",
            "Requirement already satisfied: llvmlite<0.40,>=0.39.0dev0 in /opt/conda/lib/python3.9/site-packages (from numba->shap) (0.39.0)\n",
            "Requirement already satisfied: python-dateutil>=2.7.3 in /opt/conda/lib/python3.9/site-packages (from pandas->shap) (2.8.1)\n",
            "Requirement already satisfied: pytz>=2017.3 in /opt/conda/lib/python3.9/site-packages (from pandas->shap) (2021.1)\n",
            "Requirement already satisfied: six>=1.5 in /opt/conda/lib/python3.9/site-packages (from python-dateutil>=2.7.3->pandas->shap) (1.16.0)\n",
            "Requirement already satisfied: threadpoolctl>=2.0.0 in /opt/conda/lib/python3.9/site-packages (from scikit-learn->shap) (3.1.0)\n",
            "Requirement already satisfied: joblib>=1.0.0 in /opt/conda/lib/python3.9/site-packages (from scikit-learn->shap) (1.2.0)\n",
            "Installing collected packages: slicer, cloudpickle, shap\n",
            "Successfully installed cloudpickle-2.2.1 shap-0.41.0 slicer-0.0.7\n"
          ]
        }
      ],
      "source": [
        "!pip install shap"
      ]
    },
    {
      "cell_type": "code",
      "execution_count": null,
      "metadata": {
        "colab": {
          "base_uri": "https://localhost:8080/"
        },
        "id": "dN3Lr6_8Id3t",
        "outputId": "4468c149-6744-476f-e207-f69f265b9913"
      },
      "outputs": [
        {
          "name": "stdout",
          "output_type": "stream",
          "text": [
            "Collecting scikit-optimize\n",
            "  Downloading scikit_optimize-0.9.0-py2.py3-none-any.whl (100 kB)\n",
            "\u001b[K     |████████████████████████████████| 100 kB 2.1 MB/s ta 0:00:01\n",
            "\u001b[?25hRequirement already satisfied: scipy>=0.19.1 in /opt/conda/lib/python3.9/site-packages (from scikit-optimize) (1.9.1)\n",
            "Collecting pyaml>=16.9\n",
            "  Downloading pyaml-23.5.9-py3-none-any.whl (17 kB)\n",
            "Requirement already satisfied: numpy>=1.13.3 in /opt/conda/lib/python3.9/site-packages (from scikit-optimize) (1.21.1)\n",
            "Requirement already satisfied: joblib>=0.11 in /opt/conda/lib/python3.9/site-packages (from scikit-optimize) (1.2.0)\n",
            "Requirement already satisfied: scikit-learn>=0.20.0 in /opt/conda/lib/python3.9/site-packages (from scikit-optimize) (1.1.3)\n",
            "Requirement already satisfied: PyYAML in /opt/conda/lib/python3.9/site-packages (from pyaml>=16.9->scikit-optimize) (6.0)\n",
            "Requirement already satisfied: threadpoolctl>=2.0.0 in /opt/conda/lib/python3.9/site-packages (from scikit-learn>=0.20.0->scikit-optimize) (3.1.0)\n",
            "Installing collected packages: pyaml, scikit-optimize\n",
            "Successfully installed pyaml-23.5.9 scikit-optimize-0.9.0\n"
          ]
        }
      ],
      "source": [
        "!pip install scikit-optimize"
      ]
    },
    {
      "cell_type": "code",
      "execution_count": null,
      "metadata": {
        "id": "MTdqL_brEury"
      },
      "outputs": [],
      "source": [
        "import pandas as pd\n",
        "import numpy as np\n",
        "from sklearn.preprocessing import OneHotEncoder, StandardScaler\n",
        "from sklearn.tree import DecisionTreeClassifier, DecisionTreeRegressor\n",
        "from sklearn.model_selection import GridSearchCV\n",
        "from skopt import gp_minimize\n",
        "from skopt.space import (\n",
        "    Categorical,\n",
        "    Integer,\n",
        "    Real\n",
        ")\n",
        "from sklearn.metrics import (\n",
        "    classification_report,\n",
        "    f1_score, recall_score,\n",
        "    make_scorer, precision_score)\n",
        "from sklearn.model_selection import cross_val_score\n",
        "from sklearn.ensemble import RandomForestClassifier, GradientBoostingClassifier\n",
        "from sklearn.linear_model import LogisticRegression\n",
        "from sklearn.model_selection import (\n",
        "    RandomizedSearchCV,\n",
        "    train_test_split,\n",
        "    StratifiedKFold\n",
        ")\n",
        "from sklearn.pipeline import Pipeline\n",
        "from imblearn.over_sampling import SMOTE\n",
        "import xgboost as xgb\n",
        "from xgboost import XGBClassifier\n",
        "import shap\n",
        "import phik\n",
        "import seaborn as sns\n",
        "from scipy import stats\n",
        "from sklearn.model_selection import StratifiedKFold\n",
        "from sklearn.utils import shuffle\n",
        "from sklearn.pipeline import Pipeline\n",
        "from imblearn.pipeline import Pipeline as imbPipeline\n",
        "from imblearn.over_sampling import RandomOverSampler\n",
        "import matplotlib.pyplot as plt"
      ]
    },
    {
      "cell_type": "markdown",
      "source": [
        "Data"
      ],
      "metadata": {
        "id": "LWE5TAnjsmmQ"
      }
    },
    {
      "cell_type": "code",
      "execution_count": null,
      "metadata": {
        "id": "4wtxBfe3Eur0"
      },
      "outputs": [],
      "source": [
        "try:\n",
        "    train = pd.read_csv('/datasets/hotel_train.csv')\n",
        "    test = pd.read_csv('/datasets/hotel_test.csv')\n",
        "except:\n",
        "    train = pd.read_csv('/content/hotel_train.csv', error_bad_lines=False)\n",
        "    test = pd.read_csv('/content/hotel_test.csv', error_bad_lines=False)"
      ]
    },
    {
      "cell_type": "code",
      "execution_count": null,
      "metadata": {
        "colab": {
          "base_uri": "https://localhost:8080/",
          "height": 297
        },
        "id": "6gtkP_JqEur0",
        "outputId": "8d9c5b0a-4a99-41a2-f710-6b9c04cc165e"
      },
      "outputs": [
        {
          "data": {
            "text/html": [
              "<div>\n",
              "<style scoped>\n",
              "    .dataframe tbody tr th:only-of-type {\n",
              "        vertical-align: middle;\n",
              "    }\n",
              "\n",
              "    .dataframe tbody tr th {\n",
              "        vertical-align: top;\n",
              "    }\n",
              "\n",
              "    .dataframe thead th {\n",
              "        text-align: right;\n",
              "    }\n",
              "</style>\n",
              "<table border=\"1\" class=\"dataframe\">\n",
              "  <thead>\n",
              "    <tr style=\"text-align: right;\">\n",
              "      <th></th>\n",
              "      <th>id</th>\n",
              "      <th>is_canceled</th>\n",
              "      <th>lead_time</th>\n",
              "      <th>arrival_date_year</th>\n",
              "      <th>arrival_date_month</th>\n",
              "      <th>arrival_date_week_number</th>\n",
              "      <th>arrival_date_day_of_month</th>\n",
              "      <th>stays_in_weekend_nights</th>\n",
              "      <th>stays_in_week_nights</th>\n",
              "      <th>adults</th>\n",
              "      <th>...</th>\n",
              "      <th>is_repeated_guest</th>\n",
              "      <th>previous_cancellations</th>\n",
              "      <th>previous_bookings_not_canceled</th>\n",
              "      <th>reserved_room_type</th>\n",
              "      <th>booking_changes</th>\n",
              "      <th>days_in_waiting_list</th>\n",
              "      <th>customer_type</th>\n",
              "      <th>required_car_parking_spaces</th>\n",
              "      <th>total_of_special_requests</th>\n",
              "      <th>total_nights</th>\n",
              "    </tr>\n",
              "  </thead>\n",
              "  <tbody>\n",
              "    <tr>\n",
              "      <th>0</th>\n",
              "      <td>0</td>\n",
              "      <td>0</td>\n",
              "      <td>7.0</td>\n",
              "      <td>2015</td>\n",
              "      <td>July</td>\n",
              "      <td>27</td>\n",
              "      <td>1</td>\n",
              "      <td>0</td>\n",
              "      <td>1</td>\n",
              "      <td>1.0</td>\n",
              "      <td>...</td>\n",
              "      <td>0</td>\n",
              "      <td>0</td>\n",
              "      <td>0</td>\n",
              "      <td>A</td>\n",
              "      <td>0</td>\n",
              "      <td>0</td>\n",
              "      <td>Transient</td>\n",
              "      <td>0</td>\n",
              "      <td>0</td>\n",
              "      <td>1</td>\n",
              "    </tr>\n",
              "    <tr>\n",
              "      <th>1</th>\n",
              "      <td>1</td>\n",
              "      <td>0</td>\n",
              "      <td>14.0</td>\n",
              "      <td>2015</td>\n",
              "      <td>July</td>\n",
              "      <td>27</td>\n",
              "      <td>1</td>\n",
              "      <td>0</td>\n",
              "      <td>2</td>\n",
              "      <td>2.0</td>\n",
              "      <td>...</td>\n",
              "      <td>0</td>\n",
              "      <td>0</td>\n",
              "      <td>0</td>\n",
              "      <td>A</td>\n",
              "      <td>0</td>\n",
              "      <td>0</td>\n",
              "      <td>Transient</td>\n",
              "      <td>0</td>\n",
              "      <td>1</td>\n",
              "      <td>2</td>\n",
              "    </tr>\n",
              "    <tr>\n",
              "      <th>2</th>\n",
              "      <td>2</td>\n",
              "      <td>0</td>\n",
              "      <td>0.0</td>\n",
              "      <td>2015</td>\n",
              "      <td>July</td>\n",
              "      <td>27</td>\n",
              "      <td>1</td>\n",
              "      <td>0</td>\n",
              "      <td>2</td>\n",
              "      <td>2.0</td>\n",
              "      <td>...</td>\n",
              "      <td>0</td>\n",
              "      <td>0</td>\n",
              "      <td>0</td>\n",
              "      <td>C</td>\n",
              "      <td>0</td>\n",
              "      <td>0</td>\n",
              "      <td>Transient</td>\n",
              "      <td>0</td>\n",
              "      <td>0</td>\n",
              "      <td>2</td>\n",
              "    </tr>\n",
              "    <tr>\n",
              "      <th>3</th>\n",
              "      <td>3</td>\n",
              "      <td>0</td>\n",
              "      <td>9.0</td>\n",
              "      <td>2015</td>\n",
              "      <td>July</td>\n",
              "      <td>27</td>\n",
              "      <td>1</td>\n",
              "      <td>0</td>\n",
              "      <td>2</td>\n",
              "      <td>2.0</td>\n",
              "      <td>...</td>\n",
              "      <td>0</td>\n",
              "      <td>0</td>\n",
              "      <td>0</td>\n",
              "      <td>C</td>\n",
              "      <td>0</td>\n",
              "      <td>0</td>\n",
              "      <td>Transient</td>\n",
              "      <td>0</td>\n",
              "      <td>1</td>\n",
              "      <td>2</td>\n",
              "    </tr>\n",
              "    <tr>\n",
              "      <th>4</th>\n",
              "      <td>4</td>\n",
              "      <td>1</td>\n",
              "      <td>85.0</td>\n",
              "      <td>2015</td>\n",
              "      <td>July</td>\n",
              "      <td>27</td>\n",
              "      <td>1</td>\n",
              "      <td>0</td>\n",
              "      <td>3</td>\n",
              "      <td>2.0</td>\n",
              "      <td>...</td>\n",
              "      <td>0</td>\n",
              "      <td>0</td>\n",
              "      <td>0</td>\n",
              "      <td>A</td>\n",
              "      <td>0</td>\n",
              "      <td>0</td>\n",
              "      <td>Transient</td>\n",
              "      <td>0</td>\n",
              "      <td>1</td>\n",
              "      <td>3</td>\n",
              "    </tr>\n",
              "  </tbody>\n",
              "</table>\n",
              "<p>5 rows × 25 columns</p>\n",
              "</div>"
            ],
            "text/plain": [
              "   id  is_canceled  lead_time  arrival_date_year arrival_date_month  \\\n",
              "0   0            0        7.0               2015               July   \n",
              "1   1            0       14.0               2015               July   \n",
              "2   2            0        0.0               2015               July   \n",
              "3   3            0        9.0               2015               July   \n",
              "4   4            1       85.0               2015               July   \n",
              "\n",
              "   arrival_date_week_number  arrival_date_day_of_month  \\\n",
              "0                        27                          1   \n",
              "1                        27                          1   \n",
              "2                        27                          1   \n",
              "3                        27                          1   \n",
              "4                        27                          1   \n",
              "\n",
              "   stays_in_weekend_nights  stays_in_week_nights  adults  ...  \\\n",
              "0                        0                     1     1.0  ...   \n",
              "1                        0                     2     2.0  ...   \n",
              "2                        0                     2     2.0  ...   \n",
              "3                        0                     2     2.0  ...   \n",
              "4                        0                     3     2.0  ...   \n",
              "\n",
              "   is_repeated_guest  previous_cancellations previous_bookings_not_canceled  \\\n",
              "0                  0                       0                              0   \n",
              "1                  0                       0                              0   \n",
              "2                  0                       0                              0   \n",
              "3                  0                       0                              0   \n",
              "4                  0                       0                              0   \n",
              "\n",
              "  reserved_room_type booking_changes  days_in_waiting_list  customer_type  \\\n",
              "0   A                              0                     0      Transient   \n",
              "1   A                              0                     0      Transient   \n",
              "2   C                              0                     0      Transient   \n",
              "3   C                              0                     0      Transient   \n",
              "4   A                              0                     0      Transient   \n",
              "\n",
              "   required_car_parking_spaces total_of_special_requests  total_nights  \n",
              "0                            0                         0             1  \n",
              "1                            0                         1             2  \n",
              "2                            0                         0             2  \n",
              "3                            0                         1             2  \n",
              "4                            0                         1             3  \n",
              "\n",
              "[5 rows x 25 columns]"
            ]
          },
          "execution_count": 8,
          "metadata": {},
          "output_type": "execute_result"
        }
      ],
      "source": [
        "train.head()"
      ]
    },
    {
      "cell_type": "code",
      "execution_count": null,
      "metadata": {
        "colab": {
          "base_uri": "https://localhost:8080/",
          "height": 297
        },
        "id": "ofqapPbPEur1",
        "outputId": "8439d467-ac11-4f64-81fa-629575643316"
      },
      "outputs": [
        {
          "data": {
            "text/html": [
              "<div>\n",
              "<style scoped>\n",
              "    .dataframe tbody tr th:only-of-type {\n",
              "        vertical-align: middle;\n",
              "    }\n",
              "\n",
              "    .dataframe tbody tr th {\n",
              "        vertical-align: top;\n",
              "    }\n",
              "\n",
              "    .dataframe thead th {\n",
              "        text-align: right;\n",
              "    }\n",
              "</style>\n",
              "<table border=\"1\" class=\"dataframe\">\n",
              "  <thead>\n",
              "    <tr style=\"text-align: right;\">\n",
              "      <th></th>\n",
              "      <th>id</th>\n",
              "      <th>is_canceled</th>\n",
              "      <th>lead_time</th>\n",
              "      <th>arrival_date_year</th>\n",
              "      <th>arrival_date_month</th>\n",
              "      <th>arrival_date_week_number</th>\n",
              "      <th>arrival_date_day_of_month</th>\n",
              "      <th>stays_in_weekend_nights</th>\n",
              "      <th>stays_in_week_nights</th>\n",
              "      <th>adults</th>\n",
              "      <th>...</th>\n",
              "      <th>is_repeated_guest</th>\n",
              "      <th>previous_cancellations</th>\n",
              "      <th>previous_bookings_not_canceled</th>\n",
              "      <th>reserved_room_type</th>\n",
              "      <th>booking_changes</th>\n",
              "      <th>days_in_waiting_list</th>\n",
              "      <th>customer_type</th>\n",
              "      <th>required_car_parking_spaces</th>\n",
              "      <th>total_of_special_requests</th>\n",
              "      <th>total_nights</th>\n",
              "    </tr>\n",
              "  </thead>\n",
              "  <tbody>\n",
              "    <tr>\n",
              "      <th>0</th>\n",
              "      <td>6086</td>\n",
              "      <td>1</td>\n",
              "      <td>74.0</td>\n",
              "      <td>2017</td>\n",
              "      <td>January</td>\n",
              "      <td>1</td>\n",
              "      <td>1</td>\n",
              "      <td>1</td>\n",
              "      <td>0</td>\n",
              "      <td>2.0</td>\n",
              "      <td>...</td>\n",
              "      <td>0</td>\n",
              "      <td>0</td>\n",
              "      <td>0</td>\n",
              "      <td>A</td>\n",
              "      <td>0</td>\n",
              "      <td>0</td>\n",
              "      <td>Transient</td>\n",
              "      <td>0</td>\n",
              "      <td>0</td>\n",
              "      <td>1</td>\n",
              "    </tr>\n",
              "    <tr>\n",
              "      <th>1</th>\n",
              "      <td>6087</td>\n",
              "      <td>1</td>\n",
              "      <td>62.0</td>\n",
              "      <td>2017</td>\n",
              "      <td>January</td>\n",
              "      <td>1</td>\n",
              "      <td>1</td>\n",
              "      <td>2</td>\n",
              "      <td>2</td>\n",
              "      <td>2.0</td>\n",
              "      <td>...</td>\n",
              "      <td>0</td>\n",
              "      <td>0</td>\n",
              "      <td>0</td>\n",
              "      <td>A</td>\n",
              "      <td>0</td>\n",
              "      <td>0</td>\n",
              "      <td>Transient</td>\n",
              "      <td>0</td>\n",
              "      <td>1</td>\n",
              "      <td>4</td>\n",
              "    </tr>\n",
              "    <tr>\n",
              "      <th>2</th>\n",
              "      <td>6088</td>\n",
              "      <td>1</td>\n",
              "      <td>62.0</td>\n",
              "      <td>2017</td>\n",
              "      <td>January</td>\n",
              "      <td>1</td>\n",
              "      <td>1</td>\n",
              "      <td>2</td>\n",
              "      <td>2</td>\n",
              "      <td>2.0</td>\n",
              "      <td>...</td>\n",
              "      <td>0</td>\n",
              "      <td>0</td>\n",
              "      <td>0</td>\n",
              "      <td>A</td>\n",
              "      <td>0</td>\n",
              "      <td>0</td>\n",
              "      <td>Transient</td>\n",
              "      <td>0</td>\n",
              "      <td>1</td>\n",
              "      <td>4</td>\n",
              "    </tr>\n",
              "    <tr>\n",
              "      <th>3</th>\n",
              "      <td>6089</td>\n",
              "      <td>1</td>\n",
              "      <td>71.0</td>\n",
              "      <td>2017</td>\n",
              "      <td>January</td>\n",
              "      <td>1</td>\n",
              "      <td>1</td>\n",
              "      <td>2</td>\n",
              "      <td>2</td>\n",
              "      <td>1.0</td>\n",
              "      <td>...</td>\n",
              "      <td>0</td>\n",
              "      <td>0</td>\n",
              "      <td>0</td>\n",
              "      <td>A</td>\n",
              "      <td>0</td>\n",
              "      <td>0</td>\n",
              "      <td>Transient</td>\n",
              "      <td>0</td>\n",
              "      <td>1</td>\n",
              "      <td>4</td>\n",
              "    </tr>\n",
              "    <tr>\n",
              "      <th>4</th>\n",
              "      <td>6090</td>\n",
              "      <td>1</td>\n",
              "      <td>172.0</td>\n",
              "      <td>2017</td>\n",
              "      <td>January</td>\n",
              "      <td>1</td>\n",
              "      <td>1</td>\n",
              "      <td>2</td>\n",
              "      <td>5</td>\n",
              "      <td>2.0</td>\n",
              "      <td>...</td>\n",
              "      <td>0</td>\n",
              "      <td>0</td>\n",
              "      <td>0</td>\n",
              "      <td>A</td>\n",
              "      <td>0</td>\n",
              "      <td>0</td>\n",
              "      <td>Transient</td>\n",
              "      <td>0</td>\n",
              "      <td>0</td>\n",
              "      <td>7</td>\n",
              "    </tr>\n",
              "  </tbody>\n",
              "</table>\n",
              "<p>5 rows × 25 columns</p>\n",
              "</div>"
            ],
            "text/plain": [
              "     id  is_canceled  lead_time  arrival_date_year arrival_date_month  \\\n",
              "0  6086            1       74.0               2017            January   \n",
              "1  6087            1       62.0               2017            January   \n",
              "2  6088            1       62.0               2017            January   \n",
              "3  6089            1       71.0               2017            January   \n",
              "4  6090            1      172.0               2017            January   \n",
              "\n",
              "   arrival_date_week_number  arrival_date_day_of_month  \\\n",
              "0                         1                          1   \n",
              "1                         1                          1   \n",
              "2                         1                          1   \n",
              "3                         1                          1   \n",
              "4                         1                          1   \n",
              "\n",
              "   stays_in_weekend_nights  stays_in_week_nights  adults  ...  \\\n",
              "0                        1                     0     2.0  ...   \n",
              "1                        2                     2     2.0  ...   \n",
              "2                        2                     2     2.0  ...   \n",
              "3                        2                     2     1.0  ...   \n",
              "4                        2                     5     2.0  ...   \n",
              "\n",
              "   is_repeated_guest  previous_cancellations previous_bookings_not_canceled  \\\n",
              "0                  0                       0                              0   \n",
              "1                  0                       0                              0   \n",
              "2                  0                       0                              0   \n",
              "3                  0                       0                              0   \n",
              "4                  0                       0                              0   \n",
              "\n",
              "  reserved_room_type booking_changes  days_in_waiting_list  customer_type  \\\n",
              "0   A                              0                     0      Transient   \n",
              "1   A                              0                     0      Transient   \n",
              "2   A                              0                     0      Transient   \n",
              "3   A                              0                     0      Transient   \n",
              "4   A                              0                     0      Transient   \n",
              "\n",
              "   required_car_parking_spaces total_of_special_requests  total_nights  \n",
              "0                            0                         0             1  \n",
              "1                            0                         1             4  \n",
              "2                            0                         1             4  \n",
              "3                            0                         1             4  \n",
              "4                            0                         0             7  \n",
              "\n",
              "[5 rows x 25 columns]"
            ]
          },
          "execution_count": 9,
          "metadata": {},
          "output_type": "execute_result"
        }
      ],
      "source": [
        "test.head()"
      ]
    },
    {
      "cell_type": "markdown",
      "metadata": {
        "id": "dDaF5_EMEur2"
      },
      "source": [
        "### Шаг 2. Предобработка и исследовательский анализ данных"
      ]
    },
    {
      "cell_type": "code",
      "execution_count": null,
      "metadata": {
        "colab": {
          "base_uri": "https://localhost:8080/"
        },
        "id": "VuGt3Td2Eur2",
        "outputId": "2efd2bcc-5220-42f1-9602-395956becec5"
      },
      "outputs": [
        {
          "data": {
            "text/plain": [
              "id                                0\n",
              "is_canceled                       0\n",
              "lead_time                         0\n",
              "arrival_date_year                 0\n",
              "arrival_date_month                0\n",
              "arrival_date_week_number          0\n",
              "arrival_date_day_of_month         0\n",
              "stays_in_weekend_nights           0\n",
              "stays_in_week_nights              0\n",
              "adults                            0\n",
              "children                          0\n",
              "babies                            0\n",
              "meal                              0\n",
              "country                           0\n",
              "distribution_channel              0\n",
              "is_repeated_guest                 0\n",
              "previous_cancellations            0\n",
              "previous_bookings_not_canceled    0\n",
              "reserved_room_type                0\n",
              "booking_changes                   0\n",
              "days_in_waiting_list              0\n",
              "customer_type                     0\n",
              "required_car_parking_spaces       0\n",
              "total_of_special_requests         0\n",
              "total_nights                      0\n",
              "dtype: int64"
            ]
          },
          "execution_count": 10,
          "metadata": {},
          "output_type": "execute_result"
        }
      ],
      "source": [
        "train.isna().sum()"
      ]
    },
    {
      "cell_type": "code",
      "execution_count": null,
      "metadata": {
        "colab": {
          "base_uri": "https://localhost:8080/"
        },
        "id": "10y4NeflEur2",
        "outputId": "ede54843-c411-49b2-f45e-6118d55eca7d"
      },
      "outputs": [
        {
          "data": {
            "text/plain": [
              "id                                0\n",
              "is_canceled                       0\n",
              "lead_time                         0\n",
              "arrival_date_year                 0\n",
              "arrival_date_month                0\n",
              "arrival_date_week_number          0\n",
              "arrival_date_day_of_month         0\n",
              "stays_in_weekend_nights           0\n",
              "stays_in_week_nights              0\n",
              "adults                            0\n",
              "children                          0\n",
              "babies                            0\n",
              "meal                              0\n",
              "country                           0\n",
              "distribution_channel              0\n",
              "is_repeated_guest                 0\n",
              "previous_cancellations            0\n",
              "previous_bookings_not_canceled    0\n",
              "reserved_room_type                0\n",
              "booking_changes                   0\n",
              "days_in_waiting_list              0\n",
              "customer_type                     0\n",
              "required_car_parking_spaces       0\n",
              "total_of_special_requests         0\n",
              "total_nights                      0\n",
              "dtype: int64"
            ]
          },
          "execution_count": 11,
          "metadata": {},
          "output_type": "execute_result"
        }
      ],
      "source": [
        "test.isna().sum()"
      ]
    },
    {
      "cell_type": "code",
      "execution_count": null,
      "metadata": {
        "colab": {
          "base_uri": "https://localhost:8080/"
        },
        "id": "zeNPNOB9Eur3",
        "outputId": "86e3640c-f043-4020-b93d-015b6b99c59a"
      },
      "outputs": [
        {
          "name": "stdout",
          "output_type": "stream",
          "text": [
            "<class 'pandas.core.frame.DataFrame'>\n",
            "RangeIndex: 65229 entries, 0 to 65228\n",
            "Data columns (total 25 columns):\n",
            " #   Column                          Non-Null Count  Dtype  \n",
            "---  ------                          --------------  -----  \n",
            " 0   id                              65229 non-null  int64  \n",
            " 1   is_canceled                     65229 non-null  int64  \n",
            " 2   lead_time                       65229 non-null  float64\n",
            " 3   arrival_date_year               65229 non-null  int64  \n",
            " 4   arrival_date_month              65229 non-null  object \n",
            " 5   arrival_date_week_number        65229 non-null  int64  \n",
            " 6   arrival_date_day_of_month       65229 non-null  int64  \n",
            " 7   stays_in_weekend_nights         65229 non-null  int64  \n",
            " 8   stays_in_week_nights            65229 non-null  int64  \n",
            " 9   adults                          65229 non-null  float64\n",
            " 10  children                        65229 non-null  float64\n",
            " 11  babies                          65229 non-null  float64\n",
            " 12  meal                            65229 non-null  object \n",
            " 13  country                         65229 non-null  object \n",
            " 14  distribution_channel            65229 non-null  object \n",
            " 15  is_repeated_guest               65229 non-null  int64  \n",
            " 16  previous_cancellations          65229 non-null  int64  \n",
            " 17  previous_bookings_not_canceled  65229 non-null  int64  \n",
            " 18  reserved_room_type              65229 non-null  object \n",
            " 19  booking_changes                 65229 non-null  int64  \n",
            " 20  days_in_waiting_list            65229 non-null  int64  \n",
            " 21  customer_type                   65229 non-null  object \n",
            " 22  required_car_parking_spaces     65229 non-null  int64  \n",
            " 23  total_of_special_requests       65229 non-null  int64  \n",
            " 24  total_nights                    65229 non-null  int64  \n",
            "dtypes: float64(4), int64(15), object(6)\n",
            "memory usage: 12.4+ MB\n"
          ]
        }
      ],
      "source": [
        "train.info();"
      ]
    },
    {
      "cell_type": "code",
      "execution_count": null,
      "metadata": {
        "colab": {
          "base_uri": "https://localhost:8080/"
        },
        "id": "Oh-9AC_fEur3",
        "outputId": "1698e27e-543d-4c7c-99c6-f7e43bd6f2f4"
      },
      "outputs": [
        {
          "name": "stdout",
          "output_type": "stream",
          "text": [
            "<class 'pandas.core.frame.DataFrame'>\n",
            "RangeIndex: 32412 entries, 0 to 32411\n",
            "Data columns (total 25 columns):\n",
            " #   Column                          Non-Null Count  Dtype  \n",
            "---  ------                          --------------  -----  \n",
            " 0   id                              32412 non-null  int64  \n",
            " 1   is_canceled                     32412 non-null  int64  \n",
            " 2   lead_time                       32412 non-null  float64\n",
            " 3   arrival_date_year               32412 non-null  int64  \n",
            " 4   arrival_date_month              32412 non-null  object \n",
            " 5   arrival_date_week_number        32412 non-null  int64  \n",
            " 6   arrival_date_day_of_month       32412 non-null  int64  \n",
            " 7   stays_in_weekend_nights         32412 non-null  int64  \n",
            " 8   stays_in_week_nights            32412 non-null  int64  \n",
            " 9   adults                          32412 non-null  float64\n",
            " 10  children                        32412 non-null  float64\n",
            " 11  babies                          32412 non-null  float64\n",
            " 12  meal                            32412 non-null  object \n",
            " 13  country                         32412 non-null  object \n",
            " 14  distribution_channel            32412 non-null  object \n",
            " 15  is_repeated_guest               32412 non-null  int64  \n",
            " 16  previous_cancellations          32412 non-null  int64  \n",
            " 17  previous_bookings_not_canceled  32412 non-null  int64  \n",
            " 18  reserved_room_type              32412 non-null  object \n",
            " 19  booking_changes                 32412 non-null  int64  \n",
            " 20  days_in_waiting_list            32412 non-null  int64  \n",
            " 21  customer_type                   32412 non-null  object \n",
            " 22  required_car_parking_spaces     32412 non-null  int64  \n",
            " 23  total_of_special_requests       32412 non-null  int64  \n",
            " 24  total_nights                    32412 non-null  int64  \n",
            "dtypes: float64(4), int64(15), object(6)\n",
            "memory usage: 6.2+ MB\n"
          ]
        }
      ],
      "source": [
        "test.info();"
      ]
    },
    {
      "cell_type": "code",
      "execution_count": null,
      "metadata": {
        "colab": {
          "base_uri": "https://localhost:8080/"
        },
        "id": "iRSKZ-w8Eur3",
        "outputId": "a55e34e8-91f8-4170-dc84-ecd3d31c7850"
      },
      "outputs": [
        {
          "data": {
            "text/plain": [
              "Index(['arrival_date_month', 'meal', 'country', 'distribution_channel',\n",
              "       'reserved_room_type', 'customer_type'],\n",
              "      dtype='object')"
            ]
          },
          "execution_count": 14,
          "metadata": {},
          "output_type": "execute_result"
        }
      ],
      "source": [
        "train.select_dtypes(include = 'object').columns"
      ]
    },
    {
      "cell_type": "markdown",
      "metadata": {
        "id": "-fwUtDxesZTq"
      },
      "source": [
        "<div class=\"alert alert-info\">\n",
        "Дубликатов нет\n",
        "<div>"
      ]
    },
    {
      "cell_type": "code",
      "execution_count": null,
      "metadata": {
        "id": "1Y6LIRpLsZTq",
        "outputId": "b39ffa4a-04e8-47d1-d737-16f613b505ef"
      },
      "outputs": [
        {
          "data": {
            "text/plain": [
              "0"
            ]
          },
          "execution_count": 15,
          "metadata": {},
          "output_type": "execute_result"
        }
      ],
      "source": [
        "train.duplicated(keep = False).sum()"
      ]
    },
    {
      "cell_type": "code",
      "execution_count": null,
      "metadata": {
        "id": "As65CCyIsZTq",
        "outputId": "6d95fa6b-8629-4426-d944-8cf671ca274a"
      },
      "outputs": [
        {
          "data": {
            "text/plain": [
              "0"
            ]
          },
          "execution_count": 16,
          "metadata": {},
          "output_type": "execute_result"
        }
      ],
      "source": [
        "test.duplicated(keep = False).sum()"
      ]
    },
    {
      "cell_type": "markdown",
      "metadata": {
        "id": "y4efwBA1sZTq"
      },
      "source": [
        "<div class=\"alert alert-info\">\n",
        "Сравню уникальные значения в train и test\n",
        "<div>"
      ]
    },
    {
      "cell_type": "code",
      "execution_count": null,
      "metadata": {
        "id": "4sxrRgxZsZTr",
        "outputId": "180c6a23-d2f3-4d4c-d183-8173e3db4934"
      },
      "outputs": [
        {
          "name": "stdout",
          "output_type": "stream",
          "text": [
            "['test[arrival_date_month] != train[arrival_date_month]', 'test[country] != train[country]']\n"
          ]
        }
      ],
      "source": [
        "columns_to_check = ['arrival_date_month', 'meal', 'country', 'distribution_channel',\n",
        "       'reserved_room_type', 'customer_type']\n",
        "not_equal_col = [\n",
        "    f'test[{column}] != train[{column}]'\n",
        "    for column in columns_to_check\n",
        "    if set(test[column]) != set(train[column])\n",
        "]\n",
        "print(not_equal_col)"
      ]
    },
    {
      "cell_type": "code",
      "execution_count": null,
      "metadata": {
        "id": "ubfO5pu4sZTr",
        "outputId": "583c0e54-37ab-4ffa-96bf-0601ad6b1037"
      },
      "outputs": [
        {
          "name": "stdout",
          "output_type": "stream",
          "text": [
            "{'October', 'September', 'December', 'November'}\n",
            "{'BWA', 'PYF', 'GEO', 'OMN', 'PLW', 'MKD', 'CYM', 'ARM', 'BDI', 'MWI', 'UGA', 'ZMB', 'BOL', 'NIC', 'BRB', 'KNA', 'NAM', 'VGB', 'MLI', 'GUY', 'SMR', 'TMP', 'DMA', 'HND', 'LCA', 'GGY', 'GLP', 'RWA', 'BFA', 'KHM', 'MMR'}\n"
          ]
        }
      ],
      "source": [
        "print(set(train['arrival_date_month']) - set(test['arrival_date_month']))\n",
        "print(set(train['country']) - set(test['country']))"
      ]
    },
    {
      "cell_type": "markdown",
      "metadata": {
        "id": "VOGMx7qdsZTs"
      },
      "source": [
        "<div class=\"alert alert-info\">\n",
        "В датасетах есть отличающиеся значения, но тк они присутствуют они в train, то не должно быть ничего страшного для OHE.\n",
        "</div>"
      ]
    },
    {
      "cell_type": "markdown",
      "metadata": {
        "id": "7rSUmJJGEur5"
      },
      "source": [
        "Посмотрим на выбросы"
      ]
    },
    {
      "cell_type": "markdown",
      "metadata": {
        "id": "Dt1xFwrjsZTw"
      },
      "source": [
        "<div class=\"alert alert-info\">\n",
        "Графики\n",
        "</div>"
      ]
    },
    {
      "cell_type": "code",
      "execution_count": null,
      "metadata": {
        "id": "PCI99P1isZTx",
        "outputId": "0d1defe4-a508-4c39-d63d-77d32d500abb"
      },
      "outputs": [
        {
          "data": {
            "image/png": "[encoded data removed]",
            "text/plain": [
              "<Figure size 1080x1080 with 20 Axes>"
            ]
          },
          "metadata": {
            "needs_background": "light"
          },
          "output_type": "display_data"
        }
      ],
      "source": [
        "train.hist(figsize = (15, 15));"
      ]
    },
    {
      "cell_type": "markdown",
      "metadata": {
        "id": "fSDS3NmlsZTx"
      },
      "source": [
        "<div class=\"alert alert-info\">\n",
        "heatmap для корреляции. phik, тк устанавливает не только линейные зависимости\n",
        "</div>"
      ]
    },
    {
      "cell_type": "code",
      "execution_count": null,
      "metadata": {
        "id": "0NhDStazsZTx",
        "outputId": "d8fba87c-d564-407a-a700-ddbabe434430"
      },
      "outputs": [
        {
          "name": "stdout",
          "output_type": "stream",
          "text": [
            "interval columns not set, guessing: ['id', 'is_canceled', 'lead_time', 'arrival_date_year', 'arrival_date_week_number', 'arrival_date_day_of_month', 'stays_in_weekend_nights', 'stays_in_week_nights', 'adults', 'children', 'babies', 'is_repeated_guest', 'previous_cancellations', 'previous_bookings_not_canceled', 'booking_changes', 'days_in_waiting_list', 'required_car_parking_spaces', 'total_of_special_requests', 'total_nights']\n"
          ]
        },
        {
          "data": {
            "image/png": "[encoded data removed]",
            "text/plain": [
              "<Figure size 432x288 with 2 Axes>"
            ]
          },
          "metadata": {
            "needs_background": "light"
          },
          "output_type": "display_data"
        }
      ],
      "source": [
        "phik_matrix = train.phik_matrix();\n",
        "sns.heatmap(phik_matrix, cmap='coolwarm');"
      ]
    },
    {
      "cell_type": "code",
      "execution_count": null,
      "metadata": {
        "id": "QvsPcc7_sZTy",
        "outputId": "0b072c66-e6e2-4068-e3ff-b1aa5c6ee7cc"
      },
      "outputs": [
        {
          "data": {
            "text/plain": [
              "0    41185\n",
              "1    24044\n",
              "Name: is_canceled, dtype: int64"
            ]
          },
          "execution_count": 23,
          "metadata": {},
          "output_type": "execute_result"
        }
      ],
      "source": [
        "train['is_canceled'].value_counts()"
      ]
    },
    {
      "cell_type": "code",
      "execution_count": null,
      "metadata": {
        "id": "AIY3J1DmsZTy",
        "outputId": "83d05346-4441-405c-af9a-0507461d9ee1"
      },
      "outputs": [
        {
          "data": {
            "text/plain": [
              "0    19821\n",
              "1    12591\n",
              "Name: is_canceled, dtype: int64"
            ]
          },
          "execution_count": 24,
          "metadata": {},
          "output_type": "execute_result"
        }
      ],
      "source": [
        "test['is_canceled'].value_counts()"
      ]
    },
    {
      "cell_type": "markdown",
      "metadata": {
        "id": "beLhBEa4sZTy"
      },
      "source": [
        "<div class=\"alert alert-info\">\n",
        "id может быть одним из ключевых признаков, он может отражать длительность пользования платформы пользователем + там наблюдается довольно сильная корреляция. Наблюдается дисбаланс классов 1.71 / 1, 0 / 1.\n",
        "   \n",
        "</div>"
      ]
    },
    {
      "cell_type": "code",
      "execution_count": null,
      "metadata": {
        "id": "FuAWAo-tsZTz",
        "outputId": "a3b99fb5-1949-47ec-ae6b-293595b9eb21"
      },
      "outputs": [
        {
          "data": {
            "text/plain": [
              "(65229, 24)"
            ]
          },
          "execution_count": 25,
          "metadata": {},
          "output_type": "execute_result"
        }
      ],
      "source": [
        "train = train.drop('id', axis = 1)\n",
        "test = test.drop('id', axis = 1)\n",
        "train.shape"
      ]
    },
    {
      "cell_type": "code",
      "execution_count": null,
      "metadata": {
        "id": "yaUKuiICsZTz",
        "outputId": "40891f05-56f0-4f64-8204-9e8d54d25efe"
      },
      "outputs": [
        {
          "name": "stdout",
          "output_type": "stream",
          "text": [
            "['BB       ' 'FB       ' 'HB       ' 'SC       ' 'SC']\n",
            "['A               ' 'C               ' 'D               '\n",
            " 'E               ' 'G               ' 'F               '\n",
            " 'B               ']\n"
          ]
        }
      ],
      "source": [
        "print(train['meal'].unique())\n",
        "print(train['reserved_room_type'].unique())"
      ]
    },
    {
      "cell_type": "code",
      "execution_count": null,
      "metadata": {
        "id": "0Jx_5usSsZT0",
        "outputId": "66458bd6-dc11-4ee0-bfae-2f28c62b2f48"
      },
      "outputs": [
        {
          "name": "stdout",
          "output_type": "stream",
          "text": [
            "['BB' 'FB' 'HB' 'SC']\n",
            "['A' 'C' 'D' 'E' 'G' 'F' 'B']\n"
          ]
        }
      ],
      "source": [
        "for col in ['meal', 'reserved_room_type']:\n",
        "    train[col] = train[col].apply(lambda x: x.strip())\n",
        "print(train['meal'].unique())\n",
        "print(train['reserved_room_type'].unique())"
      ]
    },
    {
      "cell_type": "code",
      "execution_count": null,
      "metadata": {
        "id": "IQnfHojEsZT0",
        "outputId": "f01eca2b-afa9-46f4-d15b-eccf8808d5d4"
      },
      "outputs": [
        {
          "data": {
            "text/plain": [
              "array(['lead_time', 'arrival_date_year', 'arrival_date_week_number',\n",
              "       'arrival_date_day_of_month', 'stays_in_weekend_nights',\n",
              "       'stays_in_week_nights', 'adults', 'children', 'babies',\n",
              "       'is_repeated_guest', 'previous_cancellations',\n",
              "       'previous_bookings_not_canceled', 'booking_changes',\n",
              "       'days_in_waiting_list', 'required_car_parking_spaces',\n",
              "       'total_of_special_requests', 'total_nights'], dtype=object)"
            ]
          },
          "execution_count": 28,
          "metadata": {},
          "output_type": "execute_result"
        }
      ],
      "source": [
        "cols = ['lead_time', 'arrival_date_year',\n",
        "       'arrival_date_week_number', 'arrival_date_day_of_month',\n",
        "       'stays_in_weekend_nights', 'stays_in_week_nights', 'adults', 'children',\n",
        "       'babies', 'is_repeated_guest', 'previous_cancellations',\n",
        "       'previous_bookings_not_canceled', 'booking_changes',\n",
        "       'days_in_waiting_list', 'required_car_parking_spaces',\n",
        "       'total_of_special_requests', 'total_nights', 'stays_in_weekend_nights', 'adults', 'babies', 'previous_cancellations', 'previous_bookings_not_canceled', 'booking_changes', 'days_in_waiting_list', 'required_car_parking_spaces', 'total_of_special_requests', 'total_nights']\n",
        "pd.Series(cols).unique()"
      ]
    },
    {
      "cell_type": "code",
      "execution_count": null,
      "metadata": {
        "id": "rMnoGHfysZT0",
        "outputId": "367267dd-e0f3-48e0-f267-34086af2ebb5"
      },
      "outputs": [
        {
          "data": {
            "text/plain": [
              "is_canceled                          0\n",
              "lead_time                            0\n",
              "arrival_date_year                    0\n",
              "arrival_date_month                   0\n",
              "arrival_date_week_number             0\n",
              "arrival_date_day_of_month            0\n",
              "stays_in_weekend_nights            152\n",
              "stays_in_week_nights                 0\n",
              "adults                             179\n",
              "children                          1352\n",
              "babies                             452\n",
              "meal                                 0\n",
              "country                              0\n",
              "distribution_channel                 0\n",
              "is_repeated_guest                 1771\n",
              "previous_cancellations             166\n",
              "previous_bookings_not_canceled     396\n",
              "reserved_room_type                   0\n",
              "booking_changes                   2419\n",
              "days_in_waiting_list              1383\n",
              "customer_type                        0\n",
              "required_car_parking_spaces       3682\n",
              "total_of_special_requests         1156\n",
              "total_nights                       270\n",
              "dtype: int64"
            ]
          },
          "execution_count": 29,
          "metadata": {},
          "output_type": "execute_result"
        }
      ],
      "source": [
        "cols = ['lead_time', 'arrival_date_year', 'arrival_date_week_number',\n",
        "       'arrival_date_day_of_month', 'stays_in_weekend_nights',\n",
        "       'stays_in_week_nights', 'adults', 'children', 'babies',\n",
        "       'is_repeated_guest', 'previous_cancellations',\n",
        "       'previous_bookings_not_canceled', 'booking_changes',\n",
        "       'days_in_waiting_list', 'required_car_parking_spaces',\n",
        "       'total_of_special_requests', 'total_nights']\n",
        "\n",
        "z_scores = stats.zscore(train[cols])\n",
        "\n",
        "threshold = 3\n",
        "\n",
        "outliers = (abs(z_scores) > threshold)\n",
        "train[outliers].count()"
      ]
    },
    {
      "cell_type": "code",
      "execution_count": null,
      "metadata": {
        "id": "FkrFlMbcsZT0",
        "outputId": "9eccdfb3-7e7e-4379-ad22-363f27fcf041"
      },
      "outputs": [
        {
          "data": {
            "text/plain": [
              "is_canceled                          0\n",
              "lead_time                          100\n",
              "arrival_date_year                    0\n",
              "arrival_date_month                   0\n",
              "arrival_date_week_number             0\n",
              "arrival_date_day_of_month            0\n",
              "stays_in_weekend_nights             70\n",
              "stays_in_week_nights                 0\n",
              "adults                              78\n",
              "children                           658\n",
              "babies                             175\n",
              "meal                                 0\n",
              "country                              0\n",
              "distribution_channel                 0\n",
              "is_repeated_guest                 1017\n",
              "previous_cancellations             226\n",
              "previous_bookings_not_canceled     273\n",
              "reserved_room_type                   0\n",
              "booking_changes                    442\n",
              "days_in_waiting_list               138\n",
              "customer_type                        0\n",
              "required_car_parking_spaces       1477\n",
              "total_of_special_requests          142\n",
              "total_nights                       117\n",
              "dtype: int64"
            ]
          },
          "execution_count": 30,
          "metadata": {},
          "output_type": "execute_result"
        }
      ],
      "source": [
        "cols = ['lead_time', 'arrival_date_year', 'arrival_date_week_number',\n",
        "       'arrival_date_day_of_month', 'stays_in_weekend_nights',\n",
        "       'stays_in_week_nights', 'adults', 'children', 'babies',\n",
        "       'is_repeated_guest', 'previous_cancellations',\n",
        "       'previous_bookings_not_canceled', 'booking_changes',\n",
        "       'days_in_waiting_list', 'required_car_parking_spaces',\n",
        "       'total_of_special_requests', 'total_nights']\n",
        "z_scores = stats.zscore(test[cols])\n",
        "\n",
        "threshold = 3\n",
        "\n",
        "outliers = (abs(z_scores) > threshold)\n",
        "test[outliers].count()"
      ]
    },
    {
      "cell_type": "code",
      "execution_count": null,
      "metadata": {
        "id": "jw3q21snsZT1",
        "outputId": "cc8171f1-83bb-4747-b6d3-1986614da03f"
      },
      "outputs": [
        {
          "data": {
            "image/png": "[encoded data removed]",
            "text/plain": [
              "<Figure size 432x288 with 1 Axes>"
            ]
          },
          "metadata": {
            "needs_background": "light"
          },
          "output_type": "display_data"
        },
        {
          "data": {
            "image/png": "[encoded data removed]",
            "text/plain": [
              "<Figure size 432x288 with 1 Axes>"
            ]
          },
          "metadata": {
            "needs_background": "light"
          },
          "output_type": "display_data"
        },
        {
          "data": {
            "image/png": "[encoded data removed]",
            "text/plain": [
              "<Figure size 432x288 with 1 Axes>"
            ]
          },
          "metadata": {
            "needs_background": "light"
          },
          "output_type": "display_data"
        },
        {
          "data": {
            "image/png": "[encoded data removed]",
            "text/plain": [
              "<Figure size 432x288 with 1 Axes>"
            ]
          },
          "metadata": {
            "needs_background": "light"
          },
          "output_type": "display_data"
        },
        {
          "data": {
            "image/png": "[encoded data removed]",
            "text/plain": [
              "<Figure size 432x288 with 1 Axes>"
            ]
          },
          "metadata": {
            "needs_background": "light"
          },
          "output_type": "display_data"
        },
        {
          "data": {
            "image/png": "[encoded data removed]",
            "text/plain": [
              "<Figure size 432x288 with 1 Axes>"
            ]
          },
          "metadata": {
            "needs_background": "light"
          },
          "output_type": "display_data"
        },
        {
          "data": {
            "image/png": "[encoded data removed]",
            "text/plain": [
              "<Figure size 432x288 with 1 Axes>"
            ]
          },
          "metadata": {
            "needs_background": "light"
          },
          "output_type": "display_data"
        },
        {
          "data": {
            "image/png": "[encoded data removed]",
            "text/plain": [
              "<Figure size 432x288 with 1 Axes>"
            ]
          },
          "metadata": {
            "needs_background": "light"
          },
          "output_type": "display_data"
        },
        {
          "data": {
            "image/png": "[encoded data removed]",
            "text/plain": [
              "<Figure size 432x288 with 1 Axes>"
            ]
          },
          "metadata": {
            "needs_background": "light"
          },
          "output_type": "display_data"
        },
        {
          "data": {
            "image/png": "[encoded data removed]",
            "text/plain": [
              "<Figure size 432x288 with 1 Axes>"
            ]
          },
          "metadata": {
            "needs_background": "light"
          },
          "output_type": "display_data"
        },
        {
          "data": {
            "image/png": "[encoded data removed]",
            "text/plain": [
              "<Figure size 432x288 with 1 Axes>"
            ]
          },
          "metadata": {
            "needs_background": "light"
          },
          "output_type": "display_data"
        },
        {
          "data": {
            "image/png": "[encoded data removed]",
            "text/plain": [
              "<Figure size 432x288 with 1 Axes>"
            ]
          },
          "metadata": {
            "needs_background": "light"
          },
          "output_type": "display_data"
        },
        {
          "data": {
            "image/png": "[encoded data removed]",
            "text/plain": [
              "<Figure size 432x288 with 1 Axes>"
            ]
          },
          "metadata": {
            "needs_background": "light"
          },
          "output_type": "display_data"
        },
        {
          "data": {
            "image/png": "[encoded data removed]",
            "text/plain": [
              "<Figure size 432x288 with 1 Axes>"
            ]
          },
          "metadata": {
            "needs_background": "light"
          },
          "output_type": "display_data"
        },
        {
          "data": {
            "image/png": "[encoded data removed]",
            "text/plain": [
              "<Figure size 432x288 with 1 Axes>"
            ]
          },
          "metadata": {
            "needs_background": "light"
          },
          "output_type": "display_data"
        },
        {
          "data": {
            "image/png": "[encoded data removed]",
            "text/plain": [
              "<Figure size 432x288 with 1 Axes>"
            ]
          },
          "metadata": {
            "needs_background": "light"
          },
          "output_type": "display_data"
        },
        {
          "data": {
            "image/png": "[encoded data removed]",
            "text/plain": [
              "<Figure size 432x288 with 1 Axes>"
            ]
          },
          "metadata": {
            "needs_background": "light"
          },
          "output_type": "display_data"
        }
      ],
      "source": [
        "cols = ['lead_time', 'arrival_date_year', 'arrival_date_week_number',\n",
        "       'arrival_date_day_of_month', 'stays_in_weekend_nights',\n",
        "       'stays_in_week_nights', 'adults', 'children', 'babies',\n",
        "       'is_repeated_guest', 'previous_cancellations',\n",
        "       'previous_bookings_not_canceled', 'booking_changes',\n",
        "       'days_in_waiting_list', 'required_car_parking_spaces',\n",
        "       'total_of_special_requests', 'total_nights']\n",
        "for col in cols:\n",
        "    train.boxplot(column = col)\n",
        "    plt.show()"
      ]
    },
    {
      "cell_type": "code",
      "execution_count": null,
      "metadata": {
        "id": "y0kED0ldsZT1",
        "outputId": "f218c5ad-49c1-4486-dd3a-62c1a0a27773"
      },
      "outputs": [
        {
          "data": {
            "image/png": "[encoded data removed]",
            "text/plain": [
              "<Figure size 432x288 with 1 Axes>"
            ]
          },
          "metadata": {
            "needs_background": "light"
          },
          "output_type": "display_data"
        },
        {
          "data": {
            "image/png": "[encoded data removed]",
            "text/plain": [
              "<Figure size 432x288 with 1 Axes>"
            ]
          },
          "metadata": {
            "needs_background": "light"
          },
          "output_type": "display_data"
        },
        {
          "data": {
            "image/png": "[encoded data removed]",
            "text/plain": [
              "<Figure size 432x288 with 1 Axes>"
            ]
          },
          "metadata": {
            "needs_background": "light"
          },
          "output_type": "display_data"
        },
        {
          "data": {
            "image/png": "[encoded data removed]",
            "text/plain": [
              "<Figure size 432x288 with 1 Axes>"
            ]
          },
          "metadata": {
            "needs_background": "light"
          },
          "output_type": "display_data"
        },
        {
          "data": {
            "image/png": "[encoded data removed]",
            "text/plain": [
              "<Figure size 432x288 with 1 Axes>"
            ]
          },
          "metadata": {
            "needs_background": "light"
          },
          "output_type": "display_data"
        },
        {
          "data": {
            "image/png": "[encoded data removed]",
            "text/plain": [
              "<Figure size 432x288 with 1 Axes>"
            ]
          },
          "metadata": {
            "needs_background": "light"
          },
          "output_type": "display_data"
        },
        {
          "data": {
            "image/png": "[encoded data removed]",
            "text/plain": [
              "<Figure size 432x288 with 1 Axes>"
            ]
          },
          "metadata": {
            "needs_background": "light"
          },
          "output_type": "display_data"
        },
        {
          "data": {
            "image/png": "[encoded data removed]",
            "text/plain": [
              "<Figure size 432x288 with 1 Axes>"
            ]
          },
          "metadata": {
            "needs_background": "light"
          },
          "output_type": "display_data"
        },
        {
          "data": {
            "image/png": "[encoded data removed]",
            "text/plain": [
              "<Figure size 432x288 with 1 Axes>"
            ]
          },
          "metadata": {
            "needs_background": "light"
          },
          "output_type": "display_data"
        },
        {
          "data": {
            "image/png": "[encoded data removed]",
            "text/plain": [
              "<Figure size 432x288 with 1 Axes>"
            ]
          },
          "metadata": {
            "needs_background": "light"
          },
          "output_type": "display_data"
        },
        {
          "data": {
            "image/png": "[encoded data removed]",
            "text/plain": [
              "<Figure size 432x288 with 1 Axes>"
            ]
          },
          "metadata": {
            "needs_background": "light"
          },
          "output_type": "display_data"
        },
        {
          "data": {
            "image/png": "[encoded data removed]",
            "text/plain": [
              "<Figure size 432x288 with 1 Axes>"
            ]
          },
          "metadata": {
            "needs_background": "light"
          },
          "output_type": "display_data"
        },
        {
          "data": {
            "image/png": "[encoded data removed]",
            "text/plain": [
              "<Figure size 432x288 with 1 Axes>"
            ]
          },
          "metadata": {
            "needs_background": "light"
          },
          "output_type": "display_data"
        },
        {
          "data": {
            "image/png": "[encoded data removed]",
            "text/plain": [
              "<Figure size 432x288 with 1 Axes>"
            ]
          },
          "metadata": {
            "needs_background": "light"
          },
          "output_type": "display_data"
        },
        {
          "data": {
            "image/png": "[encoded data removed]",
            "text/plain": [
              "<Figure size 432x288 with 1 Axes>"
            ]
          },
          "metadata": {
            "needs_background": "light"
          },
          "output_type": "display_data"
        },
        {
          "data": {
            "image/png": "[encoded data removed]",
            "text/plain": [
              "<Figure size 432x288 with 1 Axes>"
            ]
          },
          "metadata": {
            "needs_background": "light"
          },
          "output_type": "display_data"
        },
        {
          "data": {
            "image/png": "[encoded data removed]",
            "text/plain": [
              "<Figure size 432x288 with 1 Axes>"
            ]
          },
          "metadata": {
            "needs_background": "light"
          },
          "output_type": "display_data"
        }
      ],
      "source": [
        "cols = ['lead_time', 'arrival_date_year', 'arrival_date_week_number',\n",
        "       'arrival_date_day_of_month', 'stays_in_weekend_nights',\n",
        "       'stays_in_week_nights', 'adults', 'children', 'babies',\n",
        "       'is_repeated_guest', 'previous_cancellations',\n",
        "       'previous_bookings_not_canceled', 'booking_changes',\n",
        "       'days_in_waiting_list', 'required_car_parking_spaces',\n",
        "       'total_of_special_requests', 'total_nights']\n",
        "for col in cols:\n",
        "    test.boxplot(column = col)\n",
        "    plt.show()"
      ]
    },
    {
      "cell_type": "code",
      "execution_count": null,
      "metadata": {
        "id": "Z-OYRIhYsZT1"
      },
      "outputs": [],
      "source": [
        "cols = ['lead_time', 'arrival_date_year', 'arrival_date_week_number',\n",
        "        'arrival_date_day_of_month', 'stays_in_weekend_nights',\n",
        "        'stays_in_week_nights', 'adults', 'children', 'babies',\n",
        "        'is_repeated_guest', 'previous_cancellations',\n",
        "        'previous_bookings_not_canceled', 'booking_changes',\n",
        "        'days_in_waiting_list', 'required_car_parking_spaces',\n",
        "        'total_of_special_requests', 'total_nights']\n",
        "\n",
        "q1 = train[cols].quantile(0.25)\n",
        "q3 = train[cols].quantile(0.75)\n",
        "iqr = q3 - q1\n",
        "\n",
        "thresh = 1.5\n",
        "\n",
        "train = train[((train[cols] < (q1 - thresh*iqr)) | (train[cols] > (q3 + thresh*iqr))).any(axis=1)]\n",
        "test = test[((test[cols] < (q1 - thresh*iqr)) | (test[cols] > (q3 + thresh*iqr))).any(axis=1)]"
      ]
    },
    {
      "cell_type": "markdown",
      "metadata": {
        "id": "8Y8wgtABEur7"
      },
      "source": [
        "### Шаг 3. Формулировка ML-задачи на основе бизнес-задачи"
      ]
    },
    {
      "cell_type": "code",
      "execution_count": null,
      "metadata": {
        "id": "yrp9_mpQsZT2"
      },
      "outputs": [],
      "source": [
        "features_train = train.drop(['is_canceled'], axis = 1)\n",
        "target_train = train['is_canceled']\n",
        "features_test = test.drop(['is_canceled'], axis = 1)\n",
        "target_test = test['is_canceled']"
      ]
    },
    {
      "cell_type": "code",
      "execution_count": null,
      "metadata": {
        "id": "K3hWFOxHsZT2",
        "outputId": "ab75ec63-389d-48c1-cb9c-66d5818de401"
      },
      "outputs": [
        {
          "data": {
            "text/plain": [
              "Index(['arrival_date_month', 'meal', 'country', 'distribution_channel',\n",
              "       'reserved_room_type', 'customer_type'],\n",
              "      dtype='object')"
            ]
          },
          "execution_count": 35,
          "metadata": {},
          "output_type": "execute_result"
        }
      ],
      "source": [
        "features_train.select_dtypes(include = 'object').columns"
      ]
    },
    {
      "cell_type": "code",
      "execution_count": null,
      "metadata": {
        "id": "EXTIGJ4PsZT2",
        "outputId": "2b260e54-e29d-4410-f1e8-0417e7b416c1"
      },
      "outputs": [
        {
          "data": {
            "text/plain": [
              "Index(['arrival_date_month', 'meal', 'country', 'distribution_channel',\n",
              "       'reserved_room_type', 'customer_type'],\n",
              "      dtype='object')"
            ]
          },
          "execution_count": 36,
          "metadata": {},
          "output_type": "execute_result"
        }
      ],
      "source": [
        "features_test.select_dtypes(include = 'object').columns"
      ]
    },
    {
      "cell_type": "markdown",
      "metadata": {
        "id": "vongmdFnsZT2"
      },
      "source": [
        "<div class=\"alert alert-info\">\n",
        "    Тут при запуске нужно дождаться, пока он дозапустит, тк по какой-то причине, он не дождавшись завершения действий в ячейке, он запускает дальше.\n",
        "</div>"
      ]
    },
    {
      "cell_type": "code",
      "execution_count": null,
      "metadata": {
        "id": "FwpvgXcGsZT3"
      },
      "outputs": [],
      "source": [
        "encoder_ohe = OneHotEncoder(handle_unknown='ignore', sparse=False)\n",
        "\n",
        "# Колонки, которые надо перевести\n",
        "ohe_features = ['arrival_date_month', 'meal', 'country', 'distribution_channel',\n",
        "       'reserved_room_type', 'customer_type']\n",
        "\n",
        "# обучаем энкодер на заданных категориальных признаках тренировочной выборки\n",
        "encoder_ohe.fit(features_train[ohe_features])\n",
        "\n",
        "# добавляем закодированные признаки в X_train_ohe\n",
        "# encoder_ohe.get_feature_names_out() позволяет получить названия колонок\n",
        "features_train[\n",
        "    encoder_ohe.get_feature_names_out()\n",
        "] = encoder_ohe.transform(features_train[ohe_features])\n",
        "\n",
        "# удаляем незакодированные категориальные признаки (изначальные колонки)\n",
        "features_train = features_train.drop(ohe_features, axis=1)\n",
        "\n",
        "features_test[\n",
        "    encoder_ohe.get_feature_names_out()\n",
        "] = encoder_ohe.transform(features_test[ohe_features])\n",
        "\n",
        "\n",
        "features_test = features_test.drop(ohe_features, axis=1)"
      ]
    },
    {
      "cell_type": "code",
      "execution_count": null,
      "metadata": {
        "id": "pf-Zaau4sZT3",
        "outputId": "3d30ac32-1e6b-4259-dc58-258619ea8cea"
      },
      "outputs": [
        {
          "data": {
            "text/plain": [
              "Index(['lead_time', 'arrival_date_year', 'arrival_date_week_number',\n",
              "       'arrival_date_day_of_month', 'stays_in_weekend_nights',\n",
              "       'stays_in_week_nights', 'adults', 'children', 'babies',\n",
              "       'is_repeated_guest',\n",
              "       ...\n",
              "       'reserved_room_type_B', 'reserved_room_type_C', 'reserved_room_type_D',\n",
              "       'reserved_room_type_E', 'reserved_room_type_F', 'reserved_room_type_G',\n",
              "       'customer_type_Contract', 'customer_type_Group',\n",
              "       'customer_type_Transient', 'customer_type_Transient-Party'],\n",
              "      dtype='object', length=175)"
            ]
          },
          "execution_count": 38,
          "metadata": {},
          "output_type": "execute_result"
        }
      ],
      "source": [
        "features_train = features_train.rename(columns=lambda x: x.strip())\n",
        "features_test = features_test.rename(columns=lambda x: x.strip())\n",
        "features_train.columns"
      ]
    },
    {
      "cell_type": "code",
      "execution_count": null,
      "metadata": {
        "colab": {
          "base_uri": "https://localhost:8080/"
        },
        "id": "ERTeyCTPEur7",
        "outputId": "340b06f3-9fee-481e-b446-372e513f92e6"
      },
      "outputs": [
        {
          "data": {
            "text/plain": [
              "Index(['lead_time', 'arrival_date_year', 'arrival_date_week_number',\n",
              "       'arrival_date_day_of_month', 'stays_in_weekend_nights',\n",
              "       'stays_in_week_nights', 'adults', 'children', 'babies',\n",
              "       'is_repeated_guest',\n",
              "       ...\n",
              "       'B', 'C', 'D', 'E', 'F', 'G', 'customer_type_Contract',\n",
              "       'customer_type_Group', 'customer_type_Transient',\n",
              "       'customer_type_Transient-Party'],\n",
              "      dtype='object', length=175)"
            ]
          },
          "execution_count": 39,
          "metadata": {},
          "output_type": "execute_result"
        }
      ],
      "source": [
        "columns = ['reserved_room_type_' + letter for letter in ['A', 'B', 'C', 'D', 'E', 'F', 'G']]\n",
        "crt = ['A', 'B', 'C', 'D', 'E', 'F', 'G']\n",
        "features_train = features_train.rename(columns = {columns[0]:crt[0], columns[1]:crt[1], columns[2]:crt[2], columns[3]:crt[3], columns[4]:crt[4], columns[5]:crt[5], columns[6]:crt[6]})\n",
        "features_train.columns"
      ]
    },
    {
      "cell_type": "code",
      "execution_count": null,
      "metadata": {
        "colab": {
          "base_uri": "https://localhost:8080/"
        },
        "id": "GtolbBnyEur8",
        "outputId": "6914fb77-7ad9-4d7d-f2ec-41891b829251"
      },
      "outputs": [
        {
          "data": {
            "text/plain": [
              "Index(['lead_time', 'arrival_date_year', 'arrival_date_week_number',\n",
              "       'arrival_date_day_of_month', 'stays_in_weekend_nights',\n",
              "       'stays_in_week_nights', 'adults', 'children', 'babies',\n",
              "       'is_repeated_guest',\n",
              "       ...\n",
              "       'B', 'C', 'D', 'E', 'F', 'G', 'customer_type_Contract',\n",
              "       'customer_type_Group', 'customer_type_Transient',\n",
              "       'customer_type_Transient-Party'],\n",
              "      dtype='object', length=175)"
            ]
          },
          "execution_count": 40,
          "metadata": {},
          "output_type": "execute_result"
        }
      ],
      "source": [
        "columns = ['reserved_room_type_' + letter for letter in ['A', 'B', 'C', 'D', 'E', 'F', 'G']]\n",
        "crt = ['A', 'B', 'C', 'D', 'E', 'F', 'G']\n",
        "features_test = features_test.rename(columns = {columns[0]:crt[0], columns[1]:crt[1], columns[2]:crt[2], columns[3]:crt[3], columns[4]:crt[4], columns[5]:crt[5], columns[6]:crt[6]})\n",
        "features_test.columns"
      ]
    },
    {
      "cell_type": "code",
      "execution_count": null,
      "metadata": {
        "colab": {
          "base_uri": "https://localhost:8080/"
        },
        "id": "YfSerMiDLRdp",
        "outputId": "4473dbf9-8c49-4af3-bc27-d38a26ee94ea"
      },
      "outputs": [
        {
          "data": {
            "text/plain": [
              "Index(['lead_time', 'arrival_date_year', 'arrival_date_week_number',\n",
              "       'arrival_date_day_of_month', 'stays_in_weekend_nights',\n",
              "       'stays_in_week_nights', 'adults', 'children', 'babies',\n",
              "       'is_repeated_guest',\n",
              "       ...\n",
              "       'B', 'C', 'D', 'E', 'F', 'G', 'customer_type_Contract',\n",
              "       'customer_type_Group', 'customer_type_Transient',\n",
              "       'customer_type_Transient-Party'],\n",
              "      dtype='object', length=175)"
            ]
          },
          "execution_count": 41,
          "metadata": {},
          "output_type": "execute_result"
        }
      ],
      "source": [
        "columns = ['arrival_date_month_' + month for month in ['January', 'February', 'March', 'April', 'May', 'June', 'July', 'August', 'September', 'October', 'November', 'December']]\n",
        "crt = ['1', '2', '3', '4', '5', '6', '7', '8', '9', '10', '11', '12']\n",
        "features_train = features_train.rename(columns = {columns[0]:crt[0], columns[1]:crt[1], columns[2]:crt[2], columns[3]:crt[3], columns[4]:crt[4], columns[5]:crt[5], columns[6]:crt[6], columns[7]:crt[7], columns[8]:crt[8], columns[9]:crt[9], columns[10]:crt[10], columns[11]:crt[11]})\n",
        "features_train.columns"
      ]
    },
    {
      "cell_type": "code",
      "execution_count": null,
      "metadata": {
        "id": "F-D77kpZsZT5",
        "outputId": "e1fb29f4-2f42-4b31-8d4c-95fd9cb3c65e"
      },
      "outputs": [
        {
          "data": {
            "text/plain": [
              "Index(['lead_time', 'arrival_date_year', 'arrival_date_week_number',\n",
              "       'arrival_date_day_of_month', 'stays_in_weekend_nights',\n",
              "       'stays_in_week_nights', 'adults', 'children', 'babies',\n",
              "       'is_repeated_guest',\n",
              "       ...\n",
              "       'B', 'C', 'D', 'E', 'F', 'G', 'customer_type_Contract',\n",
              "       'customer_type_Group', 'customer_type_Transient',\n",
              "       'customer_type_Transient-Party'],\n",
              "      dtype='object', length=175)"
            ]
          },
          "execution_count": 42,
          "metadata": {},
          "output_type": "execute_result"
        }
      ],
      "source": [
        "columns = ['arrival_date_month_' + month for month in ['January', 'February', 'March', 'April', 'May', 'June', 'July', 'August', 'September', 'October', 'November', 'December']]\n",
        "crt = ['1', '2', '3', '4', '5', '6', '7', '8', '9', '10', '11', '12']\n",
        "features_test = features_test.rename(columns = {columns[0]:crt[0], columns[1]:crt[1], columns[2]:crt[2], columns[3]:crt[3], columns[4]:crt[4], columns[5]:crt[5], columns[6]:crt[6], columns[7]:crt[7], columns[8]:crt[8], columns[9]:crt[9], columns[10]:crt[10], columns[11]:crt[11]})\n",
        "features_test.columns"
      ]
    },
    {
      "cell_type": "code",
      "execution_count": null,
      "metadata": {
        "id": "q_-ztaF4sZT5"
      },
      "outputs": [],
      "source": [
        "def calculate_revenue(row, arg):\n",
        "    revenue = 0\n",
        "    if arg == 0:\n",
        "        if row['is_canceled'] == 0:\n",
        "            if row['B'] == 1:\n",
        "                if row['3'] == 1 or row['4'] == 1 or row['5'] == 1 or row['9'] == 1 or row['10'] == 1 or row['11'] == 1:\n",
        "                    revenue = 800 * 1.2 * row['total_nights'] - 350 - 350 * row['total_nights'] // 2\n",
        "                elif row['6'] == 1 or row['7'] == 1 or row['8'] == 1:\n",
        "                    revenue = 800 * 1.4 * row['total_nights'] - 350 - 350 * row['total_nights'] // 2\n",
        "                else:\n",
        "                    revenue = 800 * row['total_nights'] - 350 - 350 * row['total_nights'] // 2\n",
        "            elif row['C'] == 1:\n",
        "                if row['3'] == 1 or row['4'] == 1 or row['5'] == 1 or row['9'] == 1 or row['10'] == 1 or row['11'] == 1:\n",
        "                    revenue = 600 * 1.2 * row['total_nights'] - 350 - 350 * row['total_nights'] // 2\n",
        "                elif row['6'] == 1 or row['7'] == 1 or row['8'] == 1:\n",
        "                    revenue = 600 * 1.4 * row['total_nights'] - 350 - 350 * row['total_nights'] // 2\n",
        "                else:\n",
        "                    revenue = 600 * row['total_nights'] - 350 - 350 * row['total_nights'] // 2\n",
        "            elif row['D'] == 1:\n",
        "                if row['3'] == 1 or row['4'] == 1 or row['5'] == 1 or row['9'] == 1 or row['10'] == 1 or row['11'] == 1:\n",
        "                    revenue = 550 * 1.2 * row['total_nights'] - 150 - 150 * row['total_nights'] // 2\n",
        "                elif row['6'] == 1 or row['7'] == 1 or row['8'] == 1:\n",
        "                    revenue = 550 * 1.4 * row['total_nights'] - 150 - 150 * row['total_nights'] // 2\n",
        "                else:\n",
        "                    revenue = 550 * row['total_nights'] - 150 - 150 * row['total_nights'] // 2\n",
        "            elif row['E'] == 1:\n",
        "                if row['3'] == 1 or row['4'] == 1 or row['5'] == 1 or row['9'] == 1 or row['10'] == 1 or row['11'] == 1:\n",
        "                    revenue = 500 * 1.2 * row['total_nights'] - 150 - 150 * row['total_nights'] // 2\n",
        "                elif row['6'] == 1 or row['7'] == 1 or row['8'] == 1:\n",
        "                    revenue = 500 * 1.4 * row['total_nights'] - 150 - 150 * row['total_nights'] // 2\n",
        "                else:\n",
        "                    revenue = 500 * row['total_nights'] - 150 - 150 * row['total_nights'] // 2\n",
        "            elif row['F'] == 1:\n",
        "                if row['3'] == 1 or row['4'] == 1 or row['5'] == 1 or row['9'] == 1 or row['10'] == 1 or row['11'] == 1:\n",
        "                    revenue = 450 * 1.2 * row['total_nights'] - 150 - 150 * row['total_nights'] // 2\n",
        "                elif row['6'] == 1 or row['7'] == 1 or row['8'] == 1:\n",
        "                    revenue = 450 * 1.4 * row['total_nights'] - 150 - 150 * row['total_nights'] // 2\n",
        "                else:\n",
        "                    revenue = 450 * row['total_nights'] - 150 - 150 * row['total_nights'] // 2\n",
        "            elif row['G'] == 1:\n",
        "                if row['3'] == 1 or row['4'] == 1 or row['5'] == 1 or row['9'] == 1 or row['10'] == 1 or row['11'] == 1:\n",
        "                    revenue = 350 * 1.2 * row['total_nights'] - 150 - 150 * row['total_nights'] // 2\n",
        "                elif row['6'] == 1 or row['7'] == 1 or row['8'] == 1:\n",
        "                    revenue = 350 * 1.4 * row['total_nights'] - 150 - 150 * row['total_nights'] // 2\n",
        "                else:\n",
        "                    revenue = 350 * row['total_nights'] - 150 - 150 * row['total_nights'] // 2\n",
        "            else:\n",
        "                if row['3'] == 1 or row['4'] == 1 or row['5'] == 1 or row['9'] == 1 or row['10'] == 1 or row['11'] == 1:\n",
        "                    revenue = 1000 * 1.2 * row['total_nights'] - 400 - 400 * row['total_nights'] // 2\n",
        "                elif row['6'] == 1 or row['7'] == 1 or row['8'] == 1:\n",
        "                    revenue = 1000 * 1.4 * row['total_nights'] - 400 - 400 * row['total_nights'] // 2\n",
        "                else:\n",
        "                    revenue = 1000 * row['total_nights'] - 400 - 400 * row['total_nights'] // 2\n",
        "        else:\n",
        "            if row['B'] == 1:\n",
        "                if row['3'] == 1 or row['4'] == 1 or row['5'] == 1 or row['9'] == 1 or row['10'] == 1 or row['11'] == 1:\n",
        "                    revenue = -800 * 1.2 - 350\n",
        "                elif row['6'] == 1 or row['7'] == 1 or row['8'] == 1:\n",
        "                    revenue = -800 * 1.4 - 350\n",
        "                else:\n",
        "                    revenue = -800 - 350\n",
        "            elif row['C'] == 1:\n",
        "                if row['3'] == 1 or row['4'] == 1 or row['5'] == 1 or row['9'] == 1 or row['10'] == 1 or row['11'] == 1:\n",
        "                    revenue = -600 * 1.2 - 350\n",
        "                elif row['6'] == 1 or row['7'] == 1 or row['8'] == 1:\n",
        "                    revenue = -600 * 1.4 - 350\n",
        "                else:\n",
        "                    revenue = -600 - 350\n",
        "            elif row['D'] == 1:\n",
        "                if row['3'] == 1 or row['4'] == 1 or row['5'] == 1 or row['9'] == 1 or row['10'] == 1 or row['11'] == 1:\n",
        "                    revenue = -550 * 1.2 - 150\n",
        "                elif row['6'] == 1 or row['7'] == 1 or row['8'] == 1:\n",
        "                    revenue = -550 * 1.4 - 150\n",
        "                else:\n",
        "                    revenue = -550 - 150\n",
        "            elif row['E'] == 1:\n",
        "                if row['3'] == 1 or row['4'] == 1 or row['5'] == 1 or row['9'] == 1 or row['10'] == 1 or row['11'] == 1:\n",
        "                    revenue = -500 * 1.2 - 150\n",
        "                elif row['6'] == 1 or row['7'] == 1 or row['8'] == 1:\n",
        "                    revenue = -500 * 1.4 - 150\n",
        "                else:\n",
        "                    revenue = -500 - 150\n",
        "            elif row['F'] == 1:\n",
        "                if row['3'] == 1 or row['4'] == 1 or row['5'] == 1 or row['9'] == 1 or row['10'] == 1 or row['11'] == 1:\n",
        "                    revenue = -450 * 1.2 - 150\n",
        "                elif row['6'] == 1 or row['7'] == 1 or row['8'] == 1:\n",
        "                    revenue = -450 * 1.4 - 150\n",
        "                else:\n",
        "                    revenue = -450 - 150\n",
        "            elif row['G'] == 1:\n",
        "                if row['3'] == 1 or row['4'] == 1 or row['5'] == 1 or row['9'] == 1 or row['10'] == 1 or row['11'] == 1:\n",
        "                    revenue = -350 * 1.2 - 150\n",
        "                elif row['6'] == 1 or row['7'] == 1 or row['8'] == 1:\n",
        "                    revenue = -350 * 1.4 - 150\n",
        "                else:\n",
        "                    revenue = -350 - 150\n",
        "            else:\n",
        "                if row['3'] == 1 or row['4'] == 1 or row['5'] == 1 or row['9'] == 1 or row['10'] == 1 or row['11'] == 1:\n",
        "                    revenue = -1000 * 1.2 - 400\n",
        "                elif row['6'] == 1 or row['7'] == 1 or row['8'] == 1:\n",
        "                    revenue = -1000 * 1.4 - 400\n",
        "                else:\n",
        "                    revenue = -1000 - 400\n",
        "    else:\n",
        "        if row['predictions'] == 0 and row['is_canceled'] == 0:\n",
        "            if row['B'] == 1:\n",
        "                if row['3'] == 1 or row['4'] == 1 or row['5'] == 1 or row['9'] == 1 or row['10'] == 1 or row['11'] == 1:\n",
        "                    revenue = 800 * 1.2 * row['total_nights'] - 350 - 350 * row['total_nights'] // 2\n",
        "                elif row['6'] == 1 or row['7'] == 1 or row['8'] == 1:\n",
        "                    revenue = 800 * 1.4 * row['total_nights'] - 350 - 350 * row['total_nights'] // 2\n",
        "                else:\n",
        "                    revenue = 800 * row['total_nights'] - 350 - 350 * row['total_nights'] // 2\n",
        "            elif row['C'] == 1:\n",
        "                if row['3'] == 1 or row['4'] == 1 or row['5'] == 1 or row['9'] == 1 or row['10'] == 1 or row['11'] == 1:\n",
        "                    revenue = 600 * 1.2 * row['total_nights'] - 350 - 350 * row['total_nights'] // 2\n",
        "                elif row['6'] == 1 or row['7'] == 1 or row['8'] == 1:\n",
        "                    revenue = 600 * 1.4 * row['total_nights'] - 350 - 350 * row['total_nights'] // 2\n",
        "                else:\n",
        "                    revenue = 600 * row['total_nights'] - 350 - 350 * row['total_nights'] // 2\n",
        "            elif row['D'] == 1:\n",
        "                if row['3'] == 1 or row['4'] == 1 or row['5'] == 1 or row['9'] == 1 or row['10'] == 1 or row['11'] == 1:\n",
        "                    revenue = 550 * 1.2 * row['total_nights'] - 150 - 150 * row['total_nights'] // 2\n",
        "                elif row['6'] == 1 or row['7'] == 1 or row['8'] == 1:\n",
        "                    revenue = 550 * 1.4 * row['total_nights'] - 150 - 150 * row['total_nights'] // 2\n",
        "                else:\n",
        "                    revenue = 550 * row['total_nights'] - 150 - 150 * row['total_nights'] // 2\n",
        "            elif row['E'] == 1:\n",
        "                if row['3'] == 1 or row['4'] == 1 or row['5'] == 1 or row['9'] == 1 or row['10'] == 1 or row['11'] == 1:\n",
        "                    revenue = 500 * 1.2 * row['total_nights'] - 150 - 150 * row['total_nights'] // 2\n",
        "                elif row['6'] == 1 or row['7'] == 1 or row['8'] == 1:\n",
        "                    revenue = 500 * 1.4 * row['total_nights'] - 150 - 150 * row['total_nights'] // 2\n",
        "                else:\n",
        "                    revenue = 500 * row['total_nights'] - 150 - 150 * row['total_nights'] // 2\n",
        "            elif row['F'] == 1:\n",
        "                if row['3'] == 1 or row['4'] == 1 or row['5'] == 1 or row['9'] == 1 or row['10'] == 1 or row['11'] == 1:\n",
        "                    revenue = 450 * 1.2 * row['total_nights'] - 150 - 150 * row['total_nights'] // 2\n",
        "                elif row['6'] == 1 or row['7'] == 1 or row['8'] == 1:\n",
        "                    revenue = 450 * 1.4 * row['total_nights'] - 150 - 150 * row['total_nights'] // 2\n",
        "                else:\n",
        "                    revenue = 450 * row['total_nights'] - 150 - 150 * row['total_nights'] // 2\n",
        "            elif row['G'] == 1:\n",
        "                if row['3'] == 1 or row['4'] == 1 or row['5'] == 1 or row['9'] == 1 or row['10'] == 1 or row['11'] == 1:\n",
        "                    revenue = 350 * 1.2 * row['total_nights'] - 150 - 150 * row['total_nights'] // 2\n",
        "                elif row['6'] == 1 or row['7'] == 1 or row['8'] == 1:\n",
        "                    revenue = 350 * 1.4 * row['total_nights'] - 150 - 150 * row['total_nights'] // 2\n",
        "                else:\n",
        "                    revenue = 350 * row['total_nights'] - 150 - 150 * row['total_nights'] // 2\n",
        "            else:\n",
        "                if row['3'] == 1 or row['4'] == 1 or row['5'] == 1 or row['9'] == 1 or row['10'] == 1 or row['11'] == 1:\n",
        "                    revenue = 1000 * 1.2 * row['total_nights'] - 400 - 400 * row['total_nights'] // 2\n",
        "                elif row['6'] == 1 or row['7'] == 1 or row['8'] == 1:\n",
        "                    revenue = 1000 * 1.4 * row['total_nights'] - 400 - 400 * row['total_nights'] // 2\n",
        "                else:\n",
        "                    revenue = 1000 * row['total_nights'] - 400 - 400 * row['total_nights'] // 2\n",
        "        elif row['predictions'] == 0 and row['is_canceled'] == 1:\n",
        "            if row['B'] == 1:\n",
        "                if row['3'] == 1 or row['4'] == 1 or row['5'] == 1 or row['9'] == 1 or row['10'] == 1 or row['11'] == 1:\n",
        "                    revenue = -800 * 1.2 - 350\n",
        "                elif row['6'] == 1 or row['7'] == 1 or row['8'] == 1:\n",
        "                    revenue = -800 * 1.4 - 350\n",
        "                else:\n",
        "                    revenue = -800 - 350\n",
        "            elif row['C'] == 1:\n",
        "                if row['3'] == 1 or row['4'] == 1 or row['5'] == 1 or row['9'] == 1 or row['10'] == 1 or row['11'] == 1:\n",
        "                    revenue = -600 * 1.2 - 350\n",
        "                elif row['6'] == 1 or row['7'] == 1 or row['8'] == 1:\n",
        "                    revenue = -600 * 1.4 - 350\n",
        "                else:\n",
        "                    revenue = -600 - 350\n",
        "            elif row['D'] == 1:\n",
        "                if row['3'] == 1 or row['4'] == 1 or row['5'] == 1 or row['9'] == 1 or row['10'] == 1 or row['11'] == 1:\n",
        "                    revenue = -550 * 1.2 - 150\n",
        "                elif row['6'] == 1 or row['7'] == 1 or row['8'] == 1:\n",
        "                    revenue = -550 * 1.4 - 150\n",
        "                else:\n",
        "                    revenue = -550 - 150\n",
        "            elif row['E'] == 1:\n",
        "                if row['3'] == 1 or row['4'] == 1 or row['5'] == 1 or row['9'] == 1 or row['10'] == 1 or row['11'] == 1:\n",
        "                    revenue = -500 * 1.2 - 150\n",
        "                elif row['6'] == 1 or row['7'] == 1 or row['8'] == 1:\n",
        "                    revenue = -500 * 1.4 - 150\n",
        "                else:\n",
        "                    revenue = -500 - 150\n",
        "            elif row['F'] == 1:\n",
        "                if row['3'] == 1 or row['4'] == 1 or row['5'] == 1 or row['9'] == 1 or row['10'] == 1 or row['11'] == 1:\n",
        "                    revenue = -450 * 1.2 - 150\n",
        "                elif row['6'] == 1 or row['7'] == 1 or row['8'] == 1:\n",
        "                    revenue = -450 * 1.4 - 150\n",
        "                else:\n",
        "                    revenue = -450 - 150\n",
        "            elif row['G'] == 1:\n",
        "                if row['3'] == 1 or row['4'] == 1 or row['5'] == 1 or row['9'] == 1 or row['10'] == 1 or row['11'] == 1:\n",
        "                    revenue = -350 * 1.2 - 150\n",
        "                elif row['6'] == 1 or row['7'] == 1 or row['8'] == 1:\n",
        "                    revenue = -350 * 1.4 - 150\n",
        "                else:\n",
        "                    revenue = -350 - 150\n",
        "            else:\n",
        "                if row['3'] == 1 or row['4'] == 1 or row['5'] == 1 or row['9'] == 1 or row['10'] == 1 or row['11'] == 1:\n",
        "                    revenue = -1000 * 1.2 - 400\n",
        "                elif row['6'] == 1 or row['7'] == 1 or row['8'] == 1:\n",
        "                    revenue = -1000 * 1.4 - 400\n",
        "                else:\n",
        "                    revenue = -1000 - 400\n",
        "        elif row['predictions'] == 1 and row['is_canceled'] == 0:\n",
        "            if row['B'] == 1:\n",
        "                if row['3'] == 1 or row['4'] == 1 or row['5'] == 1 or row['9'] == 1 or row['10'] == 1 or row['11'] == 1:\n",
        "                    revenue = 800 * 1.2 * row['total_nights'] - 350 - 350 * row['total_nights'] // 2\n",
        "                elif row['6'] == 1 or row['7'] == 1 or row['8'] == 1:\n",
        "                    revenue = 800 * 1.4 * row['total_nights'] - 350 - 350 * row['total_nights'] // 2\n",
        "                else:\n",
        "                    revenue = 800 * row['total_nights'] - 350 - 350 * row['total_nights'] // 2\n",
        "            elif row['C'] == 1:\n",
        "                if row['3'] == 1 or row['4'] == 1 or row['5'] == 1 or row['9'] == 1 or row['10'] == 1 or row['11'] == 1:\n",
        "                    revenue = 600 * 1.2 * row['total_nights'] - 350 - 350 * row['total_nights'] // 2\n",
        "                elif row['6'] == 1 or row['7'] == 1 or row['8'] == 1:\n",
        "                    revenue = 600 * 1.4 * row['total_nights'] - 350 - 350 * row['total_nights'] // 2\n",
        "                else:\n",
        "                    revenue = 600 * row['total_nights'] - 350 - 350 * row['total_nights'] // 2\n",
        "            elif row['D'] == 1:\n",
        "                if row['3'] == 1 or row['4'] == 1 or row['5'] == 1 or row['9'] == 1 or row['10'] == 1 or row['11'] == 1:\n",
        "                    revenue = 550 * 1.2 * row['total_nights'] - 150 - 150 * row['total_nights'] // 2\n",
        "                elif row['6'] == 1 or row['7'] == 1 or row['8'] == 1:\n",
        "                    revenue = 550 * 1.4 * row['total_nights'] - 150 - 150 * row['total_nights'] // 2\n",
        "                else:\n",
        "                    revenue = 550 * row['total_nights'] - 150 - 150 * row['total_nights'] // 2\n",
        "            elif row['E'] == 1:\n",
        "                if row['3'] == 1 or row['4'] == 1 or row['5'] == 1 or row['9'] == 1 or row['10'] == 1 or row['11'] == 1:\n",
        "                    revenue = 500 * 1.2 * row['total_nights'] - 150 - 150 * row['total_nights'] // 2\n",
        "                elif row['6'] == 1 or row['7'] == 1 or row['8'] == 1:\n",
        "                    revenue = 500 * 1.4 * row['total_nights'] - 150 - 150 * row['total_nights'] // 2\n",
        "                else:\n",
        "                    revenue = 500 * row['total_nights'] - 150 - 150 * row['total_nights'] // 2\n",
        "            elif row['F'] == 1:\n",
        "                if row['3'] == 1 or row['4'] == 1 or row['5'] == 1 or row['9'] == 1 or row['10'] == 1 or row['11'] == 1:\n",
        "                    revenue = 450 * 1.2 * row['total_nights'] - 150 - 150 * row['total_nights'] // 2\n",
        "                elif row['6'] == 1 or row['7'] == 1 or row['8'] == 1:\n",
        "                    revenue = 450 * 1.4 * row['total_nights'] - 150 - 150 * row['total_nights'] // 2\n",
        "                else:\n",
        "                    revenue = 450 * row['total_nights'] - 150 - 150 * row['total_nights'] // 2\n",
        "            elif row['G'] == 1:\n",
        "                if row['3'] == 1 or row['4'] == 1 or row['5'] == 1 or row['9'] == 1 or row['10'] == 1 or row['11'] == 1:\n",
        "                    revenue = 350 * 1.2 * row['total_nights'] - 150 - 150 * row['total_nights'] // 2\n",
        "                elif row['6'] == 1 or row['7'] == 1 or row['8'] == 1:\n",
        "                    revenue = 350 * 1.4 * row['total_nights'] - 150 - 150 * row['total_nights'] // 2\n",
        "                else:\n",
        "                    revenue = 350 * row['total_nights'] - 150 - 150 * row['total_nights'] // 2\n",
        "            else:\n",
        "                if row['3'] == 1 or row['4'] == 1 or row['5'] == 1 or row['9'] == 1 or row['10'] == 1 or row['11'] == 1:\n",
        "                    revenue = 1000 * 1.2 * row['total_nights'] - 400 - 400 * row['total_nights'] // 2\n",
        "                elif row['6'] == 1 or row['7'] == 1 or row['8'] == 1:\n",
        "                    revenue = 1000 * 1.4 * row['total_nights'] - 400 - 400 * row['total_nights'] // 2\n",
        "                else:\n",
        "                    revenue = 1000 * row['total_nights'] - 400 - 400 * row['total_nights'] // 2\n",
        "        else:\n",
        "            if row['B'] == 1:\n",
        "                if row['3'] == 1 or row['4'] == 1 or row['5'] == 1 or row['9'] == 1 or row['10'] == 1 or row['11'] == 1:\n",
        "                    revenue = -(800 * 1.2 + 350) + (800 * 1.2 + 350) * 0.8\n",
        "                elif row['6'] == 1 or row['7'] == 1 or row['8'] == 1:\n",
        "                    revenue = -(800 * 1.4 + 350) + (800 * 1.4 + 350) * 0.8\n",
        "                else:\n",
        "                    revenue = -(800 + 350) + (800 + 350) * 0.8\n",
        "            elif row['C'] == 1:\n",
        "                if row['3'] == 1 or row['4'] == 1 or row['5'] == 1 or row['9'] == 1 or row['10'] == 1 or row['11'] == 1:\n",
        "                    revenue = -(600 * 1.2 + 350) + (600 * 1.2 + 350) * 0.8\n",
        "                elif row['6'] == 1 or row['7'] == 1 or row['8'] == 1:\n",
        "                    revenue = -(600 * 1.4 + 350) + (600 * 1.4 + 350) * 0.8\n",
        "                else:\n",
        "                    revenue = -(600 + 350) + (600 + 350) * 0.8\n",
        "            elif row['D'] == 1:\n",
        "                if row['3'] == 1 or row['4'] == 1 or row['5'] == 1 or row['9'] == 1 or row['10'] == 1 or row['11'] == 1:\n",
        "                    revenue = -(550 * 1.2 + 150) + (550 * 1.2 + 150) * 0.8\n",
        "                elif row['6'] == 1 or row['7'] == 1 or row['8'] == 1:\n",
        "                    revenue = -(550 * 1.4 + 150) + (550 * 1.4 + 150) * 0.8\n",
        "                else:\n",
        "                    revenue = -(550 + 150) + (550 + 150) * 0.8\n",
        "            elif row['E'] == 1:\n",
        "                if row['3'] == 1 or row['4'] == 1 or row['5'] == 1 or row['9'] == 1 or row['10'] == 1 or row['11'] == 1:\n",
        "                    revenue = -(500 * 1.2 + 150) + (500 * 1.2 + 150) * 0.8\n",
        "                elif row['6'] == 1 or row['7'] == 1 or row['8'] == 1:\n",
        "                    revenue = -(500 * 1.4 + 150) + (500 * 1.4 + 150) * 0.8\n",
        "                else:\n",
        "                    revenue = -(500 + 150) + (500 + 150) * 0.8\n",
        "            elif row['F'] == 1:\n",
        "                if row['3'] == 1 or row['4'] == 1 or row['5'] == 1 or row['9'] == 1 or row['10'] == 1 or row['11'] == 1:\n",
        "                    revenue = -(450 * 1.2 + 150) + (450 * 1.2 + 150) * 0.8\n",
        "                elif row['6'] == 1 or row['7'] == 1 or row['8'] == 1:\n",
        "                    revenue = -(450 * 1.4 + 150) + (450 * 1.4 + 150) * 0.8\n",
        "                else:\n",
        "                    revenue = -(450 + 150) + (450 + 150) * 0.8\n",
        "            elif row['G'] == 1:\n",
        "                if row['3'] == 1 or row['4'] == 1 or row['5'] == 1 or row['9'] == 1 or row['10'] == 1 or row['11'] == 1:\n",
        "                    revenue = -(350 * 1.2 + 150) + (350 * 1.2 + 150) * 0.8\n",
        "                elif row['6'] == 1 or row['7'] == 1 or row['8'] == 1:\n",
        "                    revenue = -(350 * 1.4 + 150) + (350 * 1.4 + 150) * 0.8\n",
        "                else:\n",
        "                    revenue = -(350 + 150) + (350 + 150) * 0.8\n",
        "            else:\n",
        "                if row['3'] == 1 or row['4'] == 1 or row['5'] == 1 or row['9'] == 1 or row['10'] == 1 or row['11'] == 1:\n",
        "                    revenue = -(1000 * 1.2 + 400) + (1000 * 1.2 + 400) * 0.8\n",
        "                elif row['6'] == 1 or row['7'] == 1 or row['8'] == 1:\n",
        "                    revenue = -(1000 * 1.4 + 400) + (1000 * 1.4 + 400) * 0.8\n",
        "                else:\n",
        "                    revenue = -(1000 + 400) + (1000 + 400) * 0.8\n",
        "\n",
        "    return revenue"
      ]
    },
    {
      "cell_type": "code",
      "execution_count": null,
      "metadata": {
        "colab": {
          "base_uri": "https://localhost:8080/"
        },
        "id": "YfqmaZNJEur9",
        "outputId": "10a74bee-2d3d-4c53-b77b-a7bac39fabbc"
      },
      "outputs": [
        {
          "data": {
            "text/plain": [
              "19897600.0"
            ]
          },
          "execution_count": 44,
          "metadata": {},
          "output_type": "execute_result"
        }
      ],
      "source": [
        "test_2_calc = pd.concat([features_test, target_test], axis = 1)\n",
        "test_2_calc['revenue'] = test_2_calc.apply(calculate_revenue, arg = 0, axis = 1)\n",
        "test_2_calc['revenue'].sum()"
      ]
    },
    {
      "cell_type": "markdown",
      "metadata": {
        "id": "JFAqcDKEEur9"
      },
      "source": [
        "Не знаю, надо было считать на тестовой или нет. Скорее нет, чем да, но посчитал, на всякий случай"
      ]
    },
    {
      "cell_type": "markdown",
      "metadata": {
        "id": "3qJmxknXsZT8"
      },
      "source": [
        "<div class=\"alert alert-info\">\n",
        "Вывод: По результатам работы функции по подсчету прибыли, учитывая только фактическую - отмена, составила - 19_897_600.\n",
        "</div>"
      ]
    },
    {
      "cell_type": "code",
      "execution_count": null,
      "metadata": {
        "id": "G0JvrLXeLE-U"
      },
      "outputs": [],
      "source": [
        "param_vals = {\"classification__max_depth\": [3, 5, 7, 9, 11, 13, 15],\n",
        "              \"classification__learning_rate\": [0.001, 0.01, 0.1, 0.3, 0.5, 0.7, 1]}\n",
        "\n",
        "scorer = make_scorer(precision_score)\n",
        "\n",
        "skf = StratifiedKFold(n_splits=5, shuffle=True, random_state=12345)\n",
        "\n",
        "# Создаем пайплайн\n",
        "gbc_pipeline = imbPipeline([(\"oversampler\", RandomOverSampler(random_state=12345)),\n",
        "                             (\"classification\", GradientBoostingClassifier(n_estimators=100, random_state=12345))])\n",
        "\n",
        "grid_gbc = GridSearchCV(gbc_pipeline, param_grid=param_vals, cv=skf,\n",
        "                        scoring={\"precision\": scorer, \"f1\": \"f1\"}, refit=\"precision\", n_jobs=-1)\n",
        "\n",
        "grid_gbc.fit(features_train, target_train)\n",
        "\n",
        "# Получаем итоговые метрики и параметры\n",
        "best_params = grid_gbc.best_params_\n",
        "best_precision = grid_gbc.best_score_\n",
        "best_f1 = grid_gbc.cv_results_[\"mean_test_f1\"][grid_gbc.best_index_]\n",
        "\n",
        "print(f'Лучшие параметры: {best_params}')\n",
        "print(f'Precision: {best_precision}')\n",
        "print(f'F1-score: {best_f1}')"
      ]
    },
    {
      "cell_type": "markdown",
      "metadata": {
        "id": "1ZubdXdisZUA"
      },
      "source": [
        "<div class=\"alert alert-info\">\n",
        "Лучшая модель - случайный лес. F1: 0.9638395792241946, Recall: 0.9649498107618891 на кросс валидации\n",
        "</div>"
      ]
    },
    {
      "cell_type": "markdown",
      "metadata": {
        "id": "aw0IPRPqEusC"
      },
      "source": [
        "### Шаг 5. Портрет \"плохого\" клиента"
      ]
    },
    {
      "cell_type": "code",
      "execution_count": null,
      "metadata": {
        "id": "BteDmnmeEusD"
      },
      "outputs": [],
      "source": [
        "model_to_exp = GradientBoostingClassifier(n_estimators=100, max_depth = 15, learning_rate = 0.3, random_state=12345).fit(features_train, target_train)\n",
        "\n",
        "feature_importances = model_to_exp.feature_importances_\n",
        "cols = ['lead_time', 'arrival_date_year',\n",
        "       'arrival_date_week_number', 'arrival_date_day_of_month',\n",
        "       'stays_in_weekend_nights', 'stays_in_week_nights', 'adults', 'children',\n",
        "       'babies', 'is_repeated_guest', 'previous_cancellations',\n",
        "       'previous_bookings_not_canceled', 'booking_changes',\n",
        "       'days_in_waiting_list', 'required_car_parking_spaces',\n",
        "       'total_of_special_requests', 'total_nights']\n",
        "# Создаем список названий признаков\n",
        "features_list = features_test[cols][:-1]\n",
        "\n",
        "# Создаем словарь из пар \"название признака - вес\"\n",
        "feature_importances_dict = dict(zip(features_list, feature_importances))\n",
        "\n",
        "# Сортируем словарь по значению\n",
        "sorted_feature_importances_dict = dict(sorted(feature_importances_dict.items(), key=lambda item: item[1], reverse=True))\n",
        "\n",
        "# Отобразим значимость признаков на графике\n",
        "plt.figure(figsize=(12, 6))\n",
        "plt.bar(sorted_feature_importances_dict.keys(), sorted_feature_importances_dict.values())\n",
        "plt.xticks(rotation='vertical')\n",
        "plt.title(\"Значимость признаков\")\n",
        "plt.show()"
      ]
    },
    {
      "cell_type": "markdown",
      "metadata": {
        "id": "hRY0scbREusD"
      },
      "source": [
        "Вывод: Для визуализации воспользовался шапом"
      ]
    },
    {
      "cell_type": "code",
      "execution_count": null,
      "metadata": {
        "id": "qZfark60sZUB"
      },
      "outputs": [],
      "source": [
        "model_gb = GradientBoostingClassifier(n_estimators=100, max_depth = 15, learning_rate = 0.3, random_state=12345).fit(features_train, target_train)\n",
        "pred = model_gb.predict(features_test)\n",
        "print(f'F1: {f1_score(target_test, pred)}')\n",
        "print(f'Precision: {precision_score(target_test, pred)}')"
      ]
    },
    {
      "cell_type": "code",
      "execution_count": null,
      "metadata": {
        "id": "RvLTwqq2sZUB"
      },
      "outputs": [],
      "source": [
        "predictions = pd.Series(model_gb.predict(features_test))\n",
        "predictions.value_counts()"
      ]
    },
    {
      "cell_type": "code",
      "execution_count": null,
      "metadata": {
        "id": "c6XZ3nmWsZUC"
      },
      "outputs": [],
      "source": [
        "target_test"
      ]
    },
    {
      "cell_type": "code",
      "execution_count": null,
      "metadata": {
        "id": "JtHTsXi3sZUC"
      },
      "outputs": [],
      "source": [
        "features_test"
      ]
    },
    {
      "cell_type": "code",
      "execution_count": null,
      "metadata": {
        "id": "ugUrhjvLsZUC"
      },
      "outputs": [],
      "source": [
        "target_test = target_test.reset_index(drop = True)\n",
        "predictions = predictions.reset_index(drop = True)\n",
        "features_test = features_test.reset_index(drop = True)"
      ]
    },
    {
      "cell_type": "code",
      "execution_count": null,
      "metadata": {
        "id": "yXS2qjPBsZUC"
      },
      "outputs": [],
      "source": [
        "target_test"
      ]
    },
    {
      "cell_type": "code",
      "execution_count": null,
      "metadata": {
        "id": "ZYfK3YKjsZUC"
      },
      "outputs": [],
      "source": [
        "features_test"
      ]
    },
    {
      "cell_type": "code",
      "execution_count": null,
      "metadata": {
        "id": "d33R1ncTsZUC"
      },
      "outputs": [],
      "source": [
        "features_test['is_canceled'] = target_test\n",
        "features_test['predictions'] = predictions\n",
        "features_test['revenue'] = features_test.apply(calculate_revenue, arg = 1, axis = 1)\n",
        "abs(features_test['revenue'].sum())"
      ]
    },
    {
      "cell_type": "markdown",
      "metadata": {
        "id": "mBu_xUOZwtxa"
      },
      "source": [
        "Вывод:  Основными критерями для запроса предоплаты с человека являются:\n",
        "* lead_time - количество дней между датой бронирования и датой прибытия,\n",
        "* total_of_special_requests - кол-во специальных отметок,\n",
        "* arrival_date_week_number - неделя заезда\n",
        "* arrival_date_day_of_month - день заезда\n",
        "* previous_cancellations - кол-во отменённых заказов у клиента"
      ]
    },
    {
      "cell_type": "markdown",
      "metadata": {
        "id": "r8foaLyDEusE"
      },
      "source": [
        "### Шаг 6. Напишите общий вывод"
      ]
    },
    {
      "cell_type": "markdown",
      "metadata": {
        "id": "4RvKcVP-EusE"
      },
      "source": [
        "Вывод: В начале было проведено исследование с помощью гистограмм и уникальных значений в столбцах, так же построен график корреляции. На этапе формулирования ML задачи был использован энкодер для кодирования категориальных признаков. Написана функция для подсчета прибыли. Прибыль до внедрения модели была равна 19_897_600. В качетсве моделей были выбраны случайный лес и градиентный бустинг. По итогу сравнений показателей на кросс валидации, градиентный бустинг показал себя лучше, Precision: 86%, F1-score: 84%. В перспективе целесообразно совершенствование модели градиентного бустинга и других моделей машинного обучения посредством включения дополнительных, ранее не учтенных гиперпараметров. По итогу внедрение модели, компания может заработать 22_331_040, не считая того, что без внедрения модели она заработает 19_897_600, а если применить машинное обучение, то ее заработок составит 22_331_040. Компания заработает дополнительно 2_433_440, из этих денег 400_000 уйдет на разработку системы депозитов, из чего следует, что компания увеличит свой доход на 2_033_440."
      ]
    }
  ],
  "metadata": {
    "ExecuteTimeLog": [
      {
        "duration": 322,
        "start_time": "2023-06-10T02:31:02.127Z"
      },
      {
        "duration": 564,
        "start_time": "2023-06-10T02:31:39.069Z"
      },
      {
        "duration": 23,
        "start_time": "2023-06-10T02:31:49.301Z"
      },
      {
        "duration": 17,
        "start_time": "2023-06-10T02:33:21.979Z"
      },
      {
        "duration": 16,
        "start_time": "2023-06-10T02:33:36.752Z"
      },
      {
        "duration": 11,
        "start_time": "2023-06-10T02:33:48.582Z"
      },
      {
        "duration": 22,
        "start_time": "2023-06-10T02:36:12.639Z"
      },
      {
        "duration": 21,
        "start_time": "2023-06-10T02:36:15.829Z"
      },
      {
        "duration": 16,
        "start_time": "2023-06-10T02:36:28.859Z"
      },
      {
        "duration": 9,
        "start_time": "2023-06-10T02:44:41.359Z"
      },
      {
        "duration": 8,
        "start_time": "2023-06-10T02:44:54.939Z"
      },
      {
        "duration": 8,
        "start_time": "2023-06-10T02:45:00.271Z"
      },
      {
        "duration": 58,
        "start_time": "2023-06-10T02:47:53.502Z"
      },
      {
        "duration": 700,
        "start_time": "2023-06-10T02:48:01.192Z"
      },
      {
        "duration": 10,
        "start_time": "2023-06-10T02:48:05.560Z"
      },
      {
        "duration": 36,
        "start_time": "2023-06-10T02:48:05.710Z"
      },
      {
        "duration": 9,
        "start_time": "2023-06-10T02:48:12.440Z"
      },
      {
        "duration": 10,
        "start_time": "2023-06-10T02:49:39.383Z"
      },
      {
        "duration": 10,
        "start_time": "2023-06-10T02:50:13.091Z"
      },
      {
        "duration": 119,
        "start_time": "2023-06-10T02:50:38.952Z"
      },
      {
        "duration": 77,
        "start_time": "2023-06-10T02:51:26.072Z"
      },
      {
        "duration": 78,
        "start_time": "2023-06-10T02:51:32.382Z"
      },
      {
        "duration": 76,
        "start_time": "2023-06-10T02:51:47.970Z"
      },
      {
        "duration": 89,
        "start_time": "2023-06-10T02:51:53.869Z"
      },
      {
        "duration": 71,
        "start_time": "2023-06-10T02:53:03.651Z"
      },
      {
        "duration": 9,
        "start_time": "2023-06-10T02:53:13.550Z"
      },
      {
        "duration": 4,
        "start_time": "2023-06-10T02:53:19.558Z"
      },
      {
        "duration": 70,
        "start_time": "2023-06-10T02:53:24.290Z"
      },
      {
        "duration": 4,
        "start_time": "2023-06-10T02:53:25.291Z"
      },
      {
        "duration": 9,
        "start_time": "2023-06-10T02:53:31.709Z"
      },
      {
        "duration": 7,
        "start_time": "2023-06-10T02:54:57.551Z"
      },
      {
        "duration": 105,
        "start_time": "2023-06-10T02:54:59.072Z"
      },
      {
        "duration": 22,
        "start_time": "2023-06-10T02:54:59.230Z"
      },
      {
        "duration": 88,
        "start_time": "2023-06-10T02:56:13.939Z"
      },
      {
        "duration": 122,
        "start_time": "2023-06-10T02:56:17.458Z"
      },
      {
        "duration": 102,
        "start_time": "2023-06-10T02:57:16.140Z"
      },
      {
        "duration": 112,
        "start_time": "2023-06-10T02:57:19.038Z"
      },
      {
        "duration": 424,
        "start_time": "2023-06-10T02:58:51.162Z"
      },
      {
        "duration": 18,
        "start_time": "2023-06-10T03:03:31.121Z"
      },
      {
        "duration": 16,
        "start_time": "2023-06-10T03:05:36.570Z"
      },
      {
        "duration": 17,
        "start_time": "2023-06-10T03:05:55.859Z"
      },
      {
        "duration": 27,
        "start_time": "2023-06-10T03:06:43.690Z"
      },
      {
        "duration": 23,
        "start_time": "2023-06-10T03:07:19.842Z"
      },
      {
        "duration": 17,
        "start_time": "2023-06-10T03:07:28.219Z"
      },
      {
        "duration": 20,
        "start_time": "2023-06-10T03:07:36.510Z"
      },
      {
        "duration": 24,
        "start_time": "2023-06-10T03:08:12.881Z"
      },
      {
        "duration": 11,
        "start_time": "2023-06-10T03:09:17.739Z"
      },
      {
        "duration": 235,
        "start_time": "2023-06-10T03:09:26.449Z"
      },
      {
        "duration": 20,
        "start_time": "2023-06-10T03:09:33.340Z"
      },
      {
        "duration": 18,
        "start_time": "2023-06-10T03:09:58.091Z"
      },
      {
        "duration": 8,
        "start_time": "2023-06-10T03:10:05.900Z"
      },
      {
        "duration": 339,
        "start_time": "2023-06-10T03:10:45.790Z"
      },
      {
        "duration": 22,
        "start_time": "2023-06-10T03:10:47.949Z"
      },
      {
        "duration": 25,
        "start_time": "2023-06-10T03:10:51.841Z"
      },
      {
        "duration": 22,
        "start_time": "2023-06-10T03:11:23.569Z"
      },
      {
        "duration": 20,
        "start_time": "2023-06-10T03:11:26.262Z"
      },
      {
        "duration": 28,
        "start_time": "2023-06-10T03:13:45.561Z"
      },
      {
        "duration": 712,
        "start_time": "2023-06-10T03:17:28.039Z"
      },
      {
        "duration": 968,
        "start_time": "2023-06-10T03:17:50.760Z"
      },
      {
        "duration": 10,
        "start_time": "2023-06-10T03:21:35.622Z"
      },
      {
        "duration": 1011,
        "start_time": "2023-06-10T03:21:48.801Z"
      },
      {
        "duration": 13,
        "start_time": "2023-06-10T03:23:39.219Z"
      },
      {
        "duration": 11,
        "start_time": "2023-06-10T03:23:48.559Z"
      },
      {
        "duration": 12,
        "start_time": "2023-06-10T03:23:59.509Z"
      },
      {
        "duration": 4,
        "start_time": "2023-06-10T03:24:37.150Z"
      },
      {
        "duration": 11,
        "start_time": "2023-06-10T03:25:04.407Z"
      },
      {
        "duration": 10,
        "start_time": "2023-06-10T03:25:12.198Z"
      },
      {
        "duration": 10,
        "start_time": "2023-06-10T03:25:21.019Z"
      },
      {
        "duration": 8,
        "start_time": "2023-06-10T03:25:36.592Z"
      },
      {
        "duration": 9,
        "start_time": "2023-06-10T03:25:40.570Z"
      },
      {
        "duration": 69,
        "start_time": "2023-06-10T03:26:03.619Z"
      },
      {
        "duration": 7,
        "start_time": "2023-06-10T03:27:30.359Z"
      },
      {
        "duration": 6,
        "start_time": "2023-06-10T03:27:34.790Z"
      },
      {
        "duration": 6,
        "start_time": "2023-06-10T03:27:37.600Z"
      },
      {
        "duration": 6,
        "start_time": "2023-06-10T03:27:42.798Z"
      },
      {
        "duration": 11,
        "start_time": "2023-06-10T03:27:49.329Z"
      },
      {
        "duration": 787,
        "start_time": "2023-06-10T03:29:47.230Z"
      },
      {
        "duration": 460,
        "start_time": "2023-06-10T03:29:48.019Z"
      },
      {
        "duration": 77,
        "start_time": "2023-06-10T03:30:00.570Z"
      },
      {
        "duration": 64,
        "start_time": "2023-06-10T03:50:09.001Z"
      },
      {
        "duration": 34,
        "start_time": "2023-06-10T03:50:20.710Z"
      },
      {
        "duration": 11,
        "start_time": "2023-06-10T03:50:38.230Z"
      },
      {
        "duration": 9,
        "start_time": "2023-06-10T04:01:05.132Z"
      },
      {
        "duration": 1814,
        "start_time": "2023-06-10T04:01:35.950Z"
      },
      {
        "duration": 3,
        "start_time": "2023-06-10T04:02:57.941Z"
      },
      {
        "duration": 1806,
        "start_time": "2023-06-10T04:03:18.778Z"
      },
      {
        "duration": 4,
        "start_time": "2023-06-10T04:04:16.882Z"
      },
      {
        "duration": 1857,
        "start_time": "2023-06-10T04:04:18.390Z"
      },
      {
        "duration": 4,
        "start_time": "2023-06-10T04:05:09.772Z"
      },
      {
        "duration": 5,
        "start_time": "2023-06-10T04:06:15.109Z"
      },
      {
        "duration": 1496,
        "start_time": "2023-06-10T04:06:18.599Z"
      },
      {
        "duration": 1640,
        "start_time": "2023-06-10T04:07:07.149Z"
      },
      {
        "duration": 9,
        "start_time": "2023-06-10T04:07:22.799Z"
      },
      {
        "duration": 4,
        "start_time": "2023-06-10T04:07:25.769Z"
      },
      {
        "duration": 8,
        "start_time": "2023-06-10T04:07:38.251Z"
      },
      {
        "duration": 102,
        "start_time": "2023-06-10T04:13:43.490Z"
      },
      {
        "duration": 8,
        "start_time": "2023-06-10T04:14:44.189Z"
      },
      {
        "duration": 2,
        "start_time": "2023-06-10T04:14:44.529Z"
      },
      {
        "duration": 48,
        "start_time": "2023-06-10T04:14:44.728Z"
      },
      {
        "duration": 135,
        "start_time": "2023-06-10T04:17:50.508Z"
      },
      {
        "duration": 3,
        "start_time": "2023-06-10T04:20:40.963Z"
      },
      {
        "duration": 4,
        "start_time": "2023-06-10T04:20:45.989Z"
      },
      {
        "duration": 49,
        "start_time": "2023-06-10T04:21:27.339Z"
      },
      {
        "duration": 185,
        "start_time": "2023-06-10T04:25:03.819Z"
      },
      {
        "duration": 11,
        "start_time": "2023-06-10T04:26:33.368Z"
      },
      {
        "duration": 2056,
        "start_time": "2023-06-10T04:26:52.409Z"
      },
      {
        "duration": 5,
        "start_time": "2023-06-10T04:27:22.189Z"
      },
      {
        "duration": 46,
        "start_time": "2023-06-10T04:27:23.370Z"
      },
      {
        "duration": 6,
        "start_time": "2023-06-10T04:27:38.829Z"
      },
      {
        "duration": 49,
        "start_time": "2023-06-10T04:27:38.949Z"
      },
      {
        "duration": 60,
        "start_time": "2023-06-10T04:29:41.009Z"
      },
      {
        "duration": 5,
        "start_time": "2023-06-10T04:29:54.685Z"
      },
      {
        "duration": 4,
        "start_time": "2023-06-10T04:29:55.238Z"
      },
      {
        "duration": 40,
        "start_time": "2023-06-10T04:29:56.409Z"
      },
      {
        "duration": 4,
        "start_time": "2023-06-10T04:30:20.328Z"
      },
      {
        "duration": 39,
        "start_time": "2023-06-10T04:30:21.298Z"
      },
      {
        "duration": 6,
        "start_time": "2023-06-10T04:32:43.490Z"
      },
      {
        "duration": 3,
        "start_time": "2023-06-10T04:32:44.258Z"
      },
      {
        "duration": 1713,
        "start_time": "2023-06-10T04:32:44.689Z"
      },
      {
        "duration": 61,
        "start_time": "2023-06-10T04:32:58.928Z"
      },
      {
        "duration": 10,
        "start_time": "2023-06-10T04:33:05.669Z"
      },
      {
        "duration": 229,
        "start_time": "2023-06-10T04:33:05.688Z"
      },
      {
        "duration": 20,
        "start_time": "2023-06-10T04:33:05.920Z"
      },
      {
        "duration": 31,
        "start_time": "2023-06-10T04:33:05.941Z"
      },
      {
        "duration": 57,
        "start_time": "2023-06-10T04:33:05.976Z"
      },
      {
        "duration": 12,
        "start_time": "2023-06-10T04:33:06.035Z"
      },
      {
        "duration": 29,
        "start_time": "2023-06-10T04:33:06.048Z"
      },
      {
        "duration": 27,
        "start_time": "2023-06-10T04:33:06.080Z"
      },
      {
        "duration": 15,
        "start_time": "2023-06-10T04:33:06.108Z"
      },
      {
        "duration": 427,
        "start_time": "2023-06-10T04:33:06.124Z"
      },
      {
        "duration": 291,
        "start_time": "2023-06-10T04:33:06.552Z"
      },
      {
        "duration": 40,
        "start_time": "2023-06-10T04:33:06.845Z"
      },
      {
        "duration": 24,
        "start_time": "2023-06-10T04:33:06.887Z"
      },
      {
        "duration": 964,
        "start_time": "2023-06-10T04:33:06.913Z"
      },
      {
        "duration": 478,
        "start_time": "2023-06-10T04:33:07.879Z"
      },
      {
        "duration": 69,
        "start_time": "2023-06-10T04:33:08.359Z"
      },
      {
        "duration": 64,
        "start_time": "2023-06-10T04:33:08.429Z"
      },
      {
        "duration": 11,
        "start_time": "2023-06-10T04:33:08.494Z"
      },
      {
        "duration": 78,
        "start_time": "2023-06-10T04:33:08.507Z"
      },
      {
        "duration": 4,
        "start_time": "2023-06-10T04:33:20.208Z"
      },
      {
        "duration": 2,
        "start_time": "2023-06-10T04:33:23.408Z"
      },
      {
        "duration": 1656,
        "start_time": "2023-06-10T04:33:27.998Z"
      },
      {
        "duration": 6,
        "start_time": "2023-06-10T04:33:34.428Z"
      },
      {
        "duration": 2,
        "start_time": "2023-06-10T04:33:34.699Z"
      },
      {
        "duration": 2054,
        "start_time": "2023-06-10T04:33:34.931Z"
      },
      {
        "duration": 1711,
        "start_time": "2023-06-10T04:33:50.248Z"
      },
      {
        "duration": 4,
        "start_time": "2023-06-10T04:34:19.908Z"
      },
      {
        "duration": 1468,
        "start_time": "2023-06-10T04:34:20.388Z"
      },
      {
        "duration": 53,
        "start_time": "2023-06-10T04:36:11.389Z"
      },
      {
        "duration": 5,
        "start_time": "2023-06-10T04:38:16.809Z"
      },
      {
        "duration": 47,
        "start_time": "2023-06-10T04:38:17.785Z"
      },
      {
        "duration": 5,
        "start_time": "2023-06-10T04:39:53.799Z"
      },
      {
        "duration": 46,
        "start_time": "2023-06-10T04:39:54.006Z"
      },
      {
        "duration": 57,
        "start_time": "2023-06-10T04:43:29.330Z"
      },
      {
        "duration": 53,
        "start_time": "2023-06-10T04:52:05.568Z"
      },
      {
        "duration": 2013,
        "start_time": "2023-06-10T04:53:22.848Z"
      },
      {
        "duration": 105,
        "start_time": "2023-06-10T05:03:29.250Z"
      },
      {
        "duration": 47,
        "start_time": "2023-06-10T05:05:13.690Z"
      },
      {
        "duration": 34,
        "start_time": "2023-06-10T05:05:33.569Z"
      },
      {
        "duration": 877,
        "start_time": "2023-06-10T05:05:35.569Z"
      },
      {
        "duration": 7,
        "start_time": "2023-06-10T05:08:07.792Z"
      },
      {
        "duration": 7,
        "start_time": "2023-06-10T05:08:26.059Z"
      },
      {
        "duration": 2158,
        "start_time": "2023-06-10T05:08:36.699Z"
      },
      {
        "duration": 1108,
        "start_time": "2023-06-10T05:08:50.949Z"
      },
      {
        "duration": 14,
        "start_time": "2023-06-10T05:10:29.339Z"
      },
      {
        "duration": 16,
        "start_time": "2023-06-10T05:11:04.239Z"
      },
      {
        "duration": 17,
        "start_time": "2023-06-10T05:11:12.719Z"
      },
      {
        "duration": 14,
        "start_time": "2023-06-10T05:11:32.377Z"
      },
      {
        "duration": 17,
        "start_time": "2023-06-10T05:11:56.760Z"
      },
      {
        "duration": 4,
        "start_time": "2023-06-10T05:12:00.870Z"
      },
      {
        "duration": 5,
        "start_time": "2023-06-10T05:12:09.610Z"
      },
      {
        "duration": 30,
        "start_time": "2023-06-10T05:12:21.799Z"
      },
      {
        "duration": 75,
        "start_time": "2023-06-10T05:13:13.350Z"
      },
      {
        "duration": 11,
        "start_time": "2023-06-10T05:13:29.360Z"
      },
      {
        "duration": 3,
        "start_time": "2023-06-10T05:13:59.540Z"
      },
      {
        "duration": 200091,
        "start_time": "2023-06-10T05:14:05.850Z"
      },
      {
        "duration": 0,
        "start_time": "2023-06-10T05:17:25.943Z"
      },
      {
        "duration": 12,
        "start_time": "2023-06-10T05:18:58.390Z"
      },
      {
        "duration": 9,
        "start_time": "2023-06-10T05:20:16.480Z"
      },
      {
        "duration": 1381,
        "start_time": "2023-06-10T05:20:50.019Z"
      },
      {
        "duration": 1180,
        "start_time": "2023-06-10T05:20:59.270Z"
      },
      {
        "duration": 2944,
        "start_time": "2023-06-10T05:21:30.163Z"
      },
      {
        "duration": 39,
        "start_time": "2023-06-10T05:21:36.930Z"
      },
      {
        "duration": 40,
        "start_time": "2023-06-10T05:21:44.819Z"
      },
      {
        "duration": 6460,
        "start_time": "2023-06-10T05:25:03.060Z"
      },
      {
        "duration": 6517,
        "start_time": "2023-06-10T05:26:05.869Z"
      },
      {
        "duration": 32,
        "start_time": "2023-06-10T05:30:19.859Z"
      },
      {
        "duration": 121,
        "start_time": "2023-06-10T05:30:54.800Z"
      },
      {
        "duration": 6,
        "start_time": "2023-06-10T05:31:44.790Z"
      },
      {
        "duration": 535074,
        "start_time": "2023-06-10T05:32:03.949Z"
      },
      {
        "duration": 2,
        "start_time": "2023-06-10T05:40:59.025Z"
      },
      {
        "duration": 513,
        "start_time": "2023-06-10T05:40:59.029Z"
      },
      {
        "duration": 10,
        "start_time": "2023-06-10T05:40:59.543Z"
      },
      {
        "duration": 10,
        "start_time": "2023-06-10T05:42:37.485Z"
      },
      {
        "duration": 14,
        "start_time": "2023-06-10T05:42:41.849Z"
      },
      {
        "duration": 3510,
        "start_time": "2023-06-10T05:42:52.385Z"
      },
      {
        "duration": 1291,
        "start_time": "2023-06-10T05:42:58.470Z"
      },
      {
        "duration": 400,
        "start_time": "2023-06-10T05:43:58.290Z"
      },
      {
        "duration": 2234,
        "start_time": "2023-06-10T05:44:07.859Z"
      },
      {
        "duration": 2250,
        "start_time": "2023-06-10T05:44:10.096Z"
      },
      {
        "duration": 5,
        "start_time": "2023-06-10T05:44:12.348Z"
      },
      {
        "duration": 212,
        "start_time": "2023-06-10T05:44:12.355Z"
      },
      {
        "duration": 31,
        "start_time": "2023-06-10T05:44:12.570Z"
      },
      {
        "duration": 24,
        "start_time": "2023-06-10T05:44:12.603Z"
      },
      {
        "duration": 48,
        "start_time": "2023-06-10T05:44:12.629Z"
      },
      {
        "duration": 17,
        "start_time": "2023-06-10T05:44:12.680Z"
      },
      {
        "duration": 25,
        "start_time": "2023-06-10T05:44:12.699Z"
      },
      {
        "duration": 16,
        "start_time": "2023-06-10T05:44:12.726Z"
      },
      {
        "duration": 12,
        "start_time": "2023-06-10T05:44:12.744Z"
      },
      {
        "duration": 421,
        "start_time": "2023-06-10T05:44:12.757Z"
      },
      {
        "duration": 374,
        "start_time": "2023-06-10T05:44:13.185Z"
      },
      {
        "duration": 37,
        "start_time": "2023-06-10T05:44:13.562Z"
      },
      {
        "duration": 38,
        "start_time": "2023-06-10T05:44:13.600Z"
      },
      {
        "duration": 979,
        "start_time": "2023-06-10T05:44:13.640Z"
      },
      {
        "duration": 475,
        "start_time": "2023-06-10T05:44:14.621Z"
      },
      {
        "duration": 58,
        "start_time": "2023-06-10T05:44:15.098Z"
      },
      {
        "duration": 67,
        "start_time": "2023-06-10T05:44:15.158Z"
      },
      {
        "duration": 10,
        "start_time": "2023-06-10T05:44:15.226Z"
      },
      {
        "duration": 70,
        "start_time": "2023-06-10T05:44:15.238Z"
      },
      {
        "duration": 33,
        "start_time": "2023-06-10T05:44:15.310Z"
      },
      {
        "duration": 32,
        "start_time": "2023-06-10T05:44:15.345Z"
      },
      {
        "duration": 2108,
        "start_time": "2023-06-10T05:44:15.381Z"
      },
      {
        "duration": 895,
        "start_time": "2023-06-10T05:44:17.490Z"
      },
      {
        "duration": 73,
        "start_time": "2023-06-10T05:44:18.386Z"
      },
      {
        "duration": 494,
        "start_time": "2023-06-10T05:44:18.461Z"
      },
      {
        "duration": 205223,
        "start_time": "2023-06-10T05:44:21.430Z"
      },
      {
        "duration": 0,
        "start_time": "2023-06-10T05:47:46.655Z"
      },
      {
        "duration": 1999134,
        "start_time": "2023-06-10T05:47:51.600Z"
      },
      {
        "duration": 0,
        "start_time": "2023-06-10T06:21:10.736Z"
      },
      {
        "duration": 2315,
        "start_time": "2023-06-10T06:30:31.821Z"
      },
      {
        "duration": 224,
        "start_time": "2023-06-10T06:30:34.138Z"
      },
      {
        "duration": 26,
        "start_time": "2023-06-10T06:30:34.364Z"
      },
      {
        "duration": 32,
        "start_time": "2023-06-10T06:30:34.392Z"
      },
      {
        "duration": 26,
        "start_time": "2023-06-10T06:30:34.427Z"
      },
      {
        "duration": 11,
        "start_time": "2023-06-10T06:30:34.455Z"
      },
      {
        "duration": 36,
        "start_time": "2023-06-10T06:30:34.467Z"
      },
      {
        "duration": 18,
        "start_time": "2023-06-10T06:30:34.505Z"
      },
      {
        "duration": 8,
        "start_time": "2023-06-10T06:30:34.524Z"
      },
      {
        "duration": 388,
        "start_time": "2023-06-10T06:30:34.533Z"
      },
      {
        "duration": 363,
        "start_time": "2023-06-10T06:30:34.923Z"
      },
      {
        "duration": 28,
        "start_time": "2023-06-10T06:30:35.288Z"
      },
      {
        "duration": 27,
        "start_time": "2023-06-10T06:30:35.318Z"
      },
      {
        "duration": 990,
        "start_time": "2023-06-10T06:30:35.347Z"
      },
      {
        "duration": 479,
        "start_time": "2023-06-10T06:30:36.339Z"
      },
      {
        "duration": 80,
        "start_time": "2023-06-10T06:30:36.820Z"
      },
      {
        "duration": 52,
        "start_time": "2023-06-10T06:30:36.901Z"
      },
      {
        "duration": 33,
        "start_time": "2023-06-10T06:30:36.954Z"
      },
      {
        "duration": 75,
        "start_time": "2023-06-10T06:30:36.989Z"
      },
      {
        "duration": 38,
        "start_time": "2023-06-10T06:30:37.065Z"
      },
      {
        "duration": 21,
        "start_time": "2023-06-10T06:30:37.104Z"
      },
      {
        "duration": 2164,
        "start_time": "2023-06-10T06:30:37.127Z"
      },
      {
        "duration": 1089,
        "start_time": "2023-06-10T06:30:39.297Z"
      },
      {
        "duration": 76,
        "start_time": "2023-06-10T06:30:40.389Z"
      },
      {
        "duration": 34,
        "start_time": "2023-06-10T06:30:40.477Z"
      },
      {
        "duration": 549150,
        "start_time": "2023-06-10T06:30:40.513Z"
      },
      {
        "duration": 8042933,
        "start_time": "2023-06-10T06:39:49.664Z"
      },
      {
        "duration": 0,
        "start_time": "2023-06-10T08:53:52.604Z"
      },
      {
        "duration": 0,
        "start_time": "2023-06-10T08:53:52.605Z"
      },
      {
        "duration": 0,
        "start_time": "2023-06-10T08:53:52.608Z"
      },
      {
        "duration": 0,
        "start_time": "2023-06-10T08:53:52.609Z"
      },
      {
        "duration": 0,
        "start_time": "2023-06-10T08:53:52.617Z"
      },
      {
        "duration": 0,
        "start_time": "2023-06-10T08:53:52.623Z"
      },
      {
        "duration": 0,
        "start_time": "2023-06-10T08:53:52.627Z"
      },
      {
        "duration": 18,
        "start_time": "2023-06-10T08:53:55.703Z"
      },
      {
        "duration": 5,
        "start_time": "2023-06-10T08:54:07.922Z"
      },
      {
        "duration": 267,
        "start_time": "2023-06-10T08:54:08.294Z"
      },
      {
        "duration": 32,
        "start_time": "2023-06-10T08:54:08.563Z"
      },
      {
        "duration": 53,
        "start_time": "2023-06-10T08:54:08.600Z"
      },
      {
        "duration": 24,
        "start_time": "2023-06-10T08:54:08.895Z"
      },
      {
        "duration": 17,
        "start_time": "2023-06-10T08:54:09.031Z"
      },
      {
        "duration": 33,
        "start_time": "2023-06-10T08:54:09.198Z"
      },
      {
        "duration": 21,
        "start_time": "2023-06-10T08:54:09.338Z"
      },
      {
        "duration": 11,
        "start_time": "2023-06-10T08:54:09.500Z"
      },
      {
        "duration": 435,
        "start_time": "2023-06-10T08:54:09.840Z"
      },
      {
        "duration": 365,
        "start_time": "2023-06-10T08:54:10.278Z"
      },
      {
        "duration": 38,
        "start_time": "2023-06-10T08:54:10.646Z"
      },
      {
        "duration": 78,
        "start_time": "2023-06-10T08:54:10.687Z"
      },
      {
        "duration": 1080,
        "start_time": "2023-06-10T08:54:11.087Z"
      },
      {
        "duration": 549,
        "start_time": "2023-06-10T08:54:12.172Z"
      },
      {
        "duration": 92,
        "start_time": "2023-06-10T08:54:12.723Z"
      },
      {
        "duration": 89,
        "start_time": "2023-06-10T08:54:12.818Z"
      },
      {
        "duration": 16,
        "start_time": "2023-06-10T08:54:12.909Z"
      },
      {
        "duration": 74,
        "start_time": "2023-06-10T08:54:16.055Z"
      },
      {
        "duration": 35,
        "start_time": "2023-06-10T08:54:16.418Z"
      },
      {
        "duration": 36,
        "start_time": "2023-06-10T08:54:16.977Z"
      },
      {
        "duration": 2544,
        "start_time": "2023-06-10T08:54:17.504Z"
      },
      {
        "duration": 1114,
        "start_time": "2023-06-10T08:54:20.050Z"
      },
      {
        "duration": 73,
        "start_time": "2023-06-10T08:54:21.165Z"
      },
      {
        "duration": 27,
        "start_time": "2023-06-10T08:54:21.241Z"
      },
      {
        "duration": 19,
        "start_time": "2023-06-10T08:54:25.592Z"
      },
      {
        "duration": 4,
        "start_time": "2023-06-10T08:55:05.049Z"
      },
      {
        "duration": 2248,
        "start_time": "2023-06-10T10:15:12.497Z"
      },
      {
        "duration": 212,
        "start_time": "2023-06-10T10:15:14.746Z"
      },
      {
        "duration": 22,
        "start_time": "2023-06-10T10:15:14.959Z"
      },
      {
        "duration": 16,
        "start_time": "2023-06-10T10:15:14.983Z"
      },
      {
        "duration": 49,
        "start_time": "2023-06-10T10:15:15.000Z"
      },
      {
        "duration": 27,
        "start_time": "2023-06-10T10:15:15.051Z"
      },
      {
        "duration": 22,
        "start_time": "2023-06-10T10:15:15.080Z"
      },
      {
        "duration": 16,
        "start_time": "2023-06-10T10:15:15.104Z"
      },
      {
        "duration": 23,
        "start_time": "2023-06-10T10:15:15.122Z"
      },
      {
        "duration": 373,
        "start_time": "2023-06-10T10:15:15.149Z"
      },
      {
        "duration": 375,
        "start_time": "2023-06-10T10:15:15.524Z"
      },
      {
        "duration": 19,
        "start_time": "2023-06-10T10:15:15.901Z"
      },
      {
        "duration": 18,
        "start_time": "2023-06-10T10:15:15.922Z"
      },
      {
        "duration": 978,
        "start_time": "2023-06-10T10:15:15.942Z"
      },
      {
        "duration": 481,
        "start_time": "2023-06-10T10:15:16.921Z"
      },
      {
        "duration": 73,
        "start_time": "2023-06-10T10:15:17.404Z"
      },
      {
        "duration": 51,
        "start_time": "2023-06-10T10:15:17.478Z"
      },
      {
        "duration": 10,
        "start_time": "2023-06-10T10:15:17.530Z"
      },
      {
        "duration": 75,
        "start_time": "2023-06-10T10:15:17.542Z"
      },
      {
        "duration": 36,
        "start_time": "2023-06-10T10:15:17.619Z"
      },
      {
        "duration": 21,
        "start_time": "2023-06-10T10:15:17.657Z"
      },
      {
        "duration": 2025,
        "start_time": "2023-06-10T10:15:17.680Z"
      },
      {
        "duration": 886,
        "start_time": "2023-06-10T10:15:19.707Z"
      },
      {
        "duration": 78,
        "start_time": "2023-06-10T10:15:20.595Z"
      },
      {
        "duration": 9,
        "start_time": "2023-06-10T10:15:20.674Z"
      },
      {
        "duration": 10,
        "start_time": "2023-06-10T10:15:20.684Z"
      },
      {
        "duration": 6,
        "start_time": "2023-06-10T10:15:20.696Z"
      },
      {
        "duration": 7,
        "start_time": "2023-06-10T10:15:20.705Z"
      },
      {
        "duration": 8,
        "start_time": "2023-06-10T10:15:20.714Z"
      },
      {
        "duration": 11,
        "start_time": "2023-06-10T10:15:20.723Z"
      },
      {
        "duration": 132,
        "start_time": "2023-06-10T10:15:20.736Z"
      },
      {
        "duration": 0,
        "start_time": "2023-06-10T10:15:20.870Z"
      },
      {
        "duration": 0,
        "start_time": "2023-06-10T10:15:20.872Z"
      },
      {
        "duration": 17305,
        "start_time": "2023-06-10T10:16:20.666Z"
      },
      {
        "duration": 151,
        "start_time": "2023-06-10T10:18:22.489Z"
      },
      {
        "duration": 3,
        "start_time": "2023-06-10T10:19:57.949Z"
      },
      {
        "duration": 18,
        "start_time": "2023-06-10T10:20:47.893Z"
      },
      {
        "duration": 5,
        "start_time": "2023-06-10T10:21:21.210Z"
      },
      {
        "duration": 2,
        "start_time": "2023-06-10T10:22:22.803Z"
      },
      {
        "duration": 15,
        "start_time": "2023-06-10T10:22:24.438Z"
      },
      {
        "duration": 3341,
        "start_time": "2023-06-10T10:22:46.172Z"
      },
      {
        "duration": 371,
        "start_time": "2023-06-10T10:22:53.767Z"
      },
      {
        "duration": 72,
        "start_time": "2023-06-10T10:36:32.617Z"
      },
      {
        "duration": 9,
        "start_time": "2023-06-10T10:39:01.027Z"
      },
      {
        "duration": 2313,
        "start_time": "2023-06-10T10:39:13.900Z"
      },
      {
        "duration": 1043,
        "start_time": "2023-06-10T10:39:16.215Z"
      },
      {
        "duration": 8,
        "start_time": "2023-06-10T10:39:43.742Z"
      },
      {
        "duration": 1716,
        "start_time": "2023-06-10T10:39:43.951Z"
      },
      {
        "duration": 0,
        "start_time": "2023-06-10T10:39:45.668Z"
      },
      {
        "duration": 1856,
        "start_time": "2023-06-10T10:39:52.842Z"
      },
      {
        "duration": 10,
        "start_time": "2023-06-10T10:40:05.315Z"
      },
      {
        "duration": 2169,
        "start_time": "2023-06-10T10:40:11.638Z"
      },
      {
        "duration": 979,
        "start_time": "2023-06-10T10:40:13.809Z"
      },
      {
        "duration": 8,
        "start_time": "2023-06-10T10:40:47.945Z"
      },
      {
        "duration": 2189,
        "start_time": "2023-06-10T10:40:48.602Z"
      },
      {
        "duration": 1003,
        "start_time": "2023-06-10T10:40:50.793Z"
      },
      {
        "duration": 1853,
        "start_time": "2023-06-10T10:40:53.184Z"
      },
      {
        "duration": 2357,
        "start_time": "2023-06-10T10:40:57.089Z"
      },
      {
        "duration": 19,
        "start_time": "2023-06-10T10:41:01.666Z"
      },
      {
        "duration": 2361,
        "start_time": "2023-06-10T10:41:02.206Z"
      },
      {
        "duration": 982,
        "start_time": "2023-06-10T10:41:04.576Z"
      },
      {
        "duration": 5057,
        "start_time": "2023-06-11T16:51:21.853Z"
      },
      {
        "duration": 3207,
        "start_time": "2023-06-11T16:51:26.913Z"
      },
      {
        "duration": 6401,
        "start_time": "2023-06-11T16:51:30.124Z"
      },
      {
        "duration": 485,
        "start_time": "2023-06-11T16:51:36.528Z"
      },
      {
        "duration": 44,
        "start_time": "2023-06-11T16:51:37.016Z"
      },
      {
        "duration": 41,
        "start_time": "2023-06-11T16:51:37.062Z"
      },
      {
        "duration": 23,
        "start_time": "2023-06-11T16:51:37.106Z"
      },
      {
        "duration": 20,
        "start_time": "2023-06-11T16:51:37.131Z"
      },
      {
        "duration": 51,
        "start_time": "2023-06-11T16:51:37.153Z"
      },
      {
        "duration": 18,
        "start_time": "2023-06-11T16:51:37.207Z"
      },
      {
        "duration": 11,
        "start_time": "2023-06-11T16:51:37.227Z"
      },
      {
        "duration": 540,
        "start_time": "2023-06-11T16:51:37.239Z"
      },
      {
        "duration": 0,
        "start_time": "2023-06-11T16:51:37.782Z"
      },
      {
        "duration": 0,
        "start_time": "2023-06-11T16:51:37.783Z"
      },
      {
        "duration": 0,
        "start_time": "2023-06-11T16:51:37.785Z"
      },
      {
        "duration": 0,
        "start_time": "2023-06-11T16:51:37.787Z"
      },
      {
        "duration": 0,
        "start_time": "2023-06-11T16:51:37.788Z"
      },
      {
        "duration": 0,
        "start_time": "2023-06-11T16:51:37.790Z"
      },
      {
        "duration": 0,
        "start_time": "2023-06-11T16:51:37.792Z"
      },
      {
        "duration": 0,
        "start_time": "2023-06-11T16:51:37.793Z"
      },
      {
        "duration": 0,
        "start_time": "2023-06-11T16:51:37.794Z"
      },
      {
        "duration": 0,
        "start_time": "2023-06-11T16:51:37.795Z"
      },
      {
        "duration": 0,
        "start_time": "2023-06-11T16:51:37.796Z"
      },
      {
        "duration": 0,
        "start_time": "2023-06-11T16:51:37.797Z"
      },
      {
        "duration": 0,
        "start_time": "2023-06-11T16:51:37.799Z"
      },
      {
        "duration": 0,
        "start_time": "2023-06-11T16:51:37.800Z"
      },
      {
        "duration": 0,
        "start_time": "2023-06-11T16:51:37.801Z"
      },
      {
        "duration": 0,
        "start_time": "2023-06-11T16:51:37.802Z"
      },
      {
        "duration": 0,
        "start_time": "2023-06-11T16:51:37.803Z"
      },
      {
        "duration": 0,
        "start_time": "2023-06-11T16:51:37.842Z"
      },
      {
        "duration": 0,
        "start_time": "2023-06-11T16:51:37.843Z"
      },
      {
        "duration": 0,
        "start_time": "2023-06-11T16:51:37.844Z"
      },
      {
        "duration": 0,
        "start_time": "2023-06-11T16:51:37.844Z"
      },
      {
        "duration": 0,
        "start_time": "2023-06-11T16:51:37.851Z"
      },
      {
        "duration": 0,
        "start_time": "2023-06-11T16:51:37.856Z"
      },
      {
        "duration": 0,
        "start_time": "2023-06-11T16:51:37.857Z"
      },
      {
        "duration": 0,
        "start_time": "2023-06-11T16:51:37.862Z"
      },
      {
        "duration": 13929,
        "start_time": "2023-06-11T16:56:53.840Z"
      },
      {
        "duration": 2724,
        "start_time": "2023-06-11T16:57:07.771Z"
      },
      {
        "duration": 2420,
        "start_time": "2023-06-11T16:57:10.497Z"
      },
      {
        "duration": 3275,
        "start_time": "2023-06-11T16:57:12.919Z"
      },
      {
        "duration": 251,
        "start_time": "2023-06-11T16:57:16.198Z"
      },
      {
        "duration": 46,
        "start_time": "2023-06-11T16:57:16.452Z"
      },
      {
        "duration": 22,
        "start_time": "2023-06-11T16:57:16.500Z"
      },
      {
        "duration": 24,
        "start_time": "2023-06-11T16:57:16.524Z"
      },
      {
        "duration": 17,
        "start_time": "2023-06-11T16:57:16.549Z"
      },
      {
        "duration": 52,
        "start_time": "2023-06-11T16:57:16.568Z"
      },
      {
        "duration": 16,
        "start_time": "2023-06-11T16:57:16.622Z"
      },
      {
        "duration": 36,
        "start_time": "2023-06-11T16:57:16.640Z"
      },
      {
        "duration": 435,
        "start_time": "2023-06-11T16:57:16.682Z"
      },
      {
        "duration": 334,
        "start_time": "2023-06-11T16:57:17.119Z"
      },
      {
        "duration": 35,
        "start_time": "2023-06-11T16:57:17.454Z"
      },
      {
        "duration": 30,
        "start_time": "2023-06-11T16:57:17.493Z"
      },
      {
        "duration": 1259,
        "start_time": "2023-06-11T16:57:17.525Z"
      },
      {
        "duration": 576,
        "start_time": "2023-06-11T16:57:18.787Z"
      },
      {
        "duration": 113,
        "start_time": "2023-06-11T16:57:19.364Z"
      },
      {
        "duration": 68,
        "start_time": "2023-06-11T16:57:19.481Z"
      },
      {
        "duration": 25,
        "start_time": "2023-06-11T16:57:19.555Z"
      },
      {
        "duration": 78,
        "start_time": "2023-06-11T16:57:19.587Z"
      },
      {
        "duration": 40,
        "start_time": "2023-06-11T16:57:19.667Z"
      },
      {
        "duration": 48,
        "start_time": "2023-06-11T16:57:19.708Z"
      },
      {
        "duration": 8,
        "start_time": "2023-06-11T16:57:19.758Z"
      },
      {
        "duration": 28,
        "start_time": "2023-06-11T16:57:19.768Z"
      },
      {
        "duration": 2797,
        "start_time": "2023-06-11T16:57:19.798Z"
      },
      {
        "duration": 1219,
        "start_time": "2023-06-11T16:57:22.598Z"
      },
      {
        "duration": 93,
        "start_time": "2023-06-11T16:57:23.818Z"
      },
      {
        "duration": 3613242,
        "start_time": "2023-06-11T16:57:23.913Z"
      },
      {
        "duration": 460,
        "start_time": "2023-06-11T17:57:37.159Z"
      },
      {
        "duration": 0,
        "start_time": "2023-06-11T17:57:37.621Z"
      },
      {
        "duration": 0,
        "start_time": "2023-06-11T17:57:37.622Z"
      },
      {
        "duration": 0,
        "start_time": "2023-06-11T17:57:37.624Z"
      },
      {
        "duration": 0,
        "start_time": "2023-06-11T17:57:37.625Z"
      },
      {
        "duration": 0,
        "start_time": "2023-06-11T17:57:37.628Z"
      },
      {
        "duration": 0,
        "start_time": "2023-06-11T17:57:37.630Z"
      },
      {
        "duration": 0,
        "start_time": "2023-06-11T17:57:37.631Z"
      },
      {
        "duration": 809,
        "start_time": "2023-06-11T18:49:09.750Z"
      },
      {
        "duration": 4994,
        "start_time": "2023-06-11T18:49:14.812Z"
      },
      {
        "duration": 14467,
        "start_time": "2023-06-11T18:52:26.708Z"
      },
      {
        "duration": 4045,
        "start_time": "2023-06-11T18:52:41.178Z"
      },
      {
        "duration": 3698,
        "start_time": "2023-06-11T18:52:45.227Z"
      },
      {
        "duration": 11198,
        "start_time": "2023-06-11T18:52:48.932Z"
      },
      {
        "duration": 615,
        "start_time": "2023-06-11T18:53:00.132Z"
      },
      {
        "duration": 31,
        "start_time": "2023-06-11T18:53:00.749Z"
      },
      {
        "duration": 76,
        "start_time": "2023-06-11T18:53:00.783Z"
      },
      {
        "duration": 107,
        "start_time": "2023-06-11T18:53:00.861Z"
      },
      {
        "duration": 27,
        "start_time": "2023-06-11T18:53:00.971Z"
      },
      {
        "duration": 82,
        "start_time": "2023-06-11T18:53:01.002Z"
      },
      {
        "duration": 42,
        "start_time": "2023-06-11T18:53:01.100Z"
      },
      {
        "duration": 94,
        "start_time": "2023-06-11T18:53:01.144Z"
      },
      {
        "duration": 11,
        "start_time": "2023-06-11T18:53:34.631Z"
      },
      {
        "duration": 5,
        "start_time": "2023-06-11T18:53:41.349Z"
      },
      {
        "duration": 3625,
        "start_time": "2023-06-11T19:15:21.429Z"
      },
      {
        "duration": 42,
        "start_time": "2023-06-11T19:15:36.120Z"
      },
      {
        "duration": 5559,
        "start_time": "2023-06-11T19:16:07.272Z"
      },
      {
        "duration": 41,
        "start_time": "2023-06-11T19:17:45.212Z"
      },
      {
        "duration": 238,
        "start_time": "2023-06-11T19:18:07.012Z"
      },
      {
        "duration": 5763,
        "start_time": "2023-06-11T19:18:11.855Z"
      },
      {
        "duration": 6112,
        "start_time": "2023-06-11T19:19:38.513Z"
      },
      {
        "duration": 6264,
        "start_time": "2023-06-11T19:20:12.545Z"
      },
      {
        "duration": 193,
        "start_time": "2023-06-11T19:26:06.663Z"
      },
      {
        "duration": 13,
        "start_time": "2023-06-11T19:26:13.769Z"
      },
      {
        "duration": 116,
        "start_time": "2023-06-11T19:27:31.010Z"
      },
      {
        "duration": 128,
        "start_time": "2023-06-11T19:27:36.110Z"
      },
      {
        "duration": 622,
        "start_time": "2023-06-11T19:27:42.043Z"
      },
      {
        "duration": 99,
        "start_time": "2023-06-11T19:27:57.743Z"
      },
      {
        "duration": 95,
        "start_time": "2023-06-11T19:28:21.081Z"
      },
      {
        "duration": 56,
        "start_time": "2023-06-11T19:28:59.809Z"
      },
      {
        "duration": 88,
        "start_time": "2023-06-11T19:51:04.211Z"
      },
      {
        "duration": 37,
        "start_time": "2023-06-11T19:51:04.353Z"
      },
      {
        "duration": 3116,
        "start_time": "2023-06-11T20:02:41.605Z"
      },
      {
        "duration": 2901,
        "start_time": "2023-06-11T20:02:44.724Z"
      },
      {
        "duration": 3037,
        "start_time": "2023-06-11T20:02:47.626Z"
      },
      {
        "duration": 2802,
        "start_time": "2023-06-11T20:02:50.668Z"
      },
      {
        "duration": 9,
        "start_time": "2023-06-11T20:02:53.472Z"
      },
      {
        "duration": 1217,
        "start_time": "2023-06-11T20:02:53.483Z"
      },
      {
        "duration": 45,
        "start_time": "2023-06-11T20:02:54.712Z"
      },
      {
        "duration": 94,
        "start_time": "2023-06-11T20:02:54.759Z"
      },
      {
        "duration": 83,
        "start_time": "2023-06-11T20:02:54.854Z"
      },
      {
        "duration": 63,
        "start_time": "2023-06-11T20:02:54.951Z"
      },
      {
        "duration": 146,
        "start_time": "2023-06-11T20:02:55.016Z"
      },
      {
        "duration": 57,
        "start_time": "2023-06-11T20:02:55.163Z"
      },
      {
        "duration": 54,
        "start_time": "2023-06-11T20:02:55.227Z"
      },
      {
        "duration": 99,
        "start_time": "2023-06-11T20:02:55.283Z"
      },
      {
        "duration": 92,
        "start_time": "2023-06-11T20:02:55.383Z"
      },
      {
        "duration": 6,
        "start_time": "2023-06-11T20:06:53.052Z"
      },
      {
        "duration": 3,
        "start_time": "2023-06-11T20:07:20.414Z"
      },
      {
        "duration": 72,
        "start_time": "2023-06-11T20:07:42.802Z"
      },
      {
        "duration": 3,
        "start_time": "2023-06-11T20:12:23.866Z"
      },
      {
        "duration": 12,
        "start_time": "2023-06-11T20:17:36.165Z"
      },
      {
        "duration": 14,
        "start_time": "2023-06-11T20:17:41.455Z"
      },
      {
        "duration": 9,
        "start_time": "2023-06-11T20:18:54.212Z"
      },
      {
        "duration": 11,
        "start_time": "2023-06-11T20:19:29.355Z"
      },
      {
        "duration": 7,
        "start_time": "2023-06-11T20:19:37.275Z"
      },
      {
        "duration": 2,
        "start_time": "2023-06-11T20:19:40.578Z"
      },
      {
        "duration": 17,
        "start_time": "2023-06-11T20:28:37.507Z"
      },
      {
        "duration": 13,
        "start_time": "2023-06-11T20:28:53.240Z"
      },
      {
        "duration": 4,
        "start_time": "2023-06-11T20:29:03.570Z"
      },
      {
        "duration": 4,
        "start_time": "2023-06-11T20:29:13.348Z"
      },
      {
        "duration": 42,
        "start_time": "2023-06-11T20:32:22.948Z"
      },
      {
        "duration": 58,
        "start_time": "2023-06-11T20:33:53.916Z"
      },
      {
        "duration": 11,
        "start_time": "2023-06-11T20:34:28.265Z"
      },
      {
        "duration": 9,
        "start_time": "2023-06-11T20:34:36.168Z"
      },
      {
        "duration": 8,
        "start_time": "2023-06-11T20:34:44.873Z"
      },
      {
        "duration": 18,
        "start_time": "2023-06-11T20:35:20.682Z"
      },
      {
        "duration": 23,
        "start_time": "2023-06-11T20:35:44.829Z"
      },
      {
        "duration": 304,
        "start_time": "2023-06-11T20:42:42.956Z"
      },
      {
        "duration": 415,
        "start_time": "2023-06-11T20:42:48.253Z"
      },
      {
        "duration": 395,
        "start_time": "2023-06-11T20:43:05.409Z"
      },
      {
        "duration": 3934,
        "start_time": "2023-06-11T20:43:34.948Z"
      },
      {
        "duration": 3134,
        "start_time": "2023-06-11T20:43:47.020Z"
      },
      {
        "duration": 4,
        "start_time": "2023-06-11T20:44:44.629Z"
      },
      {
        "duration": 37,
        "start_time": "2023-06-11T20:46:02.823Z"
      },
      {
        "duration": 469,
        "start_time": "2023-06-11T20:47:26.811Z"
      },
      {
        "duration": 249,
        "start_time": "2023-06-11T20:49:41.156Z"
      },
      {
        "duration": 88,
        "start_time": "2023-06-11T20:50:26.872Z"
      },
      {
        "duration": 26,
        "start_time": "2023-06-11T20:51:36.807Z"
      },
      {
        "duration": 25,
        "start_time": "2023-06-11T20:51:59.026Z"
      },
      {
        "duration": 23,
        "start_time": "2023-06-11T20:53:23.757Z"
      },
      {
        "duration": 15,
        "start_time": "2023-06-11T20:56:54.637Z"
      },
      {
        "duration": 2,
        "start_time": "2023-06-11T21:20:29.447Z"
      },
      {
        "duration": 201,
        "start_time": "2023-06-11T21:21:15.675Z"
      },
      {
        "duration": 133,
        "start_time": "2023-06-11T21:21:15.878Z"
      },
      {
        "duration": 6,
        "start_time": "2023-06-11T21:32:26.357Z"
      },
      {
        "duration": 8,
        "start_time": "2023-06-11T21:32:38.318Z"
      },
      {
        "duration": 1704,
        "start_time": "2023-06-11T21:33:31.464Z"
      },
      {
        "duration": 1476,
        "start_time": "2023-06-11T21:33:35.630Z"
      },
      {
        "duration": 1727,
        "start_time": "2023-06-11T21:33:48.411Z"
      },
      {
        "duration": 1988,
        "start_time": "2023-06-11T21:33:56.614Z"
      },
      {
        "duration": 2111,
        "start_time": "2023-06-11T21:34:03.783Z"
      },
      {
        "duration": 27,
        "start_time": "2023-06-11T21:37:03.220Z"
      },
      {
        "duration": 15,
        "start_time": "2023-06-11T21:37:58.155Z"
      },
      {
        "duration": 14,
        "start_time": "2023-06-11T21:38:27.920Z"
      },
      {
        "duration": 19,
        "start_time": "2023-06-11T21:38:40.280Z"
      },
      {
        "duration": 9,
        "start_time": "2023-06-11T21:38:43.949Z"
      },
      {
        "duration": 17,
        "start_time": "2023-06-11T21:38:59.951Z"
      },
      {
        "duration": 11,
        "start_time": "2023-06-11T21:39:19.512Z"
      },
      {
        "duration": 5,
        "start_time": "2023-06-11T21:48:36.760Z"
      },
      {
        "duration": 195,
        "start_time": "2023-06-11T21:48:44.883Z"
      },
      {
        "duration": 5,
        "start_time": "2023-06-11T21:48:49.543Z"
      },
      {
        "duration": 17,
        "start_time": "2023-06-11T21:49:01.923Z"
      },
      {
        "duration": 15,
        "start_time": "2023-06-11T21:49:57.223Z"
      },
      {
        "duration": 345,
        "start_time": "2023-06-11T21:50:30.263Z"
      },
      {
        "duration": 359,
        "start_time": "2023-06-11T21:50:37.775Z"
      },
      {
        "duration": 29,
        "start_time": "2023-06-11T21:58:20.944Z"
      },
      {
        "duration": 10,
        "start_time": "2023-06-11T21:58:50.769Z"
      },
      {
        "duration": 295,
        "start_time": "2023-06-11T21:59:05.221Z"
      },
      {
        "duration": 297,
        "start_time": "2023-06-11T21:59:17.505Z"
      },
      {
        "duration": 3727,
        "start_time": "2023-06-11T22:06:27.607Z"
      },
      {
        "duration": 4231,
        "start_time": "2023-06-11T22:06:49.875Z"
      },
      {
        "duration": 45,
        "start_time": "2023-06-12T07:27:14.960Z"
      },
      {
        "duration": 3725,
        "start_time": "2023-06-12T07:27:20.532Z"
      },
      {
        "duration": 9041,
        "start_time": "2023-06-12T07:27:24.260Z"
      },
      {
        "duration": 4277,
        "start_time": "2023-06-12T07:27:33.303Z"
      },
      {
        "duration": 3781,
        "start_time": "2023-06-12T07:27:37.583Z"
      },
      {
        "duration": 4657,
        "start_time": "2023-06-12T07:27:41.367Z"
      },
      {
        "duration": 408,
        "start_time": "2023-06-12T07:27:46.026Z"
      },
      {
        "duration": 23,
        "start_time": "2023-06-12T07:27:46.436Z"
      },
      {
        "duration": 17,
        "start_time": "2023-06-12T07:27:46.461Z"
      },
      {
        "duration": 20,
        "start_time": "2023-06-12T07:27:46.480Z"
      },
      {
        "duration": 13,
        "start_time": "2023-06-12T07:27:46.502Z"
      },
      {
        "duration": 44,
        "start_time": "2023-06-12T07:27:46.516Z"
      },
      {
        "duration": 17,
        "start_time": "2023-06-12T07:27:46.562Z"
      },
      {
        "duration": 8,
        "start_time": "2023-06-12T07:27:46.581Z"
      },
      {
        "duration": 78,
        "start_time": "2023-06-12T07:27:46.592Z"
      },
      {
        "duration": 25,
        "start_time": "2023-06-12T07:27:46.672Z"
      },
      {
        "duration": 46,
        "start_time": "2023-06-12T07:27:46.699Z"
      },
      {
        "duration": 15,
        "start_time": "2023-06-12T07:27:46.747Z"
      },
      {
        "duration": 6,
        "start_time": "2023-06-12T07:27:46.764Z"
      },
      {
        "duration": 19,
        "start_time": "2023-06-12T07:27:46.772Z"
      },
      {
        "duration": 13,
        "start_time": "2023-06-12T07:27:46.793Z"
      },
      {
        "duration": 6,
        "start_time": "2023-06-12T07:27:46.808Z"
      },
      {
        "duration": 8,
        "start_time": "2023-06-12T07:27:46.816Z"
      },
      {
        "duration": 9,
        "start_time": "2023-06-12T07:27:46.825Z"
      },
      {
        "duration": 12,
        "start_time": "2023-06-12T07:27:46.835Z"
      },
      {
        "duration": 11,
        "start_time": "2023-06-12T07:27:46.849Z"
      },
      {
        "duration": 7,
        "start_time": "2023-06-12T07:27:46.861Z"
      },
      {
        "duration": 1966,
        "start_time": "2023-06-12T07:27:46.870Z"
      },
      {
        "duration": 5289,
        "start_time": "2023-06-12T07:27:48.837Z"
      },
      {
        "duration": 14,
        "start_time": "2023-06-12T07:27:54.128Z"
      },
      {
        "duration": 99,
        "start_time": "2023-06-12T07:37:16.942Z"
      },
      {
        "duration": 129,
        "start_time": "2023-06-12T07:37:20.761Z"
      },
      {
        "duration": 16778,
        "start_time": "2023-06-12T07:37:37.064Z"
      },
      {
        "duration": 57,
        "start_time": "2023-06-12T07:40:53.553Z"
      },
      {
        "duration": 114,
        "start_time": "2023-06-12T07:40:57.356Z"
      },
      {
        "duration": 67,
        "start_time": "2023-06-12T07:40:58.742Z"
      },
      {
        "duration": 61,
        "start_time": "2023-06-12T07:42:10.012Z"
      },
      {
        "duration": 5427,
        "start_time": "2023-06-12T07:44:09.333Z"
      },
      {
        "duration": 12,
        "start_time": "2023-06-12T07:44:58.081Z"
      },
      {
        "duration": 2926,
        "start_time": "2023-06-12T07:45:06.640Z"
      },
      {
        "duration": 62,
        "start_time": "2023-06-12T08:02:16.246Z"
      },
      {
        "duration": 3,
        "start_time": "2023-06-12T08:27:30.290Z"
      },
      {
        "duration": 2,
        "start_time": "2023-06-12T08:28:13.854Z"
      },
      {
        "duration": 69,
        "start_time": "2023-06-12T08:28:49.704Z"
      },
      {
        "duration": 5,
        "start_time": "2023-06-12T08:29:59.589Z"
      },
      {
        "duration": 6,
        "start_time": "2023-06-12T08:46:18.454Z"
      },
      {
        "duration": 8,
        "start_time": "2023-06-12T08:46:18.845Z"
      },
      {
        "duration": 2314,
        "start_time": "2023-06-12T08:46:30.555Z"
      },
      {
        "duration": 2261,
        "start_time": "2023-06-12T08:46:32.871Z"
      },
      {
        "duration": 2678,
        "start_time": "2023-06-12T08:46:35.134Z"
      },
      {
        "duration": 2365,
        "start_time": "2023-06-12T08:46:37.815Z"
      },
      {
        "duration": 7,
        "start_time": "2023-06-12T08:46:40.183Z"
      },
      {
        "duration": 238,
        "start_time": "2023-06-12T08:46:40.192Z"
      },
      {
        "duration": 21,
        "start_time": "2023-06-12T08:46:40.432Z"
      },
      {
        "duration": 24,
        "start_time": "2023-06-12T08:46:40.454Z"
      },
      {
        "duration": 22,
        "start_time": "2023-06-12T08:46:40.480Z"
      },
      {
        "duration": 13,
        "start_time": "2023-06-12T08:46:40.504Z"
      },
      {
        "duration": 26,
        "start_time": "2023-06-12T08:46:40.541Z"
      },
      {
        "duration": 19,
        "start_time": "2023-06-12T08:46:40.569Z"
      },
      {
        "duration": 8,
        "start_time": "2023-06-12T08:46:40.590Z"
      },
      {
        "duration": 84,
        "start_time": "2023-06-12T08:46:40.601Z"
      },
      {
        "duration": 28,
        "start_time": "2023-06-12T08:46:40.687Z"
      },
      {
        "duration": 56,
        "start_time": "2023-06-12T08:46:40.717Z"
      },
      {
        "duration": 23,
        "start_time": "2023-06-12T08:46:40.775Z"
      },
      {
        "duration": 6,
        "start_time": "2023-06-12T08:46:40.800Z"
      },
      {
        "duration": 9,
        "start_time": "2023-06-12T08:46:40.808Z"
      },
      {
        "duration": 9,
        "start_time": "2023-06-12T08:46:40.819Z"
      },
      {
        "duration": 16,
        "start_time": "2023-06-12T08:46:40.829Z"
      },
      {
        "duration": 18,
        "start_time": "2023-06-12T08:46:40.847Z"
      },
      {
        "duration": 15,
        "start_time": "2023-06-12T08:46:40.866Z"
      },
      {
        "duration": 9,
        "start_time": "2023-06-12T08:46:40.882Z"
      },
      {
        "duration": 56,
        "start_time": "2023-06-12T08:46:40.892Z"
      },
      {
        "duration": 28,
        "start_time": "2023-06-12T08:46:40.950Z"
      },
      {
        "duration": 2105,
        "start_time": "2023-06-12T08:46:40.980Z"
      },
      {
        "duration": 5755,
        "start_time": "2023-06-12T08:46:43.087Z"
      },
      {
        "duration": 6,
        "start_time": "2023-06-12T08:46:48.844Z"
      },
      {
        "duration": 23,
        "start_time": "2023-06-12T08:46:48.852Z"
      },
      {
        "duration": 19,
        "start_time": "2023-06-12T08:46:48.877Z"
      },
      {
        "duration": 10407,
        "start_time": "2023-06-12T08:50:39.442Z"
      },
      {
        "duration": 23,
        "start_time": "2023-06-12T08:50:59.077Z"
      },
      {
        "duration": 22,
        "start_time": "2023-06-12T09:02:23.073Z"
      },
      {
        "duration": 22,
        "start_time": "2023-06-12T09:03:30.574Z"
      },
      {
        "duration": 21,
        "start_time": "2023-06-12T09:03:38.685Z"
      },
      {
        "duration": 22,
        "start_time": "2023-06-12T09:04:46.385Z"
      },
      {
        "duration": 5,
        "start_time": "2023-06-12T09:05:02.265Z"
      },
      {
        "duration": 9,
        "start_time": "2023-06-12T09:08:04.058Z"
      },
      {
        "duration": 1333,
        "start_time": "2023-06-12T09:08:11.325Z"
      },
      {
        "duration": 28,
        "start_time": "2023-06-12T09:08:45.715Z"
      },
      {
        "duration": 2001,
        "start_time": "2023-06-12T09:08:55.913Z"
      },
      {
        "duration": 2200,
        "start_time": "2023-06-12T09:08:57.916Z"
      },
      {
        "duration": 2225,
        "start_time": "2023-06-12T09:09:00.118Z"
      },
      {
        "duration": 2069,
        "start_time": "2023-06-12T09:09:02.348Z"
      },
      {
        "duration": 4,
        "start_time": "2023-06-12T09:09:04.420Z"
      },
      {
        "duration": 234,
        "start_time": "2023-06-12T09:09:04.426Z"
      },
      {
        "duration": 20,
        "start_time": "2023-06-12T09:09:04.662Z"
      },
      {
        "duration": 23,
        "start_time": "2023-06-12T09:09:04.684Z"
      },
      {
        "duration": 43,
        "start_time": "2023-06-12T09:09:04.709Z"
      },
      {
        "duration": 14,
        "start_time": "2023-06-12T09:09:04.754Z"
      },
      {
        "duration": 30,
        "start_time": "2023-06-12T09:09:04.770Z"
      },
      {
        "duration": 17,
        "start_time": "2023-06-12T09:09:04.802Z"
      },
      {
        "duration": 23,
        "start_time": "2023-06-12T09:09:04.820Z"
      },
      {
        "duration": 53,
        "start_time": "2023-06-12T09:09:04.846Z"
      },
      {
        "duration": 52,
        "start_time": "2023-06-12T09:09:04.901Z"
      },
      {
        "duration": 43,
        "start_time": "2023-06-12T09:09:04.955Z"
      },
      {
        "duration": 17,
        "start_time": "2023-06-12T09:09:05.000Z"
      },
      {
        "duration": 7,
        "start_time": "2023-06-12T09:09:05.019Z"
      },
      {
        "duration": 24,
        "start_time": "2023-06-12T09:09:05.028Z"
      },
      {
        "duration": 22,
        "start_time": "2023-06-12T09:09:05.053Z"
      },
      {
        "duration": 10,
        "start_time": "2023-06-12T09:09:05.077Z"
      },
      {
        "duration": 16,
        "start_time": "2023-06-12T09:09:05.088Z"
      },
      {
        "duration": 5,
        "start_time": "2023-06-12T09:09:05.106Z"
      },
      {
        "duration": 16,
        "start_time": "2023-06-12T09:09:05.112Z"
      },
      {
        "duration": 27,
        "start_time": "2023-06-12T09:09:05.129Z"
      },
      {
        "duration": 21,
        "start_time": "2023-06-12T09:09:05.158Z"
      },
      {
        "duration": 2036,
        "start_time": "2023-06-12T09:09:05.181Z"
      },
      {
        "duration": 5378,
        "start_time": "2023-06-12T09:09:07.219Z"
      },
      {
        "duration": 5,
        "start_time": "2023-06-12T09:09:12.600Z"
      },
      {
        "duration": 13,
        "start_time": "2023-06-12T09:09:12.606Z"
      },
      {
        "duration": 34,
        "start_time": "2023-06-12T09:09:12.621Z"
      },
      {
        "duration": 7,
        "start_time": "2023-06-12T09:09:12.657Z"
      },
      {
        "duration": 13053,
        "start_time": "2023-06-12T09:09:12.665Z"
      },
      {
        "duration": 8,
        "start_time": "2023-06-12T09:09:55.385Z"
      },
      {
        "duration": 38,
        "start_time": "2023-06-12T09:10:11.442Z"
      },
      {
        "duration": 9,
        "start_time": "2023-06-12T09:10:22.882Z"
      },
      {
        "duration": 57,
        "start_time": "2023-06-12T09:13:02.373Z"
      },
      {
        "duration": 18,
        "start_time": "2023-06-12T09:13:04.506Z"
      },
      {
        "duration": 42,
        "start_time": "2023-06-12T09:13:12.485Z"
      },
      {
        "duration": 39,
        "start_time": "2023-06-12T09:13:26.406Z"
      },
      {
        "duration": 39,
        "start_time": "2023-06-12T09:13:40.354Z"
      },
      {
        "duration": 64,
        "start_time": "2023-06-12T09:14:09.435Z"
      },
      {
        "duration": 32,
        "start_time": "2023-06-12T09:14:24.862Z"
      },
      {
        "duration": 55,
        "start_time": "2023-06-12T15:07:02.595Z"
      },
      {
        "duration": 167,
        "start_time": "2023-06-12T15:07:28.676Z"
      },
      {
        "duration": 9,
        "start_time": "2023-06-12T15:07:55.650Z"
      },
      {
        "duration": 12,
        "start_time": "2023-06-12T15:09:36.421Z"
      },
      {
        "duration": 6,
        "start_time": "2023-06-12T15:09:49.450Z"
      },
      {
        "duration": 873,
        "start_time": "2023-06-12T15:36:37.825Z"
      },
      {
        "duration": 128,
        "start_time": "2023-06-12T15:38:00.648Z"
      },
      {
        "duration": 8,
        "start_time": "2023-06-12T15:49:53.222Z"
      },
      {
        "duration": 11,
        "start_time": "2023-06-12T15:50:05.250Z"
      },
      {
        "duration": 2887,
        "start_time": "2023-06-12T15:50:09.776Z"
      },
      {
        "duration": 8073,
        "start_time": "2023-06-12T15:50:12.666Z"
      },
      {
        "duration": 3532,
        "start_time": "2023-06-12T15:50:20.741Z"
      },
      {
        "duration": 2957,
        "start_time": "2023-06-12T15:50:24.275Z"
      },
      {
        "duration": 22,
        "start_time": "2023-06-12T15:50:27.234Z"
      },
      {
        "duration": 13,
        "start_time": "2023-06-12T15:50:34.866Z"
      },
      {
        "duration": 6544,
        "start_time": "2023-06-12T15:52:16.298Z"
      },
      {
        "duration": 21,
        "start_time": "2023-06-12T15:52:27.222Z"
      },
      {
        "duration": 15,
        "start_time": "2023-06-12T15:52:32.449Z"
      },
      {
        "duration": 1915,
        "start_time": "2023-06-12T15:52:42.227Z"
      },
      {
        "duration": 4857,
        "start_time": "2023-06-12T15:52:44.144Z"
      },
      {
        "duration": 2094,
        "start_time": "2023-06-12T15:52:49.003Z"
      },
      {
        "duration": 2026,
        "start_time": "2023-06-12T15:52:51.099Z"
      },
      {
        "duration": 2041,
        "start_time": "2023-06-12T15:53:01.022Z"
      },
      {
        "duration": 1889,
        "start_time": "2023-06-12T15:53:03.065Z"
      },
      {
        "duration": 1892,
        "start_time": "2023-06-12T15:53:04.955Z"
      },
      {
        "duration": 1866,
        "start_time": "2023-06-12T15:53:06.848Z"
      },
      {
        "duration": 2565,
        "start_time": "2023-06-12T15:53:08.721Z"
      },
      {
        "duration": 884,
        "start_time": "2023-06-12T15:53:11.288Z"
      },
      {
        "duration": 20,
        "start_time": "2023-06-12T15:53:12.174Z"
      },
      {
        "duration": 20,
        "start_time": "2023-06-12T15:53:12.195Z"
      },
      {
        "duration": 23,
        "start_time": "2023-06-12T15:53:12.217Z"
      },
      {
        "duration": 11,
        "start_time": "2023-06-12T15:53:12.242Z"
      },
      {
        "duration": 23,
        "start_time": "2023-06-12T15:53:12.254Z"
      },
      {
        "duration": 42,
        "start_time": "2023-06-12T15:53:12.278Z"
      },
      {
        "duration": 7,
        "start_time": "2023-06-12T15:53:12.324Z"
      },
      {
        "duration": 57,
        "start_time": "2023-06-12T15:53:12.333Z"
      },
      {
        "duration": 34,
        "start_time": "2023-06-12T15:53:12.392Z"
      },
      {
        "duration": 38,
        "start_time": "2023-06-12T15:53:12.428Z"
      },
      {
        "duration": 14,
        "start_time": "2023-06-12T15:53:12.468Z"
      },
      {
        "duration": 25,
        "start_time": "2023-06-12T15:53:12.484Z"
      },
      {
        "duration": 7,
        "start_time": "2023-06-12T15:53:12.512Z"
      },
      {
        "duration": 11,
        "start_time": "2023-06-12T15:53:12.521Z"
      },
      {
        "duration": 8,
        "start_time": "2023-06-12T15:53:12.534Z"
      },
      {
        "duration": 3,
        "start_time": "2023-06-12T15:53:12.544Z"
      },
      {
        "duration": 11,
        "start_time": "2023-06-12T15:53:12.549Z"
      },
      {
        "duration": 11,
        "start_time": "2023-06-12T15:53:12.562Z"
      },
      {
        "duration": 6,
        "start_time": "2023-06-12T15:53:12.575Z"
      },
      {
        "duration": 5,
        "start_time": "2023-06-12T15:53:12.582Z"
      },
      {
        "duration": 1816,
        "start_time": "2023-06-12T15:53:12.589Z"
      },
      {
        "duration": 4820,
        "start_time": "2023-06-12T15:53:14.407Z"
      },
      {
        "duration": 5,
        "start_time": "2023-06-12T15:53:19.228Z"
      },
      {
        "duration": 36,
        "start_time": "2023-06-12T15:53:19.235Z"
      },
      {
        "duration": 14,
        "start_time": "2023-06-12T15:53:19.272Z"
      },
      {
        "duration": 8,
        "start_time": "2023-06-12T15:53:19.288Z"
      },
      {
        "duration": 9134,
        "start_time": "2023-06-12T15:53:19.298Z"
      },
      {
        "duration": 50,
        "start_time": "2023-06-12T15:53:28.434Z"
      },
      {
        "duration": 38,
        "start_time": "2023-06-12T15:53:28.486Z"
      },
      {
        "duration": 52,
        "start_time": "2023-06-12T15:53:28.525Z"
      },
      {
        "duration": 52,
        "start_time": "2023-06-12T15:53:28.579Z"
      },
      {
        "duration": 6,
        "start_time": "2023-06-12T15:53:28.632Z"
      },
      {
        "duration": 4,
        "start_time": "2023-06-12T15:53:28.640Z"
      },
      {
        "duration": 230,
        "start_time": "2023-06-12T15:53:28.645Z"
      },
      {
        "duration": 0,
        "start_time": "2023-06-12T15:53:28.878Z"
      },
      {
        "duration": 0,
        "start_time": "2023-06-12T15:53:28.879Z"
      },
      {
        "duration": 0,
        "start_time": "2023-06-12T15:53:28.880Z"
      },
      {
        "duration": 0,
        "start_time": "2023-06-12T15:53:28.882Z"
      },
      {
        "duration": 0,
        "start_time": "2023-06-12T15:53:28.883Z"
      },
      {
        "duration": 0,
        "start_time": "2023-06-12T15:53:28.884Z"
      },
      {
        "duration": 0,
        "start_time": "2023-06-12T15:53:28.885Z"
      },
      {
        "duration": 0,
        "start_time": "2023-06-12T15:53:28.886Z"
      },
      {
        "duration": 0,
        "start_time": "2023-06-12T15:53:28.887Z"
      },
      {
        "duration": 0,
        "start_time": "2023-06-12T15:53:28.888Z"
      },
      {
        "duration": 1821,
        "start_time": "2023-06-12T15:54:17.914Z"
      },
      {
        "duration": 31,
        "start_time": "2023-06-12T15:54:29.012Z"
      },
      {
        "duration": 4484,
        "start_time": "2023-06-12T15:58:49.082Z"
      },
      {
        "duration": 12,
        "start_time": "2023-06-12T16:06:19.560Z"
      },
      {
        "duration": 5720,
        "start_time": "2023-06-12T16:06:40.177Z"
      },
      {
        "duration": 4202,
        "start_time": "2023-06-12T16:06:52.660Z"
      },
      {
        "duration": 3736,
        "start_time": "2023-06-12T16:34:43.001Z"
      },
      {
        "duration": 74,
        "start_time": "2023-06-12T22:06:59.629Z"
      },
      {
        "duration": 4077,
        "start_time": "2023-06-12T22:07:06.902Z"
      },
      {
        "duration": 12116,
        "start_time": "2023-06-12T22:07:10.983Z"
      },
      {
        "duration": 4309,
        "start_time": "2023-06-12T22:07:23.101Z"
      },
      {
        "duration": 3871,
        "start_time": "2023-06-12T22:07:27.414Z"
      },
      {
        "duration": 3775,
        "start_time": "2023-06-12T22:07:31.288Z"
      },
      {
        "duration": 576,
        "start_time": "2023-06-12T22:07:35.065Z"
      },
      {
        "duration": 46,
        "start_time": "2023-06-12T22:07:35.644Z"
      },
      {
        "duration": 29,
        "start_time": "2023-06-12T22:07:35.693Z"
      },
      {
        "duration": 30,
        "start_time": "2023-06-12T22:07:35.741Z"
      },
      {
        "duration": 19,
        "start_time": "2023-06-12T22:07:35.773Z"
      },
      {
        "duration": 69,
        "start_time": "2023-06-12T22:07:35.794Z"
      },
      {
        "duration": 33,
        "start_time": "2023-06-12T22:07:35.865Z"
      },
      {
        "duration": 17,
        "start_time": "2023-06-12T22:07:35.901Z"
      },
      {
        "duration": 88,
        "start_time": "2023-06-12T22:07:35.921Z"
      },
      {
        "duration": 53,
        "start_time": "2023-06-12T22:07:36.010Z"
      },
      {
        "duration": 56,
        "start_time": "2023-06-12T22:07:36.065Z"
      },
      {
        "duration": 34,
        "start_time": "2023-06-12T22:07:36.123Z"
      },
      {
        "duration": 13,
        "start_time": "2023-06-12T22:07:36.160Z"
      },
      {
        "duration": 24,
        "start_time": "2023-06-12T22:07:36.175Z"
      },
      {
        "duration": 18,
        "start_time": "2023-06-12T22:07:36.201Z"
      },
      {
        "duration": 7,
        "start_time": "2023-06-12T22:07:36.222Z"
      },
      {
        "duration": 10,
        "start_time": "2023-06-12T22:07:36.232Z"
      },
      {
        "duration": 13,
        "start_time": "2023-06-12T22:07:36.245Z"
      },
      {
        "duration": 14,
        "start_time": "2023-06-12T22:07:36.260Z"
      },
      {
        "duration": 26,
        "start_time": "2023-06-12T22:07:36.276Z"
      },
      {
        "duration": 9,
        "start_time": "2023-06-12T22:07:36.304Z"
      },
      {
        "duration": 2610,
        "start_time": "2023-06-12T22:07:36.315Z"
      },
      {
        "duration": 7023,
        "start_time": "2023-06-12T22:07:38.928Z"
      },
      {
        "duration": 7,
        "start_time": "2023-06-12T22:07:45.953Z"
      },
      {
        "duration": 23,
        "start_time": "2023-06-12T22:07:45.962Z"
      },
      {
        "duration": 30,
        "start_time": "2023-06-12T22:07:45.987Z"
      },
      {
        "duration": 27,
        "start_time": "2023-06-12T22:07:46.024Z"
      },
      {
        "duration": 20883,
        "start_time": "2023-06-12T22:07:46.053Z"
      },
      {
        "duration": 62,
        "start_time": "2023-06-12T22:08:06.941Z"
      },
      {
        "duration": 55,
        "start_time": "2023-06-12T22:08:07.005Z"
      },
      {
        "duration": 81,
        "start_time": "2023-06-12T22:08:07.062Z"
      },
      {
        "duration": 38,
        "start_time": "2023-06-12T22:08:07.145Z"
      },
      {
        "duration": 14,
        "start_time": "2023-06-12T22:08:07.185Z"
      },
      {
        "duration": 5,
        "start_time": "2023-06-12T22:26:06.189Z"
      },
      {
        "duration": 5,
        "start_time": "2023-06-12T22:32:00.356Z"
      },
      {
        "duration": 5,
        "start_time": "2023-06-12T22:32:00.515Z"
      },
      {
        "duration": 8,
        "start_time": "2023-06-12T22:37:38.222Z"
      },
      {
        "duration": 9,
        "start_time": "2023-06-12T22:41:47.361Z"
      },
      {
        "duration": 150,
        "start_time": "2023-06-12T22:42:11.864Z"
      },
      {
        "duration": 28,
        "start_time": "2023-06-12T22:42:16.953Z"
      },
      {
        "duration": 10,
        "start_time": "2023-06-12T22:43:52.599Z"
      },
      {
        "duration": 28,
        "start_time": "2023-06-12T22:43:55.002Z"
      },
      {
        "duration": 8,
        "start_time": "2023-06-12T22:44:27.481Z"
      },
      {
        "duration": 34,
        "start_time": "2023-06-12T22:44:29.622Z"
      },
      {
        "duration": 5,
        "start_time": "2023-06-12T22:44:34.982Z"
      },
      {
        "duration": 3,
        "start_time": "2023-06-12T22:44:35.166Z"
      },
      {
        "duration": 7,
        "start_time": "2023-06-12T22:44:37.191Z"
      },
      {
        "duration": 26,
        "start_time": "2023-06-12T22:44:39.935Z"
      },
      {
        "duration": 18,
        "start_time": "2023-06-12T22:46:53.056Z"
      },
      {
        "duration": 10,
        "start_time": "2023-06-12T22:47:30.767Z"
      },
      {
        "duration": 1811,
        "start_time": "2023-06-12T22:47:32.854Z"
      },
      {
        "duration": 1558,
        "start_time": "2023-06-12T22:49:23.363Z"
      },
      {
        "duration": 2767,
        "start_time": "2023-06-12T22:49:30.255Z"
      },
      {
        "duration": 2608,
        "start_time": "2023-06-12T22:49:33.024Z"
      },
      {
        "duration": 2811,
        "start_time": "2023-06-12T22:49:35.635Z"
      },
      {
        "duration": 2772,
        "start_time": "2023-06-12T22:49:38.455Z"
      },
      {
        "duration": 11,
        "start_time": "2023-06-12T22:49:41.230Z"
      },
      {
        "duration": 795,
        "start_time": "2023-06-12T22:49:41.244Z"
      },
      {
        "duration": 44,
        "start_time": "2023-06-12T22:49:42.041Z"
      },
      {
        "duration": 42,
        "start_time": "2023-06-12T22:49:42.087Z"
      },
      {
        "duration": 66,
        "start_time": "2023-06-12T22:49:42.131Z"
      },
      {
        "duration": 21,
        "start_time": "2023-06-12T22:49:42.201Z"
      },
      {
        "duration": 47,
        "start_time": "2023-06-12T22:49:42.224Z"
      },
      {
        "duration": 43,
        "start_time": "2023-06-12T22:49:42.273Z"
      },
      {
        "duration": 11,
        "start_time": "2023-06-12T22:49:42.319Z"
      },
      {
        "duration": 85,
        "start_time": "2023-06-12T22:49:42.332Z"
      },
      {
        "duration": 60,
        "start_time": "2023-06-12T22:49:42.420Z"
      },
      {
        "duration": 70,
        "start_time": "2023-06-12T22:49:42.483Z"
      },
      {
        "duration": 47,
        "start_time": "2023-06-12T22:49:42.561Z"
      },
      {
        "duration": 54,
        "start_time": "2023-06-12T22:49:42.610Z"
      },
      {
        "duration": 18,
        "start_time": "2023-06-12T22:49:42.668Z"
      },
      {
        "duration": 23,
        "start_time": "2023-06-12T22:49:42.688Z"
      },
      {
        "duration": 14,
        "start_time": "2023-06-12T22:49:42.713Z"
      },
      {
        "duration": 25,
        "start_time": "2023-06-12T22:49:42.729Z"
      },
      {
        "duration": 40,
        "start_time": "2023-06-12T22:49:42.756Z"
      },
      {
        "duration": 18,
        "start_time": "2023-06-12T22:49:42.798Z"
      },
      {
        "duration": 40,
        "start_time": "2023-06-12T22:49:42.819Z"
      },
      {
        "duration": 50,
        "start_time": "2023-06-12T22:49:42.861Z"
      },
      {
        "duration": 3376,
        "start_time": "2023-06-12T22:49:42.914Z"
      },
      {
        "duration": 7960,
        "start_time": "2023-06-12T22:49:46.295Z"
      },
      {
        "duration": 10,
        "start_time": "2023-06-12T22:49:54.262Z"
      },
      {
        "duration": 56,
        "start_time": "2023-06-12T22:49:54.274Z"
      },
      {
        "duration": 57,
        "start_time": "2023-06-12T22:49:54.332Z"
      },
      {
        "duration": 57,
        "start_time": "2023-06-12T22:49:54.392Z"
      },
      {
        "duration": 24009,
        "start_time": "2023-06-12T22:49:54.451Z"
      },
      {
        "duration": 67,
        "start_time": "2023-06-12T22:50:18.469Z"
      },
      {
        "duration": 43,
        "start_time": "2023-06-12T22:50:18.548Z"
      },
      {
        "duration": 88,
        "start_time": "2023-06-12T22:50:18.594Z"
      },
      {
        "duration": 82,
        "start_time": "2023-06-12T22:50:18.684Z"
      },
      {
        "duration": 30,
        "start_time": "2023-06-12T22:50:18.772Z"
      },
      {
        "duration": 42,
        "start_time": "2023-06-12T22:50:18.806Z"
      },
      {
        "duration": 62,
        "start_time": "2023-06-12T22:50:18.853Z"
      },
      {
        "duration": 63,
        "start_time": "2023-06-12T22:50:18.917Z"
      },
      {
        "duration": 1510,
        "start_time": "2023-06-12T22:50:18.983Z"
      },
      {
        "duration": 1718,
        "start_time": "2023-06-12T22:50:29.287Z"
      },
      {
        "duration": 5,
        "start_time": "2023-06-12T22:50:40.532Z"
      },
      {
        "duration": 1633,
        "start_time": "2023-06-12T22:51:58.715Z"
      },
      {
        "duration": 37,
        "start_time": "2023-06-12T22:52:11.141Z"
      },
      {
        "duration": 34,
        "start_time": "2023-06-12T22:52:13.371Z"
      },
      {
        "duration": 1512,
        "start_time": "2023-06-12T22:52:42.355Z"
      },
      {
        "duration": 5,
        "start_time": "2023-06-12T23:14:11.466Z"
      },
      {
        "duration": 3,
        "start_time": "2023-06-12T23:14:13.893Z"
      },
      {
        "duration": 6,
        "start_time": "2023-06-12T23:14:14.050Z"
      },
      {
        "duration": 6,
        "start_time": "2023-06-12T23:14:18.422Z"
      },
      {
        "duration": 3064,
        "start_time": "2023-06-12T23:14:20.696Z"
      },
      {
        "duration": 2445,
        "start_time": "2023-06-12T23:15:27.169Z"
      },
      {
        "duration": 72,
        "start_time": "2023-06-12T23:15:38.008Z"
      },
      {
        "duration": 4,
        "start_time": "2023-06-12T23:16:51.103Z"
      },
      {
        "duration": 4,
        "start_time": "2023-06-12T23:16:51.330Z"
      },
      {
        "duration": 8,
        "start_time": "2023-06-12T23:16:58.822Z"
      },
      {
        "duration": 46,
        "start_time": "2023-06-12T23:17:05.369Z"
      },
      {
        "duration": 7,
        "start_time": "2023-06-12T23:18:46.344Z"
      },
      {
        "duration": 50,
        "start_time": "2023-06-12T23:18:48.567Z"
      },
      {
        "duration": 6,
        "start_time": "2023-06-12T23:20:11.138Z"
      },
      {
        "duration": 48,
        "start_time": "2023-06-12T23:20:13.204Z"
      },
      {
        "duration": 5,
        "start_time": "2023-06-12T23:33:06.556Z"
      },
      {
        "duration": 5,
        "start_time": "2023-06-12T23:33:06.787Z"
      },
      {
        "duration": 8,
        "start_time": "2023-06-12T23:33:07.190Z"
      },
      {
        "duration": 141,
        "start_time": "2023-06-12T23:33:15.875Z"
      },
      {
        "duration": 417,
        "start_time": "2023-06-12T23:33:21.261Z"
      },
      {
        "duration": 7,
        "start_time": "2023-06-12T23:36:23.499Z"
      },
      {
        "duration": 577,
        "start_time": "2023-06-12T23:36:25.481Z"
      },
      {
        "duration": 41,
        "start_time": "2023-06-12T23:54:58.363Z"
      },
      {
        "duration": 39,
        "start_time": "2023-06-12T23:55:05.761Z"
      },
      {
        "duration": 4,
        "start_time": "2023-06-12T23:56:27.111Z"
      },
      {
        "duration": 5,
        "start_time": "2023-06-12T23:56:43.221Z"
      },
      {
        "duration": 10,
        "start_time": "2023-06-12T23:59:52.800Z"
      },
      {
        "duration": 105,
        "start_time": "2023-06-12T23:59:57.559Z"
      },
      {
        "duration": 132,
        "start_time": "2023-06-13T00:04:50.866Z"
      },
      {
        "duration": 113,
        "start_time": "2023-06-13T00:06:46.665Z"
      },
      {
        "duration": 7,
        "start_time": "2023-06-13T00:08:14.626Z"
      },
      {
        "duration": 47,
        "start_time": "2023-06-13T00:08:16.756Z"
      },
      {
        "duration": 133,
        "start_time": "2023-06-13T00:08:25.284Z"
      },
      {
        "duration": 10,
        "start_time": "2023-06-13T00:29:22.917Z"
      },
      {
        "duration": 3,
        "start_time": "2023-06-13T00:29:23.950Z"
      },
      {
        "duration": 2135,
        "start_time": "2023-06-13T00:29:26.120Z"
      },
      {
        "duration": 11,
        "start_time": "2023-06-13T00:43:28.104Z"
      },
      {
        "duration": 1844,
        "start_time": "2023-06-13T00:43:30.878Z"
      },
      {
        "duration": 12,
        "start_time": "2023-06-13T00:45:23.320Z"
      },
      {
        "duration": 1905,
        "start_time": "2023-06-13T00:45:25.866Z"
      },
      {
        "duration": 5872,
        "start_time": "2023-06-13T00:53:33.476Z"
      },
      {
        "duration": 13,
        "start_time": "2023-06-13T00:59:06.867Z"
      },
      {
        "duration": 163,
        "start_time": "2023-06-13T00:59:49.864Z"
      },
      {
        "duration": 206088,
        "start_time": "2023-06-13T02:05:04.063Z"
      },
      {
        "duration": 0,
        "start_time": "2023-06-13T02:08:32.900Z"
      },
      {
        "duration": 0,
        "start_time": "2023-06-13T02:08:32.901Z"
      },
      {
        "duration": 0,
        "start_time": "2023-06-13T02:08:32.902Z"
      },
      {
        "duration": 140,
        "start_time": "2023-06-13T06:12:27.728Z"
      },
      {
        "duration": 4,
        "start_time": "2023-06-13T06:14:28.531Z"
      },
      {
        "duration": 776,
        "start_time": "2023-06-13T06:14:58.874Z"
      },
      {
        "duration": 5,
        "start_time": "2023-06-13T06:15:13.220Z"
      },
      {
        "duration": 891,
        "start_time": "2023-06-13T06:16:31.925Z"
      },
      {
        "duration": 23,
        "start_time": "2023-06-13T06:23:23.388Z"
      },
      {
        "duration": 3020,
        "start_time": "2023-06-13T06:23:35.820Z"
      },
      {
        "duration": 3202,
        "start_time": "2023-06-13T06:23:38.859Z"
      },
      {
        "duration": 3292,
        "start_time": "2023-06-13T06:23:42.064Z"
      },
      {
        "duration": 3301,
        "start_time": "2023-06-13T06:23:45.365Z"
      },
      {
        "duration": 19,
        "start_time": "2023-06-13T06:23:48.670Z"
      },
      {
        "duration": 938,
        "start_time": "2023-06-13T06:23:48.694Z"
      },
      {
        "duration": 26,
        "start_time": "2023-06-13T06:23:49.634Z"
      },
      {
        "duration": 51,
        "start_time": "2023-06-13T06:23:49.662Z"
      },
      {
        "duration": 40,
        "start_time": "2023-06-13T06:23:49.715Z"
      },
      {
        "duration": 21,
        "start_time": "2023-06-13T06:23:49.762Z"
      },
      {
        "duration": 73,
        "start_time": "2023-06-13T06:23:49.785Z"
      },
      {
        "duration": 36,
        "start_time": "2023-06-13T06:23:49.863Z"
      },
      {
        "duration": 21,
        "start_time": "2023-06-13T06:23:49.902Z"
      },
      {
        "duration": 125,
        "start_time": "2023-06-13T06:23:49.928Z"
      },
      {
        "duration": 49,
        "start_time": "2023-06-13T06:23:50.058Z"
      },
      {
        "duration": 80,
        "start_time": "2023-06-13T06:23:50.110Z"
      },
      {
        "duration": 40,
        "start_time": "2023-06-13T06:23:50.196Z"
      },
      {
        "duration": 60,
        "start_time": "2023-06-13T06:23:50.239Z"
      },
      {
        "duration": 12,
        "start_time": "2023-06-13T06:23:50.301Z"
      },
      {
        "duration": 20,
        "start_time": "2023-06-13T06:23:50.316Z"
      },
      {
        "duration": 46,
        "start_time": "2023-06-13T06:23:50.342Z"
      },
      {
        "duration": 125,
        "start_time": "2023-06-13T06:23:50.394Z"
      },
      {
        "duration": 81,
        "start_time": "2023-06-13T06:23:50.522Z"
      },
      {
        "duration": 31,
        "start_time": "2023-06-13T06:23:50.606Z"
      },
      {
        "duration": 63,
        "start_time": "2023-06-13T06:23:50.639Z"
      },
      {
        "duration": 15,
        "start_time": "2023-06-13T06:23:50.705Z"
      },
      {
        "duration": 2861,
        "start_time": "2023-06-13T06:23:50.722Z"
      },
      {
        "duration": 8408,
        "start_time": "2023-06-13T06:23:53.587Z"
      },
      {
        "duration": 14,
        "start_time": "2023-06-13T06:24:01.997Z"
      },
      {
        "duration": 94,
        "start_time": "2023-06-13T06:24:02.014Z"
      },
      {
        "duration": 227,
        "start_time": "2023-06-13T06:24:02.112Z"
      },
      {
        "duration": 98,
        "start_time": "2023-06-13T06:24:02.348Z"
      },
      {
        "duration": 22265,
        "start_time": "2023-06-13T06:24:02.448Z"
      },
      {
        "duration": 84,
        "start_time": "2023-06-13T06:24:24.715Z"
      },
      {
        "duration": 50,
        "start_time": "2023-06-13T06:25:45.870Z"
      },
      {
        "duration": 3211,
        "start_time": "2023-06-13T06:25:51.904Z"
      },
      {
        "duration": 3252,
        "start_time": "2023-06-13T06:25:55.117Z"
      },
      {
        "duration": 3450,
        "start_time": "2023-06-13T06:25:58.370Z"
      },
      {
        "duration": 3820,
        "start_time": "2023-06-13T06:26:01.823Z"
      },
      {
        "duration": 25,
        "start_time": "2023-06-13T06:26:05.646Z"
      },
      {
        "duration": 874,
        "start_time": "2023-06-13T06:26:05.674Z"
      },
      {
        "duration": 46,
        "start_time": "2023-06-13T06:26:06.550Z"
      },
      {
        "duration": 179,
        "start_time": "2023-06-13T06:26:06.602Z"
      },
      {
        "duration": 202,
        "start_time": "2023-06-13T06:26:06.787Z"
      },
      {
        "duration": 140,
        "start_time": "2023-06-13T06:26:06.996Z"
      },
      {
        "duration": 231,
        "start_time": "2023-06-13T06:26:07.144Z"
      },
      {
        "duration": 111,
        "start_time": "2023-06-13T06:26:07.385Z"
      },
      {
        "duration": 291,
        "start_time": "2023-06-13T06:26:07.504Z"
      },
      {
        "duration": 301,
        "start_time": "2023-06-13T06:26:07.798Z"
      },
      {
        "duration": 54,
        "start_time": "2023-06-13T06:26:08.101Z"
      },
      {
        "duration": 174,
        "start_time": "2023-06-13T06:26:08.160Z"
      },
      {
        "duration": 99,
        "start_time": "2023-06-13T06:26:08.340Z"
      },
      {
        "duration": 53,
        "start_time": "2023-06-13T06:26:08.449Z"
      },
      {
        "duration": 153,
        "start_time": "2023-06-13T06:26:08.508Z"
      },
      {
        "duration": 56,
        "start_time": "2023-06-13T06:26:08.667Z"
      },
      {
        "duration": 142,
        "start_time": "2023-06-13T06:26:08.733Z"
      },
      {
        "duration": 185,
        "start_time": "2023-06-13T06:26:08.890Z"
      },
      {
        "duration": 104,
        "start_time": "2023-06-13T06:26:09.090Z"
      },
      {
        "duration": 177,
        "start_time": "2023-06-13T06:26:09.208Z"
      },
      {
        "duration": 186,
        "start_time": "2023-06-13T06:26:09.389Z"
      },
      {
        "duration": 144,
        "start_time": "2023-06-13T06:26:09.578Z"
      },
      {
        "duration": 3632,
        "start_time": "2023-06-13T06:26:09.725Z"
      },
      {
        "duration": 8533,
        "start_time": "2023-06-13T06:26:13.372Z"
      },
      {
        "duration": 11,
        "start_time": "2023-06-13T06:26:21.908Z"
      },
      {
        "duration": 27,
        "start_time": "2023-06-13T06:26:21.926Z"
      },
      {
        "duration": 83,
        "start_time": "2023-06-13T06:26:21.955Z"
      },
      {
        "duration": 65,
        "start_time": "2023-06-13T06:26:22.044Z"
      },
      {
        "duration": 26443,
        "start_time": "2023-06-13T06:26:22.114Z"
      },
      {
        "duration": 25,
        "start_time": "2023-06-13T06:26:53.100Z"
      },
      {
        "duration": 37,
        "start_time": "2023-06-13T06:26:53.439Z"
      },
      {
        "duration": 25,
        "start_time": "2023-06-13T06:29:59.720Z"
      },
      {
        "duration": 3051,
        "start_time": "2023-06-13T06:30:11.834Z"
      },
      {
        "duration": 3098,
        "start_time": "2023-06-13T06:30:14.895Z"
      },
      {
        "duration": 3216,
        "start_time": "2023-06-13T06:30:17.997Z"
      },
      {
        "duration": 3170,
        "start_time": "2023-06-13T06:30:21.216Z"
      },
      {
        "duration": 12,
        "start_time": "2023-06-13T06:30:24.396Z"
      },
      {
        "duration": 450,
        "start_time": "2023-06-13T06:30:24.411Z"
      },
      {
        "duration": 37,
        "start_time": "2023-06-13T06:30:24.869Z"
      },
      {
        "duration": 102,
        "start_time": "2023-06-13T06:30:24.913Z"
      },
      {
        "duration": 65,
        "start_time": "2023-06-13T06:30:25.019Z"
      },
      {
        "duration": 69,
        "start_time": "2023-06-13T06:30:25.090Z"
      },
      {
        "duration": 96,
        "start_time": "2023-06-13T06:30:25.162Z"
      },
      {
        "duration": 78,
        "start_time": "2023-06-13T06:30:25.260Z"
      },
      {
        "duration": 14,
        "start_time": "2023-06-13T06:30:25.344Z"
      },
      {
        "duration": 136,
        "start_time": "2023-06-13T06:30:25.362Z"
      },
      {
        "duration": 36,
        "start_time": "2023-06-13T06:30:25.503Z"
      },
      {
        "duration": 72,
        "start_time": "2023-06-13T06:30:25.548Z"
      },
      {
        "duration": 25,
        "start_time": "2023-06-13T06:30:25.622Z"
      },
      {
        "duration": 66,
        "start_time": "2023-06-13T06:30:25.652Z"
      },
      {
        "duration": 19,
        "start_time": "2023-06-13T06:30:25.721Z"
      },
      {
        "duration": 58,
        "start_time": "2023-06-13T06:30:25.743Z"
      },
      {
        "duration": 14,
        "start_time": "2023-06-13T06:30:25.804Z"
      },
      {
        "duration": 11,
        "start_time": "2023-06-13T06:30:25.821Z"
      },
      {
        "duration": 66,
        "start_time": "2023-06-13T06:30:25.834Z"
      },
      {
        "duration": 13,
        "start_time": "2023-06-13T06:30:25.903Z"
      },
      {
        "duration": 16,
        "start_time": "2023-06-13T06:30:25.918Z"
      },
      {
        "duration": 72,
        "start_time": "2023-06-13T06:30:25.936Z"
      },
      {
        "duration": 2928,
        "start_time": "2023-06-13T06:30:26.010Z"
      },
      {
        "duration": 8188,
        "start_time": "2023-06-13T06:30:28.941Z"
      },
      {
        "duration": 22,
        "start_time": "2023-06-13T06:30:37.131Z"
      },
      {
        "duration": 66,
        "start_time": "2023-06-13T06:30:37.166Z"
      },
      {
        "duration": 76,
        "start_time": "2023-06-13T06:30:37.235Z"
      },
      {
        "duration": 38,
        "start_time": "2023-06-13T06:30:37.313Z"
      },
      {
        "duration": 25307,
        "start_time": "2023-06-13T06:30:37.354Z"
      },
      {
        "duration": 42,
        "start_time": "2023-06-13T06:32:23.240Z"
      },
      {
        "duration": 2999,
        "start_time": "2023-06-13T06:32:27.189Z"
      },
      {
        "duration": 2926,
        "start_time": "2023-06-13T06:32:30.192Z"
      },
      {
        "duration": 2677,
        "start_time": "2023-06-13T06:32:33.120Z"
      },
      {
        "duration": 2581,
        "start_time": "2023-06-13T06:32:35.800Z"
      },
      {
        "duration": 7,
        "start_time": "2023-06-13T06:32:38.385Z"
      },
      {
        "duration": 390,
        "start_time": "2023-06-13T06:32:38.394Z"
      },
      {
        "duration": 33,
        "start_time": "2023-06-13T06:32:38.787Z"
      },
      {
        "duration": 31,
        "start_time": "2023-06-13T06:32:38.822Z"
      },
      {
        "duration": 135,
        "start_time": "2023-06-13T06:32:38.858Z"
      },
      {
        "duration": 116,
        "start_time": "2023-06-13T06:32:38.995Z"
      },
      {
        "duration": 56,
        "start_time": "2023-06-13T06:32:39.113Z"
      },
      {
        "duration": 61,
        "start_time": "2023-06-13T06:32:39.173Z"
      },
      {
        "duration": 27,
        "start_time": "2023-06-13T06:32:39.236Z"
      },
      {
        "duration": 99,
        "start_time": "2023-06-13T06:32:39.278Z"
      },
      {
        "duration": 38,
        "start_time": "2023-06-13T06:32:39.379Z"
      },
      {
        "duration": 72,
        "start_time": "2023-06-13T06:32:39.419Z"
      },
      {
        "duration": 28,
        "start_time": "2023-06-13T06:32:39.494Z"
      },
      {
        "duration": 21,
        "start_time": "2023-06-13T06:32:39.524Z"
      },
      {
        "duration": 36,
        "start_time": "2023-06-13T06:32:39.555Z"
      },
      {
        "duration": 20,
        "start_time": "2023-06-13T06:32:39.593Z"
      },
      {
        "duration": 8,
        "start_time": "2023-06-13T06:32:39.615Z"
      },
      {
        "duration": 8,
        "start_time": "2023-06-13T06:32:39.625Z"
      },
      {
        "duration": 41,
        "start_time": "2023-06-13T06:32:39.635Z"
      },
      {
        "duration": 15,
        "start_time": "2023-06-13T06:32:39.678Z"
      },
      {
        "duration": 16,
        "start_time": "2023-06-13T06:32:39.696Z"
      },
      {
        "duration": 12,
        "start_time": "2023-06-13T06:32:39.714Z"
      },
      {
        "duration": 2571,
        "start_time": "2023-06-13T06:32:39.728Z"
      },
      {
        "duration": 6894,
        "start_time": "2023-06-13T06:32:42.301Z"
      },
      {
        "duration": 8,
        "start_time": "2023-06-13T06:32:49.197Z"
      },
      {
        "duration": 29,
        "start_time": "2023-06-13T06:32:49.207Z"
      },
      {
        "duration": 19,
        "start_time": "2023-06-13T06:32:49.238Z"
      },
      {
        "duration": 46,
        "start_time": "2023-06-13T06:32:49.266Z"
      },
      {
        "duration": 22600,
        "start_time": "2023-06-13T06:32:49.315Z"
      },
      {
        "duration": 61,
        "start_time": "2023-06-13T06:33:14.972Z"
      },
      {
        "duration": 34,
        "start_time": "2023-06-13T06:33:15.902Z"
      },
      {
        "duration": 62,
        "start_time": "2023-06-13T06:33:16.677Z"
      },
      {
        "duration": 43,
        "start_time": "2023-06-13T06:33:17.132Z"
      },
      {
        "duration": 599233,
        "start_time": "2023-06-13T06:33:26.674Z"
      },
      {
        "duration": 6,
        "start_time": "2023-06-13T06:43:25.911Z"
      },
      {
        "duration": 3383503,
        "start_time": "2023-06-13T06:43:25.920Z"
      },
      {
        "duration": 0,
        "start_time": "2023-06-13T07:39:49.425Z"
      },
      {
        "duration": 0,
        "start_time": "2023-06-13T07:39:49.437Z"
      },
      {
        "duration": 0,
        "start_time": "2023-06-13T07:39:49.439Z"
      },
      {
        "duration": 53,
        "start_time": "2023-06-13T07:39:53.008Z"
      },
      {
        "duration": 6666,
        "start_time": "2023-06-13T07:40:43.121Z"
      },
      {
        "duration": 92,
        "start_time": "2023-06-13T07:40:53.708Z"
      },
      {
        "duration": 43,
        "start_time": "2023-06-13T07:41:03.865Z"
      },
      {
        "duration": 6,
        "start_time": "2023-06-13T07:42:13.077Z"
      },
      {
        "duration": 18,
        "start_time": "2023-06-13T07:42:22.922Z"
      },
      {
        "duration": 8,
        "start_time": "2023-06-13T07:43:04.612Z"
      },
      {
        "duration": 42,
        "start_time": "2023-06-13T07:43:11.378Z"
      },
      {
        "duration": 20,
        "start_time": "2023-06-13T08:00:17.091Z"
      },
      {
        "duration": 300,
        "start_time": "2023-06-13T08:21:54.685Z"
      },
      {
        "duration": 63,
        "start_time": "2023-06-13T08:31:09.140Z"
      },
      {
        "duration": 22,
        "start_time": "2023-06-13T08:31:20.621Z"
      },
      {
        "duration": 3521,
        "start_time": "2023-06-13T09:24:05.388Z"
      },
      {
        "duration": 4238,
        "start_time": "2023-06-13T09:24:08.911Z"
      },
      {
        "duration": 4473,
        "start_time": "2023-06-13T09:24:13.150Z"
      },
      {
        "duration": 3632,
        "start_time": "2023-06-13T09:24:17.631Z"
      },
      {
        "duration": 3705,
        "start_time": "2023-06-13T09:24:21.266Z"
      },
      {
        "duration": 18087,
        "start_time": "2023-06-13T09:24:24.973Z"
      },
      {
        "duration": 760,
        "start_time": "2023-06-13T09:24:43.069Z"
      },
      {
        "duration": 42,
        "start_time": "2023-06-13T09:24:43.832Z"
      },
      {
        "duration": 307,
        "start_time": "2023-06-13T09:24:43.878Z"
      },
      {
        "duration": 670,
        "start_time": "2023-06-13T09:24:44.189Z"
      },
      {
        "duration": 129,
        "start_time": "2023-06-13T09:24:44.880Z"
      },
      {
        "duration": 283,
        "start_time": "2023-06-13T09:24:45.021Z"
      },
      {
        "duration": 199,
        "start_time": "2023-06-13T09:24:45.307Z"
      },
      {
        "duration": 264,
        "start_time": "2023-06-13T09:24:45.519Z"
      },
      {
        "duration": 491,
        "start_time": "2023-06-13T09:24:45.785Z"
      },
      {
        "duration": 177,
        "start_time": "2023-06-13T09:24:46.278Z"
      },
      {
        "duration": 279,
        "start_time": "2023-06-13T09:24:46.464Z"
      },
      {
        "duration": 192,
        "start_time": "2023-06-13T09:24:46.760Z"
      },
      {
        "duration": 153,
        "start_time": "2023-06-13T09:24:46.966Z"
      },
      {
        "duration": 184,
        "start_time": "2023-06-13T09:24:47.132Z"
      },
      {
        "duration": 331,
        "start_time": "2023-06-13T09:24:47.326Z"
      },
      {
        "duration": 237,
        "start_time": "2023-06-13T09:24:47.660Z"
      },
      {
        "duration": 194,
        "start_time": "2023-06-13T09:24:47.899Z"
      },
      {
        "duration": 291,
        "start_time": "2023-06-13T09:24:48.096Z"
      },
      {
        "duration": 186,
        "start_time": "2023-06-13T09:24:48.398Z"
      },
      {
        "duration": 233,
        "start_time": "2023-06-13T09:24:48.587Z"
      },
      {
        "duration": 216,
        "start_time": "2023-06-13T09:24:48.827Z"
      },
      {
        "duration": 4315,
        "start_time": "2023-06-13T09:24:49.046Z"
      },
      {
        "duration": 12102,
        "start_time": "2023-06-13T09:24:53.364Z"
      },
      {
        "duration": 14,
        "start_time": "2023-06-13T09:25:05.473Z"
      },
      {
        "duration": 246,
        "start_time": "2023-06-13T09:25:05.494Z"
      },
      {
        "duration": 271,
        "start_time": "2023-06-13T09:25:05.752Z"
      },
      {
        "duration": 300,
        "start_time": "2023-06-13T09:25:06.035Z"
      },
      {
        "duration": 29596,
        "start_time": "2023-06-13T09:25:06.351Z"
      },
      {
        "duration": 102,
        "start_time": "2023-06-13T09:25:35.954Z"
      },
      {
        "duration": 142,
        "start_time": "2023-06-13T09:25:36.064Z"
      },
      {
        "duration": 275,
        "start_time": "2023-06-13T09:25:36.213Z"
      },
      {
        "duration": 144,
        "start_time": "2023-06-13T09:25:36.496Z"
      },
      {
        "duration": 122,
        "start_time": "2023-06-13T09:25:36.649Z"
      },
      {
        "duration": 261,
        "start_time": "2023-06-13T09:25:36.779Z"
      },
      {
        "duration": 5970,
        "start_time": "2023-06-13T09:25:37.050Z"
      },
      {
        "duration": 0,
        "start_time": "2023-06-13T09:25:43.023Z"
      },
      {
        "duration": 0,
        "start_time": "2023-06-13T09:25:43.024Z"
      },
      {
        "duration": 0,
        "start_time": "2023-06-13T09:25:43.025Z"
      },
      {
        "duration": 0,
        "start_time": "2023-06-13T09:25:43.028Z"
      },
      {
        "duration": 0,
        "start_time": "2023-06-13T09:25:43.038Z"
      },
      {
        "duration": 0,
        "start_time": "2023-06-13T09:25:43.039Z"
      },
      {
        "duration": 0,
        "start_time": "2023-06-13T09:25:43.043Z"
      },
      {
        "duration": 0,
        "start_time": "2023-06-13T09:25:43.044Z"
      },
      {
        "duration": 0,
        "start_time": "2023-06-13T09:25:43.046Z"
      },
      {
        "duration": 0,
        "start_time": "2023-06-13T09:25:43.051Z"
      },
      {
        "duration": 54,
        "start_time": "2023-06-13T09:25:53.539Z"
      },
      {
        "duration": 698750,
        "start_time": "2023-06-13T09:27:14.687Z"
      },
      {
        "duration": 191140,
        "start_time": "2023-06-13T09:42:16.084Z"
      },
      {
        "duration": 742,
        "start_time": "2023-06-13T09:45:27.233Z"
      },
      {
        "duration": 0,
        "start_time": "2023-06-13T11:14:30.278Z"
      },
      {
        "duration": 0,
        "start_time": "2023-06-13T11:14:30.279Z"
      },
      {
        "duration": 100,
        "start_time": "2023-06-13T11:18:07.713Z"
      },
      {
        "duration": 22884,
        "start_time": "2023-06-13T11:18:27.225Z"
      },
      {
        "duration": 3,
        "start_time": "2023-06-13T11:24:38.509Z"
      },
      {
        "duration": 42,
        "start_time": "2023-06-13T11:26:14.607Z"
      },
      {
        "duration": 102,
        "start_time": "2023-06-13T11:26:22.192Z"
      },
      {
        "duration": 33,
        "start_time": "2023-06-13T11:26:38.304Z"
      },
      {
        "duration": 22,
        "start_time": "2023-06-13T11:28:32.103Z"
      },
      {
        "duration": 22640,
        "start_time": "2023-06-13T11:29:56.826Z"
      },
      {
        "duration": 22099,
        "start_time": "2023-06-13T11:31:16.528Z"
      },
      {
        "duration": 23622,
        "start_time": "2023-06-13T11:32:37.009Z"
      },
      {
        "duration": 24578,
        "start_time": "2023-06-13T11:33:01.383Z"
      },
      {
        "duration": 2228,
        "start_time": "2023-06-13T11:36:50.432Z"
      },
      {
        "duration": 2293,
        "start_time": "2023-06-13T11:36:52.663Z"
      },
      {
        "duration": 2331,
        "start_time": "2023-06-13T11:36:54.962Z"
      },
      {
        "duration": 2902,
        "start_time": "2023-06-13T11:36:57.296Z"
      },
      {
        "duration": 2602,
        "start_time": "2023-06-13T11:37:00.201Z"
      },
      {
        "duration": 4410,
        "start_time": "2023-06-13T11:37:02.806Z"
      },
      {
        "duration": 375,
        "start_time": "2023-06-13T11:37:07.218Z"
      },
      {
        "duration": 23,
        "start_time": "2023-06-13T11:37:07.595Z"
      },
      {
        "duration": 20,
        "start_time": "2023-06-13T11:37:07.622Z"
      },
      {
        "duration": 38,
        "start_time": "2023-06-13T11:37:07.646Z"
      },
      {
        "duration": 13,
        "start_time": "2023-06-13T11:37:07.685Z"
      },
      {
        "duration": 27,
        "start_time": "2023-06-13T11:37:07.699Z"
      },
      {
        "duration": 37,
        "start_time": "2023-06-13T11:37:07.728Z"
      },
      {
        "duration": 22,
        "start_time": "2023-06-13T11:37:07.768Z"
      },
      {
        "duration": 91,
        "start_time": "2023-06-13T11:37:07.793Z"
      },
      {
        "duration": 58,
        "start_time": "2023-06-13T11:37:07.887Z"
      },
      {
        "duration": 86,
        "start_time": "2023-06-13T11:37:07.947Z"
      },
      {
        "duration": 58,
        "start_time": "2023-06-13T11:37:08.035Z"
      },
      {
        "duration": 4,
        "start_time": "2023-06-13T11:37:08.096Z"
      },
      {
        "duration": 11,
        "start_time": "2023-06-13T11:37:08.102Z"
      },
      {
        "duration": 8,
        "start_time": "2023-06-13T11:37:08.116Z"
      },
      {
        "duration": 16,
        "start_time": "2023-06-13T11:37:08.126Z"
      },
      {
        "duration": 37,
        "start_time": "2023-06-13T11:37:08.144Z"
      },
      {
        "duration": 14,
        "start_time": "2023-06-13T11:37:08.184Z"
      },
      {
        "duration": 31,
        "start_time": "2023-06-13T11:37:08.201Z"
      },
      {
        "duration": 45,
        "start_time": "2023-06-13T11:37:08.235Z"
      },
      {
        "duration": 22,
        "start_time": "2023-06-13T11:37:08.286Z"
      },
      {
        "duration": 2711,
        "start_time": "2023-06-13T11:37:08.310Z"
      },
      {
        "duration": 6513,
        "start_time": "2023-06-13T11:37:11.024Z"
      },
      {
        "duration": 13,
        "start_time": "2023-06-13T11:37:17.543Z"
      },
      {
        "duration": 37,
        "start_time": "2023-06-13T11:37:17.562Z"
      },
      {
        "duration": 10,
        "start_time": "2023-06-13T11:37:17.601Z"
      },
      {
        "duration": 15,
        "start_time": "2023-06-13T11:37:17.612Z"
      },
      {
        "duration": 18226,
        "start_time": "2023-06-13T11:37:17.629Z"
      },
      {
        "duration": 57,
        "start_time": "2023-06-13T11:37:35.857Z"
      },
      {
        "duration": 43,
        "start_time": "2023-06-13T11:37:35.916Z"
      },
      {
        "duration": 72,
        "start_time": "2023-06-13T11:37:35.960Z"
      },
      {
        "duration": 40,
        "start_time": "2023-06-13T11:37:36.034Z"
      },
      {
        "duration": 13,
        "start_time": "2023-06-13T11:37:36.077Z"
      },
      {
        "duration": 12,
        "start_time": "2023-06-13T11:37:36.092Z"
      },
      {
        "duration": 2980,
        "start_time": "2023-06-13T11:37:36.107Z"
      },
      {
        "duration": 0,
        "start_time": "2023-06-13T11:37:39.089Z"
      },
      {
        "duration": 0,
        "start_time": "2023-06-13T11:37:39.091Z"
      },
      {
        "duration": 0,
        "start_time": "2023-06-13T11:37:39.092Z"
      },
      {
        "duration": 0,
        "start_time": "2023-06-13T11:37:39.093Z"
      },
      {
        "duration": 0,
        "start_time": "2023-06-13T11:37:39.095Z"
      },
      {
        "duration": 0,
        "start_time": "2023-06-13T11:37:39.097Z"
      },
      {
        "duration": 0,
        "start_time": "2023-06-13T11:37:39.098Z"
      },
      {
        "duration": 0,
        "start_time": "2023-06-13T11:37:39.101Z"
      },
      {
        "duration": 0,
        "start_time": "2023-06-13T11:37:39.102Z"
      },
      {
        "duration": 0,
        "start_time": "2023-06-13T11:37:39.104Z"
      },
      {
        "duration": 0,
        "start_time": "2023-06-13T11:37:39.105Z"
      },
      {
        "duration": 28059,
        "start_time": "2023-06-13T11:37:50.792Z"
      },
      {
        "duration": 958415,
        "start_time": "2023-06-13T11:38:24.092Z"
      },
      {
        "duration": 30065,
        "start_time": "2023-06-13T12:33:33.642Z"
      },
      {
        "duration": 196,
        "start_time": "2023-06-13T12:51:44.240Z"
      },
      {
        "duration": 3,
        "start_time": "2023-06-13T12:53:38.029Z"
      },
      {
        "duration": 8057,
        "start_time": "2023-06-14T08:48:07.171Z"
      },
      {
        "duration": 3269,
        "start_time": "2023-06-14T08:48:15.230Z"
      },
      {
        "duration": 7267,
        "start_time": "2023-06-14T08:48:18.501Z"
      },
      {
        "duration": 4421,
        "start_time": "2023-06-14T08:48:25.770Z"
      },
      {
        "duration": 3931,
        "start_time": "2023-06-14T08:48:30.194Z"
      },
      {
        "duration": 2866,
        "start_time": "2023-06-14T08:48:34.129Z"
      },
      {
        "duration": 358,
        "start_time": "2023-06-14T08:48:36.997Z"
      },
      {
        "duration": 28,
        "start_time": "2023-06-14T08:48:37.356Z"
      },
      {
        "duration": 40,
        "start_time": "2023-06-14T08:48:37.385Z"
      },
      {
        "duration": 43,
        "start_time": "2023-06-14T08:48:37.427Z"
      },
      {
        "duration": 12,
        "start_time": "2023-06-14T08:48:37.472Z"
      },
      {
        "duration": 41,
        "start_time": "2023-06-14T08:48:37.486Z"
      },
      {
        "duration": 20,
        "start_time": "2023-06-14T08:48:37.529Z"
      },
      {
        "duration": 11,
        "start_time": "2023-06-14T08:48:37.551Z"
      },
      {
        "duration": 88,
        "start_time": "2023-06-14T08:48:37.564Z"
      },
      {
        "duration": 29,
        "start_time": "2023-06-14T08:48:37.653Z"
      },
      {
        "duration": 58,
        "start_time": "2023-06-14T08:48:37.683Z"
      },
      {
        "duration": 15,
        "start_time": "2023-06-14T08:48:37.743Z"
      },
      {
        "duration": 18,
        "start_time": "2023-06-14T08:48:37.760Z"
      },
      {
        "duration": 15,
        "start_time": "2023-06-14T08:48:37.780Z"
      },
      {
        "duration": 10,
        "start_time": "2023-06-14T08:48:37.796Z"
      },
      {
        "duration": 24,
        "start_time": "2023-06-14T08:48:37.807Z"
      },
      {
        "duration": 11,
        "start_time": "2023-06-14T08:48:37.833Z"
      },
      {
        "duration": 22,
        "start_time": "2023-06-14T08:48:37.845Z"
      },
      {
        "duration": 5,
        "start_time": "2023-06-14T08:48:37.869Z"
      },
      {
        "duration": 12,
        "start_time": "2023-06-14T08:48:37.876Z"
      },
      {
        "duration": 13,
        "start_time": "2023-06-14T08:48:37.890Z"
      },
      {
        "duration": 1786,
        "start_time": "2023-06-14T08:48:37.908Z"
      },
      {
        "duration": 5248,
        "start_time": "2023-06-14T08:48:39.696Z"
      },
      {
        "duration": 6,
        "start_time": "2023-06-14T08:48:44.945Z"
      },
      {
        "duration": 31,
        "start_time": "2023-06-14T08:48:44.952Z"
      },
      {
        "duration": 13,
        "start_time": "2023-06-14T08:48:44.985Z"
      },
      {
        "duration": 32,
        "start_time": "2023-06-14T08:48:45.000Z"
      },
      {
        "duration": 5959,
        "start_time": "2023-06-14T08:48:45.034Z"
      },
      {
        "duration": 48,
        "start_time": "2023-06-14T08:48:50.994Z"
      },
      {
        "duration": 24,
        "start_time": "2023-06-14T08:48:51.044Z"
      },
      {
        "duration": 64,
        "start_time": "2023-06-14T08:48:51.069Z"
      },
      {
        "duration": 29,
        "start_time": "2023-06-14T08:48:51.135Z"
      },
      {
        "duration": 23,
        "start_time": "2023-06-14T08:48:51.166Z"
      },
      {
        "duration": 50,
        "start_time": "2023-06-14T08:48:51.190Z"
      },
      {
        "duration": 49,
        "start_time": "2023-06-14T08:48:51.241Z"
      },
      {
        "duration": 365840,
        "start_time": "2023-06-14T08:48:51.292Z"
      },
      {
        "duration": 132127,
        "start_time": "2023-06-14T08:54:57.135Z"
      },
      {
        "duration": 3,
        "start_time": "2023-06-14T08:57:09.263Z"
      },
      {
        "duration": 23619,
        "start_time": "2023-06-14T08:57:09.267Z"
      },
      {
        "duration": 4,
        "start_time": "2023-06-14T08:57:32.887Z"
      },
      {
        "duration": 52,
        "start_time": "2023-06-14T08:57:32.892Z"
      },
      {
        "duration": 22,
        "start_time": "2023-06-14T08:57:32.946Z"
      },
      {
        "duration": 786012,
        "start_time": "2023-06-14T08:57:32.970Z"
      },
      {
        "duration": 3,
        "start_time": "2023-06-14T09:10:38.983Z"
      },
      {
        "duration": 21,
        "start_time": "2023-06-14T09:10:38.988Z"
      },
      {
        "duration": 10,
        "start_time": "2023-06-14T09:56:22.333Z"
      },
      {
        "duration": 7,
        "start_time": "2023-06-14T09:56:30.675Z"
      },
      {
        "duration": 7,
        "start_time": "2023-06-14T09:59:40.680Z"
      },
      {
        "duration": 7,
        "start_time": "2023-06-14T10:00:23.634Z"
      },
      {
        "duration": 34,
        "start_time": "2023-06-14T11:03:07.580Z"
      },
      {
        "duration": 5,
        "start_time": "2023-06-14T11:25:08.924Z"
      },
      {
        "duration": 5,
        "start_time": "2023-06-14T11:25:27.100Z"
      },
      {
        "duration": 24,
        "start_time": "2023-06-14T11:25:47.784Z"
      },
      {
        "duration": 47,
        "start_time": "2023-06-14T13:24:15.085Z"
      },
      {
        "duration": 7691,
        "start_time": "2023-06-14T13:24:21.448Z"
      },
      {
        "duration": 3306,
        "start_time": "2023-06-14T13:24:29.142Z"
      },
      {
        "duration": 6928,
        "start_time": "2023-06-14T13:24:32.449Z"
      },
      {
        "duration": 3578,
        "start_time": "2023-06-14T13:24:39.380Z"
      },
      {
        "duration": 3070,
        "start_time": "2023-06-14T13:24:42.961Z"
      },
      {
        "duration": 2738,
        "start_time": "2023-06-14T13:24:46.033Z"
      },
      {
        "duration": 920,
        "start_time": "2023-06-14T13:24:48.774Z"
      },
      {
        "duration": 30,
        "start_time": "2023-06-14T13:24:49.696Z"
      },
      {
        "duration": 27,
        "start_time": "2023-06-14T13:24:49.727Z"
      },
      {
        "duration": 26,
        "start_time": "2023-06-14T13:24:49.758Z"
      },
      {
        "duration": 36,
        "start_time": "2023-06-14T13:24:49.786Z"
      },
      {
        "duration": 42,
        "start_time": "2023-06-14T13:24:49.824Z"
      },
      {
        "duration": 47,
        "start_time": "2023-06-14T13:24:49.868Z"
      },
      {
        "duration": 9,
        "start_time": "2023-06-14T13:24:49.917Z"
      },
      {
        "duration": 90,
        "start_time": "2023-06-14T13:24:49.928Z"
      },
      {
        "duration": 29,
        "start_time": "2023-06-14T13:24:50.020Z"
      },
      {
        "duration": 78,
        "start_time": "2023-06-14T13:24:50.051Z"
      },
      {
        "duration": 33,
        "start_time": "2023-06-14T13:24:50.131Z"
      },
      {
        "duration": 10,
        "start_time": "2023-06-14T13:24:50.166Z"
      },
      {
        "duration": 10,
        "start_time": "2023-06-14T13:24:50.178Z"
      },
      {
        "duration": 14,
        "start_time": "2023-06-14T13:24:50.189Z"
      },
      {
        "duration": 29,
        "start_time": "2023-06-14T13:24:50.205Z"
      },
      {
        "duration": 19,
        "start_time": "2023-06-14T13:24:50.235Z"
      },
      {
        "duration": 21,
        "start_time": "2023-06-14T13:24:50.255Z"
      },
      {
        "duration": 47,
        "start_time": "2023-06-14T13:24:50.278Z"
      },
      {
        "duration": 28,
        "start_time": "2023-06-14T13:24:50.327Z"
      },
      {
        "duration": 29,
        "start_time": "2023-06-14T13:24:50.357Z"
      },
      {
        "duration": 2426,
        "start_time": "2023-06-14T13:24:50.389Z"
      },
      {
        "duration": 5404,
        "start_time": "2023-06-14T13:24:52.817Z"
      },
      {
        "duration": 7,
        "start_time": "2023-06-14T13:24:58.224Z"
      },
      {
        "duration": 23,
        "start_time": "2023-06-14T13:25:04.511Z"
      },
      {
        "duration": 9,
        "start_time": "2023-06-14T13:32:55.228Z"
      },
      {
        "duration": 11,
        "start_time": "2023-06-14T13:34:16.798Z"
      },
      {
        "duration": 6,
        "start_time": "2023-06-14T13:35:25.419Z"
      },
      {
        "duration": 4,
        "start_time": "2023-06-14T13:41:41.437Z"
      },
      {
        "duration": 134,
        "start_time": "2023-06-14T13:42:28.257Z"
      },
      {
        "duration": 4641,
        "start_time": "2023-06-14T13:42:34.276Z"
      },
      {
        "duration": 10,
        "start_time": "2023-06-14T13:43:14.891Z"
      },
      {
        "duration": 10,
        "start_time": "2023-06-14T13:43:29.701Z"
      },
      {
        "duration": 367,
        "start_time": "2023-06-14T13:44:01.605Z"
      },
      {
        "duration": 309,
        "start_time": "2023-06-14T13:44:29.598Z"
      },
      {
        "duration": 262,
        "start_time": "2023-06-14T13:44:41.984Z"
      },
      {
        "duration": 15,
        "start_time": "2023-06-14T13:46:25.902Z"
      },
      {
        "duration": 5,
        "start_time": "2023-06-14T13:46:39.035Z"
      },
      {
        "duration": 814,
        "start_time": "2023-06-14T13:49:40.510Z"
      },
      {
        "duration": 14,
        "start_time": "2023-06-14T13:52:47.314Z"
      },
      {
        "duration": 339,
        "start_time": "2023-06-14T13:53:48.478Z"
      },
      {
        "duration": 380,
        "start_time": "2023-06-14T13:54:16.295Z"
      },
      {
        "duration": 956,
        "start_time": "2023-06-14T13:54:22.850Z"
      },
      {
        "duration": 1044,
        "start_time": "2023-06-14T13:55:41.401Z"
      },
      {
        "duration": 932,
        "start_time": "2023-06-14T13:58:07.932Z"
      },
      {
        "duration": 2461,
        "start_time": "2023-06-14T13:58:17.704Z"
      },
      {
        "duration": 2095,
        "start_time": "2023-06-14T14:03:20.352Z"
      },
      {
        "duration": 2043,
        "start_time": "2023-06-14T14:18:25.461Z"
      },
      {
        "duration": 2091,
        "start_time": "2023-06-14T14:18:27.506Z"
      },
      {
        "duration": 2133,
        "start_time": "2023-06-14T14:18:29.599Z"
      },
      {
        "duration": 2101,
        "start_time": "2023-06-14T14:18:31.734Z"
      },
      {
        "duration": 2019,
        "start_time": "2023-06-14T14:18:33.837Z"
      },
      {
        "duration": 5,
        "start_time": "2023-06-14T14:18:35.858Z"
      },
      {
        "duration": 249,
        "start_time": "2023-06-14T14:18:35.865Z"
      },
      {
        "duration": 22,
        "start_time": "2023-06-14T14:18:36.116Z"
      },
      {
        "duration": 38,
        "start_time": "2023-06-14T14:18:36.140Z"
      },
      {
        "duration": 28,
        "start_time": "2023-06-14T14:18:36.182Z"
      },
      {
        "duration": 14,
        "start_time": "2023-06-14T14:18:36.213Z"
      },
      {
        "duration": 41,
        "start_time": "2023-06-14T14:18:36.230Z"
      },
      {
        "duration": 49,
        "start_time": "2023-06-14T14:18:36.273Z"
      },
      {
        "duration": 10,
        "start_time": "2023-06-14T14:18:36.324Z"
      },
      {
        "duration": 77,
        "start_time": "2023-06-14T14:18:36.336Z"
      },
      {
        "duration": 28,
        "start_time": "2023-06-14T14:18:36.415Z"
      },
      {
        "duration": 32,
        "start_time": "2023-06-14T14:18:36.445Z"
      },
      {
        "duration": 40,
        "start_time": "2023-06-14T14:18:36.479Z"
      },
      {
        "duration": 3,
        "start_time": "2023-06-14T14:18:36.521Z"
      },
      {
        "duration": 26,
        "start_time": "2023-06-14T14:18:36.526Z"
      },
      {
        "duration": 39,
        "start_time": "2023-06-14T14:18:36.553Z"
      },
      {
        "duration": 23,
        "start_time": "2023-06-14T14:18:36.594Z"
      },
      {
        "duration": 25,
        "start_time": "2023-06-14T14:18:36.619Z"
      },
      {
        "duration": 32,
        "start_time": "2023-06-14T14:18:36.646Z"
      },
      {
        "duration": 16,
        "start_time": "2023-06-14T14:18:36.680Z"
      },
      {
        "duration": 24,
        "start_time": "2023-06-14T14:18:36.698Z"
      },
      {
        "duration": 7,
        "start_time": "2023-06-14T14:18:36.725Z"
      },
      {
        "duration": 1747,
        "start_time": "2023-06-14T14:18:36.735Z"
      },
      {
        "duration": 5315,
        "start_time": "2023-06-14T14:18:38.483Z"
      },
      {
        "duration": 17,
        "start_time": "2023-06-14T14:18:43.800Z"
      },
      {
        "duration": 32,
        "start_time": "2023-06-14T14:18:43.819Z"
      },
      {
        "duration": 178,
        "start_time": "2023-06-14T14:18:43.855Z"
      },
      {
        "duration": 33,
        "start_time": "2023-06-14T14:18:44.034Z"
      },
      {
        "duration": 245,
        "start_time": "2023-06-14T14:18:44.069Z"
      },
      {
        "duration": 2397,
        "start_time": "2023-06-14T14:18:44.316Z"
      },
      {
        "duration": 1824,
        "start_time": "2023-06-14T14:18:46.715Z"
      },
      {
        "duration": 254,
        "start_time": "2023-06-14T14:21:17.477Z"
      },
      {
        "duration": 216,
        "start_time": "2023-06-14T14:21:22.129Z"
      },
      {
        "duration": 478,
        "start_time": "2023-06-14T14:21:41.273Z"
      },
      {
        "duration": 431,
        "start_time": "2023-06-14T14:21:50.484Z"
      },
      {
        "duration": 251,
        "start_time": "2023-06-14T14:21:57.350Z"
      },
      {
        "duration": 115,
        "start_time": "2023-06-14T14:22:16.206Z"
      },
      {
        "duration": 23,
        "start_time": "2023-06-14T14:47:34.255Z"
      },
      {
        "duration": 12,
        "start_time": "2023-06-14T14:47:47.195Z"
      },
      {
        "duration": 10,
        "start_time": "2023-06-14T14:48:07.602Z"
      },
      {
        "duration": 8,
        "start_time": "2023-06-14T14:48:07.786Z"
      },
      {
        "duration": 7,
        "start_time": "2023-06-14T14:48:07.977Z"
      },
      {
        "duration": 10947,
        "start_time": "2023-06-14T14:48:08.402Z"
      },
      {
        "duration": 51,
        "start_time": "2023-06-14T14:48:19.351Z"
      },
      {
        "duration": 37,
        "start_time": "2023-06-14T14:48:19.403Z"
      },
      {
        "duration": 74,
        "start_time": "2023-06-14T14:48:19.442Z"
      },
      {
        "duration": 30,
        "start_time": "2023-06-14T14:48:19.517Z"
      },
      {
        "duration": 22,
        "start_time": "2023-06-14T14:48:19.549Z"
      },
      {
        "duration": 18,
        "start_time": "2023-06-14T14:48:19.573Z"
      },
      {
        "duration": 1934,
        "start_time": "2023-06-14T14:48:19.592Z"
      },
      {
        "duration": 6,
        "start_time": "2023-06-14T14:48:52.578Z"
      },
      {
        "duration": 6,
        "start_time": "2023-06-14T14:48:58.698Z"
      },
      {
        "duration": 1818,
        "start_time": "2023-06-14T14:49:03.082Z"
      },
      {
        "duration": 6,
        "start_time": "2023-06-14T14:49:07.018Z"
      },
      {
        "duration": 2,
        "start_time": "2023-06-14T14:49:27.055Z"
      },
      {
        "duration": 2173,
        "start_time": "2023-06-14T14:56:49.922Z"
      },
      {
        "duration": 6,
        "start_time": "2023-06-14T14:56:55.538Z"
      },
      {
        "duration": 16,
        "start_time": "2023-06-14T14:57:37.298Z"
      },
      {
        "duration": 2356,
        "start_time": "2023-06-14T14:57:46.903Z"
      },
      {
        "duration": 2293,
        "start_time": "2023-06-14T14:57:49.261Z"
      },
      {
        "duration": 2207,
        "start_time": "2023-06-14T14:57:51.556Z"
      },
      {
        "duration": 2295,
        "start_time": "2023-06-14T14:57:53.766Z"
      },
      {
        "duration": 2636,
        "start_time": "2023-06-14T14:57:56.064Z"
      },
      {
        "duration": 11,
        "start_time": "2023-06-14T14:57:58.702Z"
      },
      {
        "duration": 298,
        "start_time": "2023-06-14T14:57:58.715Z"
      },
      {
        "duration": 32,
        "start_time": "2023-06-14T14:57:59.015Z"
      },
      {
        "duration": 23,
        "start_time": "2023-06-14T14:57:59.049Z"
      },
      {
        "duration": 46,
        "start_time": "2023-06-14T14:57:59.075Z"
      },
      {
        "duration": 21,
        "start_time": "2023-06-14T14:57:59.123Z"
      },
      {
        "duration": 41,
        "start_time": "2023-06-14T14:57:59.146Z"
      },
      {
        "duration": 39,
        "start_time": "2023-06-14T14:57:59.190Z"
      },
      {
        "duration": 21,
        "start_time": "2023-06-14T14:57:59.234Z"
      },
      {
        "duration": 68,
        "start_time": "2023-06-14T14:57:59.256Z"
      },
      {
        "duration": 36,
        "start_time": "2023-06-14T14:57:59.326Z"
      },
      {
        "duration": 88,
        "start_time": "2023-06-14T14:57:59.364Z"
      },
      {
        "duration": 26,
        "start_time": "2023-06-14T14:57:59.454Z"
      },
      {
        "duration": 9,
        "start_time": "2023-06-14T14:57:59.482Z"
      },
      {
        "duration": 28,
        "start_time": "2023-06-14T14:57:59.493Z"
      },
      {
        "duration": 8,
        "start_time": "2023-06-14T14:57:59.523Z"
      },
      {
        "duration": 15,
        "start_time": "2023-06-14T14:57:59.533Z"
      },
      {
        "duration": 24,
        "start_time": "2023-06-14T14:57:59.549Z"
      },
      {
        "duration": 15,
        "start_time": "2023-06-14T14:57:59.575Z"
      },
      {
        "duration": 14,
        "start_time": "2023-06-14T14:57:59.591Z"
      },
      {
        "duration": 28,
        "start_time": "2023-06-14T14:57:59.607Z"
      },
      {
        "duration": 58,
        "start_time": "2023-06-14T14:57:59.637Z"
      },
      {
        "duration": 2398,
        "start_time": "2023-06-14T14:57:59.697Z"
      },
      {
        "duration": 6004,
        "start_time": "2023-06-14T14:58:02.098Z"
      },
      {
        "duration": 12,
        "start_time": "2023-06-14T14:58:08.105Z"
      },
      {
        "duration": 6,
        "start_time": "2023-06-14T14:58:08.119Z"
      },
      {
        "duration": 12,
        "start_time": "2023-06-14T14:58:08.126Z"
      },
      {
        "duration": 14,
        "start_time": "2023-06-14T14:58:08.140Z"
      },
      {
        "duration": 269,
        "start_time": "2023-06-14T14:58:08.157Z"
      },
      {
        "duration": 120,
        "start_time": "2023-06-14T14:58:08.427Z"
      },
      {
        "duration": 2655,
        "start_time": "2023-06-14T14:58:08.549Z"
      },
      {
        "duration": 2437,
        "start_time": "2023-06-14T14:58:11.212Z"
      },
      {
        "duration": 14,
        "start_time": "2023-06-14T14:58:13.652Z"
      },
      {
        "duration": 20,
        "start_time": "2023-06-14T14:58:13.668Z"
      },
      {
        "duration": 29,
        "start_time": "2023-06-14T14:58:13.690Z"
      },
      {
        "duration": 53,
        "start_time": "2023-06-14T14:58:13.726Z"
      },
      {
        "duration": 0,
        "start_time": "2023-06-14T14:58:13.781Z"
      },
      {
        "duration": 0,
        "start_time": "2023-06-14T14:58:13.783Z"
      },
      {
        "duration": 0,
        "start_time": "2023-06-14T14:58:13.785Z"
      },
      {
        "duration": 0,
        "start_time": "2023-06-14T14:58:13.786Z"
      },
      {
        "duration": 0,
        "start_time": "2023-06-14T14:58:13.788Z"
      },
      {
        "duration": 0,
        "start_time": "2023-06-14T14:58:13.814Z"
      },
      {
        "duration": 14423,
        "start_time": "2023-06-14T14:58:57.978Z"
      },
      {
        "duration": 56,
        "start_time": "2023-06-14T14:59:17.851Z"
      },
      {
        "duration": 33,
        "start_time": "2023-06-14T14:59:18.085Z"
      },
      {
        "duration": 56,
        "start_time": "2023-06-14T14:59:18.843Z"
      },
      {
        "duration": 33,
        "start_time": "2023-06-14T14:59:19.074Z"
      },
      {
        "duration": 24,
        "start_time": "2023-06-14T14:59:19.332Z"
      },
      {
        "duration": 7,
        "start_time": "2023-06-14T14:59:20.257Z"
      },
      {
        "duration": 1404,
        "start_time": "2023-06-14T14:59:20.860Z"
      },
      {
        "duration": 1415,
        "start_time": "2023-06-14T14:59:50.446Z"
      },
      {
        "duration": 37,
        "start_time": "2023-06-14T15:00:46.991Z"
      },
      {
        "duration": 1418,
        "start_time": "2023-06-14T15:00:51.066Z"
      },
      {
        "duration": 1441,
        "start_time": "2023-06-14T15:00:55.250Z"
      },
      {
        "duration": 1473,
        "start_time": "2023-06-14T15:01:10.894Z"
      },
      {
        "duration": 25,
        "start_time": "2023-06-14T15:02:40.781Z"
      },
      {
        "duration": 1433,
        "start_time": "2023-06-14T15:02:44.299Z"
      },
      {
        "duration": 1705,
        "start_time": "2023-06-14T15:02:51.122Z"
      },
      {
        "duration": 1492,
        "start_time": "2023-06-14T15:02:59.535Z"
      },
      {
        "duration": 5,
        "start_time": "2023-06-14T15:15:48.537Z"
      },
      {
        "duration": 6,
        "start_time": "2023-06-14T15:15:52.682Z"
      },
      {
        "duration": 54,
        "start_time": "2023-06-14T15:15:57.776Z"
      },
      {
        "duration": 0,
        "start_time": "2023-06-14T15:24:30.130Z"
      },
      {
        "duration": 16440188,
        "start_time": "2023-06-14T15:24:34.007Z"
      },
      {
        "duration": 75,
        "start_time": "2023-06-14T23:19:32.950Z"
      },
      {
        "duration": 4670,
        "start_time": "2023-06-14T23:44:53.191Z"
      },
      {
        "duration": 3226,
        "start_time": "2023-06-14T23:44:57.873Z"
      },
      {
        "duration": 3024,
        "start_time": "2023-06-14T23:45:01.102Z"
      },
      {
        "duration": 2942,
        "start_time": "2023-06-14T23:45:04.133Z"
      },
      {
        "duration": 3102,
        "start_time": "2023-06-14T23:45:07.080Z"
      },
      {
        "duration": 7095,
        "start_time": "2023-06-14T23:45:10.186Z"
      },
      {
        "duration": 360,
        "start_time": "2023-06-14T23:45:17.283Z"
      },
      {
        "duration": 39,
        "start_time": "2023-06-14T23:45:17.645Z"
      },
      {
        "duration": 46,
        "start_time": "2023-06-14T23:45:17.686Z"
      },
      {
        "duration": 31,
        "start_time": "2023-06-14T23:45:17.734Z"
      },
      {
        "duration": 24,
        "start_time": "2023-06-14T23:45:17.770Z"
      },
      {
        "duration": 44,
        "start_time": "2023-06-14T23:45:17.814Z"
      },
      {
        "duration": 28,
        "start_time": "2023-06-14T23:45:17.860Z"
      },
      {
        "duration": 27,
        "start_time": "2023-06-14T23:45:17.890Z"
      },
      {
        "duration": 74,
        "start_time": "2023-06-14T23:45:17.922Z"
      },
      {
        "duration": 54,
        "start_time": "2023-06-14T23:45:17.998Z"
      },
      {
        "duration": 41,
        "start_time": "2023-06-14T23:45:18.055Z"
      },
      {
        "duration": 55,
        "start_time": "2023-06-14T23:45:18.098Z"
      },
      {
        "duration": 4,
        "start_time": "2023-06-14T23:45:18.156Z"
      },
      {
        "duration": 11,
        "start_time": "2023-06-14T23:45:18.163Z"
      },
      {
        "duration": 21,
        "start_time": "2023-06-14T23:45:18.176Z"
      },
      {
        "duration": 15,
        "start_time": "2023-06-14T23:45:18.199Z"
      },
      {
        "duration": 24,
        "start_time": "2023-06-14T23:45:18.217Z"
      },
      {
        "duration": 11,
        "start_time": "2023-06-14T23:45:18.244Z"
      },
      {
        "duration": 21,
        "start_time": "2023-06-14T23:45:18.257Z"
      },
      {
        "duration": 13,
        "start_time": "2023-06-14T23:45:18.280Z"
      },
      {
        "duration": 18,
        "start_time": "2023-06-14T23:45:18.295Z"
      },
      {
        "duration": 2871,
        "start_time": "2023-06-14T23:45:18.317Z"
      },
      {
        "duration": 8232,
        "start_time": "2023-06-14T23:45:21.190Z"
      },
      {
        "duration": 12,
        "start_time": "2023-06-14T23:45:29.428Z"
      },
      {
        "duration": 8,
        "start_time": "2023-06-14T23:45:29.442Z"
      },
      {
        "duration": 17,
        "start_time": "2023-06-14T23:45:29.453Z"
      },
      {
        "duration": 14,
        "start_time": "2023-06-14T23:45:29.473Z"
      },
      {
        "duration": 350,
        "start_time": "2023-06-14T23:45:29.514Z"
      },
      {
        "duration": 170,
        "start_time": "2023-06-14T23:45:29.867Z"
      },
      {
        "duration": 3367,
        "start_time": "2023-06-14T23:45:30.039Z"
      },
      {
        "duration": 2740,
        "start_time": "2023-06-14T23:45:33.413Z"
      },
      {
        "duration": 12,
        "start_time": "2023-06-14T23:45:36.155Z"
      },
      {
        "duration": 19,
        "start_time": "2023-06-14T23:45:36.171Z"
      },
      {
        "duration": 33,
        "start_time": "2023-06-14T23:45:36.192Z"
      },
      {
        "duration": 21855,
        "start_time": "2023-06-14T23:45:36.226Z"
      },
      {
        "duration": 66,
        "start_time": "2023-06-14T23:45:58.084Z"
      },
      {
        "duration": 34,
        "start_time": "2023-06-14T23:45:58.152Z"
      },
      {
        "duration": 77,
        "start_time": "2023-06-14T23:45:58.188Z"
      },
      {
        "duration": 59,
        "start_time": "2023-06-14T23:45:58.267Z"
      },
      {
        "duration": 40,
        "start_time": "2023-06-14T23:45:58.327Z"
      },
      {
        "duration": 2179,
        "start_time": "2023-06-14T23:45:58.369Z"
      },
      {
        "duration": 2381,
        "start_time": "2023-06-15T00:26:26.195Z"
      },
      {
        "duration": 2493,
        "start_time": "2023-06-15T00:26:28.579Z"
      },
      {
        "duration": 2502,
        "start_time": "2023-06-15T00:26:31.074Z"
      },
      {
        "duration": 2500,
        "start_time": "2023-06-15T00:26:33.581Z"
      },
      {
        "duration": 2563,
        "start_time": "2023-06-15T00:26:36.083Z"
      },
      {
        "duration": 2857,
        "start_time": "2023-06-15T00:26:38.648Z"
      },
      {
        "duration": 262,
        "start_time": "2023-06-15T00:26:41.507Z"
      },
      {
        "duration": 27,
        "start_time": "2023-06-15T00:26:41.771Z"
      },
      {
        "duration": 25,
        "start_time": "2023-06-15T00:26:41.813Z"
      },
      {
        "duration": 29,
        "start_time": "2023-06-15T00:26:41.842Z"
      },
      {
        "duration": 44,
        "start_time": "2023-06-15T00:26:41.873Z"
      },
      {
        "duration": 39,
        "start_time": "2023-06-15T00:26:41.918Z"
      },
      {
        "duration": 28,
        "start_time": "2023-06-15T00:26:41.959Z"
      },
      {
        "duration": 32,
        "start_time": "2023-06-15T00:26:41.989Z"
      },
      {
        "duration": 71,
        "start_time": "2023-06-15T00:26:42.025Z"
      },
      {
        "duration": 51,
        "start_time": "2023-06-15T00:26:42.098Z"
      },
      {
        "duration": 38,
        "start_time": "2023-06-15T00:26:42.151Z"
      },
      {
        "duration": 52,
        "start_time": "2023-06-15T00:26:42.191Z"
      },
      {
        "duration": 3,
        "start_time": "2023-06-15T00:26:42.245Z"
      },
      {
        "duration": 13,
        "start_time": "2023-06-15T00:26:42.250Z"
      },
      {
        "duration": 9,
        "start_time": "2023-06-15T00:26:42.265Z"
      },
      {
        "duration": 8,
        "start_time": "2023-06-15T00:26:42.276Z"
      },
      {
        "duration": 6,
        "start_time": "2023-06-15T00:26:42.286Z"
      },
      {
        "duration": 23,
        "start_time": "2023-06-15T00:26:42.294Z"
      },
      {
        "duration": 11,
        "start_time": "2023-06-15T00:26:42.322Z"
      },
      {
        "duration": 3,
        "start_time": "2023-06-15T00:26:42.336Z"
      },
      {
        "duration": 9,
        "start_time": "2023-06-15T00:26:42.341Z"
      },
      {
        "duration": 2416,
        "start_time": "2023-06-15T00:26:42.354Z"
      },
      {
        "duration": 6482,
        "start_time": "2023-06-15T00:26:44.773Z"
      },
      {
        "duration": 7,
        "start_time": "2023-06-15T00:26:51.257Z"
      },
      {
        "duration": 7,
        "start_time": "2023-06-15T00:26:51.266Z"
      },
      {
        "duration": 21,
        "start_time": "2023-06-15T00:26:51.275Z"
      },
      {
        "duration": 13,
        "start_time": "2023-06-15T00:26:51.301Z"
      },
      {
        "duration": 441,
        "start_time": "2023-06-15T00:26:51.316Z"
      },
      {
        "duration": 256,
        "start_time": "2023-06-15T00:26:51.759Z"
      },
      {
        "duration": 2822,
        "start_time": "2023-06-15T00:26:52.020Z"
      },
      {
        "duration": 2508,
        "start_time": "2023-06-15T00:26:54.845Z"
      },
      {
        "duration": 11,
        "start_time": "2023-06-15T00:26:57.355Z"
      },
      {
        "duration": 16,
        "start_time": "2023-06-15T00:26:57.368Z"
      },
      {
        "duration": 33,
        "start_time": "2023-06-15T00:26:57.386Z"
      },
      {
        "duration": 20413,
        "start_time": "2023-06-15T00:26:57.423Z"
      },
      {
        "duration": 56,
        "start_time": "2023-06-15T00:27:17.838Z"
      },
      {
        "duration": 49,
        "start_time": "2023-06-15T00:27:17.896Z"
      },
      {
        "duration": 88,
        "start_time": "2023-06-15T00:27:17.947Z"
      },
      {
        "duration": 41,
        "start_time": "2023-06-15T00:27:18.037Z"
      },
      {
        "duration": 51,
        "start_time": "2023-06-15T00:27:18.081Z"
      },
      {
        "duration": 1665,
        "start_time": "2023-06-15T00:27:18.134Z"
      },
      {
        "duration": 104111,
        "start_time": "2023-06-15T00:27:41.555Z"
      },
      {
        "duration": 107652,
        "start_time": "2023-06-15T00:30:26.199Z"
      },
      {
        "duration": 104287,
        "start_time": "2023-06-15T00:33:59.145Z"
      },
      {
        "duration": 104262,
        "start_time": "2023-06-15T00:36:29.363Z"
      },
      {
        "duration": 7480,
        "start_time": "2023-06-15T18:06:02.568Z"
      },
      {
        "duration": 2052,
        "start_time": "2023-06-15T18:06:10.050Z"
      },
      {
        "duration": 6040,
        "start_time": "2023-06-15T18:06:12.104Z"
      },
      {
        "duration": 3675,
        "start_time": "2023-06-15T18:06:18.146Z"
      },
      {
        "duration": 2972,
        "start_time": "2023-06-15T18:06:21.823Z"
      },
      {
        "duration": 3337,
        "start_time": "2023-06-15T18:06:24.797Z"
      },
      {
        "duration": 216,
        "start_time": "2023-06-15T18:06:28.136Z"
      },
      {
        "duration": 21,
        "start_time": "2023-06-15T18:06:28.355Z"
      },
      {
        "duration": 23,
        "start_time": "2023-06-15T18:06:28.378Z"
      },
      {
        "duration": 20,
        "start_time": "2023-06-15T18:06:28.404Z"
      },
      {
        "duration": 37,
        "start_time": "2023-06-15T18:06:28.425Z"
      },
      {
        "duration": 26,
        "start_time": "2023-06-15T18:06:28.463Z"
      },
      {
        "duration": 19,
        "start_time": "2023-06-15T18:06:28.491Z"
      },
      {
        "duration": 11,
        "start_time": "2023-06-15T18:06:28.512Z"
      },
      {
        "duration": 58,
        "start_time": "2023-06-15T18:06:28.556Z"
      },
      {
        "duration": 43,
        "start_time": "2023-06-15T18:06:28.616Z"
      },
      {
        "duration": 34,
        "start_time": "2023-06-15T18:06:28.660Z"
      },
      {
        "duration": 19,
        "start_time": "2023-06-15T18:06:28.695Z"
      },
      {
        "duration": 3,
        "start_time": "2023-06-15T18:06:28.716Z"
      },
      {
        "duration": 7,
        "start_time": "2023-06-15T18:06:28.720Z"
      },
      {
        "duration": 10,
        "start_time": "2023-06-15T18:06:28.729Z"
      },
      {
        "duration": 2,
        "start_time": "2023-06-15T18:06:28.759Z"
      },
      {
        "duration": 31,
        "start_time": "2023-06-15T18:06:28.763Z"
      },
      {
        "duration": 23,
        "start_time": "2023-06-15T18:06:28.795Z"
      },
      {
        "duration": 19,
        "start_time": "2023-06-15T18:06:28.820Z"
      },
      {
        "duration": 6,
        "start_time": "2023-06-15T18:06:28.840Z"
      },
      {
        "duration": 5,
        "start_time": "2023-06-15T18:06:28.847Z"
      },
      {
        "duration": 1994,
        "start_time": "2023-06-15T18:06:28.855Z"
      },
      {
        "duration": 5417,
        "start_time": "2023-06-15T18:06:30.851Z"
      },
      {
        "duration": 5,
        "start_time": "2023-06-15T18:06:36.270Z"
      },
      {
        "duration": 7,
        "start_time": "2023-06-15T18:06:36.277Z"
      },
      {
        "duration": 12,
        "start_time": "2023-06-15T18:06:36.286Z"
      },
      {
        "duration": 11,
        "start_time": "2023-06-15T18:06:36.300Z"
      },
      {
        "duration": 258,
        "start_time": "2023-06-15T18:06:36.313Z"
      },
      {
        "duration": 108,
        "start_time": "2023-06-15T18:06:36.573Z"
      },
      {
        "duration": 2466,
        "start_time": "2023-06-15T18:06:36.683Z"
      },
      {
        "duration": 2292,
        "start_time": "2023-06-15T18:06:39.151Z"
      },
      {
        "duration": 18,
        "start_time": "2023-06-15T18:06:41.445Z"
      },
      {
        "duration": 27,
        "start_time": "2023-06-15T18:06:41.466Z"
      },
      {
        "duration": 11,
        "start_time": "2023-06-15T18:06:41.495Z"
      },
      {
        "duration": 12512,
        "start_time": "2023-06-15T18:06:41.508Z"
      },
      {
        "duration": 61,
        "start_time": "2023-06-15T18:06:54.022Z"
      },
      {
        "duration": 30,
        "start_time": "2023-06-15T18:06:54.085Z"
      },
      {
        "duration": 66,
        "start_time": "2023-06-15T18:06:54.117Z"
      },
      {
        "duration": 31,
        "start_time": "2023-06-15T18:06:54.185Z"
      },
      {
        "duration": 39,
        "start_time": "2023-06-15T18:06:54.218Z"
      },
      {
        "duration": 1366,
        "start_time": "2023-06-15T18:06:54.259Z"
      },
      {
        "duration": 1451677,
        "start_time": "2023-06-15T18:06:55.627Z"
      },
      {
        "duration": 14144726,
        "start_time": "2023-06-15T18:31:07.306Z"
      },
      {
        "duration": 4,
        "start_time": "2023-06-15T22:26:52.033Z"
      },
      {
        "duration": 93670,
        "start_time": "2023-06-15T22:26:52.039Z"
      },
      {
        "duration": 96965,
        "start_time": "2023-06-15T22:28:25.710Z"
      },
      {
        "duration": 12176,
        "start_time": "2023-06-16T03:33:58.933Z"
      },
      {
        "duration": 4378,
        "start_time": "2023-06-16T03:34:11.113Z"
      },
      {
        "duration": 10015,
        "start_time": "2023-06-16T03:34:15.493Z"
      },
      {
        "duration": 4764,
        "start_time": "2023-06-16T03:34:25.510Z"
      },
      {
        "duration": 3919,
        "start_time": "2023-06-16T03:34:30.277Z"
      },
      {
        "duration": 6767,
        "start_time": "2023-06-16T03:34:34.198Z"
      },
      {
        "duration": 641,
        "start_time": "2023-06-16T03:34:40.967Z"
      },
      {
        "duration": 47,
        "start_time": "2023-06-16T03:34:41.611Z"
      },
      {
        "duration": 34,
        "start_time": "2023-06-16T03:34:41.666Z"
      },
      {
        "duration": 33,
        "start_time": "2023-06-16T03:34:41.703Z"
      },
      {
        "duration": 23,
        "start_time": "2023-06-16T03:34:41.753Z"
      },
      {
        "duration": 60,
        "start_time": "2023-06-16T03:34:41.779Z"
      },
      {
        "duration": 32,
        "start_time": "2023-06-16T03:34:41.841Z"
      },
      {
        "duration": 43,
        "start_time": "2023-06-16T03:34:41.877Z"
      },
      {
        "duration": 79,
        "start_time": "2023-06-16T03:34:41.922Z"
      },
      {
        "duration": 54,
        "start_time": "2023-06-16T03:34:42.003Z"
      },
      {
        "duration": 59,
        "start_time": "2023-06-16T03:34:42.059Z"
      },
      {
        "duration": 13,
        "start_time": "2023-06-16T03:34:42.120Z"
      },
      {
        "duration": 5,
        "start_time": "2023-06-16T03:34:42.154Z"
      },
      {
        "duration": 40,
        "start_time": "2023-06-16T03:34:42.160Z"
      },
      {
        "duration": 6,
        "start_time": "2023-06-16T03:34:42.202Z"
      },
      {
        "duration": 7,
        "start_time": "2023-06-16T03:34:42.209Z"
      },
      {
        "duration": 71,
        "start_time": "2023-06-16T03:34:42.217Z"
      },
      {
        "duration": 15,
        "start_time": "2023-06-16T03:34:42.293Z"
      },
      {
        "duration": 7,
        "start_time": "2023-06-16T03:34:42.310Z"
      },
      {
        "duration": 8,
        "start_time": "2023-06-16T03:34:42.319Z"
      },
      {
        "duration": 9,
        "start_time": "2023-06-16T03:34:42.329Z"
      },
      {
        "duration": 2373,
        "start_time": "2023-06-16T03:34:42.340Z"
      },
      {
        "duration": 7710,
        "start_time": "2023-06-16T03:34:44.715Z"
      },
      {
        "duration": 7,
        "start_time": "2023-06-16T03:34:52.427Z"
      },
      {
        "duration": 65,
        "start_time": "2023-06-16T03:34:52.436Z"
      },
      {
        "duration": 29,
        "start_time": "2023-06-16T03:34:52.503Z"
      },
      {
        "duration": 49,
        "start_time": "2023-06-16T03:34:52.535Z"
      },
      {
        "duration": 30,
        "start_time": "2023-06-16T03:34:57.196Z"
      },
      {
        "duration": 51,
        "start_time": "2023-06-16T03:35:09.923Z"
      },
      {
        "duration": 313,
        "start_time": "2023-06-16T03:41:16.576Z"
      },
      {
        "duration": 160,
        "start_time": "2023-06-16T03:41:17.727Z"
      },
      {
        "duration": 3244,
        "start_time": "2023-06-16T03:42:20.144Z"
      },
      {
        "duration": 3125,
        "start_time": "2023-06-16T03:42:23.402Z"
      },
      {
        "duration": 141,
        "start_time": "2023-06-16T03:42:48.220Z"
      },
      {
        "duration": 97,
        "start_time": "2023-06-16T03:43:07.140Z"
      },
      {
        "duration": 48,
        "start_time": "2023-06-16T03:43:18.977Z"
      },
      {
        "duration": 2872,
        "start_time": "2023-06-16T03:43:25.222Z"
      },
      {
        "duration": 3425,
        "start_time": "2023-06-16T03:43:28.111Z"
      },
      {
        "duration": 2935,
        "start_time": "2023-06-16T03:43:31.539Z"
      },
      {
        "duration": 2971,
        "start_time": "2023-06-16T03:43:34.477Z"
      },
      {
        "duration": 4084,
        "start_time": "2023-06-16T03:43:37.451Z"
      },
      {
        "duration": 8,
        "start_time": "2023-06-16T03:43:41.537Z"
      },
      {
        "duration": 383,
        "start_time": "2023-06-16T03:43:41.547Z"
      },
      {
        "duration": 27,
        "start_time": "2023-06-16T03:43:41.932Z"
      },
      {
        "duration": 68,
        "start_time": "2023-06-16T03:43:41.961Z"
      },
      {
        "duration": 32,
        "start_time": "2023-06-16T03:43:42.033Z"
      },
      {
        "duration": 71,
        "start_time": "2023-06-16T03:43:42.067Z"
      },
      {
        "duration": 40,
        "start_time": "2023-06-16T03:43:42.140Z"
      },
      {
        "duration": 62,
        "start_time": "2023-06-16T03:43:42.182Z"
      },
      {
        "duration": 19,
        "start_time": "2023-06-16T03:43:42.246Z"
      },
      {
        "duration": 126,
        "start_time": "2023-06-16T03:43:42.267Z"
      },
      {
        "duration": 47,
        "start_time": "2023-06-16T03:43:42.395Z"
      },
      {
        "duration": 80,
        "start_time": "2023-06-16T03:43:42.443Z"
      },
      {
        "duration": 46,
        "start_time": "2023-06-16T03:43:42.526Z"
      },
      {
        "duration": 70,
        "start_time": "2023-06-16T03:43:42.580Z"
      },
      {
        "duration": 87,
        "start_time": "2023-06-16T03:43:42.659Z"
      },
      {
        "duration": 59,
        "start_time": "2023-06-16T03:43:42.748Z"
      },
      {
        "duration": 71,
        "start_time": "2023-06-16T03:43:42.809Z"
      },
      {
        "duration": 61,
        "start_time": "2023-06-16T03:43:42.882Z"
      },
      {
        "duration": 54,
        "start_time": "2023-06-16T03:43:42.945Z"
      },
      {
        "duration": 37,
        "start_time": "2023-06-16T03:43:43.005Z"
      },
      {
        "duration": 43,
        "start_time": "2023-06-16T03:43:43.044Z"
      },
      {
        "duration": 48,
        "start_time": "2023-06-16T03:43:43.089Z"
      },
      {
        "duration": 2720,
        "start_time": "2023-06-16T03:43:43.142Z"
      },
      {
        "duration": 8183,
        "start_time": "2023-06-16T03:43:45.863Z"
      },
      {
        "duration": 16,
        "start_time": "2023-06-16T03:43:54.047Z"
      },
      {
        "duration": 72,
        "start_time": "2023-06-16T03:43:54.065Z"
      },
      {
        "duration": 32,
        "start_time": "2023-06-16T03:43:54.139Z"
      },
      {
        "duration": 50,
        "start_time": "2023-06-16T03:43:54.182Z"
      },
      {
        "duration": 61,
        "start_time": "2023-06-16T03:43:54.234Z"
      },
      {
        "duration": 339,
        "start_time": "2023-06-16T03:43:54.300Z"
      },
      {
        "duration": 179,
        "start_time": "2023-06-16T03:43:54.641Z"
      },
      {
        "duration": 3345,
        "start_time": "2023-06-16T03:43:54.822Z"
      },
      {
        "duration": 2995,
        "start_time": "2023-06-16T03:43:58.169Z"
      },
      {
        "duration": 103,
        "start_time": "2023-06-16T03:44:01.175Z"
      },
      {
        "duration": 150,
        "start_time": "2023-06-16T03:44:01.284Z"
      },
      {
        "duration": 53,
        "start_time": "2023-06-16T03:44:01.436Z"
      },
      {
        "duration": 689,
        "start_time": "2023-06-16T03:45:42.083Z"
      },
      {
        "duration": 3569,
        "start_time": "2023-06-16T03:49:16.549Z"
      },
      {
        "duration": 3090,
        "start_time": "2023-06-16T03:49:20.121Z"
      },
      {
        "duration": 3306,
        "start_time": "2023-06-16T03:49:23.214Z"
      },
      {
        "duration": 2937,
        "start_time": "2023-06-16T03:49:26.522Z"
      },
      {
        "duration": 2782,
        "start_time": "2023-06-16T03:49:29.461Z"
      },
      {
        "duration": 16,
        "start_time": "2023-06-16T03:49:32.245Z"
      },
      {
        "duration": 308,
        "start_time": "2023-06-16T03:49:32.263Z"
      },
      {
        "duration": 46,
        "start_time": "2023-06-16T03:49:32.574Z"
      },
      {
        "duration": 71,
        "start_time": "2023-06-16T03:49:32.622Z"
      },
      {
        "duration": 53,
        "start_time": "2023-06-16T03:49:32.700Z"
      },
      {
        "duration": 20,
        "start_time": "2023-06-16T03:49:32.760Z"
      },
      {
        "duration": 59,
        "start_time": "2023-06-16T03:49:32.782Z"
      },
      {
        "duration": 36,
        "start_time": "2023-06-16T03:49:32.843Z"
      },
      {
        "duration": 37,
        "start_time": "2023-06-16T03:49:32.894Z"
      },
      {
        "duration": 72,
        "start_time": "2023-06-16T03:49:32.933Z"
      },
      {
        "duration": 39,
        "start_time": "2023-06-16T03:49:33.007Z"
      },
      {
        "duration": 74,
        "start_time": "2023-06-16T03:49:33.048Z"
      },
      {
        "duration": 16,
        "start_time": "2023-06-16T03:49:33.124Z"
      },
      {
        "duration": 37,
        "start_time": "2023-06-16T03:49:33.152Z"
      },
      {
        "duration": 27,
        "start_time": "2023-06-16T03:49:33.191Z"
      },
      {
        "duration": 10,
        "start_time": "2023-06-16T03:49:33.220Z"
      },
      {
        "duration": 47,
        "start_time": "2023-06-16T03:49:33.232Z"
      },
      {
        "duration": 43,
        "start_time": "2023-06-16T03:49:33.281Z"
      },
      {
        "duration": 18,
        "start_time": "2023-06-16T03:49:33.327Z"
      },
      {
        "duration": 60,
        "start_time": "2023-06-16T03:49:33.347Z"
      },
      {
        "duration": 12,
        "start_time": "2023-06-16T03:49:33.410Z"
      },
      {
        "duration": 10,
        "start_time": "2023-06-16T03:49:33.424Z"
      },
      {
        "duration": 2448,
        "start_time": "2023-06-16T03:49:33.436Z"
      },
      {
        "duration": 7538,
        "start_time": "2023-06-16T03:49:35.887Z"
      },
      {
        "duration": 9,
        "start_time": "2023-06-16T03:49:43.427Z"
      },
      {
        "duration": 77,
        "start_time": "2023-06-16T03:49:43.438Z"
      },
      {
        "duration": 21,
        "start_time": "2023-06-16T03:49:43.517Z"
      },
      {
        "duration": 68,
        "start_time": "2023-06-16T03:49:43.540Z"
      },
      {
        "duration": 55,
        "start_time": "2023-06-16T03:49:43.610Z"
      },
      {
        "duration": 603,
        "start_time": "2023-06-16T03:49:43.667Z"
      },
      {
        "duration": 0,
        "start_time": "2023-06-16T03:49:44.276Z"
      },
      {
        "duration": 0,
        "start_time": "2023-06-16T03:49:44.277Z"
      },
      {
        "duration": 0,
        "start_time": "2023-06-16T03:49:44.278Z"
      },
      {
        "duration": 0,
        "start_time": "2023-06-16T03:49:44.279Z"
      },
      {
        "duration": 0,
        "start_time": "2023-06-16T03:49:44.280Z"
      },
      {
        "duration": 0,
        "start_time": "2023-06-16T03:49:44.281Z"
      },
      {
        "duration": 19,
        "start_time": "2023-06-16T03:50:30.428Z"
      },
      {
        "duration": 24,
        "start_time": "2023-06-16T03:50:42.078Z"
      },
      {
        "duration": 477,
        "start_time": "2023-06-16T03:50:58.419Z"
      },
      {
        "duration": 162,
        "start_time": "2023-06-16T03:51:05.987Z"
      },
      {
        "duration": 2967,
        "start_time": "2023-06-16T03:51:11.582Z"
      },
      {
        "duration": 2756,
        "start_time": "2023-06-16T03:51:17.386Z"
      },
      {
        "duration": 99,
        "start_time": "2023-06-16T03:51:23.032Z"
      },
      {
        "duration": 105,
        "start_time": "2023-06-16T03:51:31.114Z"
      },
      {
        "duration": 36,
        "start_time": "2023-06-16T03:51:51.286Z"
      },
      {
        "duration": 45,
        "start_time": "2023-06-16T03:51:52.774Z"
      },
      {
        "duration": 81,
        "start_time": "2023-06-16T03:51:58.336Z"
      },
      {
        "duration": 51,
        "start_time": "2023-06-16T03:52:10.078Z"
      },
      {
        "duration": 23,
        "start_time": "2023-06-16T03:52:20.222Z"
      },
      {
        "duration": 32,
        "start_time": "2023-06-16T03:52:25.579Z"
      },
      {
        "duration": 24,
        "start_time": "2023-06-16T03:52:29.920Z"
      },
      {
        "duration": 29,
        "start_time": "2023-06-16T03:52:33.579Z"
      },
      {
        "duration": 26,
        "start_time": "2023-06-16T03:52:38.123Z"
      },
      {
        "duration": 35,
        "start_time": "2023-06-16T03:52:41.333Z"
      },
      {
        "duration": 38,
        "start_time": "2023-06-16T03:52:43.434Z"
      },
      {
        "duration": 40,
        "start_time": "2023-06-16T03:52:45.680Z"
      },
      {
        "duration": 8,
        "start_time": "2023-06-16T03:53:09.618Z"
      },
      {
        "duration": 18,
        "start_time": "2023-06-16T03:53:09.899Z"
      },
      {
        "duration": 13,
        "start_time": "2023-06-16T03:53:10.246Z"
      },
      {
        "duration": 95,
        "start_time": "2023-06-16T03:53:13.127Z"
      },
      {
        "duration": 38,
        "start_time": "2023-06-16T04:00:33.737Z"
      },
      {
        "duration": 4,
        "start_time": "2023-06-16T04:00:48.543Z"
      },
      {
        "duration": 15,
        "start_time": "2023-06-16T04:01:14.703Z"
      },
      {
        "duration": 606,
        "start_time": "2023-06-16T04:02:35.029Z"
      },
      {
        "duration": 12,
        "start_time": "2023-06-16T04:03:13.704Z"
      },
      {
        "duration": 16,
        "start_time": "2023-06-16T04:04:00.137Z"
      },
      {
        "duration": 18,
        "start_time": "2023-06-16T04:04:26.388Z"
      },
      {
        "duration": 11,
        "start_time": "2023-06-16T04:04:41.502Z"
      },
      {
        "duration": 9,
        "start_time": "2023-06-16T04:04:44.497Z"
      },
      {
        "duration": 15,
        "start_time": "2023-06-16T04:05:21.966Z"
      },
      {
        "duration": 14,
        "start_time": "2023-06-16T04:05:22.392Z"
      },
      {
        "duration": 59,
        "start_time": "2023-06-16T04:05:26.944Z"
      },
      {
        "duration": 31,
        "start_time": "2023-06-16T04:05:31.204Z"
      },
      {
        "duration": 29,
        "start_time": "2023-06-16T04:13:29.420Z"
      },
      {
        "duration": 32,
        "start_time": "2023-06-16T04:14:06.507Z"
      },
      {
        "duration": 7,
        "start_time": "2023-06-16T04:14:27.811Z"
      },
      {
        "duration": 2594,
        "start_time": "2023-06-16T04:15:41.394Z"
      },
      {
        "duration": 2604,
        "start_time": "2023-06-16T04:15:43.990Z"
      },
      {
        "duration": 2795,
        "start_time": "2023-06-16T04:15:46.601Z"
      },
      {
        "duration": 2745,
        "start_time": "2023-06-16T04:15:49.403Z"
      },
      {
        "duration": 2747,
        "start_time": "2023-06-16T04:15:52.152Z"
      },
      {
        "duration": 11,
        "start_time": "2023-06-16T04:15:54.903Z"
      },
      {
        "duration": 346,
        "start_time": "2023-06-16T04:15:54.916Z"
      },
      {
        "duration": 28,
        "start_time": "2023-06-16T04:15:55.264Z"
      },
      {
        "duration": 55,
        "start_time": "2023-06-16T04:15:55.294Z"
      },
      {
        "duration": 78,
        "start_time": "2023-06-16T04:15:55.352Z"
      },
      {
        "duration": 87,
        "start_time": "2023-06-16T04:15:55.433Z"
      },
      {
        "duration": 55,
        "start_time": "2023-06-16T04:15:55.522Z"
      },
      {
        "duration": 28,
        "start_time": "2023-06-16T04:15:55.588Z"
      },
      {
        "duration": 10,
        "start_time": "2023-06-16T04:15:55.621Z"
      },
      {
        "duration": 70,
        "start_time": "2023-06-16T04:15:55.633Z"
      },
      {
        "duration": 58,
        "start_time": "2023-06-16T04:15:55.710Z"
      },
      {
        "duration": 62,
        "start_time": "2023-06-16T04:15:55.780Z"
      },
      {
        "duration": 24,
        "start_time": "2023-06-16T04:15:55.843Z"
      },
      {
        "duration": 34,
        "start_time": "2023-06-16T04:15:55.881Z"
      },
      {
        "duration": 8,
        "start_time": "2023-06-16T04:15:55.918Z"
      },
      {
        "duration": 6,
        "start_time": "2023-06-16T04:15:55.928Z"
      },
      {
        "duration": 6,
        "start_time": "2023-06-16T04:15:55.935Z"
      },
      {
        "duration": 8,
        "start_time": "2023-06-16T04:15:55.943Z"
      },
      {
        "duration": 62,
        "start_time": "2023-06-16T04:15:55.953Z"
      },
      {
        "duration": 6,
        "start_time": "2023-06-16T04:15:56.017Z"
      },
      {
        "duration": 16,
        "start_time": "2023-06-16T04:15:56.025Z"
      },
      {
        "duration": 6,
        "start_time": "2023-06-16T04:15:56.043Z"
      },
      {
        "duration": 2630,
        "start_time": "2023-06-16T04:15:56.051Z"
      },
      {
        "duration": 7253,
        "start_time": "2023-06-16T04:15:58.683Z"
      },
      {
        "duration": 46,
        "start_time": "2023-06-16T04:16:05.939Z"
      },
      {
        "duration": 102,
        "start_time": "2023-06-16T04:16:05.995Z"
      },
      {
        "duration": 51,
        "start_time": "2023-06-16T04:16:06.102Z"
      },
      {
        "duration": 73,
        "start_time": "2023-06-16T04:16:06.155Z"
      },
      {
        "duration": 72,
        "start_time": "2023-06-16T04:16:06.230Z"
      },
      {
        "duration": 10,
        "start_time": "2023-06-16T04:16:06.306Z"
      },
      {
        "duration": 321,
        "start_time": "2023-06-16T04:16:06.318Z"
      },
      {
        "duration": 191,
        "start_time": "2023-06-16T04:16:06.642Z"
      },
      {
        "duration": 3203,
        "start_time": "2023-06-16T04:16:06.835Z"
      },
      {
        "duration": 2828,
        "start_time": "2023-06-16T04:16:10.041Z"
      },
      {
        "duration": 84,
        "start_time": "2023-06-16T04:16:12.871Z"
      },
      {
        "duration": 43,
        "start_time": "2023-06-16T04:16:24.344Z"
      },
      {
        "duration": 39,
        "start_time": "2023-06-16T04:16:28.875Z"
      },
      {
        "duration": 43,
        "start_time": "2023-06-16T04:16:32.578Z"
      },
      {
        "duration": 23,
        "start_time": "2023-06-16T04:16:35.801Z"
      },
      {
        "duration": 40,
        "start_time": "2023-06-16T04:16:40.075Z"
      },
      {
        "duration": 37,
        "start_time": "2023-06-16T04:16:43.602Z"
      },
      {
        "duration": 26,
        "start_time": "2023-06-16T04:16:45.898Z"
      },
      {
        "duration": 29,
        "start_time": "2023-06-16T04:16:51.274Z"
      },
      {
        "duration": 100,
        "start_time": "2023-06-16T04:16:51.306Z"
      },
      {
        "duration": 41,
        "start_time": "2023-06-16T04:16:51.408Z"
      },
      {
        "duration": 13,
        "start_time": "2023-06-16T04:16:54.842Z"
      },
      {
        "duration": 25,
        "start_time": "2023-06-16T04:17:10.981Z"
      },
      {
        "duration": 10,
        "start_time": "2023-06-16T04:17:13.804Z"
      },
      {
        "duration": 3135,
        "start_time": "2023-06-16T04:17:34.768Z"
      },
      {
        "duration": 3134,
        "start_time": "2023-06-16T04:17:37.910Z"
      },
      {
        "duration": 2994,
        "start_time": "2023-06-16T04:17:41.047Z"
      },
      {
        "duration": 3098,
        "start_time": "2023-06-16T04:17:44.044Z"
      },
      {
        "duration": 3147,
        "start_time": "2023-06-16T04:17:47.146Z"
      },
      {
        "duration": 16,
        "start_time": "2023-06-16T04:17:50.300Z"
      },
      {
        "duration": 411,
        "start_time": "2023-06-16T04:17:50.319Z"
      },
      {
        "duration": 44,
        "start_time": "2023-06-16T04:17:50.735Z"
      },
      {
        "duration": 40,
        "start_time": "2023-06-16T04:17:50.791Z"
      },
      {
        "duration": 43,
        "start_time": "2023-06-16T04:17:50.837Z"
      },
      {
        "duration": 52,
        "start_time": "2023-06-16T04:17:50.882Z"
      },
      {
        "duration": 28,
        "start_time": "2023-06-16T04:17:50.936Z"
      },
      {
        "duration": 43,
        "start_time": "2023-06-16T04:17:50.966Z"
      },
      {
        "duration": 30,
        "start_time": "2023-06-16T04:17:51.015Z"
      },
      {
        "duration": 86,
        "start_time": "2023-06-16T04:17:51.047Z"
      },
      {
        "duration": 68,
        "start_time": "2023-06-16T04:17:51.136Z"
      },
      {
        "duration": 84,
        "start_time": "2023-06-16T04:17:51.210Z"
      },
      {
        "duration": 47,
        "start_time": "2023-06-16T04:17:51.297Z"
      },
      {
        "duration": 13,
        "start_time": "2023-06-16T04:17:51.347Z"
      },
      {
        "duration": 72,
        "start_time": "2023-06-16T04:17:51.362Z"
      },
      {
        "duration": 10,
        "start_time": "2023-06-16T04:17:51.437Z"
      },
      {
        "duration": 61,
        "start_time": "2023-06-16T04:17:51.450Z"
      },
      {
        "duration": 13,
        "start_time": "2023-06-16T04:17:51.517Z"
      },
      {
        "duration": 15,
        "start_time": "2023-06-16T04:17:51.532Z"
      },
      {
        "duration": 65,
        "start_time": "2023-06-16T04:17:51.549Z"
      },
      {
        "duration": 10,
        "start_time": "2023-06-16T04:17:51.617Z"
      },
      {
        "duration": 21,
        "start_time": "2023-06-16T04:17:51.629Z"
      },
      {
        "duration": 2678,
        "start_time": "2023-06-16T04:17:51.653Z"
      },
      {
        "duration": 7725,
        "start_time": "2023-06-16T04:17:54.333Z"
      },
      {
        "duration": 20,
        "start_time": "2023-06-16T04:18:02.064Z"
      },
      {
        "duration": 115,
        "start_time": "2023-06-16T04:18:02.086Z"
      },
      {
        "duration": 43,
        "start_time": "2023-06-16T04:18:02.204Z"
      },
      {
        "duration": 68,
        "start_time": "2023-06-16T04:18:02.249Z"
      },
      {
        "duration": 113,
        "start_time": "2023-06-16T04:18:02.325Z"
      },
      {
        "duration": 7,
        "start_time": "2023-06-16T04:18:02.440Z"
      },
      {
        "duration": 567,
        "start_time": "2023-06-16T04:18:02.449Z"
      },
      {
        "duration": 213,
        "start_time": "2023-06-16T04:18:03.019Z"
      },
      {
        "duration": 3566,
        "start_time": "2023-06-16T04:18:03.234Z"
      },
      {
        "duration": 3196,
        "start_time": "2023-06-16T04:18:06.810Z"
      },
      {
        "duration": 158,
        "start_time": "2023-06-16T04:18:15.379Z"
      },
      {
        "duration": 100,
        "start_time": "2023-06-16T04:20:52.835Z"
      },
      {
        "duration": 431,
        "start_time": "2023-06-16T04:20:55.782Z"
      },
      {
        "duration": 3079,
        "start_time": "2023-06-16T04:21:43.612Z"
      },
      {
        "duration": 2772,
        "start_time": "2023-06-16T04:21:46.697Z"
      },
      {
        "duration": 2789,
        "start_time": "2023-06-16T04:21:49.476Z"
      },
      {
        "duration": 2841,
        "start_time": "2023-06-16T04:21:52.268Z"
      },
      {
        "duration": 2835,
        "start_time": "2023-06-16T04:21:55.111Z"
      },
      {
        "duration": 12,
        "start_time": "2023-06-16T04:21:57.948Z"
      },
      {
        "duration": 383,
        "start_time": "2023-06-16T04:21:57.966Z"
      },
      {
        "duration": 47,
        "start_time": "2023-06-16T04:21:58.351Z"
      },
      {
        "duration": 66,
        "start_time": "2023-06-16T04:21:58.400Z"
      },
      {
        "duration": 78,
        "start_time": "2023-06-16T04:21:58.470Z"
      },
      {
        "duration": 75,
        "start_time": "2023-06-16T04:21:58.550Z"
      },
      {
        "duration": 45,
        "start_time": "2023-06-16T04:21:58.628Z"
      },
      {
        "duration": 65,
        "start_time": "2023-06-16T04:21:58.675Z"
      },
      {
        "duration": 22,
        "start_time": "2023-06-16T04:21:58.742Z"
      },
      {
        "duration": 127,
        "start_time": "2023-06-16T04:21:58.774Z"
      },
      {
        "duration": 70,
        "start_time": "2023-06-16T04:21:58.903Z"
      },
      {
        "duration": 63,
        "start_time": "2023-06-16T04:21:58.975Z"
      },
      {
        "duration": 93,
        "start_time": "2023-06-16T04:21:59.039Z"
      },
      {
        "duration": 20,
        "start_time": "2023-06-16T04:21:59.134Z"
      },
      {
        "duration": 59,
        "start_time": "2023-06-16T04:21:59.156Z"
      },
      {
        "duration": 96,
        "start_time": "2023-06-16T04:21:59.217Z"
      },
      {
        "duration": 16,
        "start_time": "2023-06-16T04:21:59.315Z"
      },
      {
        "duration": 12,
        "start_time": "2023-06-16T04:21:59.333Z"
      },
      {
        "duration": 76,
        "start_time": "2023-06-16T04:21:59.348Z"
      },
      {
        "duration": 41,
        "start_time": "2023-06-16T04:21:59.427Z"
      },
      {
        "duration": 54,
        "start_time": "2023-06-16T04:21:59.470Z"
      },
      {
        "duration": 4,
        "start_time": "2023-06-16T04:21:59.527Z"
      },
      {
        "duration": 2780,
        "start_time": "2023-06-16T04:21:59.535Z"
      },
      {
        "duration": 7007,
        "start_time": "2023-06-16T04:22:02.319Z"
      },
      {
        "duration": 8,
        "start_time": "2023-06-16T04:22:09.328Z"
      },
      {
        "duration": 12,
        "start_time": "2023-06-16T04:22:09.337Z"
      },
      {
        "duration": 72,
        "start_time": "2023-06-16T04:22:09.351Z"
      },
      {
        "duration": 11,
        "start_time": "2023-06-16T04:22:09.426Z"
      },
      {
        "duration": 77,
        "start_time": "2023-06-16T04:22:09.438Z"
      },
      {
        "duration": 8,
        "start_time": "2023-06-16T04:22:09.517Z"
      },
      {
        "duration": 371,
        "start_time": "2023-06-16T04:22:09.527Z"
      },
      {
        "duration": 159,
        "start_time": "2023-06-16T04:22:09.900Z"
      },
      {
        "duration": 3142,
        "start_time": "2023-06-16T04:22:10.062Z"
      },
      {
        "duration": 2678,
        "start_time": "2023-06-16T04:22:13.206Z"
      },
      {
        "duration": 121,
        "start_time": "2023-06-16T04:22:15.893Z"
      },
      {
        "duration": 480,
        "start_time": "2023-06-16T04:22:18.478Z"
      },
      {
        "duration": 13,
        "start_time": "2023-06-16T04:24:09.121Z"
      },
      {
        "duration": 14,
        "start_time": "2023-06-16T04:24:09.339Z"
      },
      {
        "duration": 16,
        "start_time": "2023-06-16T04:24:09.779Z"
      },
      {
        "duration": 17,
        "start_time": "2023-06-16T04:24:10.312Z"
      },
      {
        "duration": 350,
        "start_time": "2023-06-16T04:24:13.116Z"
      },
      {
        "duration": 11,
        "start_time": "2023-06-16T04:24:13.524Z"
      },
      {
        "duration": 9,
        "start_time": "2023-06-16T04:24:13.720Z"
      },
      {
        "duration": 2482,
        "start_time": "2023-06-16T04:25:17.222Z"
      },
      {
        "duration": 2677,
        "start_time": "2023-06-16T04:25:19.706Z"
      },
      {
        "duration": 2424,
        "start_time": "2023-06-16T04:25:22.391Z"
      },
      {
        "duration": 2527,
        "start_time": "2023-06-16T04:25:24.818Z"
      },
      {
        "duration": 2641,
        "start_time": "2023-06-16T04:25:27.348Z"
      },
      {
        "duration": 10,
        "start_time": "2023-06-16T04:25:29.992Z"
      },
      {
        "duration": 344,
        "start_time": "2023-06-16T04:25:30.007Z"
      },
      {
        "duration": 36,
        "start_time": "2023-06-16T04:25:30.362Z"
      },
      {
        "duration": 39,
        "start_time": "2023-06-16T04:25:30.401Z"
      },
      {
        "duration": 77,
        "start_time": "2023-06-16T04:25:30.443Z"
      },
      {
        "duration": 40,
        "start_time": "2023-06-16T04:25:30.522Z"
      },
      {
        "duration": 66,
        "start_time": "2023-06-16T04:25:30.576Z"
      },
      {
        "duration": 62,
        "start_time": "2023-06-16T04:25:30.644Z"
      },
      {
        "duration": 87,
        "start_time": "2023-06-16T04:25:30.708Z"
      },
      {
        "duration": 107,
        "start_time": "2023-06-16T04:25:30.797Z"
      },
      {
        "duration": 82,
        "start_time": "2023-06-16T04:25:30.906Z"
      },
      {
        "duration": 81,
        "start_time": "2023-06-16T04:25:30.991Z"
      },
      {
        "duration": 36,
        "start_time": "2023-06-16T04:25:31.084Z"
      },
      {
        "duration": 95,
        "start_time": "2023-06-16T04:25:31.121Z"
      },
      {
        "duration": 103,
        "start_time": "2023-06-16T04:25:31.218Z"
      },
      {
        "duration": 27,
        "start_time": "2023-06-16T04:25:31.323Z"
      },
      {
        "duration": 58,
        "start_time": "2023-06-16T04:25:31.352Z"
      },
      {
        "duration": 82,
        "start_time": "2023-06-16T04:25:31.412Z"
      },
      {
        "duration": 27,
        "start_time": "2023-06-16T04:25:31.496Z"
      },
      {
        "duration": 75,
        "start_time": "2023-06-16T04:25:31.526Z"
      },
      {
        "duration": 45,
        "start_time": "2023-06-16T04:25:31.603Z"
      },
      {
        "duration": 56,
        "start_time": "2023-06-16T04:25:31.651Z"
      },
      {
        "duration": 2359,
        "start_time": "2023-06-16T04:25:31.710Z"
      },
      {
        "duration": 6496,
        "start_time": "2023-06-16T04:25:34.070Z"
      },
      {
        "duration": 29,
        "start_time": "2023-06-16T04:25:40.571Z"
      },
      {
        "duration": 25,
        "start_time": "2023-06-16T04:25:40.603Z"
      },
      {
        "duration": 16,
        "start_time": "2023-06-16T04:25:40.630Z"
      },
      {
        "duration": 17,
        "start_time": "2023-06-16T04:25:40.648Z"
      },
      {
        "duration": 73,
        "start_time": "2023-06-16T04:25:40.669Z"
      },
      {
        "duration": 6,
        "start_time": "2023-06-16T04:25:40.744Z"
      },
      {
        "duration": 340,
        "start_time": "2023-06-16T04:25:40.762Z"
      },
      {
        "duration": 136,
        "start_time": "2023-06-16T04:25:41.104Z"
      },
      {
        "duration": 2776,
        "start_time": "2023-06-16T04:25:41.242Z"
      },
      {
        "duration": 2498,
        "start_time": "2023-06-16T04:25:44.020Z"
      },
      {
        "duration": 14,
        "start_time": "2023-06-16T04:25:50.627Z"
      },
      {
        "duration": 13,
        "start_time": "2023-06-16T04:25:50.834Z"
      },
      {
        "duration": 9,
        "start_time": "2023-06-16T04:25:51.237Z"
      },
      {
        "duration": 14,
        "start_time": "2023-06-16T04:25:51.623Z"
      },
      {
        "duration": 98,
        "start_time": "2023-06-16T04:26:16.378Z"
      },
      {
        "duration": 20,
        "start_time": "2023-06-16T04:26:18.940Z"
      },
      {
        "duration": 19,
        "start_time": "2023-06-16T04:26:19.357Z"
      },
      {
        "duration": 18,
        "start_time": "2023-06-16T04:26:19.972Z"
      },
      {
        "duration": 19971,
        "start_time": "2023-06-16T04:26:34.045Z"
      },
      {
        "duration": 75,
        "start_time": "2023-06-16T04:28:17.848Z"
      },
      {
        "duration": 41,
        "start_time": "2023-06-16T04:28:20.866Z"
      },
      {
        "duration": 2578,
        "start_time": "2023-06-16T04:31:23.409Z"
      },
      {
        "duration": 2590,
        "start_time": "2023-06-16T04:31:25.991Z"
      },
      {
        "duration": 2537,
        "start_time": "2023-06-16T04:31:28.583Z"
      },
      {
        "duration": 2663,
        "start_time": "2023-06-16T04:31:31.123Z"
      },
      {
        "duration": 2539,
        "start_time": "2023-06-16T04:31:33.789Z"
      },
      {
        "duration": 8,
        "start_time": "2023-06-16T04:31:36.331Z"
      },
      {
        "duration": 325,
        "start_time": "2023-06-16T04:31:36.342Z"
      },
      {
        "duration": 29,
        "start_time": "2023-06-16T04:31:36.669Z"
      },
      {
        "duration": 31,
        "start_time": "2023-06-16T04:31:36.700Z"
      },
      {
        "duration": 78,
        "start_time": "2023-06-16T04:31:36.733Z"
      },
      {
        "duration": 31,
        "start_time": "2023-06-16T04:31:36.813Z"
      },
      {
        "duration": 52,
        "start_time": "2023-06-16T04:31:36.847Z"
      },
      {
        "duration": 27,
        "start_time": "2023-06-16T04:31:36.901Z"
      },
      {
        "duration": 9,
        "start_time": "2023-06-16T04:31:36.932Z"
      },
      {
        "duration": 131,
        "start_time": "2023-06-16T04:31:36.943Z"
      },
      {
        "duration": 41,
        "start_time": "2023-06-16T04:31:37.075Z"
      },
      {
        "duration": 35,
        "start_time": "2023-06-16T04:31:37.118Z"
      },
      {
        "duration": 61,
        "start_time": "2023-06-16T04:31:37.154Z"
      },
      {
        "duration": 18,
        "start_time": "2023-06-16T04:31:37.217Z"
      },
      {
        "duration": 12,
        "start_time": "2023-06-16T04:31:37.237Z"
      },
      {
        "duration": 45,
        "start_time": "2023-06-16T04:31:37.251Z"
      },
      {
        "duration": 19,
        "start_time": "2023-06-16T04:31:37.298Z"
      },
      {
        "duration": 13,
        "start_time": "2023-06-16T04:31:37.318Z"
      },
      {
        "duration": 7,
        "start_time": "2023-06-16T04:31:37.333Z"
      },
      {
        "duration": 57,
        "start_time": "2023-06-16T04:31:37.342Z"
      },
      {
        "duration": 6,
        "start_time": "2023-06-16T04:31:37.401Z"
      },
      {
        "duration": 6,
        "start_time": "2023-06-16T04:31:37.409Z"
      },
      {
        "duration": 2481,
        "start_time": "2023-06-16T04:31:37.417Z"
      },
      {
        "duration": 6826,
        "start_time": "2023-06-16T04:31:39.900Z"
      },
      {
        "duration": 7,
        "start_time": "2023-06-16T04:31:46.728Z"
      },
      {
        "duration": 52,
        "start_time": "2023-06-16T04:31:46.758Z"
      },
      {
        "duration": 14,
        "start_time": "2023-06-16T04:31:46.812Z"
      },
      {
        "duration": 32,
        "start_time": "2023-06-16T04:31:46.830Z"
      },
      {
        "duration": 86,
        "start_time": "2023-06-16T04:31:46.864Z"
      },
      {
        "duration": 15,
        "start_time": "2023-06-16T04:31:46.951Z"
      },
      {
        "duration": 358,
        "start_time": "2023-06-16T04:31:46.968Z"
      },
      {
        "duration": 155,
        "start_time": "2023-06-16T04:31:47.327Z"
      },
      {
        "duration": 3027,
        "start_time": "2023-06-16T04:31:47.486Z"
      },
      {
        "duration": 2620,
        "start_time": "2023-06-16T04:31:50.515Z"
      },
      {
        "duration": 97,
        "start_time": "2023-06-16T04:31:53.137Z"
      },
      {
        "duration": 30,
        "start_time": "2023-06-16T04:31:53.238Z"
      },
      {
        "duration": 18,
        "start_time": "2023-06-16T04:31:53.274Z"
      },
      {
        "duration": 26,
        "start_time": "2023-06-16T04:31:53.294Z"
      },
      {
        "duration": 22,
        "start_time": "2023-06-16T04:32:05.143Z"
      },
      {
        "duration": 20333,
        "start_time": "2023-06-16T04:32:32.099Z"
      },
      {
        "duration": 102,
        "start_time": "2023-06-16T04:32:54.690Z"
      },
      {
        "duration": 86,
        "start_time": "2023-06-16T04:32:58.574Z"
      },
      {
        "duration": 80,
        "start_time": "2023-06-16T04:32:58.992Z"
      },
      {
        "duration": 127,
        "start_time": "2023-06-16T04:34:40.357Z"
      },
      {
        "duration": 2912,
        "start_time": "2023-06-16T04:34:43.810Z"
      },
      {
        "duration": 3251,
        "start_time": "2023-06-16T04:34:46.727Z"
      },
      {
        "duration": 3350,
        "start_time": "2023-06-16T04:34:49.983Z"
      },
      {
        "duration": 3101,
        "start_time": "2023-06-16T04:34:53.336Z"
      },
      {
        "duration": 3251,
        "start_time": "2023-06-16T04:34:56.440Z"
      },
      {
        "duration": 23,
        "start_time": "2023-06-16T04:34:59.697Z"
      },
      {
        "duration": 5815,
        "start_time": "2023-06-16T04:34:59.723Z"
      },
      {
        "duration": 0,
        "start_time": "2023-06-16T04:35:05.542Z"
      },
      {
        "duration": 0,
        "start_time": "2023-06-16T04:35:05.543Z"
      },
      {
        "duration": 0,
        "start_time": "2023-06-16T04:35:05.544Z"
      },
      {
        "duration": 0,
        "start_time": "2023-06-16T04:35:05.546Z"
      },
      {
        "duration": 0,
        "start_time": "2023-06-16T04:35:05.548Z"
      },
      {
        "duration": 0,
        "start_time": "2023-06-16T04:35:05.550Z"
      },
      {
        "duration": 0,
        "start_time": "2023-06-16T04:35:05.551Z"
      },
      {
        "duration": 0,
        "start_time": "2023-06-16T04:35:05.552Z"
      },
      {
        "duration": 0,
        "start_time": "2023-06-16T04:35:05.553Z"
      },
      {
        "duration": 0,
        "start_time": "2023-06-16T04:35:05.554Z"
      },
      {
        "duration": 0,
        "start_time": "2023-06-16T04:35:05.555Z"
      },
      {
        "duration": 0,
        "start_time": "2023-06-16T04:35:05.559Z"
      },
      {
        "duration": 0,
        "start_time": "2023-06-16T04:35:05.560Z"
      },
      {
        "duration": 0,
        "start_time": "2023-06-16T04:35:05.563Z"
      },
      {
        "duration": 0,
        "start_time": "2023-06-16T04:35:05.565Z"
      },
      {
        "duration": 0,
        "start_time": "2023-06-16T04:35:05.567Z"
      },
      {
        "duration": 0,
        "start_time": "2023-06-16T04:35:05.568Z"
      },
      {
        "duration": 0,
        "start_time": "2023-06-16T04:35:05.578Z"
      },
      {
        "duration": 0,
        "start_time": "2023-06-16T04:35:05.579Z"
      },
      {
        "duration": 0,
        "start_time": "2023-06-16T04:35:05.580Z"
      },
      {
        "duration": 0,
        "start_time": "2023-06-16T04:35:05.582Z"
      },
      {
        "duration": 0,
        "start_time": "2023-06-16T04:35:05.583Z"
      },
      {
        "duration": 0,
        "start_time": "2023-06-16T04:35:05.584Z"
      },
      {
        "duration": 0,
        "start_time": "2023-06-16T04:35:05.589Z"
      },
      {
        "duration": 0,
        "start_time": "2023-06-16T04:35:05.590Z"
      },
      {
        "duration": 0,
        "start_time": "2023-06-16T04:35:05.594Z"
      },
      {
        "duration": 0,
        "start_time": "2023-06-16T04:35:05.594Z"
      },
      {
        "duration": 0,
        "start_time": "2023-06-16T04:35:05.595Z"
      },
      {
        "duration": 0,
        "start_time": "2023-06-16T04:35:05.596Z"
      },
      {
        "duration": 0,
        "start_time": "2023-06-16T04:35:05.597Z"
      },
      {
        "duration": 0,
        "start_time": "2023-06-16T04:35:05.598Z"
      },
      {
        "duration": 0,
        "start_time": "2023-06-16T04:35:05.599Z"
      },
      {
        "duration": 0,
        "start_time": "2023-06-16T04:35:05.601Z"
      },
      {
        "duration": 3029,
        "start_time": "2023-06-16T04:35:14.379Z"
      },
      {
        "duration": 2814,
        "start_time": "2023-06-16T04:35:17.411Z"
      },
      {
        "duration": 2806,
        "start_time": "2023-06-16T04:35:20.228Z"
      },
      {
        "duration": 2996,
        "start_time": "2023-06-16T04:35:23.039Z"
      },
      {
        "duration": 2996,
        "start_time": "2023-06-16T04:35:26.038Z"
      },
      {
        "duration": 7,
        "start_time": "2023-06-16T04:35:29.038Z"
      },
      {
        "duration": 382,
        "start_time": "2023-06-16T04:35:29.047Z"
      },
      {
        "duration": 32,
        "start_time": "2023-06-16T04:35:29.431Z"
      },
      {
        "duration": 70,
        "start_time": "2023-06-16T04:35:29.465Z"
      },
      {
        "duration": 70,
        "start_time": "2023-06-16T04:35:29.537Z"
      },
      {
        "duration": 58,
        "start_time": "2023-06-16T04:35:29.610Z"
      },
      {
        "duration": 262,
        "start_time": "2023-06-16T04:35:29.670Z"
      },
      {
        "duration": 26,
        "start_time": "2023-06-16T04:35:29.934Z"
      },
      {
        "duration": 18,
        "start_time": "2023-06-16T04:35:29.976Z"
      },
      {
        "duration": 148,
        "start_time": "2023-06-16T04:35:29.996Z"
      },
      {
        "duration": 37,
        "start_time": "2023-06-16T04:35:30.146Z"
      },
      {
        "duration": 88,
        "start_time": "2023-06-16T04:35:30.185Z"
      },
      {
        "duration": 72,
        "start_time": "2023-06-16T04:35:30.278Z"
      },
      {
        "duration": 105,
        "start_time": "2023-06-16T04:35:30.358Z"
      },
      {
        "duration": 143,
        "start_time": "2023-06-16T04:35:30.473Z"
      },
      {
        "duration": 24,
        "start_time": "2023-06-16T04:35:30.618Z"
      },
      {
        "duration": 74,
        "start_time": "2023-06-16T04:35:30.644Z"
      },
      {
        "duration": 22,
        "start_time": "2023-06-16T04:35:30.720Z"
      },
      {
        "duration": 67,
        "start_time": "2023-06-16T04:35:30.744Z"
      },
      {
        "duration": 23,
        "start_time": "2023-06-16T04:35:30.812Z"
      },
      {
        "duration": 85,
        "start_time": "2023-06-16T04:35:30.837Z"
      },
      {
        "duration": 20,
        "start_time": "2023-06-16T04:35:30.924Z"
      },
      {
        "duration": 2639,
        "start_time": "2023-06-16T04:35:30.946Z"
      },
      {
        "duration": 7040,
        "start_time": "2023-06-16T04:35:33.596Z"
      },
      {
        "duration": 31,
        "start_time": "2023-06-16T04:35:40.639Z"
      },
      {
        "duration": 38,
        "start_time": "2023-06-16T04:35:40.674Z"
      },
      {
        "duration": 17,
        "start_time": "2023-06-16T04:35:40.713Z"
      },
      {
        "duration": 29,
        "start_time": "2023-06-16T04:35:40.732Z"
      },
      {
        "duration": 81,
        "start_time": "2023-06-16T04:35:40.764Z"
      },
      {
        "duration": 6,
        "start_time": "2023-06-16T04:35:40.847Z"
      },
      {
        "duration": 427,
        "start_time": "2023-06-16T04:35:40.856Z"
      },
      {
        "duration": 188,
        "start_time": "2023-06-16T04:35:41.289Z"
      },
      {
        "duration": 3176,
        "start_time": "2023-06-16T04:35:41.479Z"
      },
      {
        "duration": 2777,
        "start_time": "2023-06-16T04:35:44.657Z"
      },
      {
        "duration": 91,
        "start_time": "2023-06-16T04:35:47.436Z"
      },
      {
        "duration": 84,
        "start_time": "2023-06-16T04:36:19.540Z"
      },
      {
        "duration": 4,
        "start_time": "2023-06-16T04:36:36.102Z"
      },
      {
        "duration": 10,
        "start_time": "2023-06-16T04:36:56.209Z"
      },
      {
        "duration": 15,
        "start_time": "2023-06-16T04:37:04.421Z"
      },
      {
        "duration": 14,
        "start_time": "2023-06-16T04:37:04.607Z"
      },
      {
        "duration": 7,
        "start_time": "2023-06-16T04:37:04.804Z"
      },
      {
        "duration": 12957,
        "start_time": "2023-06-16T04:37:07.997Z"
      },
      {
        "duration": 0,
        "start_time": "2023-06-16T04:37:20.956Z"
      },
      {
        "duration": 3636,
        "start_time": "2023-06-16T04:41:07.397Z"
      },
      {
        "duration": 2777,
        "start_time": "2023-06-16T04:41:11.038Z"
      },
      {
        "duration": 2809,
        "start_time": "2023-06-16T04:41:13.818Z"
      },
      {
        "duration": 2883,
        "start_time": "2023-06-16T04:41:16.631Z"
      },
      {
        "duration": 3170,
        "start_time": "2023-06-16T04:41:19.519Z"
      },
      {
        "duration": 25,
        "start_time": "2023-06-16T04:41:22.696Z"
      },
      {
        "duration": 440,
        "start_time": "2023-06-16T04:41:22.724Z"
      },
      {
        "duration": 53,
        "start_time": "2023-06-16T04:41:23.168Z"
      },
      {
        "duration": 51,
        "start_time": "2023-06-16T04:41:23.227Z"
      },
      {
        "duration": 79,
        "start_time": "2023-06-16T04:41:23.289Z"
      },
      {
        "duration": 33,
        "start_time": "2023-06-16T04:41:23.370Z"
      },
      {
        "duration": 140,
        "start_time": "2023-06-16T04:41:23.405Z"
      },
      {
        "duration": 52,
        "start_time": "2023-06-16T04:41:23.548Z"
      },
      {
        "duration": 22,
        "start_time": "2023-06-16T04:41:23.609Z"
      },
      {
        "duration": 85,
        "start_time": "2023-06-16T04:41:23.633Z"
      },
      {
        "duration": 64,
        "start_time": "2023-06-16T04:41:23.721Z"
      },
      {
        "duration": 52,
        "start_time": "2023-06-16T04:41:23.787Z"
      },
      {
        "duration": 53,
        "start_time": "2023-06-16T04:41:23.841Z"
      },
      {
        "duration": 14,
        "start_time": "2023-06-16T04:41:23.896Z"
      },
      {
        "duration": 4,
        "start_time": "2023-06-16T04:41:23.912Z"
      },
      {
        "duration": 11,
        "start_time": "2023-06-16T04:41:23.918Z"
      },
      {
        "duration": 8,
        "start_time": "2023-06-16T04:41:23.931Z"
      },
      {
        "duration": 18,
        "start_time": "2023-06-16T04:41:23.941Z"
      },
      {
        "duration": 33,
        "start_time": "2023-06-16T04:41:23.964Z"
      },
      {
        "duration": 15,
        "start_time": "2023-06-16T04:41:23.998Z"
      },
      {
        "duration": 18,
        "start_time": "2023-06-16T04:41:24.017Z"
      },
      {
        "duration": 10,
        "start_time": "2023-06-16T04:41:24.037Z"
      },
      {
        "duration": 2944,
        "start_time": "2023-06-16T04:41:24.049Z"
      },
      {
        "duration": 8363,
        "start_time": "2023-06-16T04:41:26.995Z"
      },
      {
        "duration": 12,
        "start_time": "2023-06-16T04:41:35.361Z"
      },
      {
        "duration": 89,
        "start_time": "2023-06-16T04:41:35.375Z"
      },
      {
        "duration": 83,
        "start_time": "2023-06-16T04:41:35.467Z"
      },
      {
        "duration": 45,
        "start_time": "2023-06-16T04:41:35.554Z"
      },
      {
        "duration": 78,
        "start_time": "2023-06-16T04:41:35.605Z"
      },
      {
        "duration": 13,
        "start_time": "2023-06-16T04:41:35.686Z"
      },
      {
        "duration": 477,
        "start_time": "2023-06-16T04:41:35.702Z"
      },
      {
        "duration": 234,
        "start_time": "2023-06-16T04:41:36.186Z"
      },
      {
        "duration": 3960,
        "start_time": "2023-06-16T04:41:36.425Z"
      },
      {
        "duration": 3392,
        "start_time": "2023-06-16T04:41:40.393Z"
      },
      {
        "duration": 108,
        "start_time": "2023-06-16T04:41:43.796Z"
      },
      {
        "duration": 13,
        "start_time": "2023-06-16T04:41:43.915Z"
      },
      {
        "duration": 18,
        "start_time": "2023-06-16T04:41:43.930Z"
      },
      {
        "duration": 41,
        "start_time": "2023-06-16T04:41:43.958Z"
      },
      {
        "duration": 15274,
        "start_time": "2023-06-16T04:42:18.308Z"
      },
      {
        "duration": 69,
        "start_time": "2023-06-16T04:43:41.391Z"
      },
      {
        "duration": 3811,
        "start_time": "2023-06-16T04:48:05.528Z"
      },
      {
        "duration": 2893,
        "start_time": "2023-06-16T04:48:09.342Z"
      },
      {
        "duration": 2706,
        "start_time": "2023-06-16T04:48:12.238Z"
      },
      {
        "duration": 2663,
        "start_time": "2023-06-16T04:48:14.947Z"
      },
      {
        "duration": 2812,
        "start_time": "2023-06-16T04:48:17.612Z"
      },
      {
        "duration": 8,
        "start_time": "2023-06-16T04:48:20.427Z"
      },
      {
        "duration": 328,
        "start_time": "2023-06-16T04:48:20.436Z"
      },
      {
        "duration": 41,
        "start_time": "2023-06-16T04:48:20.766Z"
      },
      {
        "duration": 30,
        "start_time": "2023-06-16T04:48:20.810Z"
      },
      {
        "duration": 46,
        "start_time": "2023-06-16T04:48:20.842Z"
      },
      {
        "duration": 39,
        "start_time": "2023-06-16T04:48:20.890Z"
      },
      {
        "duration": 38,
        "start_time": "2023-06-16T04:48:20.931Z"
      },
      {
        "duration": 33,
        "start_time": "2023-06-16T04:48:20.971Z"
      },
      {
        "duration": 35,
        "start_time": "2023-06-16T04:48:21.006Z"
      },
      {
        "duration": 82,
        "start_time": "2023-06-16T04:48:21.043Z"
      },
      {
        "duration": 42,
        "start_time": "2023-06-16T04:48:21.127Z"
      },
      {
        "duration": 103,
        "start_time": "2023-06-16T04:48:21.171Z"
      },
      {
        "duration": 68,
        "start_time": "2023-06-16T04:48:21.276Z"
      },
      {
        "duration": 65,
        "start_time": "2023-06-16T04:48:21.347Z"
      },
      {
        "duration": 15,
        "start_time": "2023-06-16T04:48:21.415Z"
      },
      {
        "duration": 10,
        "start_time": "2023-06-16T04:48:21.431Z"
      },
      {
        "duration": 659,
        "start_time": "2023-06-16T04:48:21.443Z"
      },
      {
        "duration": 18,
        "start_time": "2023-06-16T04:48:22.104Z"
      },
      {
        "duration": 17,
        "start_time": "2023-06-16T04:48:22.124Z"
      },
      {
        "duration": 72,
        "start_time": "2023-06-16T04:48:22.143Z"
      },
      {
        "duration": 6,
        "start_time": "2023-06-16T04:48:22.216Z"
      },
      {
        "duration": 6,
        "start_time": "2023-06-16T04:48:22.224Z"
      },
      {
        "duration": 2693,
        "start_time": "2023-06-16T04:48:22.233Z"
      },
      {
        "duration": 7108,
        "start_time": "2023-06-16T04:48:24.928Z"
      },
      {
        "duration": 18,
        "start_time": "2023-06-16T04:48:32.038Z"
      },
      {
        "duration": 60,
        "start_time": "2023-06-16T04:48:32.058Z"
      },
      {
        "duration": 21,
        "start_time": "2023-06-16T04:48:32.120Z"
      },
      {
        "duration": 72,
        "start_time": "2023-06-16T04:48:32.143Z"
      },
      {
        "duration": 51,
        "start_time": "2023-06-16T04:48:32.216Z"
      },
      {
        "duration": 7,
        "start_time": "2023-06-16T04:48:32.273Z"
      },
      {
        "duration": 545,
        "start_time": "2023-06-16T04:48:32.282Z"
      },
      {
        "duration": 186,
        "start_time": "2023-06-16T04:48:32.829Z"
      },
      {
        "duration": 3207,
        "start_time": "2023-06-16T04:48:33.017Z"
      },
      {
        "duration": 2952,
        "start_time": "2023-06-16T04:48:36.229Z"
      },
      {
        "duration": 16,
        "start_time": "2023-06-16T04:48:39.184Z"
      },
      {
        "duration": 58,
        "start_time": "2023-06-16T04:48:39.202Z"
      },
      {
        "duration": 154,
        "start_time": "2023-06-16T04:48:39.264Z"
      },
      {
        "duration": 17925,
        "start_time": "2023-06-16T04:48:39.425Z"
      },
      {
        "duration": 6104,
        "start_time": "2023-06-16T04:54:54.198Z"
      },
      {
        "duration": 2851,
        "start_time": "2023-06-16T04:55:00.308Z"
      },
      {
        "duration": 2716,
        "start_time": "2023-06-16T04:55:03.161Z"
      },
      {
        "duration": 2799,
        "start_time": "2023-06-16T04:55:05.878Z"
      },
      {
        "duration": 2988,
        "start_time": "2023-06-16T04:55:08.681Z"
      },
      {
        "duration": 14,
        "start_time": "2023-06-16T04:55:11.672Z"
      },
      {
        "duration": 347,
        "start_time": "2023-06-16T04:55:11.692Z"
      },
      {
        "duration": 47,
        "start_time": "2023-06-16T04:55:12.041Z"
      },
      {
        "duration": 53,
        "start_time": "2023-06-16T04:55:12.090Z"
      },
      {
        "duration": 50,
        "start_time": "2023-06-16T04:55:12.145Z"
      },
      {
        "duration": 29,
        "start_time": "2023-06-16T04:55:12.198Z"
      },
      {
        "duration": 77,
        "start_time": "2023-06-16T04:55:12.229Z"
      },
      {
        "duration": 21,
        "start_time": "2023-06-16T04:55:12.308Z"
      },
      {
        "duration": 8,
        "start_time": "2023-06-16T04:55:12.332Z"
      },
      {
        "duration": 101,
        "start_time": "2023-06-16T04:55:12.342Z"
      },
      {
        "duration": 43,
        "start_time": "2023-06-16T04:55:12.444Z"
      },
      {
        "duration": 68,
        "start_time": "2023-06-16T04:55:12.489Z"
      },
      {
        "duration": 90,
        "start_time": "2023-06-16T04:55:12.560Z"
      },
      {
        "duration": 76,
        "start_time": "2023-06-16T04:55:12.652Z"
      },
      {
        "duration": 8,
        "start_time": "2023-06-16T04:55:12.730Z"
      },
      {
        "duration": 6,
        "start_time": "2023-06-16T04:55:12.740Z"
      },
      {
        "duration": 56,
        "start_time": "2023-06-16T04:55:12.748Z"
      },
      {
        "duration": 10,
        "start_time": "2023-06-16T04:55:12.811Z"
      },
      {
        "duration": 17,
        "start_time": "2023-06-16T04:55:12.823Z"
      },
      {
        "duration": 69,
        "start_time": "2023-06-16T04:55:12.841Z"
      },
      {
        "duration": 7,
        "start_time": "2023-06-16T04:55:12.913Z"
      },
      {
        "duration": 16,
        "start_time": "2023-06-16T04:55:12.922Z"
      },
      {
        "duration": 2754,
        "start_time": "2023-06-16T04:55:12.940Z"
      },
      {
        "duration": 7182,
        "start_time": "2023-06-16T04:55:15.696Z"
      },
      {
        "duration": 6,
        "start_time": "2023-06-16T04:55:22.881Z"
      },
      {
        "duration": 6,
        "start_time": "2023-06-16T04:55:22.889Z"
      },
      {
        "duration": 43,
        "start_time": "2023-06-16T04:55:22.897Z"
      },
      {
        "duration": 15,
        "start_time": "2023-06-16T04:55:22.942Z"
      },
      {
        "duration": 103,
        "start_time": "2023-06-16T04:55:22.962Z"
      },
      {
        "duration": 189,
        "start_time": "2023-06-16T04:55:23.067Z"
      },
      {
        "duration": 497,
        "start_time": "2023-06-16T04:55:23.263Z"
      },
      {
        "duration": 169,
        "start_time": "2023-06-16T04:55:23.767Z"
      },
      {
        "duration": 3056,
        "start_time": "2023-06-16T04:55:23.938Z"
      },
      {
        "duration": 2872,
        "start_time": "2023-06-16T04:55:26.996Z"
      },
      {
        "duration": 149,
        "start_time": "2023-06-16T04:55:29.871Z"
      },
      {
        "duration": 0,
        "start_time": "2023-06-16T04:55:30.022Z"
      },
      {
        "duration": 0,
        "start_time": "2023-06-16T04:55:30.024Z"
      },
      {
        "duration": 0,
        "start_time": "2023-06-16T04:55:30.026Z"
      },
      {
        "duration": 0,
        "start_time": "2023-06-16T04:55:30.028Z"
      },
      {
        "duration": 0,
        "start_time": "2023-06-16T04:55:30.029Z"
      },
      {
        "duration": 0,
        "start_time": "2023-06-16T04:55:30.031Z"
      },
      {
        "duration": 0,
        "start_time": "2023-06-16T04:55:30.033Z"
      },
      {
        "duration": 107,
        "start_time": "2023-06-16T05:03:37.322Z"
      },
      {
        "duration": 17,
        "start_time": "2023-06-16T05:03:42.799Z"
      },
      {
        "duration": 11,
        "start_time": "2023-06-16T05:03:43.039Z"
      },
      {
        "duration": 9,
        "start_time": "2023-06-16T05:03:43.296Z"
      },
      {
        "duration": 16435,
        "start_time": "2023-06-16T05:03:43.985Z"
      },
      {
        "duration": 152,
        "start_time": "2023-06-16T05:04:02.880Z"
      },
      {
        "duration": 71,
        "start_time": "2023-06-16T05:04:03.167Z"
      },
      {
        "duration": 86,
        "start_time": "2023-06-16T05:04:05.951Z"
      },
      {
        "duration": 138,
        "start_time": "2023-06-16T05:04:09.906Z"
      },
      {
        "duration": 44,
        "start_time": "2023-06-16T05:04:10.046Z"
      },
      {
        "duration": 36,
        "start_time": "2023-06-16T05:04:14.103Z"
      },
      {
        "duration": 2299,
        "start_time": "2023-06-16T05:04:15.409Z"
      },
      {
        "duration": 153096,
        "start_time": "2023-06-16T05:14:30.813Z"
      },
      {
        "duration": 3533,
        "start_time": "2023-06-16T05:17:23.080Z"
      },
      {
        "duration": 362,
        "start_time": "2023-06-16T05:20:24.573Z"
      },
      {
        "duration": 2501,
        "start_time": "2023-06-16T05:39:23.880Z"
      },
      {
        "duration": 2412,
        "start_time": "2023-06-16T05:39:26.385Z"
      },
      {
        "duration": 2385,
        "start_time": "2023-06-16T05:39:28.800Z"
      },
      {
        "duration": 2411,
        "start_time": "2023-06-16T05:39:31.188Z"
      },
      {
        "duration": 2345,
        "start_time": "2023-06-16T05:39:33.602Z"
      },
      {
        "duration": 7169,
        "start_time": "2023-06-16T05:39:35.949Z"
      },
      {
        "duration": 251,
        "start_time": "2023-06-16T05:39:43.120Z"
      },
      {
        "duration": 34,
        "start_time": "2023-06-16T05:39:43.373Z"
      },
      {
        "duration": 19,
        "start_time": "2023-06-16T05:39:43.409Z"
      },
      {
        "duration": 46,
        "start_time": "2023-06-16T05:39:43.431Z"
      },
      {
        "duration": 26,
        "start_time": "2023-06-16T05:39:43.479Z"
      },
      {
        "duration": 34,
        "start_time": "2023-06-16T05:39:43.507Z"
      },
      {
        "duration": 27,
        "start_time": "2023-06-16T05:39:43.543Z"
      },
      {
        "duration": 40,
        "start_time": "2023-06-16T05:39:43.572Z"
      },
      {
        "duration": 69,
        "start_time": "2023-06-16T05:39:43.614Z"
      },
      {
        "duration": 43,
        "start_time": "2023-06-16T05:39:43.686Z"
      },
      {
        "duration": 86,
        "start_time": "2023-06-16T05:39:43.731Z"
      },
      {
        "duration": 17,
        "start_time": "2023-06-16T05:39:43.819Z"
      },
      {
        "duration": 9,
        "start_time": "2023-06-16T05:39:43.838Z"
      },
      {
        "duration": 47,
        "start_time": "2023-06-16T05:39:43.848Z"
      },
      {
        "duration": 12,
        "start_time": "2023-06-16T05:39:43.897Z"
      },
      {
        "duration": 11,
        "start_time": "2023-06-16T05:39:43.911Z"
      },
      {
        "duration": 9,
        "start_time": "2023-06-16T05:39:43.924Z"
      },
      {
        "duration": 16,
        "start_time": "2023-06-16T05:39:43.934Z"
      },
      {
        "duration": 39,
        "start_time": "2023-06-16T05:39:43.952Z"
      },
      {
        "duration": 12,
        "start_time": "2023-06-16T05:39:43.993Z"
      },
      {
        "duration": 5,
        "start_time": "2023-06-16T05:39:44.007Z"
      },
      {
        "duration": 2234,
        "start_time": "2023-06-16T05:39:44.016Z"
      },
      {
        "duration": 6260,
        "start_time": "2023-06-16T05:39:46.251Z"
      },
      {
        "duration": 6,
        "start_time": "2023-06-16T05:39:52.513Z"
      },
      {
        "duration": 17,
        "start_time": "2023-06-16T05:39:52.520Z"
      },
      {
        "duration": 54,
        "start_time": "2023-06-16T05:39:52.538Z"
      },
      {
        "duration": 14,
        "start_time": "2023-06-16T05:39:52.594Z"
      },
      {
        "duration": 32,
        "start_time": "2023-06-16T05:39:52.610Z"
      },
      {
        "duration": 6,
        "start_time": "2023-06-16T05:39:52.644Z"
      },
      {
        "duration": 325,
        "start_time": "2023-06-16T05:39:52.651Z"
      },
      {
        "duration": 132,
        "start_time": "2023-06-16T05:39:52.978Z"
      },
      {
        "duration": 2624,
        "start_time": "2023-06-16T05:39:53.112Z"
      },
      {
        "duration": 2328,
        "start_time": "2023-06-16T05:39:55.738Z"
      },
      {
        "duration": 19,
        "start_time": "2023-06-16T05:39:58.071Z"
      },
      {
        "duration": 37,
        "start_time": "2023-06-16T05:39:58.092Z"
      },
      {
        "duration": 12,
        "start_time": "2023-06-16T05:39:58.131Z"
      },
      {
        "duration": 15463,
        "start_time": "2023-06-16T05:39:58.145Z"
      },
      {
        "duration": 262,
        "start_time": "2023-06-16T05:40:13.610Z"
      },
      {
        "duration": 120,
        "start_time": "2023-06-16T05:40:13.878Z"
      },
      {
        "duration": 144,
        "start_time": "2023-06-16T05:40:14.000Z"
      },
      {
        "duration": 118,
        "start_time": "2023-06-16T05:40:14.151Z"
      },
      {
        "duration": 52,
        "start_time": "2023-06-16T05:40:14.271Z"
      },
      {
        "duration": 34,
        "start_time": "2023-06-16T05:40:14.325Z"
      },
      {
        "duration": 1880,
        "start_time": "2023-06-16T05:40:14.362Z"
      },
      {
        "duration": 110487,
        "start_time": "2023-06-16T05:40:39.450Z"
      },
      {
        "duration": 2456,
        "start_time": "2023-06-16T05:42:29.939Z"
      },
      {
        "duration": 301,
        "start_time": "2023-06-16T05:48:35.621Z"
      },
      {
        "duration": 44,
        "start_time": "2023-06-16T05:48:59.369Z"
      },
      {
        "duration": 31,
        "start_time": "2023-06-16T05:51:21.896Z"
      },
      {
        "duration": 52,
        "start_time": "2023-06-16T05:51:25.039Z"
      },
      {
        "duration": 2708,
        "start_time": "2023-06-16T05:54:39.683Z"
      },
      {
        "duration": 2689,
        "start_time": "2023-06-16T05:54:42.394Z"
      },
      {
        "duration": 2526,
        "start_time": "2023-06-16T05:54:45.085Z"
      },
      {
        "duration": 2883,
        "start_time": "2023-06-16T05:54:47.614Z"
      },
      {
        "duration": 2761,
        "start_time": "2023-06-16T05:54:50.500Z"
      },
      {
        "duration": 15,
        "start_time": "2023-06-16T05:54:53.263Z"
      },
      {
        "duration": 344,
        "start_time": "2023-06-16T05:54:53.284Z"
      },
      {
        "duration": 31,
        "start_time": "2023-06-16T05:54:53.629Z"
      },
      {
        "duration": 73,
        "start_time": "2023-06-16T05:54:53.662Z"
      },
      {
        "duration": 31,
        "start_time": "2023-06-16T05:54:53.737Z"
      },
      {
        "duration": 42,
        "start_time": "2023-06-16T05:54:53.770Z"
      },
      {
        "duration": 34,
        "start_time": "2023-06-16T05:54:53.814Z"
      },
      {
        "duration": 30,
        "start_time": "2023-06-16T05:54:53.850Z"
      },
      {
        "duration": 29,
        "start_time": "2023-06-16T05:54:53.882Z"
      },
      {
        "duration": 83,
        "start_time": "2023-06-16T05:54:53.912Z"
      },
      {
        "duration": 31,
        "start_time": "2023-06-16T05:54:54.000Z"
      },
      {
        "duration": 61,
        "start_time": "2023-06-16T05:54:54.032Z"
      },
      {
        "duration": 41,
        "start_time": "2023-06-16T05:54:54.095Z"
      },
      {
        "duration": 59,
        "start_time": "2023-06-16T05:54:54.138Z"
      },
      {
        "duration": 6,
        "start_time": "2023-06-16T05:54:54.199Z"
      },
      {
        "duration": 10,
        "start_time": "2023-06-16T05:54:54.206Z"
      },
      {
        "duration": 17,
        "start_time": "2023-06-16T05:54:54.218Z"
      },
      {
        "duration": 8,
        "start_time": "2023-06-16T05:54:54.237Z"
      },
      {
        "duration": 61,
        "start_time": "2023-06-16T05:54:54.247Z"
      },
      {
        "duration": 29,
        "start_time": "2023-06-16T05:54:54.310Z"
      },
      {
        "duration": 16,
        "start_time": "2023-06-16T05:54:54.341Z"
      },
      {
        "duration": 50,
        "start_time": "2023-06-16T05:54:54.359Z"
      },
      {
        "duration": 2431,
        "start_time": "2023-06-16T05:54:54.413Z"
      },
      {
        "duration": 6780,
        "start_time": "2023-06-16T05:54:56.846Z"
      },
      {
        "duration": 7,
        "start_time": "2023-06-16T05:55:03.628Z"
      },
      {
        "duration": 52,
        "start_time": "2023-06-16T05:55:03.636Z"
      },
      {
        "duration": 80,
        "start_time": "2023-06-16T05:55:03.690Z"
      },
      {
        "duration": 56,
        "start_time": "2023-06-16T05:55:03.773Z"
      },
      {
        "duration": 52,
        "start_time": "2023-06-16T05:55:03.831Z"
      },
      {
        "duration": 26,
        "start_time": "2023-06-16T05:55:03.886Z"
      },
      {
        "duration": 335,
        "start_time": "2023-06-16T05:55:03.914Z"
      },
      {
        "duration": 148,
        "start_time": "2023-06-16T05:55:04.251Z"
      },
      {
        "duration": 2824,
        "start_time": "2023-06-16T05:55:04.401Z"
      },
      {
        "duration": 2736,
        "start_time": "2023-06-16T05:55:07.226Z"
      },
      {
        "duration": 21,
        "start_time": "2023-06-16T05:55:09.966Z"
      },
      {
        "duration": 28,
        "start_time": "2023-06-16T05:55:09.989Z"
      },
      {
        "duration": 29,
        "start_time": "2023-06-16T05:55:10.019Z"
      },
      {
        "duration": 20462,
        "start_time": "2023-06-16T05:55:10.050Z"
      },
      {
        "duration": 189,
        "start_time": "2023-06-16T05:55:30.514Z"
      },
      {
        "duration": 258,
        "start_time": "2023-06-16T05:55:30.706Z"
      },
      {
        "duration": 56,
        "start_time": "2023-06-16T05:55:30.970Z"
      },
      {
        "duration": 115,
        "start_time": "2023-06-16T05:55:31.028Z"
      },
      {
        "duration": 88,
        "start_time": "2023-06-16T05:55:31.145Z"
      },
      {
        "duration": 75,
        "start_time": "2023-06-16T05:55:31.235Z"
      },
      {
        "duration": 2168,
        "start_time": "2023-06-16T05:55:31.312Z"
      },
      {
        "duration": 116033,
        "start_time": "2023-06-16T05:55:57.585Z"
      },
      {
        "duration": 763,
        "start_time": "2023-06-16T06:00:51.809Z"
      },
      {
        "duration": 408,
        "start_time": "2023-06-16T06:01:57.224Z"
      },
      {
        "duration": 563,
        "start_time": "2023-06-16T06:04:35.315Z"
      },
      {
        "duration": 119635,
        "start_time": "2023-06-16T06:04:52.890Z"
      },
      {
        "duration": 6,
        "start_time": "2023-06-16T06:08:21.377Z"
      },
      {
        "duration": 5,
        "start_time": "2023-06-16T06:08:27.324Z"
      },
      {
        "duration": 6,
        "start_time": "2023-06-16T06:08:33.182Z"
      },
      {
        "duration": 88,
        "start_time": "2023-06-16T06:09:06.150Z"
      },
      {
        "duration": 5,
        "start_time": "2023-06-16T06:11:32.112Z"
      },
      {
        "duration": 137314,
        "start_time": "2023-06-16T06:12:22.578Z"
      },
      {
        "duration": 136887,
        "start_time": "2023-06-16T06:15:33.650Z"
      },
      {
        "duration": 7,
        "start_time": "2023-06-16T06:18:45.290Z"
      },
      {
        "duration": 0,
        "start_time": "2023-06-16T06:21:17.677Z"
      },
      {
        "duration": 122,
        "start_time": "2023-06-16T06:21:36.985Z"
      },
      {
        "duration": 8,
        "start_time": "2023-06-16T06:22:14.977Z"
      },
      {
        "duration": 8,
        "start_time": "2023-06-16T06:22:19.798Z"
      },
      {
        "duration": 81,
        "start_time": "2023-06-16T06:22:58.192Z"
      },
      {
        "duration": 9,
        "start_time": "2023-06-16T06:23:22.911Z"
      },
      {
        "duration": 32,
        "start_time": "2023-06-16T06:23:26.784Z"
      },
      {
        "duration": 376,
        "start_time": "2023-06-16T06:23:31.402Z"
      },
      {
        "duration": 13,
        "start_time": "2023-06-16T06:23:36.183Z"
      },
      {
        "duration": 10,
        "start_time": "2023-06-16T06:23:48.378Z"
      },
      {
        "duration": 1204,
        "start_time": "2023-06-16T06:24:00.375Z"
      },
      {
        "duration": 30,
        "start_time": "2023-06-16T06:25:53.776Z"
      },
      {
        "duration": 5,
        "start_time": "2023-06-16T06:26:04.206Z"
      },
      {
        "duration": 4278,
        "start_time": "2023-06-16T06:26:09.100Z"
      },
      {
        "duration": 18,
        "start_time": "2023-06-16T06:26:20.179Z"
      },
      {
        "duration": 91,
        "start_time": "2023-06-16T06:32:40.651Z"
      },
      {
        "duration": 57,
        "start_time": "2023-06-16T06:34:05.025Z"
      },
      {
        "duration": 44,
        "start_time": "2023-06-16T06:34:46.103Z"
      },
      {
        "duration": 164,
        "start_time": "2023-06-16T06:34:54.810Z"
      },
      {
        "duration": 91,
        "start_time": "2023-06-16T06:35:27.266Z"
      },
      {
        "duration": 35,
        "start_time": "2023-06-16T06:36:30.078Z"
      },
      {
        "duration": 79,
        "start_time": "2023-06-16T06:36:37.770Z"
      },
      {
        "duration": 242,
        "start_time": "2023-06-16T06:37:25.806Z"
      },
      {
        "duration": 131,
        "start_time": "2023-06-16T06:37:48.214Z"
      },
      {
        "duration": 93,
        "start_time": "2023-06-16T06:37:51.701Z"
      },
      {
        "duration": 7977,
        "start_time": "2023-06-16T06:38:18.735Z"
      },
      {
        "duration": 3373,
        "start_time": "2023-06-16T06:38:26.714Z"
      },
      {
        "duration": 3239,
        "start_time": "2023-06-16T06:38:30.089Z"
      },
      {
        "duration": 3324,
        "start_time": "2023-06-16T06:38:33.339Z"
      },
      {
        "duration": 3305,
        "start_time": "2023-06-16T06:38:36.667Z"
      },
      {
        "duration": 20,
        "start_time": "2023-06-16T06:38:39.973Z"
      },
      {
        "duration": 888,
        "start_time": "2023-06-16T06:38:39.998Z"
      },
      {
        "duration": 33,
        "start_time": "2023-06-16T06:38:40.888Z"
      },
      {
        "duration": 35,
        "start_time": "2023-06-16T06:38:40.926Z"
      },
      {
        "duration": 77,
        "start_time": "2023-06-16T06:38:40.964Z"
      },
      {
        "duration": 25,
        "start_time": "2023-06-16T06:38:41.043Z"
      },
      {
        "duration": 119,
        "start_time": "2023-06-16T06:38:41.070Z"
      },
      {
        "duration": 37,
        "start_time": "2023-06-16T06:38:41.192Z"
      },
      {
        "duration": 9,
        "start_time": "2023-06-16T06:38:41.232Z"
      },
      {
        "duration": 89,
        "start_time": "2023-06-16T06:38:41.243Z"
      },
      {
        "duration": 50,
        "start_time": "2023-06-16T06:38:41.335Z"
      },
      {
        "duration": 62,
        "start_time": "2023-06-16T06:38:41.391Z"
      },
      {
        "duration": 33,
        "start_time": "2023-06-16T06:38:41.459Z"
      },
      {
        "duration": 31,
        "start_time": "2023-06-16T06:38:41.495Z"
      },
      {
        "duration": 6,
        "start_time": "2023-06-16T06:38:41.529Z"
      },
      {
        "duration": 3096,
        "start_time": "2023-06-16T06:38:41.537Z"
      },
      {
        "duration": 8727,
        "start_time": "2023-06-16T06:38:44.638Z"
      },
      {
        "duration": 10,
        "start_time": "2023-06-16T06:38:53.368Z"
      },
      {
        "duration": 57,
        "start_time": "2023-06-16T06:38:53.380Z"
      },
      {
        "duration": 36,
        "start_time": "2023-06-16T06:38:53.440Z"
      },
      {
        "duration": 57,
        "start_time": "2023-06-16T06:38:53.479Z"
      },
      {
        "duration": 89,
        "start_time": "2023-06-16T06:38:53.538Z"
      },
      {
        "duration": 7,
        "start_time": "2023-06-16T06:38:53.629Z"
      },
      {
        "duration": 429,
        "start_time": "2023-06-16T06:38:53.637Z"
      },
      {
        "duration": 211,
        "start_time": "2023-06-16T06:38:54.068Z"
      },
      {
        "duration": 3579,
        "start_time": "2023-06-16T06:38:54.282Z"
      },
      {
        "duration": 3093,
        "start_time": "2023-06-16T06:38:57.868Z"
      },
      {
        "duration": 185,
        "start_time": "2023-06-16T06:39:00.967Z"
      },
      {
        "duration": 28,
        "start_time": "2023-06-16T06:39:11.553Z"
      },
      {
        "duration": 10,
        "start_time": "2023-06-16T06:39:11.735Z"
      },
      {
        "duration": 20,
        "start_time": "2023-06-16T06:39:11.908Z"
      },
      {
        "duration": 8591,
        "start_time": "2023-06-16T06:39:12.436Z"
      },
      {
        "duration": 52,
        "start_time": "2023-06-16T06:39:21.030Z"
      },
      {
        "duration": 82,
        "start_time": "2023-06-16T06:39:21.084Z"
      },
      {
        "duration": 63,
        "start_time": "2023-06-16T06:39:21.175Z"
      },
      {
        "duration": 26,
        "start_time": "2023-06-16T06:39:21.244Z"
      },
      {
        "duration": 177,
        "start_time": "2023-06-16T06:39:21.274Z"
      },
      {
        "duration": 62,
        "start_time": "2023-06-16T06:39:21.460Z"
      },
      {
        "duration": 3168,
        "start_time": "2023-06-16T06:39:21.529Z"
      },
      {
        "duration": 59677,
        "start_time": "2023-06-16T06:39:53.725Z"
      },
      {
        "duration": 2800,
        "start_time": "2023-06-16T06:41:05.302Z"
      },
      {
        "duration": 21,
        "start_time": "2023-06-16T06:41:23.713Z"
      },
      {
        "duration": 106,
        "start_time": "2023-06-16T06:44:09.370Z"
      },
      {
        "duration": 73,
        "start_time": "2023-06-16T06:44:16.670Z"
      },
      {
        "duration": 94,
        "start_time": "2023-06-16T06:44:26.875Z"
      },
      {
        "duration": 2918,
        "start_time": "2023-06-16T06:47:34.031Z"
      },
      {
        "duration": 3117,
        "start_time": "2023-06-16T06:47:36.952Z"
      },
      {
        "duration": 2988,
        "start_time": "2023-06-16T06:47:40.074Z"
      },
      {
        "duration": 3484,
        "start_time": "2023-06-16T06:47:43.073Z"
      },
      {
        "duration": 3244,
        "start_time": "2023-06-16T06:47:46.559Z"
      },
      {
        "duration": 17,
        "start_time": "2023-06-16T06:47:49.805Z"
      },
      {
        "duration": 612,
        "start_time": "2023-06-16T06:47:49.823Z"
      },
      {
        "duration": 42,
        "start_time": "2023-06-16T06:47:50.437Z"
      },
      {
        "duration": 147,
        "start_time": "2023-06-16T06:47:50.489Z"
      },
      {
        "duration": 60,
        "start_time": "2023-06-16T06:47:50.641Z"
      },
      {
        "duration": 146,
        "start_time": "2023-06-16T06:47:50.708Z"
      },
      {
        "duration": 99,
        "start_time": "2023-06-16T06:47:50.877Z"
      },
      {
        "duration": 51,
        "start_time": "2023-06-16T06:47:50.985Z"
      },
      {
        "duration": 102,
        "start_time": "2023-06-16T06:47:51.038Z"
      },
      {
        "duration": 175,
        "start_time": "2023-06-16T06:47:51.147Z"
      },
      {
        "duration": 47,
        "start_time": "2023-06-16T06:47:51.324Z"
      },
      {
        "duration": 153,
        "start_time": "2023-06-16T06:47:51.373Z"
      },
      {
        "duration": 69,
        "start_time": "2023-06-16T06:47:51.528Z"
      },
      {
        "duration": 38,
        "start_time": "2023-06-16T06:47:51.599Z"
      },
      {
        "duration": 7,
        "start_time": "2023-06-16T06:47:51.640Z"
      },
      {
        "duration": 3061,
        "start_time": "2023-06-16T06:47:51.649Z"
      },
      {
        "duration": 7899,
        "start_time": "2023-06-16T06:47:54.713Z"
      },
      {
        "duration": 10,
        "start_time": "2023-06-16T06:48:02.614Z"
      },
      {
        "duration": 108,
        "start_time": "2023-06-16T06:48:02.626Z"
      },
      {
        "duration": 113,
        "start_time": "2023-06-16T06:48:02.736Z"
      },
      {
        "duration": 99,
        "start_time": "2023-06-16T06:48:02.851Z"
      },
      {
        "duration": 167,
        "start_time": "2023-06-16T06:48:02.958Z"
      },
      {
        "duration": 82,
        "start_time": "2023-06-16T06:48:03.130Z"
      },
      {
        "duration": 393,
        "start_time": "2023-06-16T06:48:03.219Z"
      },
      {
        "duration": 198,
        "start_time": "2023-06-16T06:48:03.615Z"
      },
      {
        "duration": 3561,
        "start_time": "2023-06-16T06:48:03.815Z"
      },
      {
        "duration": 3258,
        "start_time": "2023-06-16T06:48:07.384Z"
      },
      {
        "duration": 194,
        "start_time": "2023-06-16T06:48:10.644Z"
      },
      {
        "duration": 27,
        "start_time": "2023-06-16T06:48:10.840Z"
      },
      {
        "duration": 58,
        "start_time": "2023-06-16T06:48:10.874Z"
      },
      {
        "duration": 37,
        "start_time": "2023-06-16T06:48:10.934Z"
      },
      {
        "duration": 8133,
        "start_time": "2023-06-16T06:48:10.976Z"
      },
      {
        "duration": 64,
        "start_time": "2023-06-16T06:48:19.123Z"
      },
      {
        "duration": 74,
        "start_time": "2023-06-16T06:48:19.189Z"
      },
      {
        "duration": 125,
        "start_time": "2023-06-16T06:48:19.265Z"
      },
      {
        "duration": 121,
        "start_time": "2023-06-16T06:48:19.392Z"
      },
      {
        "duration": 62,
        "start_time": "2023-06-16T06:48:19.518Z"
      },
      {
        "duration": 80,
        "start_time": "2023-06-16T06:48:19.584Z"
      },
      {
        "duration": 2158,
        "start_time": "2023-06-16T06:48:19.670Z"
      },
      {
        "duration": 61444,
        "start_time": "2023-06-16T06:48:56.130Z"
      },
      {
        "duration": 494,
        "start_time": "2023-06-16T06:49:57.577Z"
      },
      {
        "duration": 19,
        "start_time": "2023-06-16T06:50:47.604Z"
      },
      {
        "duration": 75,
        "start_time": "2023-06-16T06:51:53.341Z"
      },
      {
        "duration": 2379,
        "start_time": "2023-06-16T06:51:58.469Z"
      },
      {
        "duration": 14,
        "start_time": "2023-06-16T06:57:00.192Z"
      },
      {
        "duration": 22,
        "start_time": "2023-06-16T06:57:01.182Z"
      },
      {
        "duration": 389,
        "start_time": "2023-06-16T06:57:02.152Z"
      },
      {
        "duration": 18,
        "start_time": "2023-06-16T06:58:54.379Z"
      },
      {
        "duration": 52,
        "start_time": "2023-06-16T06:58:57.116Z"
      },
      {
        "duration": 35,
        "start_time": "2023-06-16T06:59:12.634Z"
      },
      {
        "duration": 25,
        "start_time": "2023-06-16T07:18:00.417Z"
      },
      {
        "duration": 21,
        "start_time": "2023-06-16T07:18:15.811Z"
      },
      {
        "duration": 24,
        "start_time": "2023-06-16T07:18:20.304Z"
      },
      {
        "duration": 6,
        "start_time": "2023-06-16T07:18:34.392Z"
      },
      {
        "duration": 13,
        "start_time": "2023-06-16T07:21:49.281Z"
      },
      {
        "duration": 12,
        "start_time": "2023-06-16T07:23:39.404Z"
      },
      {
        "duration": 4582,
        "start_time": "2023-06-16T07:26:34.935Z"
      },
      {
        "duration": 2430,
        "start_time": "2023-06-16T07:26:39.520Z"
      },
      {
        "duration": 2300,
        "start_time": "2023-06-16T07:26:41.961Z"
      },
      {
        "duration": 2345,
        "start_time": "2023-06-16T07:26:44.268Z"
      },
      {
        "duration": 2307,
        "start_time": "2023-06-16T07:26:46.615Z"
      },
      {
        "duration": 9,
        "start_time": "2023-06-16T07:26:48.925Z"
      },
      {
        "duration": 483,
        "start_time": "2023-06-16T07:26:48.937Z"
      },
      {
        "duration": 20,
        "start_time": "2023-06-16T07:26:49.422Z"
      },
      {
        "duration": 38,
        "start_time": "2023-06-16T07:26:49.444Z"
      },
      {
        "duration": 20,
        "start_time": "2023-06-16T07:26:49.486Z"
      },
      {
        "duration": 13,
        "start_time": "2023-06-16T07:26:49.508Z"
      },
      {
        "duration": 62,
        "start_time": "2023-06-16T07:26:49.523Z"
      },
      {
        "duration": 19,
        "start_time": "2023-06-16T07:26:49.587Z"
      },
      {
        "duration": 11,
        "start_time": "2023-06-16T07:26:49.608Z"
      },
      {
        "duration": 86,
        "start_time": "2023-06-16T07:26:49.621Z"
      },
      {
        "duration": 48,
        "start_time": "2023-06-16T07:26:49.709Z"
      },
      {
        "duration": 38,
        "start_time": "2023-06-16T07:26:49.766Z"
      },
      {
        "duration": 57,
        "start_time": "2023-06-16T07:26:49.807Z"
      },
      {
        "duration": 27,
        "start_time": "2023-06-16T07:26:49.866Z"
      },
      {
        "duration": 5,
        "start_time": "2023-06-16T07:26:49.895Z"
      },
      {
        "duration": 2642,
        "start_time": "2023-06-16T07:26:49.902Z"
      },
      {
        "duration": 5956,
        "start_time": "2023-06-16T07:26:52.546Z"
      },
      {
        "duration": 9,
        "start_time": "2023-06-16T07:26:58.504Z"
      },
      {
        "duration": 29,
        "start_time": "2023-06-16T07:26:58.515Z"
      },
      {
        "duration": 41,
        "start_time": "2023-06-16T07:26:58.552Z"
      },
      {
        "duration": 18,
        "start_time": "2023-06-16T07:26:58.595Z"
      },
      {
        "duration": 75,
        "start_time": "2023-06-16T07:26:58.615Z"
      },
      {
        "duration": 7,
        "start_time": "2023-06-16T07:26:58.695Z"
      },
      {
        "duration": 279,
        "start_time": "2023-06-16T07:26:58.705Z"
      },
      {
        "duration": 133,
        "start_time": "2023-06-16T07:26:58.986Z"
      },
      {
        "duration": 2560,
        "start_time": "2023-06-16T07:26:59.122Z"
      },
      {
        "duration": 2484,
        "start_time": "2023-06-16T07:27:01.684Z"
      },
      {
        "duration": 131,
        "start_time": "2023-06-16T07:27:04.170Z"
      },
      {
        "duration": 11,
        "start_time": "2023-06-16T07:27:04.303Z"
      },
      {
        "duration": 18,
        "start_time": "2023-06-16T07:27:04.315Z"
      },
      {
        "duration": 22,
        "start_time": "2023-06-16T07:27:04.335Z"
      },
      {
        "duration": 6237,
        "start_time": "2023-06-16T07:27:04.368Z"
      },
      {
        "duration": 52,
        "start_time": "2023-06-16T07:27:10.607Z"
      },
      {
        "duration": 31,
        "start_time": "2023-06-16T07:27:10.666Z"
      },
      {
        "duration": 29,
        "start_time": "2023-06-16T07:27:10.699Z"
      },
      {
        "duration": 25,
        "start_time": "2023-06-16T07:27:10.751Z"
      },
      {
        "duration": 39,
        "start_time": "2023-06-16T07:27:10.778Z"
      },
      {
        "duration": 63,
        "start_time": "2023-06-16T07:27:10.820Z"
      },
      {
        "duration": 1667,
        "start_time": "2023-06-16T07:27:10.886Z"
      },
      {
        "duration": 44711,
        "start_time": "2023-06-16T07:27:33.700Z"
      },
      {
        "duration": 394,
        "start_time": "2023-06-16T07:28:18.414Z"
      },
      {
        "duration": 17,
        "start_time": "2023-06-16T07:28:18.811Z"
      },
      {
        "duration": 23,
        "start_time": "2023-06-16T07:28:18.832Z"
      },
      {
        "duration": 1554,
        "start_time": "2023-06-16T07:28:18.857Z"
      },
      {
        "duration": 47091,
        "start_time": "2023-06-16T07:30:22.397Z"
      },
      {
        "duration": 78,
        "start_time": "2023-06-16T07:32:51.822Z"
      },
      {
        "duration": 5103,
        "start_time": "2023-06-16T07:33:44.466Z"
      },
      {
        "duration": 2496,
        "start_time": "2023-06-16T07:33:49.575Z"
      },
      {
        "duration": 2423,
        "start_time": "2023-06-16T07:33:52.073Z"
      },
      {
        "duration": 2486,
        "start_time": "2023-06-16T07:33:54.499Z"
      },
      {
        "duration": 2388,
        "start_time": "2023-06-16T07:33:56.988Z"
      },
      {
        "duration": 7,
        "start_time": "2023-06-16T07:33:59.378Z"
      },
      {
        "duration": 543,
        "start_time": "2023-06-16T07:33:59.387Z"
      },
      {
        "duration": 26,
        "start_time": "2023-06-16T07:33:59.933Z"
      },
      {
        "duration": 549,
        "start_time": "2023-06-16T07:33:59.963Z"
      },
      {
        "duration": 107,
        "start_time": "2023-06-16T07:34:00.515Z"
      },
      {
        "duration": 68,
        "start_time": "2023-06-16T07:34:00.625Z"
      },
      {
        "duration": 49,
        "start_time": "2023-06-16T07:34:00.695Z"
      },
      {
        "duration": 34,
        "start_time": "2023-06-16T07:34:00.747Z"
      },
      {
        "duration": 34,
        "start_time": "2023-06-16T07:34:00.784Z"
      },
      {
        "duration": 96,
        "start_time": "2023-06-16T07:34:00.820Z"
      },
      {
        "duration": 39,
        "start_time": "2023-06-16T07:34:00.917Z"
      },
      {
        "duration": 38,
        "start_time": "2023-06-16T07:34:00.965Z"
      },
      {
        "duration": 61,
        "start_time": "2023-06-16T07:34:01.006Z"
      },
      {
        "duration": 23,
        "start_time": "2023-06-16T07:34:01.071Z"
      },
      {
        "duration": 37,
        "start_time": "2023-06-16T07:34:01.097Z"
      },
      {
        "duration": 2198,
        "start_time": "2023-06-16T07:34:01.137Z"
      },
      {
        "duration": 6657,
        "start_time": "2023-06-16T07:34:03.338Z"
      },
      {
        "duration": 7,
        "start_time": "2023-06-16T07:34:09.998Z"
      },
      {
        "duration": 31,
        "start_time": "2023-06-16T07:34:10.007Z"
      },
      {
        "duration": 29,
        "start_time": "2023-06-16T07:34:10.040Z"
      },
      {
        "duration": 54,
        "start_time": "2023-06-16T07:34:10.071Z"
      },
      {
        "duration": 68,
        "start_time": "2023-06-16T07:34:10.128Z"
      },
      {
        "duration": 16,
        "start_time": "2023-06-16T07:34:10.201Z"
      },
      {
        "duration": 329,
        "start_time": "2023-06-16T07:34:10.219Z"
      },
      {
        "duration": 149,
        "start_time": "2023-06-16T07:34:10.550Z"
      },
      {
        "duration": 3046,
        "start_time": "2023-06-16T07:34:10.701Z"
      },
      {
        "duration": 2483,
        "start_time": "2023-06-16T07:34:13.752Z"
      },
      {
        "duration": 660,
        "start_time": "2023-06-16T07:34:16.238Z"
      },
      {
        "duration": 17,
        "start_time": "2023-06-16T07:34:16.900Z"
      },
      {
        "duration": 27,
        "start_time": "2023-06-16T07:34:16.919Z"
      },
      {
        "duration": 43,
        "start_time": "2023-06-16T07:34:16.958Z"
      },
      {
        "duration": 4820,
        "start_time": "2023-06-16T07:34:17.004Z"
      },
      {
        "duration": 49,
        "start_time": "2023-06-16T07:34:21.826Z"
      },
      {
        "duration": 35,
        "start_time": "2023-06-16T07:34:21.878Z"
      },
      {
        "duration": 10,
        "start_time": "2023-06-16T07:34:21.916Z"
      },
      {
        "duration": 53,
        "start_time": "2023-06-16T07:34:21.929Z"
      },
      {
        "duration": 14,
        "start_time": "2023-06-16T07:34:21.986Z"
      },
      {
        "duration": 35,
        "start_time": "2023-06-16T07:34:22.003Z"
      },
      {
        "duration": 553,
        "start_time": "2023-06-16T07:34:22.040Z"
      },
      {
        "duration": 54985,
        "start_time": "2023-06-16T07:34:54.048Z"
      },
      {
        "duration": 123,
        "start_time": "2023-06-16T07:35:49.035Z"
      },
      {
        "duration": 56,
        "start_time": "2023-06-16T07:35:49.160Z"
      },
      {
        "duration": 0,
        "start_time": "2023-06-16T07:35:49.218Z"
      },
      {
        "duration": 0,
        "start_time": "2023-06-16T07:35:49.222Z"
      },
      {
        "duration": 101,
        "start_time": "2023-06-16T07:36:54.421Z"
      },
      {
        "duration": 20,
        "start_time": "2023-06-16T07:36:54.704Z"
      },
      {
        "duration": 66,
        "start_time": "2023-06-16T07:37:52.477Z"
      },
      {
        "duration": 59,
        "start_time": "2023-06-16T07:42:20.496Z"
      },
      {
        "duration": 2992,
        "start_time": "2023-06-16T07:43:36.976Z"
      },
      {
        "duration": 2742,
        "start_time": "2023-06-16T07:43:39.971Z"
      },
      {
        "duration": 2430,
        "start_time": "2023-06-16T07:43:42.716Z"
      },
      {
        "duration": 2554,
        "start_time": "2023-06-16T07:43:45.149Z"
      },
      {
        "duration": 2585,
        "start_time": "2023-06-16T07:43:47.706Z"
      },
      {
        "duration": 7466,
        "start_time": "2023-06-16T07:43:50.294Z"
      },
      {
        "duration": 577,
        "start_time": "2023-06-16T07:43:57.762Z"
      },
      {
        "duration": 35,
        "start_time": "2023-06-16T07:43:58.341Z"
      },
      {
        "duration": 34,
        "start_time": "2023-06-16T07:43:58.378Z"
      },
      {
        "duration": 64,
        "start_time": "2023-06-16T07:43:58.416Z"
      },
      {
        "duration": 22,
        "start_time": "2023-06-16T07:43:58.482Z"
      },
      {
        "duration": 100,
        "start_time": "2023-06-16T07:43:58.506Z"
      },
      {
        "duration": 27,
        "start_time": "2023-06-16T07:43:58.608Z"
      },
      {
        "duration": 30,
        "start_time": "2023-06-16T07:43:58.637Z"
      },
      {
        "duration": 101,
        "start_time": "2023-06-16T07:43:58.670Z"
      },
      {
        "duration": 43,
        "start_time": "2023-06-16T07:43:58.778Z"
      },
      {
        "duration": 53,
        "start_time": "2023-06-16T07:43:58.823Z"
      },
      {
        "duration": 20,
        "start_time": "2023-06-16T07:43:58.878Z"
      },
      {
        "duration": 6,
        "start_time": "2023-06-16T07:43:58.901Z"
      },
      {
        "duration": 6,
        "start_time": "2023-06-16T07:43:58.910Z"
      },
      {
        "duration": 2284,
        "start_time": "2023-06-16T07:43:58.918Z"
      },
      {
        "duration": 6635,
        "start_time": "2023-06-16T07:44:01.204Z"
      },
      {
        "duration": 25,
        "start_time": "2023-06-16T07:44:07.841Z"
      },
      {
        "duration": 10,
        "start_time": "2023-06-16T07:44:07.870Z"
      },
      {
        "duration": 17,
        "start_time": "2023-06-16T07:44:07.883Z"
      },
      {
        "duration": 15,
        "start_time": "2023-06-16T07:44:07.902Z"
      },
      {
        "duration": 67,
        "start_time": "2023-06-16T07:44:07.919Z"
      },
      {
        "duration": 8,
        "start_time": "2023-06-16T07:44:07.991Z"
      },
      {
        "duration": 360,
        "start_time": "2023-06-16T07:44:08.001Z"
      },
      {
        "duration": 150,
        "start_time": "2023-06-16T07:44:08.363Z"
      },
      {
        "duration": 2658,
        "start_time": "2023-06-16T07:44:08.515Z"
      },
      {
        "duration": 2326,
        "start_time": "2023-06-16T07:44:11.176Z"
      },
      {
        "duration": 88,
        "start_time": "2023-06-16T07:44:13.504Z"
      },
      {
        "duration": 9,
        "start_time": "2023-06-16T07:44:13.593Z"
      },
      {
        "duration": 25,
        "start_time": "2023-06-16T07:44:13.604Z"
      },
      {
        "duration": 7,
        "start_time": "2023-06-16T07:44:13.631Z"
      },
      {
        "duration": 4317,
        "start_time": "2023-06-16T07:44:13.640Z"
      },
      {
        "duration": 38,
        "start_time": "2023-06-16T07:44:17.958Z"
      },
      {
        "duration": 30,
        "start_time": "2023-06-16T07:44:17.998Z"
      },
      {
        "duration": 16,
        "start_time": "2023-06-16T07:44:18.053Z"
      },
      {
        "duration": 37,
        "start_time": "2023-06-16T07:44:18.070Z"
      },
      {
        "duration": 14,
        "start_time": "2023-06-16T07:44:18.110Z"
      },
      {
        "duration": 57,
        "start_time": "2023-06-16T07:44:18.126Z"
      },
      {
        "duration": 801,
        "start_time": "2023-06-16T07:44:18.185Z"
      },
      {
        "duration": 55390,
        "start_time": "2023-06-16T07:44:52.490Z"
      },
      {
        "duration": 197,
        "start_time": "2023-06-16T07:45:47.884Z"
      },
      {
        "duration": 222,
        "start_time": "2023-06-16T07:45:48.083Z"
      },
      {
        "duration": 0,
        "start_time": "2023-06-16T07:45:48.307Z"
      },
      {
        "duration": 0,
        "start_time": "2023-06-16T07:45:48.309Z"
      },
      {
        "duration": 22,
        "start_time": "2023-06-16T07:47:12.058Z"
      },
      {
        "duration": 144,
        "start_time": "2023-06-16T07:47:16.586Z"
      },
      {
        "duration": 16,
        "start_time": "2023-06-16T07:47:17.570Z"
      },
      {
        "duration": 6,
        "start_time": "2023-06-16T07:47:20.421Z"
      },
      {
        "duration": 14,
        "start_time": "2023-06-16T07:47:20.564Z"
      },
      {
        "duration": 761,
        "start_time": "2023-06-16T07:49:19.930Z"
      },
      {
        "duration": 6,
        "start_time": "2023-06-16T07:51:45.186Z"
      },
      {
        "duration": 6,
        "start_time": "2023-06-16T07:51:52.986Z"
      },
      {
        "duration": 2964,
        "start_time": "2023-06-16T07:52:27.311Z"
      },
      {
        "duration": 5,
        "start_time": "2023-06-16T07:53:57.464Z"
      },
      {
        "duration": 55,
        "start_time": "2023-06-16T07:54:14.167Z"
      },
      {
        "duration": 37,
        "start_time": "2023-06-16T07:56:25.980Z"
      },
      {
        "duration": 35,
        "start_time": "2023-06-16T07:56:33.965Z"
      },
      {
        "duration": 3,
        "start_time": "2023-06-16T07:56:36.810Z"
      },
      {
        "duration": 4,
        "start_time": "2023-06-16T07:57:03.669Z"
      },
      {
        "duration": 47,
        "start_time": "2023-06-16T07:57:32.722Z"
      },
      {
        "duration": 4702,
        "start_time": "2023-06-16T08:00:09.039Z"
      },
      {
        "duration": 2218,
        "start_time": "2023-06-16T08:00:13.744Z"
      },
      {
        "duration": 3265,
        "start_time": "2023-06-16T08:00:15.965Z"
      },
      {
        "duration": 2257,
        "start_time": "2023-06-16T08:00:19.232Z"
      },
      {
        "duration": 2154,
        "start_time": "2023-06-16T08:00:21.492Z"
      },
      {
        "duration": 5816,
        "start_time": "2023-06-16T08:00:23.648Z"
      },
      {
        "duration": 435,
        "start_time": "2023-06-16T08:00:29.466Z"
      },
      {
        "duration": 25,
        "start_time": "2023-06-16T08:00:29.903Z"
      },
      {
        "duration": 28,
        "start_time": "2023-06-16T08:00:29.930Z"
      },
      {
        "duration": 23,
        "start_time": "2023-06-16T08:00:29.960Z"
      },
      {
        "duration": 16,
        "start_time": "2023-06-16T08:00:29.985Z"
      },
      {
        "duration": 61,
        "start_time": "2023-06-16T08:00:30.003Z"
      },
      {
        "duration": 21,
        "start_time": "2023-06-16T08:00:30.066Z"
      },
      {
        "duration": 10,
        "start_time": "2023-06-16T08:00:30.092Z"
      },
      {
        "duration": 98,
        "start_time": "2023-06-16T08:00:30.103Z"
      },
      {
        "duration": 29,
        "start_time": "2023-06-16T08:00:30.203Z"
      },
      {
        "duration": 45,
        "start_time": "2023-06-16T08:00:30.234Z"
      },
      {
        "duration": 57,
        "start_time": "2023-06-16T08:00:30.281Z"
      },
      {
        "duration": 30,
        "start_time": "2023-06-16T08:00:30.340Z"
      },
      {
        "duration": 18,
        "start_time": "2023-06-16T08:00:30.372Z"
      },
      {
        "duration": 2071,
        "start_time": "2023-06-16T08:00:30.392Z"
      },
      {
        "duration": 5478,
        "start_time": "2023-06-16T08:00:32.465Z"
      },
      {
        "duration": 10,
        "start_time": "2023-06-16T08:00:37.945Z"
      },
      {
        "duration": 9,
        "start_time": "2023-06-16T08:00:37.956Z"
      },
      {
        "duration": 22,
        "start_time": "2023-06-16T08:00:37.967Z"
      },
      {
        "duration": 15,
        "start_time": "2023-06-16T08:00:37.991Z"
      },
      {
        "duration": 77,
        "start_time": "2023-06-16T08:00:38.008Z"
      },
      {
        "duration": 7,
        "start_time": "2023-06-16T08:00:38.087Z"
      },
      {
        "duration": 324,
        "start_time": "2023-06-16T08:00:38.096Z"
      },
      {
        "duration": 148,
        "start_time": "2023-06-16T08:00:38.422Z"
      },
      {
        "duration": 2399,
        "start_time": "2023-06-16T08:00:38.572Z"
      },
      {
        "duration": 2296,
        "start_time": "2023-06-16T08:00:40.972Z"
      },
      {
        "duration": 85,
        "start_time": "2023-06-16T08:00:43.272Z"
      },
      {
        "duration": 9,
        "start_time": "2023-06-16T08:00:43.359Z"
      },
      {
        "duration": 13,
        "start_time": "2023-06-16T08:00:43.370Z"
      },
      {
        "duration": 10,
        "start_time": "2023-06-16T08:00:43.385Z"
      },
      {
        "duration": 3834,
        "start_time": "2023-06-16T08:00:43.397Z"
      },
      {
        "duration": 44,
        "start_time": "2023-06-16T08:00:47.232Z"
      },
      {
        "duration": 29,
        "start_time": "2023-06-16T08:00:47.278Z"
      },
      {
        "duration": 10,
        "start_time": "2023-06-16T08:00:47.309Z"
      },
      {
        "duration": 30,
        "start_time": "2023-06-16T08:00:47.353Z"
      },
      {
        "duration": 12,
        "start_time": "2023-06-16T08:00:47.385Z"
      },
      {
        "duration": 23,
        "start_time": "2023-06-16T08:00:47.399Z"
      },
      {
        "duration": 743,
        "start_time": "2023-06-16T08:00:47.452Z"
      },
      {
        "duration": 41010,
        "start_time": "2023-06-16T08:01:34.371Z"
      },
      {
        "duration": 149,
        "start_time": "2023-06-16T08:03:28.853Z"
      },
      {
        "duration": 6,
        "start_time": "2023-06-16T08:04:02.433Z"
      },
      {
        "duration": 995,
        "start_time": "2023-06-16T08:04:20.873Z"
      },
      {
        "duration": 45,
        "start_time": "2023-06-16T08:08:08.045Z"
      },
      {
        "duration": 5,
        "start_time": "2023-06-16T08:08:43.792Z"
      },
      {
        "duration": 3068,
        "start_time": "2023-06-16T08:08:45.467Z"
      },
      {
        "duration": 9,
        "start_time": "2023-06-16T08:08:57.270Z"
      },
      {
        "duration": 85,
        "start_time": "2023-06-16T08:09:04.396Z"
      },
      {
        "duration": 4,
        "start_time": "2023-06-16T08:10:14.821Z"
      },
      {
        "duration": 4,
        "start_time": "2023-06-16T08:10:17.621Z"
      },
      {
        "duration": 19,
        "start_time": "2023-06-16T08:11:06.888Z"
      },
      {
        "duration": 20,
        "start_time": "2023-06-16T08:11:11.174Z"
      },
      {
        "duration": 1931,
        "start_time": "2023-06-16T08:11:39.214Z"
      },
      {
        "duration": 20,
        "start_time": "2023-06-16T08:11:52.612Z"
      },
      {
        "duration": 18,
        "start_time": "2023-06-16T08:11:55.576Z"
      },
      {
        "duration": 24,
        "start_time": "2023-06-16T08:11:58.937Z"
      },
      {
        "duration": 15,
        "start_time": "2023-06-16T08:12:00.364Z"
      },
      {
        "duration": 133,
        "start_time": "2023-06-16T08:12:16.180Z"
      },
      {
        "duration": 9,
        "start_time": "2023-06-16T08:12:27.470Z"
      },
      {
        "duration": 6344,
        "start_time": "2023-06-16T08:13:10.329Z"
      },
      {
        "duration": 2523,
        "start_time": "2023-06-16T08:13:16.675Z"
      },
      {
        "duration": 2469,
        "start_time": "2023-06-16T08:13:19.201Z"
      },
      {
        "duration": 2598,
        "start_time": "2023-06-16T08:13:21.673Z"
      },
      {
        "duration": 2461,
        "start_time": "2023-06-16T08:13:24.275Z"
      },
      {
        "duration": 14111,
        "start_time": "2023-06-16T08:13:26.738Z"
      },
      {
        "duration": 589,
        "start_time": "2023-06-16T08:13:40.851Z"
      },
      {
        "duration": 38,
        "start_time": "2023-06-16T08:13:41.442Z"
      },
      {
        "duration": 25,
        "start_time": "2023-06-16T08:13:41.483Z"
      },
      {
        "duration": 43,
        "start_time": "2023-06-16T08:13:41.511Z"
      },
      {
        "duration": 20,
        "start_time": "2023-06-16T08:13:41.560Z"
      },
      {
        "duration": 48,
        "start_time": "2023-06-16T08:13:41.582Z"
      },
      {
        "duration": 34,
        "start_time": "2023-06-16T08:13:41.632Z"
      },
      {
        "duration": 36,
        "start_time": "2023-06-16T08:13:41.672Z"
      },
      {
        "duration": 91,
        "start_time": "2023-06-16T08:13:41.710Z"
      },
      {
        "duration": 33,
        "start_time": "2023-06-16T08:13:41.803Z"
      },
      {
        "duration": 72,
        "start_time": "2023-06-16T08:13:41.838Z"
      },
      {
        "duration": 14,
        "start_time": "2023-06-16T08:13:41.912Z"
      },
      {
        "duration": 11,
        "start_time": "2023-06-16T08:13:41.928Z"
      },
      {
        "duration": 23,
        "start_time": "2023-06-16T08:13:41.954Z"
      },
      {
        "duration": 2246,
        "start_time": "2023-06-16T08:13:41.979Z"
      },
      {
        "duration": 6155,
        "start_time": "2023-06-16T08:13:44.227Z"
      },
      {
        "duration": 7,
        "start_time": "2023-06-16T08:13:50.385Z"
      },
      {
        "duration": 117,
        "start_time": "2023-06-16T08:13:50.395Z"
      },
      {
        "duration": 39,
        "start_time": "2023-06-16T08:13:50.515Z"
      },
      {
        "duration": 32,
        "start_time": "2023-06-16T08:13:50.556Z"
      },
      {
        "duration": 39,
        "start_time": "2023-06-16T08:13:50.589Z"
      },
      {
        "duration": 6,
        "start_time": "2023-06-16T08:13:50.630Z"
      },
      {
        "duration": 365,
        "start_time": "2023-06-16T08:13:50.639Z"
      },
      {
        "duration": 177,
        "start_time": "2023-06-16T08:13:51.007Z"
      },
      {
        "duration": 2886,
        "start_time": "2023-06-16T08:13:51.187Z"
      },
      {
        "duration": 2425,
        "start_time": "2023-06-16T08:13:54.075Z"
      },
      {
        "duration": 101,
        "start_time": "2023-06-16T08:13:56.502Z"
      },
      {
        "duration": 13,
        "start_time": "2023-06-16T08:13:56.606Z"
      },
      {
        "duration": 19,
        "start_time": "2023-06-16T08:13:56.621Z"
      },
      {
        "duration": 38,
        "start_time": "2023-06-16T08:13:56.642Z"
      },
      {
        "duration": 6123,
        "start_time": "2023-06-16T08:13:56.683Z"
      },
      {
        "duration": 52,
        "start_time": "2023-06-16T08:14:02.808Z"
      },
      {
        "duration": 31,
        "start_time": "2023-06-16T08:14:02.862Z"
      },
      {
        "duration": 13,
        "start_time": "2023-06-16T08:14:02.895Z"
      },
      {
        "duration": 58,
        "start_time": "2023-06-16T08:14:02.913Z"
      },
      {
        "duration": 15,
        "start_time": "2023-06-16T08:14:02.975Z"
      },
      {
        "duration": 27,
        "start_time": "2023-06-16T08:14:02.993Z"
      },
      {
        "duration": 723,
        "start_time": "2023-06-16T08:14:03.022Z"
      },
      {
        "duration": 44857,
        "start_time": "2023-06-16T08:14:14.541Z"
      },
      {
        "duration": 141,
        "start_time": "2023-06-16T08:14:59.400Z"
      },
      {
        "duration": 6,
        "start_time": "2023-06-16T08:15:07.377Z"
      },
      {
        "duration": 8,
        "start_time": "2023-06-16T08:15:21.174Z"
      },
      {
        "duration": 212,
        "start_time": "2023-06-16T08:15:26.080Z"
      },
      {
        "duration": 3,
        "start_time": "2023-06-16T08:15:33.970Z"
      },
      {
        "duration": 39,
        "start_time": "2023-06-16T08:15:35.821Z"
      },
      {
        "duration": 4,
        "start_time": "2023-06-16T08:17:01.045Z"
      },
      {
        "duration": 20,
        "start_time": "2023-06-16T08:17:02.673Z"
      },
      {
        "duration": 20,
        "start_time": "2023-06-16T08:17:44.811Z"
      },
      {
        "duration": 119,
        "start_time": "2023-06-16T08:22:18.045Z"
      },
      {
        "duration": 673,
        "start_time": "2023-06-16T08:22:35.065Z"
      },
      {
        "duration": 2418,
        "start_time": "2023-06-16T08:23:20.570Z"
      },
      {
        "duration": 2538,
        "start_time": "2023-06-16T08:23:22.992Z"
      },
      {
        "duration": 2292,
        "start_time": "2023-06-16T08:23:25.533Z"
      },
      {
        "duration": 2552,
        "start_time": "2023-06-16T08:23:27.827Z"
      },
      {
        "duration": 2630,
        "start_time": "2023-06-16T08:23:30.383Z"
      },
      {
        "duration": 3100,
        "start_time": "2023-06-16T08:23:33.015Z"
      },
      {
        "duration": 268,
        "start_time": "2023-06-16T08:23:36.116Z"
      },
      {
        "duration": 28,
        "start_time": "2023-06-16T08:23:36.386Z"
      },
      {
        "duration": 57,
        "start_time": "2023-06-16T08:23:36.416Z"
      },
      {
        "duration": 23,
        "start_time": "2023-06-16T08:23:36.476Z"
      },
      {
        "duration": 21,
        "start_time": "2023-06-16T08:23:36.501Z"
      },
      {
        "duration": 54,
        "start_time": "2023-06-16T08:23:36.524Z"
      },
      {
        "duration": 27,
        "start_time": "2023-06-16T08:23:36.580Z"
      },
      {
        "duration": 12,
        "start_time": "2023-06-16T08:23:36.611Z"
      },
      {
        "duration": 81,
        "start_time": "2023-06-16T08:23:36.654Z"
      },
      {
        "duration": 50,
        "start_time": "2023-06-16T08:23:36.737Z"
      },
      {
        "duration": 39,
        "start_time": "2023-06-16T08:23:36.789Z"
      },
      {
        "duration": 46,
        "start_time": "2023-06-16T08:23:36.830Z"
      },
      {
        "duration": 6,
        "start_time": "2023-06-16T08:23:36.879Z"
      },
      {
        "duration": 11,
        "start_time": "2023-06-16T08:23:36.887Z"
      },
      {
        "duration": 2320,
        "start_time": "2023-06-16T08:23:36.901Z"
      },
      {
        "duration": 6351,
        "start_time": "2023-06-16T08:23:39.224Z"
      },
      {
        "duration": 9,
        "start_time": "2023-06-16T08:23:45.577Z"
      },
      {
        "duration": 21,
        "start_time": "2023-06-16T08:23:45.588Z"
      },
      {
        "duration": 24,
        "start_time": "2023-06-16T08:23:45.612Z"
      },
      {
        "duration": 20,
        "start_time": "2023-06-16T08:23:45.654Z"
      },
      {
        "duration": 38,
        "start_time": "2023-06-16T08:23:45.678Z"
      },
      {
        "duration": 7,
        "start_time": "2023-06-16T08:23:45.718Z"
      },
      {
        "duration": 328,
        "start_time": "2023-06-16T08:23:45.727Z"
      },
      {
        "duration": 152,
        "start_time": "2023-06-16T08:23:46.064Z"
      },
      {
        "duration": 2895,
        "start_time": "2023-06-16T08:23:46.218Z"
      },
      {
        "duration": 2504,
        "start_time": "2023-06-16T08:23:49.115Z"
      },
      {
        "duration": 102,
        "start_time": "2023-06-16T08:23:51.621Z"
      },
      {
        "duration": 12,
        "start_time": "2023-06-16T08:23:51.725Z"
      },
      {
        "duration": 42,
        "start_time": "2023-06-16T08:23:51.752Z"
      },
      {
        "duration": 23,
        "start_time": "2023-06-16T08:23:51.796Z"
      },
      {
        "duration": 4980,
        "start_time": "2023-06-16T08:23:51.822Z"
      },
      {
        "duration": 52,
        "start_time": "2023-06-16T08:23:56.804Z"
      },
      {
        "duration": 163,
        "start_time": "2023-06-16T08:23:56.870Z"
      },
      {
        "duration": 14,
        "start_time": "2023-06-16T08:23:57.036Z"
      },
      {
        "duration": 73,
        "start_time": "2023-06-16T08:23:57.057Z"
      },
      {
        "duration": 18,
        "start_time": "2023-06-16T08:23:57.133Z"
      },
      {
        "duration": 47,
        "start_time": "2023-06-16T08:23:57.153Z"
      },
      {
        "duration": 839,
        "start_time": "2023-06-16T08:23:57.202Z"
      },
      {
        "duration": 55841,
        "start_time": "2023-06-16T08:24:07.425Z"
      },
      {
        "duration": 182,
        "start_time": "2023-06-16T08:25:03.278Z"
      },
      {
        "duration": 126,
        "start_time": "2023-06-16T08:25:03.462Z"
      },
      {
        "duration": 1043,
        "start_time": "2023-06-16T08:25:03.591Z"
      },
      {
        "duration": 2918,
        "start_time": "2023-06-16T08:26:27.210Z"
      },
      {
        "duration": 2819,
        "start_time": "2023-06-16T08:26:30.134Z"
      },
      {
        "duration": 2855,
        "start_time": "2023-06-16T08:26:32.956Z"
      },
      {
        "duration": 2835,
        "start_time": "2023-06-16T08:26:35.814Z"
      },
      {
        "duration": 2800,
        "start_time": "2023-06-16T08:26:38.656Z"
      },
      {
        "duration": 3115,
        "start_time": "2023-06-16T08:26:41.458Z"
      },
      {
        "duration": 286,
        "start_time": "2023-06-16T08:26:44.582Z"
      },
      {
        "duration": 36,
        "start_time": "2023-06-16T08:26:44.870Z"
      },
      {
        "duration": 47,
        "start_time": "2023-06-16T08:26:44.908Z"
      },
      {
        "duration": 83,
        "start_time": "2023-06-16T08:26:44.957Z"
      },
      {
        "duration": 63,
        "start_time": "2023-06-16T08:26:45.043Z"
      },
      {
        "duration": 29,
        "start_time": "2023-06-16T08:26:45.109Z"
      },
      {
        "duration": 35,
        "start_time": "2023-06-16T08:26:45.140Z"
      },
      {
        "duration": 31,
        "start_time": "2023-06-16T08:26:45.179Z"
      },
      {
        "duration": 81,
        "start_time": "2023-06-16T08:26:45.212Z"
      },
      {
        "duration": 127,
        "start_time": "2023-06-16T08:26:45.295Z"
      },
      {
        "duration": 127,
        "start_time": "2023-06-16T08:26:45.425Z"
      },
      {
        "duration": 69,
        "start_time": "2023-06-16T08:26:45.554Z"
      },
      {
        "duration": 9,
        "start_time": "2023-06-16T08:26:45.626Z"
      },
      {
        "duration": 22,
        "start_time": "2023-06-16T08:26:45.638Z"
      },
      {
        "duration": 2426,
        "start_time": "2023-06-16T08:26:45.666Z"
      },
      {
        "duration": 7505,
        "start_time": "2023-06-16T08:26:48.097Z"
      },
      {
        "duration": 8,
        "start_time": "2023-06-16T08:26:55.605Z"
      },
      {
        "duration": 33,
        "start_time": "2023-06-16T08:26:55.615Z"
      },
      {
        "duration": 42,
        "start_time": "2023-06-16T08:26:55.651Z"
      },
      {
        "duration": 33,
        "start_time": "2023-06-16T08:26:55.699Z"
      },
      {
        "duration": 67,
        "start_time": "2023-06-16T08:26:55.734Z"
      },
      {
        "duration": 14,
        "start_time": "2023-06-16T08:26:55.803Z"
      },
      {
        "duration": 401,
        "start_time": "2023-06-16T08:26:55.819Z"
      },
      {
        "duration": 170,
        "start_time": "2023-06-16T08:26:56.223Z"
      },
      {
        "duration": 3020,
        "start_time": "2023-06-16T08:26:56.396Z"
      },
      {
        "duration": 2891,
        "start_time": "2023-06-16T08:26:59.419Z"
      },
      {
        "duration": 113,
        "start_time": "2023-06-16T08:27:02.312Z"
      },
      {
        "duration": 27,
        "start_time": "2023-06-16T08:27:02.428Z"
      },
      {
        "duration": 47,
        "start_time": "2023-06-16T08:27:02.463Z"
      },
      {
        "duration": 38,
        "start_time": "2023-06-16T08:27:02.515Z"
      },
      {
        "duration": 4917,
        "start_time": "2023-06-16T08:27:02.556Z"
      },
      {
        "duration": 43,
        "start_time": "2023-06-16T08:27:07.475Z"
      },
      {
        "duration": 59,
        "start_time": "2023-06-16T08:27:07.520Z"
      },
      {
        "duration": 12,
        "start_time": "2023-06-16T08:27:07.581Z"
      },
      {
        "duration": 72,
        "start_time": "2023-06-16T08:27:07.598Z"
      },
      {
        "duration": 19,
        "start_time": "2023-06-16T08:27:07.674Z"
      },
      {
        "duration": 38,
        "start_time": "2023-06-16T08:27:07.695Z"
      },
      {
        "duration": 889,
        "start_time": "2023-06-16T08:27:07.735Z"
      },
      {
        "duration": 50689,
        "start_time": "2023-06-16T08:27:17.404Z"
      },
      {
        "duration": 150,
        "start_time": "2023-06-16T08:28:08.096Z"
      },
      {
        "duration": 132,
        "start_time": "2023-06-16T08:28:08.265Z"
      },
      {
        "duration": 887,
        "start_time": "2023-06-16T08:28:08.403Z"
      },
      {
        "duration": 2508,
        "start_time": "2023-06-16T08:28:28.943Z"
      },
      {
        "duration": 2666,
        "start_time": "2023-06-16T08:28:31.454Z"
      },
      {
        "duration": 2486,
        "start_time": "2023-06-16T08:28:34.123Z"
      },
      {
        "duration": 3049,
        "start_time": "2023-06-16T08:28:36.616Z"
      },
      {
        "duration": 2785,
        "start_time": "2023-06-16T08:28:39.669Z"
      },
      {
        "duration": 3113,
        "start_time": "2023-06-16T08:28:42.463Z"
      },
      {
        "duration": 393,
        "start_time": "2023-06-16T08:28:45.581Z"
      },
      {
        "duration": 32,
        "start_time": "2023-06-16T08:28:45.978Z"
      },
      {
        "duration": 132,
        "start_time": "2023-06-16T08:28:46.013Z"
      },
      {
        "duration": 196,
        "start_time": "2023-06-16T08:28:46.147Z"
      },
      {
        "duration": 156,
        "start_time": "2023-06-16T08:28:46.346Z"
      },
      {
        "duration": 139,
        "start_time": "2023-06-16T08:28:46.505Z"
      },
      {
        "duration": 147,
        "start_time": "2023-06-16T08:28:46.647Z"
      },
      {
        "duration": 77,
        "start_time": "2023-06-16T08:28:46.799Z"
      },
      {
        "duration": 161,
        "start_time": "2023-06-16T08:28:46.879Z"
      },
      {
        "duration": 107,
        "start_time": "2023-06-16T08:28:47.043Z"
      },
      {
        "duration": 67,
        "start_time": "2023-06-16T08:28:47.152Z"
      },
      {
        "duration": 105,
        "start_time": "2023-06-16T08:28:47.221Z"
      },
      {
        "duration": 53,
        "start_time": "2023-06-16T08:28:47.331Z"
      },
      {
        "duration": 52,
        "start_time": "2023-06-16T08:28:47.387Z"
      },
      {
        "duration": 2728,
        "start_time": "2023-06-16T08:28:47.442Z"
      },
      {
        "duration": 6763,
        "start_time": "2023-06-16T08:28:50.176Z"
      },
      {
        "duration": 17,
        "start_time": "2023-06-16T08:28:56.942Z"
      },
      {
        "duration": 55,
        "start_time": "2023-06-16T08:28:56.967Z"
      },
      {
        "duration": 32,
        "start_time": "2023-06-16T08:28:57.025Z"
      },
      {
        "duration": 47,
        "start_time": "2023-06-16T08:28:57.059Z"
      },
      {
        "duration": 75,
        "start_time": "2023-06-16T08:28:57.108Z"
      },
      {
        "duration": 28,
        "start_time": "2023-06-16T08:28:57.186Z"
      },
      {
        "duration": 420,
        "start_time": "2023-06-16T08:28:57.217Z"
      },
      {
        "duration": 164,
        "start_time": "2023-06-16T08:28:57.639Z"
      },
      {
        "duration": 3382,
        "start_time": "2023-06-16T08:28:57.806Z"
      },
      {
        "duration": 2812,
        "start_time": "2023-06-16T08:29:01.192Z"
      },
      {
        "duration": 128,
        "start_time": "2023-06-16T08:29:04.006Z"
      },
      {
        "duration": 20,
        "start_time": "2023-06-16T08:29:04.137Z"
      },
      {
        "duration": 46,
        "start_time": "2023-06-16T08:29:04.159Z"
      },
      {
        "duration": 18,
        "start_time": "2023-06-16T08:29:04.207Z"
      },
      {
        "duration": 7732,
        "start_time": "2023-06-16T08:29:04.228Z"
      },
      {
        "duration": 42,
        "start_time": "2023-06-16T08:29:11.963Z"
      },
      {
        "duration": 72,
        "start_time": "2023-06-16T08:29:12.007Z"
      },
      {
        "duration": 108,
        "start_time": "2023-06-16T08:29:12.081Z"
      },
      {
        "duration": 37,
        "start_time": "2023-06-16T08:29:12.195Z"
      },
      {
        "duration": 16,
        "start_time": "2023-06-16T08:29:12.235Z"
      },
      {
        "duration": 40,
        "start_time": "2023-06-16T08:29:12.263Z"
      },
      {
        "duration": 1130,
        "start_time": "2023-06-16T08:29:12.305Z"
      },
      {
        "duration": 47453,
        "start_time": "2023-06-16T08:29:26.489Z"
      },
      {
        "duration": 48001,
        "start_time": "2023-06-16T08:30:20.043Z"
      },
      {
        "duration": 156,
        "start_time": "2023-06-16T08:31:08.052Z"
      },
      {
        "duration": 148,
        "start_time": "2023-06-16T08:31:08.211Z"
      },
      {
        "duration": 870,
        "start_time": "2023-06-16T08:31:08.375Z"
      },
      {
        "duration": 2286,
        "start_time": "2023-06-16T08:31:31.741Z"
      },
      {
        "duration": 2268,
        "start_time": "2023-06-16T08:31:34.029Z"
      },
      {
        "duration": 2296,
        "start_time": "2023-06-16T08:31:36.298Z"
      },
      {
        "duration": 2256,
        "start_time": "2023-06-16T08:31:38.597Z"
      },
      {
        "duration": 2359,
        "start_time": "2023-06-16T08:31:40.858Z"
      },
      {
        "duration": 2838,
        "start_time": "2023-06-16T08:31:43.219Z"
      },
      {
        "duration": 305,
        "start_time": "2023-06-16T08:31:46.059Z"
      },
      {
        "duration": 26,
        "start_time": "2023-06-16T08:31:46.369Z"
      },
      {
        "duration": 26,
        "start_time": "2023-06-16T08:31:46.397Z"
      },
      {
        "duration": 54,
        "start_time": "2023-06-16T08:31:46.425Z"
      },
      {
        "duration": 17,
        "start_time": "2023-06-16T08:31:46.481Z"
      },
      {
        "duration": 64,
        "start_time": "2023-06-16T08:31:46.500Z"
      },
      {
        "duration": 25,
        "start_time": "2023-06-16T08:31:46.565Z"
      },
      {
        "duration": 9,
        "start_time": "2023-06-16T08:31:46.593Z"
      },
      {
        "duration": 91,
        "start_time": "2023-06-16T08:31:46.604Z"
      },
      {
        "duration": 31,
        "start_time": "2023-06-16T08:31:46.697Z"
      },
      {
        "duration": 79,
        "start_time": "2023-06-16T08:31:46.733Z"
      },
      {
        "duration": 15,
        "start_time": "2023-06-16T08:31:46.815Z"
      },
      {
        "duration": 4,
        "start_time": "2023-06-16T08:31:46.858Z"
      },
      {
        "duration": 20,
        "start_time": "2023-06-16T08:31:46.864Z"
      },
      {
        "duration": 2289,
        "start_time": "2023-06-16T08:31:46.886Z"
      },
      {
        "duration": 6094,
        "start_time": "2023-06-16T08:31:49.177Z"
      },
      {
        "duration": 7,
        "start_time": "2023-06-16T08:31:55.275Z"
      },
      {
        "duration": 15,
        "start_time": "2023-06-16T08:31:55.284Z"
      },
      {
        "duration": 27,
        "start_time": "2023-06-16T08:31:55.303Z"
      },
      {
        "duration": 38,
        "start_time": "2023-06-16T08:31:55.332Z"
      },
      {
        "duration": 51,
        "start_time": "2023-06-16T08:31:55.377Z"
      },
      {
        "duration": 6,
        "start_time": "2023-06-16T08:31:55.429Z"
      },
      {
        "duration": 286,
        "start_time": "2023-06-16T08:31:55.437Z"
      },
      {
        "duration": 153,
        "start_time": "2023-06-16T08:31:55.725Z"
      },
      {
        "duration": 2828,
        "start_time": "2023-06-16T08:31:55.880Z"
      },
      {
        "duration": 2545,
        "start_time": "2023-06-16T08:31:58.711Z"
      },
      {
        "duration": 108,
        "start_time": "2023-06-16T08:32:01.261Z"
      },
      {
        "duration": 39,
        "start_time": "2023-06-16T08:32:01.373Z"
      },
      {
        "duration": 88,
        "start_time": "2023-06-16T08:32:01.414Z"
      },
      {
        "duration": 90,
        "start_time": "2023-06-16T08:32:01.505Z"
      },
      {
        "duration": 6345,
        "start_time": "2023-06-16T08:32:01.597Z"
      },
      {
        "duration": 62,
        "start_time": "2023-06-16T08:32:07.944Z"
      },
      {
        "duration": 121,
        "start_time": "2023-06-16T08:32:08.009Z"
      },
      {
        "duration": 11,
        "start_time": "2023-06-16T08:32:08.132Z"
      },
      {
        "duration": 49,
        "start_time": "2023-06-16T08:32:08.147Z"
      },
      {
        "duration": 13,
        "start_time": "2023-06-16T08:32:08.198Z"
      },
      {
        "duration": 78,
        "start_time": "2023-06-16T08:32:08.217Z"
      },
      {
        "duration": 1008,
        "start_time": "2023-06-16T08:32:08.297Z"
      },
      {
        "duration": 5697,
        "start_time": "2023-06-16T08:33:46.430Z"
      },
      {
        "duration": 3392,
        "start_time": "2023-06-16T08:33:52.130Z"
      },
      {
        "duration": 2346,
        "start_time": "2023-06-16T08:33:55.524Z"
      },
      {
        "duration": 2509,
        "start_time": "2023-06-16T08:33:57.872Z"
      },
      {
        "duration": 2572,
        "start_time": "2023-06-16T08:34:00.385Z"
      },
      {
        "duration": 6777,
        "start_time": "2023-06-16T08:34:02.959Z"
      },
      {
        "duration": 488,
        "start_time": "2023-06-16T08:34:09.738Z"
      },
      {
        "duration": 41,
        "start_time": "2023-06-16T08:34:10.227Z"
      },
      {
        "duration": 21,
        "start_time": "2023-06-16T08:34:10.271Z"
      },
      {
        "duration": 23,
        "start_time": "2023-06-16T08:34:10.294Z"
      },
      {
        "duration": 47,
        "start_time": "2023-06-16T08:34:10.319Z"
      },
      {
        "duration": 35,
        "start_time": "2023-06-16T08:34:10.371Z"
      },
      {
        "duration": 23,
        "start_time": "2023-06-16T08:34:10.408Z"
      },
      {
        "duration": 31,
        "start_time": "2023-06-16T08:34:10.435Z"
      },
      {
        "duration": 90,
        "start_time": "2023-06-16T08:34:10.471Z"
      },
      {
        "duration": 33,
        "start_time": "2023-06-16T08:34:10.563Z"
      },
      {
        "duration": 59,
        "start_time": "2023-06-16T08:34:10.597Z"
      },
      {
        "duration": 22,
        "start_time": "2023-06-16T08:34:10.658Z"
      },
      {
        "duration": 9,
        "start_time": "2023-06-16T08:34:10.682Z"
      },
      {
        "duration": 13,
        "start_time": "2023-06-16T08:34:10.693Z"
      },
      {
        "duration": 2363,
        "start_time": "2023-06-16T08:34:10.707Z"
      },
      {
        "duration": 6231,
        "start_time": "2023-06-16T08:34:13.078Z"
      },
      {
        "duration": 9,
        "start_time": "2023-06-16T08:34:19.311Z"
      },
      {
        "duration": 36,
        "start_time": "2023-06-16T08:34:19.323Z"
      },
      {
        "duration": 29,
        "start_time": "2023-06-16T08:34:19.368Z"
      },
      {
        "duration": 29,
        "start_time": "2023-06-16T08:34:19.400Z"
      },
      {
        "duration": 52,
        "start_time": "2023-06-16T08:34:19.431Z"
      },
      {
        "duration": 7,
        "start_time": "2023-06-16T08:34:19.485Z"
      },
      {
        "duration": 384,
        "start_time": "2023-06-16T08:34:19.495Z"
      },
      {
        "duration": 156,
        "start_time": "2023-06-16T08:34:19.880Z"
      },
      {
        "duration": 2691,
        "start_time": "2023-06-16T08:34:20.039Z"
      },
      {
        "duration": 2478,
        "start_time": "2023-06-16T08:34:22.732Z"
      },
      {
        "duration": 98,
        "start_time": "2023-06-16T08:34:25.212Z"
      },
      {
        "duration": 10,
        "start_time": "2023-06-16T08:34:25.312Z"
      },
      {
        "duration": 34,
        "start_time": "2023-06-16T08:34:25.324Z"
      },
      {
        "duration": 35,
        "start_time": "2023-06-16T08:34:25.360Z"
      },
      {
        "duration": 6755,
        "start_time": "2023-06-16T08:34:25.397Z"
      },
      {
        "duration": 40,
        "start_time": "2023-06-16T08:34:32.156Z"
      },
      {
        "duration": 36,
        "start_time": "2023-06-16T08:34:32.198Z"
      },
      {
        "duration": 15,
        "start_time": "2023-06-16T08:34:32.255Z"
      },
      {
        "duration": 59,
        "start_time": "2023-06-16T08:34:32.275Z"
      },
      {
        "duration": 28,
        "start_time": "2023-06-16T08:34:32.336Z"
      },
      {
        "duration": 28,
        "start_time": "2023-06-16T08:34:32.372Z"
      },
      {
        "duration": 792,
        "start_time": "2023-06-16T08:34:32.402Z"
      },
      {
        "duration": 7099,
        "start_time": "2023-06-17T07:25:17.443Z"
      },
      {
        "duration": 3026,
        "start_time": "2023-06-17T07:25:24.545Z"
      },
      {
        "duration": 6907,
        "start_time": "2023-06-17T07:25:27.574Z"
      },
      {
        "duration": 3725,
        "start_time": "2023-06-17T07:25:34.483Z"
      },
      {
        "duration": 4483,
        "start_time": "2023-06-17T07:25:38.211Z"
      },
      {
        "duration": 3099,
        "start_time": "2023-06-17T07:25:42.696Z"
      },
      {
        "duration": 842,
        "start_time": "2023-06-17T07:25:45.797Z"
      },
      {
        "duration": 26,
        "start_time": "2023-06-17T07:25:46.641Z"
      },
      {
        "duration": 29,
        "start_time": "2023-06-17T07:25:46.669Z"
      },
      {
        "duration": 26,
        "start_time": "2023-06-17T07:25:46.700Z"
      },
      {
        "duration": 15,
        "start_time": "2023-06-17T07:25:46.750Z"
      },
      {
        "duration": 27,
        "start_time": "2023-06-17T07:25:46.767Z"
      },
      {
        "duration": 18,
        "start_time": "2023-06-17T07:25:46.796Z"
      },
      {
        "duration": 35,
        "start_time": "2023-06-17T07:25:46.817Z"
      },
      {
        "duration": 63,
        "start_time": "2023-06-17T07:25:46.853Z"
      },
      {
        "duration": 69,
        "start_time": "2023-06-17T07:25:46.918Z"
      },
      {
        "duration": 39,
        "start_time": "2023-06-17T07:25:46.989Z"
      },
      {
        "duration": 27,
        "start_time": "2023-06-17T07:25:47.029Z"
      },
      {
        "duration": 8,
        "start_time": "2023-06-17T07:25:47.058Z"
      },
      {
        "duration": 9,
        "start_time": "2023-06-17T07:25:47.067Z"
      },
      {
        "duration": 2168,
        "start_time": "2023-06-17T07:25:47.077Z"
      },
      {
        "duration": 5704,
        "start_time": "2023-06-17T07:25:49.249Z"
      },
      {
        "duration": 6,
        "start_time": "2023-06-17T07:25:54.954Z"
      },
      {
        "duration": 17,
        "start_time": "2023-06-17T07:25:54.962Z"
      },
      {
        "duration": 20,
        "start_time": "2023-06-17T07:25:54.981Z"
      },
      {
        "duration": 16,
        "start_time": "2023-06-17T07:25:55.004Z"
      },
      {
        "duration": 43,
        "start_time": "2023-06-17T07:25:55.022Z"
      },
      {
        "duration": 5,
        "start_time": "2023-06-17T07:25:55.067Z"
      },
      {
        "duration": 268,
        "start_time": "2023-06-17T07:25:55.074Z"
      },
      {
        "duration": 124,
        "start_time": "2023-06-17T07:25:55.344Z"
      },
      {
        "duration": 2282,
        "start_time": "2023-06-17T07:25:55.469Z"
      },
      {
        "duration": 2208,
        "start_time": "2023-06-17T07:25:57.753Z"
      },
      {
        "duration": 73,
        "start_time": "2023-06-17T07:25:59.963Z"
      },
      {
        "duration": 19,
        "start_time": "2023-06-17T07:26:00.037Z"
      },
      {
        "duration": 97,
        "start_time": "2023-06-17T07:26:00.058Z"
      },
      {
        "duration": 31,
        "start_time": "2023-06-17T07:26:00.156Z"
      },
      {
        "duration": 4469,
        "start_time": "2023-06-17T07:26:00.189Z"
      },
      {
        "duration": 33,
        "start_time": "2023-06-17T07:26:04.660Z"
      },
      {
        "duration": 27,
        "start_time": "2023-06-17T07:26:04.695Z"
      },
      {
        "duration": 27,
        "start_time": "2023-06-17T07:26:04.724Z"
      },
      {
        "duration": 29,
        "start_time": "2023-06-17T07:26:04.755Z"
      },
      {
        "duration": 12,
        "start_time": "2023-06-17T07:26:04.786Z"
      },
      {
        "duration": 54,
        "start_time": "2023-06-17T07:26:04.799Z"
      },
      {
        "duration": 658,
        "start_time": "2023-06-17T07:26:04.854Z"
      },
      {
        "duration": 633363,
        "start_time": "2023-06-17T07:26:05.515Z"
      },
      {
        "duration": 652213,
        "start_time": "2023-06-17T07:36:38.880Z"
      },
      {
        "duration": 0,
        "start_time": "2023-06-17T07:47:31.095Z"
      },
      {
        "duration": 0,
        "start_time": "2023-06-17T07:47:31.096Z"
      },
      {
        "duration": 0,
        "start_time": "2023-06-17T07:47:31.097Z"
      },
      {
        "duration": 0,
        "start_time": "2023-06-17T07:47:31.098Z"
      },
      {
        "duration": 0,
        "start_time": "2023-06-17T07:47:31.099Z"
      },
      {
        "duration": 10111,
        "start_time": "2023-06-17T09:27:49.135Z"
      },
      {
        "duration": 2998,
        "start_time": "2023-06-17T09:27:59.248Z"
      },
      {
        "duration": 6621,
        "start_time": "2023-06-17T09:28:02.248Z"
      },
      {
        "duration": 3644,
        "start_time": "2023-06-17T09:28:08.871Z"
      },
      {
        "duration": 3331,
        "start_time": "2023-06-17T09:28:12.518Z"
      },
      {
        "duration": 2818,
        "start_time": "2023-06-17T09:28:15.852Z"
      },
      {
        "duration": 466,
        "start_time": "2023-06-17T09:28:18.672Z"
      },
      {
        "duration": 24,
        "start_time": "2023-06-17T09:28:19.140Z"
      },
      {
        "duration": 29,
        "start_time": "2023-06-17T09:28:19.167Z"
      },
      {
        "duration": 50,
        "start_time": "2023-06-17T09:28:19.199Z"
      },
      {
        "duration": 19,
        "start_time": "2023-06-17T09:28:19.251Z"
      },
      {
        "duration": 51,
        "start_time": "2023-06-17T09:28:19.272Z"
      },
      {
        "duration": 51,
        "start_time": "2023-06-17T09:28:19.325Z"
      },
      {
        "duration": 19,
        "start_time": "2023-06-17T09:28:19.381Z"
      },
      {
        "duration": 127,
        "start_time": "2023-06-17T09:28:19.402Z"
      },
      {
        "duration": 49,
        "start_time": "2023-06-17T09:28:19.531Z"
      },
      {
        "duration": 68,
        "start_time": "2023-06-17T09:28:19.582Z"
      },
      {
        "duration": 46,
        "start_time": "2023-06-17T09:28:19.652Z"
      },
      {
        "duration": 2,
        "start_time": "2023-06-17T09:28:19.701Z"
      },
      {
        "duration": 7,
        "start_time": "2023-06-17T09:28:19.705Z"
      },
      {
        "duration": 2017,
        "start_time": "2023-06-17T09:28:19.714Z"
      },
      {
        "duration": 5626,
        "start_time": "2023-06-17T09:28:21.733Z"
      },
      {
        "duration": 6,
        "start_time": "2023-06-17T09:28:27.360Z"
      },
      {
        "duration": 14,
        "start_time": "2023-06-17T09:28:27.368Z"
      },
      {
        "duration": 16,
        "start_time": "2023-06-17T09:28:27.383Z"
      },
      {
        "duration": 41,
        "start_time": "2023-06-17T09:28:27.400Z"
      },
      {
        "duration": 51,
        "start_time": "2023-06-17T09:28:27.444Z"
      },
      {
        "duration": 26,
        "start_time": "2023-06-17T09:28:27.497Z"
      },
      {
        "duration": 281,
        "start_time": "2023-06-17T09:28:27.525Z"
      },
      {
        "duration": 116,
        "start_time": "2023-06-17T09:28:27.807Z"
      },
      {
        "duration": 2644,
        "start_time": "2023-06-17T09:28:27.925Z"
      },
      {
        "duration": 2387,
        "start_time": "2023-06-17T09:28:30.571Z"
      },
      {
        "duration": 87,
        "start_time": "2023-06-17T09:28:32.960Z"
      },
      {
        "duration": 9,
        "start_time": "2023-06-17T09:28:33.048Z"
      },
      {
        "duration": 43,
        "start_time": "2023-06-17T09:28:33.059Z"
      },
      {
        "duration": 44,
        "start_time": "2023-06-17T09:28:33.104Z"
      },
      {
        "duration": 2284,
        "start_time": "2023-06-17T09:28:33.150Z"
      },
      {
        "duration": 32,
        "start_time": "2023-06-17T09:28:35.437Z"
      },
      {
        "duration": 34,
        "start_time": "2023-06-17T09:28:35.471Z"
      },
      {
        "duration": 27,
        "start_time": "2023-06-17T09:28:35.507Z"
      },
      {
        "duration": 34,
        "start_time": "2023-06-17T09:28:35.539Z"
      },
      {
        "duration": 9,
        "start_time": "2023-06-17T09:28:35.574Z"
      },
      {
        "duration": 95,
        "start_time": "2023-06-17T09:28:35.585Z"
      },
      {
        "duration": 239,
        "start_time": "2023-06-17T09:28:35.682Z"
      },
      {
        "duration": 1531,
        "start_time": "2023-06-17T09:29:39.368Z"
      },
      {
        "duration": 40516,
        "start_time": "2023-06-17T09:29:53.552Z"
      },
      {
        "duration": 136,
        "start_time": "2023-06-17T09:30:34.070Z"
      },
      {
        "duration": 100,
        "start_time": "2023-06-17T09:30:34.208Z"
      },
      {
        "duration": 0,
        "start_time": "2023-06-17T09:30:34.360Z"
      },
      {
        "duration": 4,
        "start_time": "2023-06-17T09:31:15.499Z"
      },
      {
        "duration": 4,
        "start_time": "2023-06-17T09:31:20.697Z"
      },
      {
        "duration": 4,
        "start_time": "2023-06-17T09:31:35.916Z"
      },
      {
        "duration": 17,
        "start_time": "2023-06-17T09:31:42.669Z"
      },
      {
        "duration": 22,
        "start_time": "2023-06-17T09:32:02.166Z"
      },
      {
        "duration": 11,
        "start_time": "2023-06-17T09:34:52.141Z"
      },
      {
        "duration": 17,
        "start_time": "2023-06-17T09:35:52.755Z"
      },
      {
        "duration": 30,
        "start_time": "2023-06-17T09:36:47.202Z"
      },
      {
        "duration": 25,
        "start_time": "2023-06-17T09:37:44.591Z"
      },
      {
        "duration": 81,
        "start_time": "2023-06-17T09:38:01.827Z"
      },
      {
        "duration": 66,
        "start_time": "2023-06-17T09:39:14.945Z"
      },
      {
        "duration": 115,
        "start_time": "2023-06-17T09:39:19.806Z"
      },
      {
        "duration": 43,
        "start_time": "2023-06-17T09:39:23.444Z"
      },
      {
        "duration": 74,
        "start_time": "2023-06-17T09:39:46.593Z"
      },
      {
        "duration": 2044,
        "start_time": "2023-06-17T09:40:08.875Z"
      },
      {
        "duration": 2002,
        "start_time": "2023-06-17T09:40:10.921Z"
      },
      {
        "duration": 2017,
        "start_time": "2023-06-17T09:40:12.925Z"
      },
      {
        "duration": 2063,
        "start_time": "2023-06-17T09:40:14.944Z"
      },
      {
        "duration": 2032,
        "start_time": "2023-06-17T09:40:17.009Z"
      },
      {
        "duration": 6,
        "start_time": "2023-06-17T09:40:19.043Z"
      },
      {
        "duration": 205,
        "start_time": "2023-06-17T09:40:19.050Z"
      },
      {
        "duration": 20,
        "start_time": "2023-06-17T09:40:19.256Z"
      },
      {
        "duration": 22,
        "start_time": "2023-06-17T09:40:19.277Z"
      },
      {
        "duration": 49,
        "start_time": "2023-06-17T09:40:19.301Z"
      },
      {
        "duration": 11,
        "start_time": "2023-06-17T09:40:19.352Z"
      },
      {
        "duration": 32,
        "start_time": "2023-06-17T09:40:19.365Z"
      },
      {
        "duration": 22,
        "start_time": "2023-06-17T09:40:19.398Z"
      },
      {
        "duration": 19,
        "start_time": "2023-06-17T09:40:19.422Z"
      },
      {
        "duration": 63,
        "start_time": "2023-06-17T09:40:19.443Z"
      },
      {
        "duration": 26,
        "start_time": "2023-06-17T09:40:19.508Z"
      },
      {
        "duration": 33,
        "start_time": "2023-06-17T09:40:19.536Z"
      },
      {
        "duration": 55,
        "start_time": "2023-06-17T09:40:19.570Z"
      },
      {
        "duration": 19,
        "start_time": "2023-06-17T09:40:19.627Z"
      },
      {
        "duration": 8,
        "start_time": "2023-06-17T09:40:19.649Z"
      },
      {
        "duration": 1720,
        "start_time": "2023-06-17T09:40:19.659Z"
      },
      {
        "duration": 4886,
        "start_time": "2023-06-17T09:40:21.382Z"
      },
      {
        "duration": 6,
        "start_time": "2023-06-17T09:40:26.269Z"
      },
      {
        "duration": 18,
        "start_time": "2023-06-17T09:40:26.277Z"
      },
      {
        "duration": 28,
        "start_time": "2023-06-17T09:40:26.297Z"
      },
      {
        "duration": 24,
        "start_time": "2023-06-17T09:40:26.326Z"
      },
      {
        "duration": 35,
        "start_time": "2023-06-17T09:40:26.352Z"
      },
      {
        "duration": 5,
        "start_time": "2023-06-17T09:40:26.390Z"
      },
      {
        "duration": 229,
        "start_time": "2023-06-17T09:40:26.396Z"
      },
      {
        "duration": 108,
        "start_time": "2023-06-17T09:40:26.627Z"
      },
      {
        "duration": 2202,
        "start_time": "2023-06-17T09:40:26.737Z"
      },
      {
        "duration": 1925,
        "start_time": "2023-06-17T09:40:28.941Z"
      },
      {
        "duration": 77,
        "start_time": "2023-06-17T09:40:30.868Z"
      },
      {
        "duration": 82,
        "start_time": "2023-06-17T09:40:30.947Z"
      },
      {
        "duration": 79,
        "start_time": "2023-06-17T09:40:31.031Z"
      },
      {
        "duration": 58,
        "start_time": "2023-06-17T09:40:31.112Z"
      },
      {
        "duration": 2014,
        "start_time": "2023-06-17T09:40:31.171Z"
      },
      {
        "duration": 14,
        "start_time": "2023-06-17T09:40:33.186Z"
      },
      {
        "duration": 41,
        "start_time": "2023-06-17T09:40:33.202Z"
      },
      {
        "duration": 9,
        "start_time": "2023-06-17T09:40:33.245Z"
      },
      {
        "duration": 35,
        "start_time": "2023-06-17T09:40:33.256Z"
      },
      {
        "duration": 22,
        "start_time": "2023-06-17T09:40:33.293Z"
      },
      {
        "duration": 22,
        "start_time": "2023-06-17T09:40:33.318Z"
      },
      {
        "duration": 63,
        "start_time": "2023-06-17T09:40:33.341Z"
      },
      {
        "duration": 650,
        "start_time": "2023-06-17T09:40:33.406Z"
      },
      {
        "duration": 649,
        "start_time": "2023-06-17T10:11:19.854Z"
      },
      {
        "duration": 21,
        "start_time": "2023-06-17T10:13:47.417Z"
      },
      {
        "duration": 627,
        "start_time": "2023-06-17T10:13:52.528Z"
      },
      {
        "duration": 578,
        "start_time": "2023-06-17T10:14:26.436Z"
      },
      {
        "duration": 46,
        "start_time": "2023-06-17T10:15:00.991Z"
      },
      {
        "duration": 672,
        "start_time": "2023-06-17T10:16:57.839Z"
      },
      {
        "duration": 41,
        "start_time": "2023-06-17T10:18:05.069Z"
      },
      {
        "duration": 42,
        "start_time": "2023-06-17T10:18:08.455Z"
      },
      {
        "duration": 2056,
        "start_time": "2023-06-17T10:19:54.806Z"
      },
      {
        "duration": 2064,
        "start_time": "2023-06-17T10:19:56.864Z"
      },
      {
        "duration": 2089,
        "start_time": "2023-06-17T10:19:58.930Z"
      },
      {
        "duration": 2586,
        "start_time": "2023-06-17T10:20:01.023Z"
      },
      {
        "duration": 2188,
        "start_time": "2023-06-17T10:20:03.611Z"
      },
      {
        "duration": 5,
        "start_time": "2023-06-17T10:20:05.801Z"
      },
      {
        "duration": 180,
        "start_time": "2023-06-17T10:20:05.808Z"
      },
      {
        "duration": 21,
        "start_time": "2023-06-17T10:20:05.989Z"
      },
      {
        "duration": 25,
        "start_time": "2023-06-17T10:20:06.012Z"
      },
      {
        "duration": 19,
        "start_time": "2023-06-17T10:20:06.040Z"
      },
      {
        "duration": 11,
        "start_time": "2023-06-17T10:20:06.061Z"
      },
      {
        "duration": 24,
        "start_time": "2023-06-17T10:20:06.073Z"
      },
      {
        "duration": 33,
        "start_time": "2023-06-17T10:20:06.099Z"
      },
      {
        "duration": 8,
        "start_time": "2023-06-17T10:20:06.133Z"
      },
      {
        "duration": 54,
        "start_time": "2023-06-17T10:20:06.143Z"
      },
      {
        "duration": 39,
        "start_time": "2023-06-17T10:20:06.198Z"
      },
      {
        "duration": 32,
        "start_time": "2023-06-17T10:20:06.238Z"
      },
      {
        "duration": 40,
        "start_time": "2023-06-17T10:20:06.272Z"
      },
      {
        "duration": 8,
        "start_time": "2023-06-17T10:20:06.314Z"
      },
      {
        "duration": 6,
        "start_time": "2023-06-17T10:20:06.324Z"
      },
      {
        "duration": 1678,
        "start_time": "2023-06-17T10:20:06.331Z"
      },
      {
        "duration": 5277,
        "start_time": "2023-06-17T10:20:08.010Z"
      },
      {
        "duration": 5,
        "start_time": "2023-06-17T10:20:13.289Z"
      },
      {
        "duration": 5,
        "start_time": "2023-06-17T10:20:13.296Z"
      },
      {
        "duration": 15,
        "start_time": "2023-06-17T10:20:13.320Z"
      },
      {
        "duration": 22,
        "start_time": "2023-06-17T10:20:13.336Z"
      },
      {
        "duration": 49,
        "start_time": "2023-06-17T10:20:13.360Z"
      },
      {
        "duration": 8,
        "start_time": "2023-06-17T10:20:13.412Z"
      },
      {
        "duration": 250,
        "start_time": "2023-06-17T10:20:13.422Z"
      },
      {
        "duration": 98,
        "start_time": "2023-06-17T10:20:13.673Z"
      },
      {
        "duration": 2167,
        "start_time": "2023-06-17T10:20:13.772Z"
      },
      {
        "duration": 1879,
        "start_time": "2023-06-17T10:20:15.941Z"
      },
      {
        "duration": 61,
        "start_time": "2023-06-17T10:20:17.821Z"
      },
      {
        "duration": 7,
        "start_time": "2023-06-17T10:20:17.884Z"
      },
      {
        "duration": 29,
        "start_time": "2023-06-17T10:20:17.892Z"
      },
      {
        "duration": 14,
        "start_time": "2023-06-17T10:20:17.922Z"
      },
      {
        "duration": 1951,
        "start_time": "2023-06-17T10:20:17.937Z"
      },
      {
        "duration": 13,
        "start_time": "2023-06-17T10:20:19.890Z"
      },
      {
        "duration": 22,
        "start_time": "2023-06-17T10:20:19.904Z"
      },
      {
        "duration": 8,
        "start_time": "2023-06-17T10:20:19.927Z"
      },
      {
        "duration": 12,
        "start_time": "2023-06-17T10:20:19.937Z"
      },
      {
        "duration": 18,
        "start_time": "2023-06-17T10:20:19.950Z"
      },
      {
        "duration": 54,
        "start_time": "2023-06-17T10:20:19.969Z"
      },
      {
        "duration": 68,
        "start_time": "2023-06-17T10:20:20.024Z"
      },
      {
        "duration": 671,
        "start_time": "2023-06-17T10:20:20.093Z"
      },
      {
        "duration": 38222,
        "start_time": "2023-06-17T10:21:11.299Z"
      },
      {
        "duration": 133,
        "start_time": "2023-06-17T10:21:49.523Z"
      },
      {
        "duration": 3,
        "start_time": "2023-06-17T10:21:49.657Z"
      },
      {
        "duration": 689,
        "start_time": "2023-06-17T10:21:49.662Z"
      },
      {
        "duration": 2047,
        "start_time": "2023-06-17T10:24:38.847Z"
      },
      {
        "duration": 2010,
        "start_time": "2023-06-17T10:24:40.895Z"
      },
      {
        "duration": 1972,
        "start_time": "2023-06-17T10:24:42.907Z"
      },
      {
        "duration": 2108,
        "start_time": "2023-06-17T10:24:44.881Z"
      },
      {
        "duration": 2027,
        "start_time": "2023-06-17T10:24:46.991Z"
      },
      {
        "duration": 6,
        "start_time": "2023-06-17T10:24:49.020Z"
      },
      {
        "duration": 193,
        "start_time": "2023-06-17T10:24:49.027Z"
      },
      {
        "duration": 18,
        "start_time": "2023-06-17T10:24:49.222Z"
      },
      {
        "duration": 45,
        "start_time": "2023-06-17T10:24:49.241Z"
      },
      {
        "duration": 58,
        "start_time": "2023-06-17T10:24:49.290Z"
      },
      {
        "duration": 19,
        "start_time": "2023-06-17T10:24:49.350Z"
      },
      {
        "duration": 39,
        "start_time": "2023-06-17T10:24:49.371Z"
      },
      {
        "duration": 16,
        "start_time": "2023-06-17T10:24:49.412Z"
      },
      {
        "duration": 9,
        "start_time": "2023-06-17T10:24:49.430Z"
      },
      {
        "duration": 59,
        "start_time": "2023-06-17T10:24:49.440Z"
      },
      {
        "duration": 41,
        "start_time": "2023-06-17T10:24:49.500Z"
      },
      {
        "duration": 34,
        "start_time": "2023-06-17T10:24:49.542Z"
      },
      {
        "duration": 28,
        "start_time": "2023-06-17T10:24:49.577Z"
      },
      {
        "duration": 16,
        "start_time": "2023-06-17T10:24:49.606Z"
      },
      {
        "duration": 5,
        "start_time": "2023-06-17T10:24:49.624Z"
      },
      {
        "duration": 1685,
        "start_time": "2023-06-17T10:24:49.631Z"
      },
      {
        "duration": 4719,
        "start_time": "2023-06-17T10:24:51.319Z"
      },
      {
        "duration": 7,
        "start_time": "2023-06-17T10:24:56.040Z"
      },
      {
        "duration": 6,
        "start_time": "2023-06-17T10:24:56.049Z"
      },
      {
        "duration": 15,
        "start_time": "2023-06-17T10:24:56.057Z"
      },
      {
        "duration": 20,
        "start_time": "2023-06-17T10:24:56.073Z"
      },
      {
        "duration": 53,
        "start_time": "2023-06-17T10:24:56.094Z"
      },
      {
        "duration": 6,
        "start_time": "2023-06-17T10:24:56.150Z"
      },
      {
        "duration": 198,
        "start_time": "2023-06-17T10:24:56.158Z"
      },
      {
        "duration": 93,
        "start_time": "2023-06-17T10:24:56.358Z"
      },
      {
        "duration": 2095,
        "start_time": "2023-06-17T10:24:56.453Z"
      },
      {
        "duration": 1873,
        "start_time": "2023-06-17T10:24:58.549Z"
      },
      {
        "duration": 61,
        "start_time": "2023-06-17T10:25:00.423Z"
      },
      {
        "duration": 7,
        "start_time": "2023-06-17T10:25:00.485Z"
      },
      {
        "duration": 31,
        "start_time": "2023-06-17T10:25:00.494Z"
      },
      {
        "duration": 27,
        "start_time": "2023-06-17T10:25:00.527Z"
      },
      {
        "duration": 2258,
        "start_time": "2023-06-17T10:25:00.556Z"
      },
      {
        "duration": 26,
        "start_time": "2023-06-17T10:25:02.816Z"
      },
      {
        "duration": 21,
        "start_time": "2023-06-17T10:25:02.844Z"
      },
      {
        "duration": 20,
        "start_time": "2023-06-17T10:25:02.867Z"
      },
      {
        "duration": 37,
        "start_time": "2023-06-17T10:25:02.889Z"
      },
      {
        "duration": 38,
        "start_time": "2023-06-17T10:25:02.928Z"
      },
      {
        "duration": 60,
        "start_time": "2023-06-17T10:25:02.968Z"
      },
      {
        "duration": 613,
        "start_time": "2023-06-17T10:25:03.029Z"
      },
      {
        "duration": 36988,
        "start_time": "2023-06-17T10:43:58.135Z"
      },
      {
        "duration": 118,
        "start_time": "2023-06-17T10:44:35.125Z"
      },
      {
        "duration": 3,
        "start_time": "2023-06-17T10:44:35.245Z"
      },
      {
        "duration": 698,
        "start_time": "2023-06-17T10:44:35.249Z"
      },
      {
        "duration": 88,
        "start_time": "2023-06-17T10:47:51.146Z"
      },
      {
        "duration": 2130,
        "start_time": "2023-06-17T10:56:14.511Z"
      },
      {
        "duration": 2033,
        "start_time": "2023-06-17T10:56:16.643Z"
      },
      {
        "duration": 2025,
        "start_time": "2023-06-17T10:56:18.678Z"
      },
      {
        "duration": 2138,
        "start_time": "2023-06-17T10:56:20.706Z"
      },
      {
        "duration": 2081,
        "start_time": "2023-06-17T10:56:22.847Z"
      },
      {
        "duration": 5,
        "start_time": "2023-06-17T10:56:24.930Z"
      },
      {
        "duration": 200,
        "start_time": "2023-06-17T10:56:24.937Z"
      },
      {
        "duration": 18,
        "start_time": "2023-06-17T10:56:25.138Z"
      },
      {
        "duration": 26,
        "start_time": "2023-06-17T10:56:25.158Z"
      },
      {
        "duration": 37,
        "start_time": "2023-06-17T10:56:25.186Z"
      },
      {
        "duration": 11,
        "start_time": "2023-06-17T10:56:25.225Z"
      },
      {
        "duration": 52,
        "start_time": "2023-06-17T10:56:25.238Z"
      },
      {
        "duration": 18,
        "start_time": "2023-06-17T10:56:25.291Z"
      },
      {
        "duration": 9,
        "start_time": "2023-06-17T10:56:25.312Z"
      },
      {
        "duration": 70,
        "start_time": "2023-06-17T10:56:25.322Z"
      },
      {
        "duration": 26,
        "start_time": "2023-06-17T10:56:25.394Z"
      },
      {
        "duration": 33,
        "start_time": "2023-06-17T10:56:25.422Z"
      },
      {
        "duration": 28,
        "start_time": "2023-06-17T10:56:25.457Z"
      },
      {
        "duration": 25,
        "start_time": "2023-06-17T10:56:25.487Z"
      },
      {
        "duration": 50,
        "start_time": "2023-06-17T10:56:25.514Z"
      },
      {
        "duration": 1769,
        "start_time": "2023-06-17T10:56:25.566Z"
      },
      {
        "duration": 4790,
        "start_time": "2023-06-17T10:56:27.337Z"
      },
      {
        "duration": 5,
        "start_time": "2023-06-17T10:56:32.128Z"
      },
      {
        "duration": 43,
        "start_time": "2023-06-17T10:56:32.135Z"
      },
      {
        "duration": 43,
        "start_time": "2023-06-17T10:56:32.180Z"
      },
      {
        "duration": 42,
        "start_time": "2023-06-17T10:56:32.224Z"
      },
      {
        "duration": 172,
        "start_time": "2023-06-17T10:56:32.268Z"
      },
      {
        "duration": 227,
        "start_time": "2023-06-17T10:56:32.442Z"
      },
      {
        "duration": 204,
        "start_time": "2023-06-17T10:56:32.670Z"
      },
      {
        "duration": 91,
        "start_time": "2023-06-17T10:56:32.875Z"
      },
      {
        "duration": 2061,
        "start_time": "2023-06-17T10:56:32.968Z"
      },
      {
        "duration": 1742,
        "start_time": "2023-06-17T10:56:35.031Z"
      },
      {
        "duration": 66,
        "start_time": "2023-06-17T10:56:36.774Z"
      },
      {
        "duration": 7,
        "start_time": "2023-06-17T10:56:36.842Z"
      },
      {
        "duration": 11,
        "start_time": "2023-06-17T10:56:36.851Z"
      },
      {
        "duration": 13,
        "start_time": "2023-06-17T10:56:36.863Z"
      },
      {
        "duration": 1802,
        "start_time": "2023-06-17T10:56:36.878Z"
      },
      {
        "duration": 22,
        "start_time": "2023-06-17T10:56:38.682Z"
      },
      {
        "duration": 21,
        "start_time": "2023-06-17T10:56:38.706Z"
      },
      {
        "duration": 8,
        "start_time": "2023-06-17T10:56:38.729Z"
      },
      {
        "duration": 22,
        "start_time": "2023-06-17T10:56:38.740Z"
      },
      {
        "duration": 9,
        "start_time": "2023-06-17T10:56:38.763Z"
      },
      {
        "duration": 193,
        "start_time": "2023-06-17T10:56:38.774Z"
      },
      {
        "duration": 583,
        "start_time": "2023-06-17T10:56:38.970Z"
      },
      {
        "duration": 36083,
        "start_time": "2023-06-17T10:57:05.120Z"
      },
      {
        "duration": 117,
        "start_time": "2023-06-17T10:57:41.204Z"
      },
      {
        "duration": 3,
        "start_time": "2023-06-17T10:57:41.322Z"
      },
      {
        "duration": 627,
        "start_time": "2023-06-17T10:57:41.327Z"
      },
      {
        "duration": 9404,
        "start_time": "2023-06-18T04:07:56.273Z"
      },
      {
        "duration": 2048,
        "start_time": "2023-06-18T04:08:05.680Z"
      },
      {
        "duration": 6125,
        "start_time": "2023-06-18T04:08:07.730Z"
      },
      {
        "duration": 9214,
        "start_time": "2023-06-18T04:08:13.857Z"
      },
      {
        "duration": 2995,
        "start_time": "2023-06-18T04:08:23.073Z"
      },
      {
        "duration": 2543,
        "start_time": "2023-06-18T04:08:26.071Z"
      },
      {
        "duration": 510,
        "start_time": "2023-06-18T04:08:28.616Z"
      },
      {
        "duration": 19,
        "start_time": "2023-06-18T04:08:29.128Z"
      },
      {
        "duration": 14,
        "start_time": "2023-06-18T04:08:29.149Z"
      },
      {
        "duration": 67,
        "start_time": "2023-06-18T04:08:29.166Z"
      },
      {
        "duration": 27,
        "start_time": "2023-06-18T04:08:29.235Z"
      },
      {
        "duration": 78,
        "start_time": "2023-06-18T04:08:29.264Z"
      },
      {
        "duration": 30,
        "start_time": "2023-06-18T04:08:29.344Z"
      },
      {
        "duration": 6,
        "start_time": "2023-06-18T04:08:29.376Z"
      },
      {
        "duration": 56,
        "start_time": "2023-06-18T04:08:29.384Z"
      },
      {
        "duration": 22,
        "start_time": "2023-06-18T04:08:29.442Z"
      },
      {
        "duration": 70,
        "start_time": "2023-06-18T04:08:29.466Z"
      },
      {
        "duration": 30,
        "start_time": "2023-06-18T04:08:29.538Z"
      },
      {
        "duration": 14,
        "start_time": "2023-06-18T04:08:29.571Z"
      },
      {
        "duration": 6,
        "start_time": "2023-06-18T04:08:29.587Z"
      },
      {
        "duration": 1857,
        "start_time": "2023-06-18T04:08:29.595Z"
      },
      {
        "duration": 4599,
        "start_time": "2023-06-18T04:08:31.454Z"
      },
      {
        "duration": 6,
        "start_time": "2023-06-18T04:08:36.054Z"
      },
      {
        "duration": 10,
        "start_time": "2023-06-18T04:08:36.061Z"
      },
      {
        "duration": 17,
        "start_time": "2023-06-18T04:08:36.072Z"
      },
      {
        "duration": 19,
        "start_time": "2023-06-18T04:08:36.091Z"
      },
      {
        "duration": 38,
        "start_time": "2023-06-18T04:08:36.112Z"
      },
      {
        "duration": 6,
        "start_time": "2023-06-18T04:08:36.153Z"
      },
      {
        "duration": 135,
        "start_time": "2023-06-18T04:08:36.160Z"
      },
      {
        "duration": 68,
        "start_time": "2023-06-18T04:08:36.297Z"
      },
      {
        "duration": 2042,
        "start_time": "2023-06-18T04:08:36.367Z"
      },
      {
        "duration": 1879,
        "start_time": "2023-06-18T04:08:38.411Z"
      },
      {
        "duration": 62,
        "start_time": "2023-06-18T04:08:40.291Z"
      },
      {
        "duration": 7,
        "start_time": "2023-06-18T04:08:40.355Z"
      },
      {
        "duration": 10,
        "start_time": "2023-06-18T04:08:40.363Z"
      },
      {
        "duration": 12,
        "start_time": "2023-06-18T04:08:40.374Z"
      },
      {
        "duration": 396,
        "start_time": "2023-06-18T04:08:40.387Z"
      },
      {
        "duration": 91,
        "start_time": "2023-06-18T04:08:40.785Z"
      },
      {
        "duration": 26,
        "start_time": "2023-06-18T04:08:40.878Z"
      },
      {
        "duration": 27,
        "start_time": "2023-06-18T04:08:40.905Z"
      },
      {
        "duration": 30,
        "start_time": "2023-06-18T04:08:40.934Z"
      },
      {
        "duration": 14,
        "start_time": "2023-06-18T04:08:40.966Z"
      },
      {
        "duration": 83,
        "start_time": "2023-06-18T04:08:40.982Z"
      },
      {
        "duration": 535,
        "start_time": "2023-06-18T04:08:41.067Z"
      },
      {
        "duration": 516475,
        "start_time": "2023-06-18T04:08:41.604Z"
      },
      {
        "duration": 146443,
        "start_time": "2023-06-18T04:17:18.081Z"
      },
      {
        "duration": 0,
        "start_time": "2023-06-18T04:19:44.526Z"
      },
      {
        "duration": 0,
        "start_time": "2023-06-18T04:19:44.532Z"
      },
      {
        "duration": 0,
        "start_time": "2023-06-18T04:19:44.533Z"
      },
      {
        "duration": 0,
        "start_time": "2023-06-18T04:19:44.534Z"
      },
      {
        "duration": 0,
        "start_time": "2023-06-18T04:19:44.536Z"
      },
      {
        "duration": 7879,
        "start_time": "2023-06-18T08:56:26.771Z"
      },
      {
        "duration": 3052,
        "start_time": "2023-06-18T08:56:34.652Z"
      },
      {
        "duration": 6735,
        "start_time": "2023-06-18T08:56:37.706Z"
      },
      {
        "duration": 4047,
        "start_time": "2023-06-18T08:56:44.444Z"
      },
      {
        "duration": 3388,
        "start_time": "2023-06-18T08:56:48.494Z"
      },
      {
        "duration": 2772,
        "start_time": "2023-06-18T08:56:51.888Z"
      },
      {
        "duration": 643,
        "start_time": "2023-06-18T08:56:54.662Z"
      },
      {
        "duration": 22,
        "start_time": "2023-06-18T08:56:55.306Z"
      },
      {
        "duration": 19,
        "start_time": "2023-06-18T08:56:55.330Z"
      },
      {
        "duration": 43,
        "start_time": "2023-06-18T08:56:55.351Z"
      },
      {
        "duration": 15,
        "start_time": "2023-06-18T08:56:55.395Z"
      },
      {
        "duration": 30,
        "start_time": "2023-06-18T08:56:55.412Z"
      },
      {
        "duration": 58,
        "start_time": "2023-06-18T08:56:55.444Z"
      },
      {
        "duration": 11,
        "start_time": "2023-06-18T08:56:55.506Z"
      },
      {
        "duration": 83,
        "start_time": "2023-06-18T08:56:55.519Z"
      },
      {
        "duration": 25,
        "start_time": "2023-06-18T08:56:55.604Z"
      },
      {
        "duration": 55,
        "start_time": "2023-06-18T08:56:55.631Z"
      },
      {
        "duration": 28,
        "start_time": "2023-06-18T08:56:55.690Z"
      },
      {
        "duration": 11,
        "start_time": "2023-06-18T08:56:55.720Z"
      },
      {
        "duration": 5,
        "start_time": "2023-06-18T08:56:55.733Z"
      },
      {
        "duration": 2187,
        "start_time": "2023-06-18T08:56:55.740Z"
      },
      {
        "duration": 5824,
        "start_time": "2023-06-18T08:56:57.929Z"
      },
      {
        "duration": 6,
        "start_time": "2023-06-18T08:57:03.755Z"
      },
      {
        "duration": 34,
        "start_time": "2023-06-18T08:57:03.763Z"
      },
      {
        "duration": 23,
        "start_time": "2023-06-18T08:57:03.799Z"
      },
      {
        "duration": 14,
        "start_time": "2023-06-18T08:57:03.823Z"
      },
      {
        "duration": 56,
        "start_time": "2023-06-18T08:57:03.839Z"
      },
      {
        "duration": 7,
        "start_time": "2023-06-18T08:57:03.899Z"
      },
      {
        "duration": 307,
        "start_time": "2023-06-18T08:57:03.907Z"
      },
      {
        "duration": 140,
        "start_time": "2023-06-18T08:57:04.216Z"
      },
      {
        "duration": 2586,
        "start_time": "2023-06-18T08:57:04.357Z"
      },
      {
        "duration": 2148,
        "start_time": "2023-06-18T08:57:06.945Z"
      },
      {
        "duration": 91,
        "start_time": "2023-06-18T08:57:09.095Z"
      },
      {
        "duration": 10,
        "start_time": "2023-06-18T08:57:09.188Z"
      },
      {
        "duration": 30,
        "start_time": "2023-06-18T08:57:09.199Z"
      },
      {
        "duration": 14,
        "start_time": "2023-06-18T08:57:09.231Z"
      },
      {
        "duration": 3849,
        "start_time": "2023-06-18T08:57:09.247Z"
      },
      {
        "duration": 37,
        "start_time": "2023-06-18T08:57:13.098Z"
      },
      {
        "duration": 55,
        "start_time": "2023-06-18T08:57:13.137Z"
      },
      {
        "duration": 12,
        "start_time": "2023-06-18T08:57:13.195Z"
      },
      {
        "duration": 33,
        "start_time": "2023-06-18T08:57:13.213Z"
      },
      {
        "duration": 34,
        "start_time": "2023-06-18T08:57:13.248Z"
      },
      {
        "duration": 66,
        "start_time": "2023-06-18T08:57:13.284Z"
      },
      {
        "duration": 705,
        "start_time": "2023-06-18T08:57:13.351Z"
      },
      {
        "duration": 43457,
        "start_time": "2023-06-18T08:57:24.948Z"
      },
      {
        "duration": 122,
        "start_time": "2023-06-18T08:58:08.407Z"
      },
      {
        "duration": 4,
        "start_time": "2023-06-18T08:58:08.530Z"
      },
      {
        "duration": 695,
        "start_time": "2023-06-18T08:58:08.536Z"
      },
      {
        "duration": 210,
        "start_time": "2023-06-18T08:59:33.648Z"
      },
      {
        "duration": 4,
        "start_time": "2023-06-18T08:59:33.912Z"
      },
      {
        "duration": 646,
        "start_time": "2023-06-18T08:59:34.213Z"
      },
      {
        "duration": 2382,
        "start_time": "2023-06-18T08:59:52.443Z"
      },
      {
        "duration": 2396,
        "start_time": "2023-06-18T08:59:54.827Z"
      },
      {
        "duration": 2312,
        "start_time": "2023-06-18T08:59:57.225Z"
      },
      {
        "duration": 2356,
        "start_time": "2023-06-18T08:59:59.539Z"
      },
      {
        "duration": 2741,
        "start_time": "2023-06-18T09:00:01.897Z"
      },
      {
        "duration": 2705,
        "start_time": "2023-06-18T09:00:04.641Z"
      },
      {
        "duration": 266,
        "start_time": "2023-06-18T09:00:07.348Z"
      },
      {
        "duration": 26,
        "start_time": "2023-06-18T09:00:07.616Z"
      },
      {
        "duration": 44,
        "start_time": "2023-06-18T09:00:07.644Z"
      },
      {
        "duration": 30,
        "start_time": "2023-06-18T09:00:07.692Z"
      },
      {
        "duration": 14,
        "start_time": "2023-06-18T09:00:07.723Z"
      },
      {
        "duration": 63,
        "start_time": "2023-06-18T09:00:07.739Z"
      },
      {
        "duration": 22,
        "start_time": "2023-06-18T09:00:07.804Z"
      },
      {
        "duration": 8,
        "start_time": "2023-06-18T09:00:07.828Z"
      },
      {
        "duration": 89,
        "start_time": "2023-06-18T09:00:07.838Z"
      },
      {
        "duration": 29,
        "start_time": "2023-06-18T09:00:07.929Z"
      },
      {
        "duration": 46,
        "start_time": "2023-06-18T09:00:07.976Z"
      },
      {
        "duration": 47,
        "start_time": "2023-06-18T09:00:08.025Z"
      },
      {
        "duration": 35,
        "start_time": "2023-06-18T09:00:08.074Z"
      },
      {
        "duration": 8,
        "start_time": "2023-06-18T09:00:08.111Z"
      },
      {
        "duration": 2126,
        "start_time": "2023-06-18T09:00:08.121Z"
      },
      {
        "duration": 5662,
        "start_time": "2023-06-18T09:00:10.249Z"
      },
      {
        "duration": 5,
        "start_time": "2023-06-18T09:00:15.913Z"
      },
      {
        "duration": 14,
        "start_time": "2023-06-18T09:00:15.920Z"
      },
      {
        "duration": 53,
        "start_time": "2023-06-18T09:00:15.936Z"
      },
      {
        "duration": 25,
        "start_time": "2023-06-18T09:00:15.991Z"
      },
      {
        "duration": 42,
        "start_time": "2023-06-18T09:00:16.017Z"
      },
      {
        "duration": 5,
        "start_time": "2023-06-18T09:00:16.063Z"
      },
      {
        "duration": 312,
        "start_time": "2023-06-18T09:00:16.070Z"
      },
      {
        "duration": 158,
        "start_time": "2023-06-18T09:00:16.388Z"
      },
      {
        "duration": 2521,
        "start_time": "2023-06-18T09:00:16.548Z"
      },
      {
        "duration": 2446,
        "start_time": "2023-06-18T09:00:19.070Z"
      },
      {
        "duration": 79,
        "start_time": "2023-06-18T09:00:21.518Z"
      },
      {
        "duration": 10,
        "start_time": "2023-06-18T09:00:21.599Z"
      },
      {
        "duration": 45,
        "start_time": "2023-06-18T09:00:21.611Z"
      },
      {
        "duration": 47,
        "start_time": "2023-06-18T09:00:21.658Z"
      },
      {
        "duration": 4285,
        "start_time": "2023-06-18T09:00:21.707Z"
      },
      {
        "duration": 36,
        "start_time": "2023-06-18T09:00:25.994Z"
      },
      {
        "duration": 59,
        "start_time": "2023-06-18T09:00:26.031Z"
      },
      {
        "duration": 20,
        "start_time": "2023-06-18T09:00:26.092Z"
      },
      {
        "duration": 45,
        "start_time": "2023-06-18T09:00:26.115Z"
      },
      {
        "duration": 23,
        "start_time": "2023-06-18T09:00:26.161Z"
      },
      {
        "duration": 73,
        "start_time": "2023-06-18T09:00:26.186Z"
      },
      {
        "duration": 728,
        "start_time": "2023-06-18T09:00:26.261Z"
      },
      {
        "duration": 42654,
        "start_time": "2023-06-18T09:01:09.694Z"
      },
      {
        "duration": 143,
        "start_time": "2023-06-18T09:01:52.349Z"
      },
      {
        "duration": 4,
        "start_time": "2023-06-18T09:01:52.494Z"
      },
      {
        "duration": 752,
        "start_time": "2023-06-18T09:01:52.500Z"
      },
      {
        "duration": 2815,
        "start_time": "2023-06-18T09:18:16.016Z"
      },
      {
        "duration": 2809,
        "start_time": "2023-06-18T09:18:18.834Z"
      },
      {
        "duration": 2751,
        "start_time": "2023-06-18T09:18:21.646Z"
      },
      {
        "duration": 2714,
        "start_time": "2023-06-18T09:18:24.399Z"
      },
      {
        "duration": 2702,
        "start_time": "2023-06-18T09:18:27.117Z"
      },
      {
        "duration": 6,
        "start_time": "2023-06-18T09:18:29.821Z"
      },
      {
        "duration": 296,
        "start_time": "2023-06-18T09:18:29.829Z"
      },
      {
        "duration": 20,
        "start_time": "2023-06-18T09:18:30.126Z"
      },
      {
        "duration": 86,
        "start_time": "2023-06-18T09:18:30.148Z"
      },
      {
        "duration": 105,
        "start_time": "2023-06-18T09:18:30.236Z"
      },
      {
        "duration": 54,
        "start_time": "2023-06-18T09:18:30.343Z"
      },
      {
        "duration": 132,
        "start_time": "2023-06-18T09:18:30.399Z"
      },
      {
        "duration": 76,
        "start_time": "2023-06-18T09:18:30.533Z"
      },
      {
        "duration": 53,
        "start_time": "2023-06-18T09:18:30.616Z"
      },
      {
        "duration": 117,
        "start_time": "2023-06-18T09:18:30.671Z"
      },
      {
        "duration": 43,
        "start_time": "2023-06-18T09:18:30.799Z"
      },
      {
        "duration": 71,
        "start_time": "2023-06-18T09:18:30.844Z"
      },
      {
        "duration": 96,
        "start_time": "2023-06-18T09:18:30.917Z"
      },
      {
        "duration": 35,
        "start_time": "2023-06-18T09:18:31.015Z"
      },
      {
        "duration": 63,
        "start_time": "2023-06-18T09:18:31.052Z"
      },
      {
        "duration": 2305,
        "start_time": "2023-06-18T09:18:31.117Z"
      },
      {
        "duration": 6033,
        "start_time": "2023-06-18T09:18:33.423Z"
      },
      {
        "duration": 18,
        "start_time": "2023-06-18T09:18:39.458Z"
      },
      {
        "duration": 36,
        "start_time": "2023-06-18T09:18:39.478Z"
      },
      {
        "duration": 14,
        "start_time": "2023-06-18T09:18:39.516Z"
      },
      {
        "duration": 12,
        "start_time": "2023-06-18T09:18:39.532Z"
      },
      {
        "duration": 41,
        "start_time": "2023-06-18T09:18:39.546Z"
      },
      {
        "duration": 26,
        "start_time": "2023-06-18T09:18:39.589Z"
      },
      {
        "duration": 272,
        "start_time": "2023-06-18T09:18:39.617Z"
      },
      {
        "duration": 121,
        "start_time": "2023-06-18T09:18:39.899Z"
      },
      {
        "duration": 2727,
        "start_time": "2023-06-18T09:18:40.023Z"
      },
      {
        "duration": 2254,
        "start_time": "2023-06-18T09:18:42.752Z"
      },
      {
        "duration": 72,
        "start_time": "2023-06-18T09:18:45.008Z"
      },
      {
        "duration": 10,
        "start_time": "2023-06-18T09:18:45.082Z"
      },
      {
        "duration": 32,
        "start_time": "2023-06-18T09:18:45.094Z"
      },
      {
        "duration": 30,
        "start_time": "2023-06-18T09:18:45.127Z"
      },
      {
        "duration": 4259,
        "start_time": "2023-06-18T09:18:45.158Z"
      },
      {
        "duration": 36,
        "start_time": "2023-06-18T09:18:49.419Z"
      },
      {
        "duration": 48,
        "start_time": "2023-06-18T09:18:49.457Z"
      },
      {
        "duration": 33,
        "start_time": "2023-06-18T09:18:49.507Z"
      },
      {
        "duration": 45,
        "start_time": "2023-06-18T09:18:49.545Z"
      },
      {
        "duration": 40,
        "start_time": "2023-06-18T09:18:49.592Z"
      },
      {
        "duration": 289,
        "start_time": "2023-06-18T09:18:49.634Z"
      },
      {
        "duration": 797,
        "start_time": "2023-06-18T09:18:49.925Z"
      },
      {
        "duration": 46771,
        "start_time": "2023-06-18T09:19:01.010Z"
      },
      {
        "duration": 128,
        "start_time": "2023-06-18T09:19:47.787Z"
      },
      {
        "duration": 6,
        "start_time": "2023-06-18T09:19:47.916Z"
      },
      {
        "duration": 794,
        "start_time": "2023-06-18T09:19:47.923Z"
      },
      {
        "duration": 237,
        "start_time": "2023-06-18T09:20:03.506Z"
      },
      {
        "duration": 0,
        "start_time": "2023-06-18T09:20:03.745Z"
      },
      {
        "duration": 802,
        "start_time": "2023-06-18T09:20:04.012Z"
      },
      {
        "duration": 2441,
        "start_time": "2023-06-18T09:30:58.172Z"
      },
      {
        "duration": 2420,
        "start_time": "2023-06-18T09:31:00.616Z"
      },
      {
        "duration": 2331,
        "start_time": "2023-06-18T09:31:03.038Z"
      },
      {
        "duration": 2398,
        "start_time": "2023-06-18T09:31:05.372Z"
      },
      {
        "duration": 2334,
        "start_time": "2023-06-18T09:31:07.772Z"
      },
      {
        "duration": 6,
        "start_time": "2023-06-18T09:31:10.108Z"
      },
      {
        "duration": 232,
        "start_time": "2023-06-18T09:31:10.116Z"
      },
      {
        "duration": 21,
        "start_time": "2023-06-18T09:31:10.349Z"
      },
      {
        "duration": 40,
        "start_time": "2023-06-18T09:31:10.371Z"
      },
      {
        "duration": 31,
        "start_time": "2023-06-18T09:31:10.414Z"
      },
      {
        "duration": 14,
        "start_time": "2023-06-18T09:31:10.446Z"
      },
      {
        "duration": 52,
        "start_time": "2023-06-18T09:31:10.462Z"
      },
      {
        "duration": 20,
        "start_time": "2023-06-18T09:31:10.515Z"
      },
      {
        "duration": 15,
        "start_time": "2023-06-18T09:31:10.537Z"
      },
      {
        "duration": 93,
        "start_time": "2023-06-18T09:31:10.554Z"
      },
      {
        "duration": 47,
        "start_time": "2023-06-18T09:31:10.649Z"
      },
      {
        "duration": 45,
        "start_time": "2023-06-18T09:31:10.697Z"
      },
      {
        "duration": 39,
        "start_time": "2023-06-18T09:31:10.744Z"
      },
      {
        "duration": 21,
        "start_time": "2023-06-18T09:31:10.787Z"
      },
      {
        "duration": 17,
        "start_time": "2023-06-18T09:31:10.809Z"
      },
      {
        "duration": 2130,
        "start_time": "2023-06-18T09:31:10.828Z"
      },
      {
        "duration": 5606,
        "start_time": "2023-06-18T09:31:12.959Z"
      },
      {
        "duration": 18,
        "start_time": "2023-06-18T09:31:18.567Z"
      },
      {
        "duration": 10,
        "start_time": "2023-06-18T09:31:18.591Z"
      },
      {
        "duration": 24,
        "start_time": "2023-06-18T09:31:18.603Z"
      },
      {
        "duration": 12,
        "start_time": "2023-06-18T09:31:18.629Z"
      },
      {
        "duration": 61,
        "start_time": "2023-06-18T09:31:18.643Z"
      },
      {
        "duration": 5,
        "start_time": "2023-06-18T09:31:18.708Z"
      },
      {
        "duration": 313,
        "start_time": "2023-06-18T09:31:18.715Z"
      },
      {
        "duration": 160,
        "start_time": "2023-06-18T09:31:19.029Z"
      },
      {
        "duration": 2738,
        "start_time": "2023-06-18T09:31:19.192Z"
      },
      {
        "duration": 2170,
        "start_time": "2023-06-18T09:31:21.932Z"
      },
      {
        "duration": 82,
        "start_time": "2023-06-18T09:31:24.103Z"
      },
      {
        "duration": 44,
        "start_time": "2023-06-18T09:31:24.186Z"
      },
      {
        "duration": 77,
        "start_time": "2023-06-18T09:31:24.232Z"
      },
      {
        "duration": 37,
        "start_time": "2023-06-18T09:31:24.311Z"
      },
      {
        "duration": 4642,
        "start_time": "2023-06-18T09:31:24.350Z"
      },
      {
        "duration": 40,
        "start_time": "2023-06-18T09:31:28.994Z"
      },
      {
        "duration": 53,
        "start_time": "2023-06-18T09:31:29.037Z"
      },
      {
        "duration": 12,
        "start_time": "2023-06-18T09:31:29.093Z"
      },
      {
        "duration": 38,
        "start_time": "2023-06-18T09:31:29.107Z"
      },
      {
        "duration": 12,
        "start_time": "2023-06-18T09:31:29.147Z"
      },
      {
        "duration": 96,
        "start_time": "2023-06-18T09:31:29.161Z"
      },
      {
        "duration": 859,
        "start_time": "2023-06-18T09:31:29.259Z"
      },
      {
        "duration": 44124,
        "start_time": "2023-06-18T09:31:38.869Z"
      },
      {
        "duration": 127,
        "start_time": "2023-06-18T09:32:22.995Z"
      },
      {
        "duration": 4,
        "start_time": "2023-06-18T09:32:23.123Z"
      },
      {
        "duration": 732,
        "start_time": "2023-06-18T09:32:23.128Z"
      },
      {
        "duration": 8039,
        "start_time": "2023-06-19T08:23:09.232Z"
      },
      {
        "duration": 2963,
        "start_time": "2023-06-19T08:23:17.274Z"
      },
      {
        "duration": 6620,
        "start_time": "2023-06-19T08:23:20.239Z"
      },
      {
        "duration": 3793,
        "start_time": "2023-06-19T08:23:26.862Z"
      },
      {
        "duration": 3133,
        "start_time": "2023-06-19T08:23:30.656Z"
      },
      {
        "duration": 3012,
        "start_time": "2023-06-19T08:23:33.792Z"
      },
      {
        "duration": 1188,
        "start_time": "2023-06-19T08:23:36.806Z"
      },
      {
        "duration": 33,
        "start_time": "2023-06-19T08:23:37.995Z"
      },
      {
        "duration": 24,
        "start_time": "2023-06-19T08:23:38.030Z"
      },
      {
        "duration": 23,
        "start_time": "2023-06-19T08:23:38.057Z"
      },
      {
        "duration": 14,
        "start_time": "2023-06-19T08:23:38.082Z"
      },
      {
        "duration": 51,
        "start_time": "2023-06-19T08:23:38.098Z"
      },
      {
        "duration": 18,
        "start_time": "2023-06-19T08:23:38.158Z"
      },
      {
        "duration": 9,
        "start_time": "2023-06-19T08:23:38.178Z"
      },
      {
        "duration": 80,
        "start_time": "2023-06-19T08:23:38.189Z"
      },
      {
        "duration": 30,
        "start_time": "2023-06-19T08:23:38.271Z"
      },
      {
        "duration": 36,
        "start_time": "2023-06-19T08:23:38.302Z"
      },
      {
        "duration": 16,
        "start_time": "2023-06-19T08:23:38.357Z"
      },
      {
        "duration": 5,
        "start_time": "2023-06-19T08:23:38.374Z"
      },
      {
        "duration": 6,
        "start_time": "2023-06-19T08:23:38.381Z"
      },
      {
        "duration": 1987,
        "start_time": "2023-06-19T08:23:38.388Z"
      },
      {
        "duration": 5512,
        "start_time": "2023-06-19T08:23:40.377Z"
      },
      {
        "duration": 8,
        "start_time": "2023-06-19T08:23:45.891Z"
      },
      {
        "duration": 12,
        "start_time": "2023-06-19T08:23:45.901Z"
      },
      {
        "duration": 22,
        "start_time": "2023-06-19T08:23:45.916Z"
      },
      {
        "duration": 13,
        "start_time": "2023-06-19T08:23:45.956Z"
      },
      {
        "duration": 37,
        "start_time": "2023-06-19T08:23:45.971Z"
      },
      {
        "duration": 7,
        "start_time": "2023-06-19T08:23:46.013Z"
      },
      {
        "duration": 292,
        "start_time": "2023-06-19T08:23:46.057Z"
      },
      {
        "duration": 139,
        "start_time": "2023-06-19T08:23:46.351Z"
      },
      {
        "duration": 2530,
        "start_time": "2023-06-19T08:23:46.492Z"
      },
      {
        "duration": 2148,
        "start_time": "2023-06-19T08:23:49.024Z"
      },
      {
        "duration": 92,
        "start_time": "2023-06-19T08:23:51.173Z"
      },
      {
        "duration": 13,
        "start_time": "2023-06-19T08:23:51.267Z"
      },
      {
        "duration": 33,
        "start_time": "2023-06-19T08:23:51.282Z"
      },
      {
        "duration": 64,
        "start_time": "2023-06-19T08:23:51.318Z"
      },
      {
        "duration": 4500,
        "start_time": "2023-06-19T08:23:51.384Z"
      },
      {
        "duration": 37,
        "start_time": "2023-06-19T08:23:55.885Z"
      },
      {
        "duration": 43,
        "start_time": "2023-06-19T08:23:55.924Z"
      },
      {
        "duration": 10,
        "start_time": "2023-06-19T08:23:55.969Z"
      },
      {
        "duration": 31,
        "start_time": "2023-06-19T08:23:55.981Z"
      },
      {
        "duration": 12,
        "start_time": "2023-06-19T08:23:56.014Z"
      },
      {
        "duration": 85,
        "start_time": "2023-06-19T08:23:56.028Z"
      },
      {
        "duration": 666,
        "start_time": "2023-06-19T08:23:56.115Z"
      },
      {
        "duration": 466784,
        "start_time": "2023-06-19T08:23:56.783Z"
      },
      {
        "duration": 0,
        "start_time": "2023-06-19T08:31:43.569Z"
      },
      {
        "duration": 0,
        "start_time": "2023-06-19T08:31:43.570Z"
      },
      {
        "duration": 0,
        "start_time": "2023-06-19T08:31:43.572Z"
      },
      {
        "duration": 0,
        "start_time": "2023-06-19T08:31:43.573Z"
      },
      {
        "duration": 0,
        "start_time": "2023-06-19T08:31:43.575Z"
      },
      {
        "duration": 0,
        "start_time": "2023-06-19T08:31:43.576Z"
      },
      {
        "duration": 39509,
        "start_time": "2023-06-19T08:31:52.611Z"
      },
      {
        "duration": 128,
        "start_time": "2023-06-19T08:34:48.302Z"
      },
      {
        "duration": 5,
        "start_time": "2023-06-19T08:35:02.547Z"
      },
      {
        "duration": 35,
        "start_time": "2023-06-19T08:35:17.508Z"
      },
      {
        "duration": 3,
        "start_time": "2023-06-19T08:36:57.809Z"
      },
      {
        "duration": 685,
        "start_time": "2023-06-19T08:36:59.523Z"
      },
      {
        "duration": 35,
        "start_time": "2023-06-19T08:37:27.519Z"
      },
      {
        "duration": 7778,
        "start_time": "2023-06-19T09:42:15.596Z"
      },
      {
        "duration": 2815,
        "start_time": "2023-06-19T09:42:23.377Z"
      },
      {
        "duration": 6551,
        "start_time": "2023-06-19T09:42:26.194Z"
      },
      {
        "duration": 4008,
        "start_time": "2023-06-19T09:42:32.747Z"
      },
      {
        "duration": 3705,
        "start_time": "2023-06-19T09:42:36.758Z"
      },
      {
        "duration": 3024,
        "start_time": "2023-06-19T09:42:40.466Z"
      },
      {
        "duration": 452,
        "start_time": "2023-06-19T09:42:43.492Z"
      },
      {
        "duration": 24,
        "start_time": "2023-06-19T09:42:43.947Z"
      },
      {
        "duration": 22,
        "start_time": "2023-06-19T09:42:43.973Z"
      },
      {
        "duration": 31,
        "start_time": "2023-06-19T09:42:43.996Z"
      },
      {
        "duration": 14,
        "start_time": "2023-06-19T09:42:44.029Z"
      },
      {
        "duration": 25,
        "start_time": "2023-06-19T09:42:44.045Z"
      },
      {
        "duration": 42,
        "start_time": "2023-06-19T09:42:44.072Z"
      },
      {
        "duration": 8,
        "start_time": "2023-06-19T09:42:44.118Z"
      },
      {
        "duration": 83,
        "start_time": "2023-06-19T09:42:44.127Z"
      },
      {
        "duration": 28,
        "start_time": "2023-06-19T09:42:44.211Z"
      },
      {
        "duration": 35,
        "start_time": "2023-06-19T09:42:44.241Z"
      },
      {
        "duration": 15,
        "start_time": "2023-06-19T09:42:44.302Z"
      },
      {
        "duration": 13,
        "start_time": "2023-06-19T09:42:44.318Z"
      },
      {
        "duration": 11,
        "start_time": "2023-06-19T09:42:44.333Z"
      },
      {
        "duration": 2068,
        "start_time": "2023-06-19T09:42:44.346Z"
      },
      {
        "duration": 5667,
        "start_time": "2023-06-19T09:42:46.416Z"
      },
      {
        "duration": 18,
        "start_time": "2023-06-19T09:42:52.086Z"
      },
      {
        "duration": 14,
        "start_time": "2023-06-19T09:42:52.107Z"
      },
      {
        "duration": 28,
        "start_time": "2023-06-19T09:42:52.124Z"
      },
      {
        "duration": 19,
        "start_time": "2023-06-19T09:42:52.155Z"
      },
      {
        "duration": 52,
        "start_time": "2023-06-19T09:42:52.203Z"
      },
      {
        "duration": 6,
        "start_time": "2023-06-19T09:42:52.257Z"
      },
      {
        "duration": 289,
        "start_time": "2023-06-19T09:42:52.265Z"
      },
      {
        "duration": 137,
        "start_time": "2023-06-19T09:42:52.555Z"
      },
      {
        "duration": 2400,
        "start_time": "2023-06-19T09:42:52.694Z"
      },
      {
        "duration": 2177,
        "start_time": "2023-06-19T09:42:55.096Z"
      },
      {
        "duration": 79,
        "start_time": "2023-06-19T09:42:57.275Z"
      },
      {
        "duration": 10,
        "start_time": "2023-06-19T09:42:57.356Z"
      },
      {
        "duration": 12,
        "start_time": "2023-06-19T09:42:57.367Z"
      },
      {
        "duration": 24,
        "start_time": "2023-06-19T09:42:57.381Z"
      },
      {
        "duration": 5000,
        "start_time": "2023-06-19T09:42:57.407Z"
      },
      {
        "duration": 38,
        "start_time": "2023-06-19T09:43:02.408Z"
      },
      {
        "duration": 30,
        "start_time": "2023-06-19T09:43:02.448Z"
      },
      {
        "duration": 12,
        "start_time": "2023-06-19T09:43:02.501Z"
      },
      {
        "duration": 42,
        "start_time": "2023-06-19T09:43:02.517Z"
      },
      {
        "duration": 13,
        "start_time": "2023-06-19T09:43:02.561Z"
      },
      {
        "duration": 83,
        "start_time": "2023-06-19T09:43:02.575Z"
      },
      {
        "duration": 783,
        "start_time": "2023-06-19T09:43:02.660Z"
      },
      {
        "duration": 39549,
        "start_time": "2023-06-19T09:45:47.525Z"
      },
      {
        "duration": 128,
        "start_time": "2023-06-19T09:46:27.076Z"
      },
      {
        "duration": 5,
        "start_time": "2023-06-19T09:46:36.710Z"
      },
      {
        "duration": 36,
        "start_time": "2023-06-19T09:46:36.995Z"
      },
      {
        "duration": 6,
        "start_time": "2023-06-19T09:47:07.950Z"
      },
      {
        "duration": 15,
        "start_time": "2023-06-19T09:47:08.317Z"
      },
      {
        "duration": 12,
        "start_time": "2023-06-19T09:47:08.620Z"
      },
      {
        "duration": 5,
        "start_time": "2023-06-19T09:47:25.102Z"
      },
      {
        "duration": 14,
        "start_time": "2023-06-19T09:47:25.397Z"
      },
      {
        "duration": 10,
        "start_time": "2023-06-19T09:47:25.613Z"
      },
      {
        "duration": 5,
        "start_time": "2023-06-19T09:47:27.903Z"
      },
      {
        "duration": 10,
        "start_time": "2023-06-19T09:47:28.154Z"
      },
      {
        "duration": 12,
        "start_time": "2023-06-19T09:47:28.518Z"
      },
      {
        "duration": 41076,
        "start_time": "2023-06-19T09:47:36.209Z"
      },
      {
        "duration": 0,
        "start_time": "2023-06-19T09:48:17.287Z"
      },
      {
        "duration": 1,
        "start_time": "2023-06-19T09:48:17.288Z"
      },
      {
        "duration": 0,
        "start_time": "2023-06-19T09:48:17.289Z"
      },
      {
        "duration": 0,
        "start_time": "2023-06-19T09:48:17.290Z"
      },
      {
        "duration": 0,
        "start_time": "2023-06-19T09:48:17.291Z"
      },
      {
        "duration": 0,
        "start_time": "2023-06-19T09:48:17.292Z"
      },
      {
        "duration": 2179,
        "start_time": "2023-06-19T09:52:41.903Z"
      },
      {
        "duration": 2223,
        "start_time": "2023-06-19T09:52:44.085Z"
      },
      {
        "duration": 2236,
        "start_time": "2023-06-19T09:52:46.310Z"
      },
      {
        "duration": 2476,
        "start_time": "2023-06-19T09:52:48.550Z"
      },
      {
        "duration": 2310,
        "start_time": "2023-06-19T09:52:51.029Z"
      },
      {
        "duration": 7,
        "start_time": "2023-06-19T09:52:53.341Z"
      },
      {
        "duration": 220,
        "start_time": "2023-06-19T09:52:53.349Z"
      },
      {
        "duration": 21,
        "start_time": "2023-06-19T09:52:53.571Z"
      },
      {
        "duration": 36,
        "start_time": "2023-06-19T09:52:53.593Z"
      },
      {
        "duration": 24,
        "start_time": "2023-06-19T09:52:53.632Z"
      },
      {
        "duration": 13,
        "start_time": "2023-06-19T09:52:53.657Z"
      },
      {
        "duration": 50,
        "start_time": "2023-06-19T09:52:53.672Z"
      },
      {
        "duration": 20,
        "start_time": "2023-06-19T09:52:53.724Z"
      },
      {
        "duration": 9,
        "start_time": "2023-06-19T09:52:53.746Z"
      },
      {
        "duration": 87,
        "start_time": "2023-06-19T09:52:53.757Z"
      },
      {
        "duration": 27,
        "start_time": "2023-06-19T09:52:53.846Z"
      },
      {
        "duration": 64,
        "start_time": "2023-06-19T09:52:53.875Z"
      },
      {
        "duration": 16,
        "start_time": "2023-06-19T09:52:53.941Z"
      },
      {
        "duration": 10,
        "start_time": "2023-06-19T09:52:53.959Z"
      },
      {
        "duration": 6,
        "start_time": "2023-06-19T09:52:53.971Z"
      },
      {
        "duration": 2049,
        "start_time": "2023-06-19T09:52:53.978Z"
      },
      {
        "duration": 5964,
        "start_time": "2023-06-19T09:52:56.029Z"
      },
      {
        "duration": 13,
        "start_time": "2023-06-19T09:53:01.994Z"
      },
      {
        "duration": 30,
        "start_time": "2023-06-19T09:53:02.009Z"
      },
      {
        "duration": 42,
        "start_time": "2023-06-19T09:53:02.041Z"
      },
      {
        "duration": 39,
        "start_time": "2023-06-19T09:53:02.085Z"
      },
      {
        "duration": 69,
        "start_time": "2023-06-19T09:53:02.126Z"
      },
      {
        "duration": 19,
        "start_time": "2023-06-19T09:53:02.200Z"
      },
      {
        "duration": 286,
        "start_time": "2023-06-19T09:53:02.222Z"
      },
      {
        "duration": 118,
        "start_time": "2023-06-19T09:53:02.510Z"
      },
      {
        "duration": 2465,
        "start_time": "2023-06-19T09:53:02.629Z"
      },
      {
        "duration": 2074,
        "start_time": "2023-06-19T09:53:05.095Z"
      },
      {
        "duration": 234,
        "start_time": "2023-06-19T09:53:07.171Z"
      },
      {
        "duration": 12,
        "start_time": "2023-06-19T09:53:07.407Z"
      },
      {
        "duration": 66,
        "start_time": "2023-06-19T09:53:07.421Z"
      },
      {
        "duration": 37,
        "start_time": "2023-06-19T09:53:07.489Z"
      },
      {
        "duration": 4419,
        "start_time": "2023-06-19T09:53:07.528Z"
      },
      {
        "duration": 38,
        "start_time": "2023-06-19T09:53:11.949Z"
      },
      {
        "duration": 40,
        "start_time": "2023-06-19T09:53:11.989Z"
      },
      {
        "duration": 11,
        "start_time": "2023-06-19T09:53:12.037Z"
      },
      {
        "duration": 31,
        "start_time": "2023-06-19T09:53:12.050Z"
      },
      {
        "duration": 14,
        "start_time": "2023-06-19T09:53:12.103Z"
      },
      {
        "duration": 83,
        "start_time": "2023-06-19T09:53:12.119Z"
      },
      {
        "duration": 671,
        "start_time": "2023-06-19T09:53:12.204Z"
      },
      {
        "duration": 39151,
        "start_time": "2023-06-19T09:53:26.690Z"
      },
      {
        "duration": 126,
        "start_time": "2023-06-19T09:54:05.843Z"
      },
      {
        "duration": 6,
        "start_time": "2023-06-19T09:54:05.970Z"
      },
      {
        "duration": 66,
        "start_time": "2023-06-19T09:54:05.978Z"
      },
      {
        "duration": 4,
        "start_time": "2023-06-19T09:54:06.045Z"
      },
      {
        "duration": 29,
        "start_time": "2023-06-19T09:54:06.051Z"
      },
      {
        "duration": 34,
        "start_time": "2023-06-19T09:54:06.082Z"
      },
      {
        "duration": 822,
        "start_time": "2023-06-19T09:55:06.123Z"
      },
      {
        "duration": 1070,
        "start_time": "2023-06-19T09:55:17.116Z"
      },
      {
        "duration": 9,
        "start_time": "2023-06-19T09:58:05.499Z"
      },
      {
        "duration": 5,
        "start_time": "2023-06-19T09:58:24.438Z"
      },
      {
        "duration": 5,
        "start_time": "2023-06-19T09:58:24.803Z"
      },
      {
        "duration": 6,
        "start_time": "2023-06-19T09:58:25.429Z"
      },
      {
        "duration": 563,
        "start_time": "2023-06-19T09:58:26.499Z"
      },
      {
        "duration": 2216,
        "start_time": "2023-06-19T09:59:25.192Z"
      },
      {
        "duration": 2266,
        "start_time": "2023-06-19T09:59:27.411Z"
      },
      {
        "duration": 2494,
        "start_time": "2023-06-19T09:59:29.680Z"
      },
      {
        "duration": 2545,
        "start_time": "2023-06-19T09:59:32.176Z"
      },
      {
        "duration": 3108,
        "start_time": "2023-06-19T09:59:34.724Z"
      },
      {
        "duration": 7,
        "start_time": "2023-06-19T09:59:37.834Z"
      },
      {
        "duration": 196,
        "start_time": "2023-06-19T09:59:37.842Z"
      },
      {
        "duration": 22,
        "start_time": "2023-06-19T09:59:38.039Z"
      },
      {
        "duration": 21,
        "start_time": "2023-06-19T09:59:38.063Z"
      },
      {
        "duration": 37,
        "start_time": "2023-06-19T09:59:38.085Z"
      },
      {
        "duration": 14,
        "start_time": "2023-06-19T09:59:38.123Z"
      },
      {
        "duration": 31,
        "start_time": "2023-06-19T09:59:38.139Z"
      },
      {
        "duration": 39,
        "start_time": "2023-06-19T09:59:38.172Z"
      },
      {
        "duration": 7,
        "start_time": "2023-06-19T09:59:38.214Z"
      },
      {
        "duration": 97,
        "start_time": "2023-06-19T09:59:38.223Z"
      },
      {
        "duration": 29,
        "start_time": "2023-06-19T09:59:38.322Z"
      },
      {
        "duration": 54,
        "start_time": "2023-06-19T09:59:38.352Z"
      },
      {
        "duration": 46,
        "start_time": "2023-06-19T09:59:38.408Z"
      },
      {
        "duration": 36,
        "start_time": "2023-06-19T09:59:38.456Z"
      },
      {
        "duration": 16,
        "start_time": "2023-06-19T09:59:38.494Z"
      },
      {
        "duration": 2236,
        "start_time": "2023-06-19T09:59:38.512Z"
      },
      {
        "duration": 5334,
        "start_time": "2023-06-19T09:59:40.750Z"
      },
      {
        "duration": 17,
        "start_time": "2023-06-19T09:59:46.086Z"
      },
      {
        "duration": 7,
        "start_time": "2023-06-19T09:59:46.105Z"
      },
      {
        "duration": 26,
        "start_time": "2023-06-19T09:59:46.113Z"
      },
      {
        "duration": 20,
        "start_time": "2023-06-19T09:59:46.141Z"
      },
      {
        "duration": 43,
        "start_time": "2023-06-19T09:59:46.163Z"
      },
      {
        "duration": 7,
        "start_time": "2023-06-19T09:59:46.208Z"
      },
      {
        "duration": 277,
        "start_time": "2023-06-19T09:59:46.217Z"
      },
      {
        "duration": 135,
        "start_time": "2023-06-19T09:59:46.501Z"
      },
      {
        "duration": 2435,
        "start_time": "2023-06-19T09:59:46.638Z"
      },
      {
        "duration": 2259,
        "start_time": "2023-06-19T09:59:49.075Z"
      },
      {
        "duration": 101,
        "start_time": "2023-06-19T09:59:51.336Z"
      },
      {
        "duration": 9,
        "start_time": "2023-06-19T09:59:51.439Z"
      },
      {
        "duration": 56,
        "start_time": "2023-06-19T09:59:51.449Z"
      },
      {
        "duration": 17,
        "start_time": "2023-06-19T09:59:51.507Z"
      },
      {
        "duration": 4654,
        "start_time": "2023-06-19T09:59:51.526Z"
      },
      {
        "duration": 42,
        "start_time": "2023-06-19T09:59:56.182Z"
      },
      {
        "duration": 29,
        "start_time": "2023-06-19T09:59:56.225Z"
      },
      {
        "duration": 11,
        "start_time": "2023-06-19T09:59:56.256Z"
      },
      {
        "duration": 49,
        "start_time": "2023-06-19T09:59:56.270Z"
      },
      {
        "duration": 12,
        "start_time": "2023-06-19T09:59:56.321Z"
      },
      {
        "duration": 89,
        "start_time": "2023-06-19T09:59:56.335Z"
      },
      {
        "duration": 664,
        "start_time": "2023-06-19T09:59:56.426Z"
      },
      {
        "duration": 39972,
        "start_time": "2023-06-19T10:00:07.741Z"
      },
      {
        "duration": 137,
        "start_time": "2023-06-19T10:00:47.716Z"
      },
      {
        "duration": 5,
        "start_time": "2023-06-19T10:00:47.855Z"
      },
      {
        "duration": 45,
        "start_time": "2023-06-19T10:00:47.862Z"
      },
      {
        "duration": 7,
        "start_time": "2023-06-19T10:00:47.909Z"
      },
      {
        "duration": 24,
        "start_time": "2023-06-19T10:00:47.918Z"
      },
      {
        "duration": 50,
        "start_time": "2023-06-19T10:00:47.944Z"
      },
      {
        "duration": 35,
        "start_time": "2023-06-19T10:00:47.996Z"
      },
      {
        "duration": 24,
        "start_time": "2023-06-19T10:01:06.994Z"
      },
      {
        "duration": 46,
        "start_time": "2023-06-19T10:04:45.298Z"
      },
      {
        "duration": 5,
        "start_time": "2023-06-19T11:22:53.222Z"
      },
      {
        "duration": 729,
        "start_time": "2023-06-19T11:23:27.194Z"
      },
      {
        "duration": 131,
        "start_time": "2023-06-19T11:25:08.228Z"
      },
      {
        "duration": 101,
        "start_time": "2023-06-19T11:25:37.747Z"
      },
      {
        "duration": 2446,
        "start_time": "2023-06-19T11:29:00.272Z"
      },
      {
        "duration": 2305,
        "start_time": "2023-06-19T11:29:02.722Z"
      },
      {
        "duration": 2288,
        "start_time": "2023-06-19T11:29:05.029Z"
      },
      {
        "duration": 2428,
        "start_time": "2023-06-19T11:29:07.320Z"
      },
      {
        "duration": 2469,
        "start_time": "2023-06-19T11:29:09.752Z"
      },
      {
        "duration": 7,
        "start_time": "2023-06-19T11:29:12.224Z"
      },
      {
        "duration": 240,
        "start_time": "2023-06-19T11:29:12.234Z"
      },
      {
        "duration": 23,
        "start_time": "2023-06-19T11:29:12.476Z"
      },
      {
        "duration": 39,
        "start_time": "2023-06-19T11:29:12.500Z"
      },
      {
        "duration": 26,
        "start_time": "2023-06-19T11:29:12.540Z"
      },
      {
        "duration": 14,
        "start_time": "2023-06-19T11:29:12.567Z"
      },
      {
        "duration": 46,
        "start_time": "2023-06-19T11:29:12.582Z"
      },
      {
        "duration": 18,
        "start_time": "2023-06-19T11:29:12.631Z"
      },
      {
        "duration": 10,
        "start_time": "2023-06-19T11:29:12.653Z"
      },
      {
        "duration": 77,
        "start_time": "2023-06-19T11:29:12.665Z"
      },
      {
        "duration": 29,
        "start_time": "2023-06-19T11:29:12.744Z"
      },
      {
        "duration": 63,
        "start_time": "2023-06-19T11:29:12.775Z"
      },
      {
        "duration": 15,
        "start_time": "2023-06-19T11:29:12.839Z"
      },
      {
        "duration": 8,
        "start_time": "2023-06-19T11:29:12.856Z"
      },
      {
        "duration": 12,
        "start_time": "2023-06-19T11:29:12.865Z"
      },
      {
        "duration": 2186,
        "start_time": "2023-06-19T11:29:12.879Z"
      },
      {
        "duration": 6228,
        "start_time": "2023-06-19T11:29:15.068Z"
      },
      {
        "duration": 19,
        "start_time": "2023-06-19T11:29:21.298Z"
      },
      {
        "duration": 11,
        "start_time": "2023-06-19T11:29:21.320Z"
      },
      {
        "duration": 16,
        "start_time": "2023-06-19T11:29:21.332Z"
      },
      {
        "duration": 16,
        "start_time": "2023-06-19T11:29:21.350Z"
      },
      {
        "duration": 71,
        "start_time": "2023-06-19T11:29:21.368Z"
      },
      {
        "duration": 18,
        "start_time": "2023-06-19T11:29:21.441Z"
      },
      {
        "duration": 272,
        "start_time": "2023-06-19T11:29:21.462Z"
      },
      {
        "duration": 134,
        "start_time": "2023-06-19T11:29:21.737Z"
      },
      {
        "duration": 2650,
        "start_time": "2023-06-19T11:29:21.873Z"
      },
      {
        "duration": 2229,
        "start_time": "2023-06-19T11:29:24.525Z"
      },
      {
        "duration": 110,
        "start_time": "2023-06-19T11:29:26.756Z"
      },
      {
        "duration": 11,
        "start_time": "2023-06-19T11:29:26.869Z"
      },
      {
        "duration": 15,
        "start_time": "2023-06-19T11:29:26.882Z"
      },
      {
        "duration": 41,
        "start_time": "2023-06-19T11:29:26.902Z"
      },
      {
        "duration": 4512,
        "start_time": "2023-06-19T11:29:26.945Z"
      },
      {
        "duration": 57,
        "start_time": "2023-06-19T11:29:31.459Z"
      },
      {
        "duration": 46,
        "start_time": "2023-06-19T11:29:31.518Z"
      },
      {
        "duration": 49,
        "start_time": "2023-06-19T11:29:31.566Z"
      },
      {
        "duration": 74,
        "start_time": "2023-06-19T11:29:31.620Z"
      },
      {
        "duration": 53,
        "start_time": "2023-06-19T11:29:31.696Z"
      },
      {
        "duration": 253,
        "start_time": "2023-06-19T11:29:31.752Z"
      },
      {
        "duration": 800,
        "start_time": "2023-06-19T11:29:32.006Z"
      },
      {
        "duration": 47076,
        "start_time": "2023-06-19T11:29:40.799Z"
      },
      {
        "duration": 158,
        "start_time": "2023-06-19T11:30:27.876Z"
      },
      {
        "duration": 6,
        "start_time": "2023-06-19T11:30:28.036Z"
      },
      {
        "duration": 56,
        "start_time": "2023-06-19T11:30:28.044Z"
      },
      {
        "duration": 31,
        "start_time": "2023-06-19T11:30:28.102Z"
      },
      {
        "duration": 38,
        "start_time": "2023-06-19T11:30:28.135Z"
      },
      {
        "duration": 59,
        "start_time": "2023-06-19T11:30:28.174Z"
      },
      {
        "duration": 8,
        "start_time": "2023-06-19T11:30:28.235Z"
      },
      {
        "duration": 865,
        "start_time": "2023-06-19T11:30:28.245Z"
      },
      {
        "duration": 2787,
        "start_time": "2023-06-19T11:30:45.008Z"
      },
      {
        "duration": 2772,
        "start_time": "2023-06-19T11:30:47.798Z"
      },
      {
        "duration": 2558,
        "start_time": "2023-06-19T11:30:50.573Z"
      },
      {
        "duration": 2544,
        "start_time": "2023-06-19T11:30:53.134Z"
      },
      {
        "duration": 2519,
        "start_time": "2023-06-19T11:30:55.681Z"
      },
      {
        "duration": 19,
        "start_time": "2023-06-19T11:30:58.207Z"
      },
      {
        "duration": 294,
        "start_time": "2023-06-19T11:30:58.234Z"
      },
      {
        "duration": 22,
        "start_time": "2023-06-19T11:30:58.531Z"
      },
      {
        "duration": 19,
        "start_time": "2023-06-19T11:30:58.555Z"
      },
      {
        "duration": 29,
        "start_time": "2023-06-19T11:30:58.577Z"
      },
      {
        "duration": 21,
        "start_time": "2023-06-19T11:30:58.608Z"
      },
      {
        "duration": 37,
        "start_time": "2023-06-19T11:30:58.630Z"
      },
      {
        "duration": 18,
        "start_time": "2023-06-19T11:30:58.669Z"
      },
      {
        "duration": 8,
        "start_time": "2023-06-19T11:30:58.689Z"
      },
      {
        "duration": 78,
        "start_time": "2023-06-19T11:30:58.699Z"
      },
      {
        "duration": 46,
        "start_time": "2023-06-19T11:30:58.779Z"
      },
      {
        "duration": 58,
        "start_time": "2023-06-19T11:30:58.827Z"
      },
      {
        "duration": 40,
        "start_time": "2023-06-19T11:30:58.886Z"
      },
      {
        "duration": 28,
        "start_time": "2023-06-19T11:30:58.928Z"
      },
      {
        "duration": 9,
        "start_time": "2023-06-19T11:30:58.958Z"
      },
      {
        "duration": 2689,
        "start_time": "2023-06-19T11:30:58.968Z"
      },
      {
        "duration": 6035,
        "start_time": "2023-06-19T11:31:01.659Z"
      },
      {
        "duration": 9,
        "start_time": "2023-06-19T11:31:07.697Z"
      },
      {
        "duration": 22,
        "start_time": "2023-06-19T11:31:07.710Z"
      },
      {
        "duration": 20,
        "start_time": "2023-06-19T11:31:07.734Z"
      },
      {
        "duration": 26,
        "start_time": "2023-06-19T11:31:07.756Z"
      },
      {
        "duration": 47,
        "start_time": "2023-06-19T11:31:07.784Z"
      },
      {
        "duration": 21,
        "start_time": "2023-06-19T11:31:07.835Z"
      },
      {
        "duration": 313,
        "start_time": "2023-06-19T11:31:07.857Z"
      },
      {
        "duration": 179,
        "start_time": "2023-06-19T11:31:08.173Z"
      },
      {
        "duration": 2954,
        "start_time": "2023-06-19T11:31:08.355Z"
      },
      {
        "duration": 2422,
        "start_time": "2023-06-19T11:31:11.310Z"
      },
      {
        "duration": 98,
        "start_time": "2023-06-19T11:31:13.735Z"
      },
      {
        "duration": 13,
        "start_time": "2023-06-19T11:31:13.836Z"
      },
      {
        "duration": 27,
        "start_time": "2023-06-19T11:31:13.851Z"
      },
      {
        "duration": 10,
        "start_time": "2023-06-19T11:31:13.880Z"
      },
      {
        "duration": 4572,
        "start_time": "2023-06-19T11:31:13.892Z"
      },
      {
        "duration": 62,
        "start_time": "2023-06-19T11:31:18.466Z"
      },
      {
        "duration": 31,
        "start_time": "2023-06-19T11:31:18.535Z"
      },
      {
        "duration": 16,
        "start_time": "2023-06-19T11:31:18.568Z"
      },
      {
        "duration": 108,
        "start_time": "2023-06-19T11:31:18.586Z"
      },
      {
        "duration": 54,
        "start_time": "2023-06-19T11:31:18.696Z"
      },
      {
        "duration": 90,
        "start_time": "2023-06-19T11:31:18.752Z"
      },
      {
        "duration": 817,
        "start_time": "2023-06-19T11:31:18.844Z"
      },
      {
        "duration": 46566,
        "start_time": "2023-06-19T11:31:26.656Z"
      },
      {
        "duration": 128,
        "start_time": "2023-06-19T11:32:13.229Z"
      },
      {
        "duration": 5,
        "start_time": "2023-06-19T11:32:13.359Z"
      },
      {
        "duration": 65,
        "start_time": "2023-06-19T11:32:13.366Z"
      },
      {
        "duration": 9,
        "start_time": "2023-06-19T11:32:13.443Z"
      },
      {
        "duration": 16,
        "start_time": "2023-06-19T11:32:13.453Z"
      },
      {
        "duration": 65,
        "start_time": "2023-06-19T11:32:13.471Z"
      },
      {
        "duration": 861,
        "start_time": "2023-06-19T11:32:13.538Z"
      },
      {
        "duration": 9630,
        "start_time": "2023-06-20T06:58:15.217Z"
      },
      {
        "duration": 3471,
        "start_time": "2023-06-20T06:58:24.850Z"
      },
      {
        "duration": 8380,
        "start_time": "2023-06-20T06:58:28.323Z"
      },
      {
        "duration": 4254,
        "start_time": "2023-06-20T06:58:36.709Z"
      },
      {
        "duration": 3313,
        "start_time": "2023-06-20T06:58:40.966Z"
      },
      {
        "duration": 3228,
        "start_time": "2023-06-20T06:58:44.282Z"
      },
      {
        "duration": 530,
        "start_time": "2023-06-20T06:58:47.512Z"
      },
      {
        "duration": 30,
        "start_time": "2023-06-20T06:58:48.044Z"
      },
      {
        "duration": 33,
        "start_time": "2023-06-20T06:58:48.076Z"
      },
      {
        "duration": 26,
        "start_time": "2023-06-20T06:58:48.112Z"
      },
      {
        "duration": 41,
        "start_time": "2023-06-20T06:58:48.140Z"
      },
      {
        "duration": 35,
        "start_time": "2023-06-20T06:58:48.183Z"
      },
      {
        "duration": 24,
        "start_time": "2023-06-20T06:58:48.220Z"
      },
      {
        "duration": 67,
        "start_time": "2023-06-20T06:58:48.250Z"
      },
      {
        "duration": 81,
        "start_time": "2023-06-20T06:58:48.319Z"
      },
      {
        "duration": 34,
        "start_time": "2023-06-20T06:58:48.402Z"
      },
      {
        "duration": 74,
        "start_time": "2023-06-20T06:58:48.438Z"
      },
      {
        "duration": 35,
        "start_time": "2023-06-20T06:58:48.514Z"
      },
      {
        "duration": 52,
        "start_time": "2023-06-20T06:58:48.551Z"
      },
      {
        "duration": 10,
        "start_time": "2023-06-20T06:58:48.606Z"
      },
      {
        "duration": 2416,
        "start_time": "2023-06-20T06:58:48.619Z"
      },
      {
        "duration": 6553,
        "start_time": "2023-06-20T06:58:51.037Z"
      },
      {
        "duration": 6,
        "start_time": "2023-06-20T06:58:57.592Z"
      },
      {
        "duration": 14,
        "start_time": "2023-06-20T06:58:57.600Z"
      },
      {
        "duration": 23,
        "start_time": "2023-06-20T06:58:57.615Z"
      },
      {
        "duration": 23,
        "start_time": "2023-06-20T06:58:57.640Z"
      },
      {
        "duration": 57,
        "start_time": "2023-06-20T06:58:57.670Z"
      },
      {
        "duration": 6,
        "start_time": "2023-06-20T06:58:57.731Z"
      },
      {
        "duration": 309,
        "start_time": "2023-06-20T06:58:57.740Z"
      },
      {
        "duration": 134,
        "start_time": "2023-06-20T06:58:58.053Z"
      },
      {
        "duration": 2832,
        "start_time": "2023-06-20T06:58:58.188Z"
      },
      {
        "duration": 2506,
        "start_time": "2023-06-20T06:59:01.022Z"
      },
      {
        "duration": 97,
        "start_time": "2023-06-20T06:59:03.529Z"
      },
      {
        "duration": 11,
        "start_time": "2023-06-20T06:59:03.628Z"
      },
      {
        "duration": 23,
        "start_time": "2023-06-20T06:59:03.641Z"
      },
      {
        "duration": 37,
        "start_time": "2023-06-20T06:59:03.666Z"
      },
      {
        "duration": 4457,
        "start_time": "2023-06-20T06:59:03.705Z"
      },
      {
        "duration": 39,
        "start_time": "2023-06-20T06:59:08.164Z"
      },
      {
        "duration": 32,
        "start_time": "2023-06-20T06:59:08.205Z"
      },
      {
        "duration": 28,
        "start_time": "2023-06-20T06:59:08.239Z"
      },
      {
        "duration": 66,
        "start_time": "2023-06-20T06:59:08.269Z"
      },
      {
        "duration": 24,
        "start_time": "2023-06-20T06:59:08.337Z"
      },
      {
        "duration": 87,
        "start_time": "2023-06-20T06:59:08.363Z"
      },
      {
        "duration": 841,
        "start_time": "2023-06-20T06:59:08.457Z"
      },
      {
        "duration": 182724,
        "start_time": "2023-06-20T06:59:09.301Z"
      },
      {
        "duration": 0,
        "start_time": "2023-06-20T07:02:12.028Z"
      },
      {
        "duration": 0,
        "start_time": "2023-06-20T07:02:12.029Z"
      },
      {
        "duration": 0,
        "start_time": "2023-06-20T07:02:12.030Z"
      },
      {
        "duration": 0,
        "start_time": "2023-06-20T07:02:12.031Z"
      },
      {
        "duration": 0,
        "start_time": "2023-06-20T07:02:12.032Z"
      },
      {
        "duration": 0,
        "start_time": "2023-06-20T07:02:12.033Z"
      },
      {
        "duration": 0,
        "start_time": "2023-06-20T07:02:12.034Z"
      },
      {
        "duration": 0,
        "start_time": "2023-06-20T07:02:12.035Z"
      },
      {
        "duration": 0,
        "start_time": "2023-06-20T07:02:12.036Z"
      },
      {
        "duration": 0,
        "start_time": "2023-06-20T07:02:12.037Z"
      }
    ],
    "colab": {
      "provenance": []
    },
    "kernelspec": {
      "display_name": "Python 3 (ipykernel)",
      "language": "python",
      "name": "python3"
    },
    "language_info": {
      "codemirror_mode": {
        "name": "ipython",
        "version": 3
      },
      "file_extension": ".py",
      "mimetype": "text/x-python",
      "name": "python",
      "nbconvert_exporter": "python",
      "pygments_lexer": "ipython3",
      "version": "3.9.5"
    },
    "toc": {
      "base_numbering": 1,
      "nav_menu": {},
      "number_sections": true,
      "sideBar": true,
      "skip_h1_title": true,
      "title_cell": "Table of Contents",
      "title_sidebar": "Contents",
      "toc_cell": false,
      "toc_position": {},
      "toc_section_display": true,
      "toc_window_display": false
    }
  },
  "nbformat": 4,
  "nbformat_minor": 0
}