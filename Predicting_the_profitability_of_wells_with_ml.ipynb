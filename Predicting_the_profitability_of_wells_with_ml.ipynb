{
  "cells": [
    {
      "cell_type": "markdown",
      "metadata": {
        "id": "gzFCGGyvveec"
      },
      "source": [
        "# Выбор локации для скважины"
      ]
    },
    {
      "cell_type": "markdown",
      "metadata": {
        "id": "URX9q8W3veec"
      },
      "source": [
        "Допустим, вы работаете в добывающей компании «ГлавРосГосНефть». Нужно решить, где бурить новую скважину.\n",
        "\n",
        "Вам предоставлены пробы нефти в трёх регионах: в каждом 10 000 месторождений, где измерили качество нефти и объём её запасов. Постройте модель машинного обучения, которая поможет определить регион, где добыча принесёт наибольшую прибыль. Проанализируйте возможную прибыль и риски техникой *Bootstrap.*\n",
        "\n",
        "Шаги для выбора локации:\n",
        "\n",
        "- В избранном регионе ищут месторождения, для каждого определяют значения признаков;\n",
        "- Строят модель и оценивают объём запасов;\n",
        "- Выбирают месторождения с самым высокими оценками значений. Количество месторождений зависит от бюджета компании и стоимости разработки одной скважины;\n",
        "- Прибыль равна суммарной прибыли отобранных месторождений."
      ]
    },
    {
      "cell_type": "code",
      "execution_count": null,
      "metadata": {
        "id": "UTsgje-5veed"
      },
      "outputs": [],
      "source": [
        "import pandas as pd\n",
        "import numpy as np\n",
        "from sklearn.model_selection import (\n",
        "    train_test_split, GridSearchCV\n",
        "    )\n",
        "from sklearn.linear_model import LinearRegression\n",
        "from sklearn.metrics import (\n",
        "    mean_squared_error,\n",
        "    accuracy_score,\n",
        "    classification_report\n",
        ")\n",
        "from numpy.random import RandomState\n",
        "from scipy import stats as st\n",
        "import matplotlib.pyplot as plt\n",
        "import warnings\n",
        "warnings.filterwarnings(\"ignore\")"
      ]
    },
    {
      "cell_type": "markdown",
      "metadata": {
        "id": "ENhvORXCveef"
      },
      "source": [
        "## Загрузка и подготовка данных"
      ]
    },
    {
      "cell_type": "code",
      "execution_count": null,
      "metadata": {
        "id": "nvw8Vo-bveef"
      },
      "outputs": [],
      "source": [
        "data0 = pd.read_csv('/datasets/geo_data_0.csv')\n",
        "data1 = pd.read_csv('/datasets/geo_data_1.csv')\n",
        "data2 = pd.read_csv('/datasets/geo_data_2.csv')"
      ]
    },
    {
      "cell_type": "code",
      "execution_count": null,
      "metadata": {
        "id": "ciWJKKgTveef",
        "outputId": "530ead46-5e3f-495e-bc8a-1410dee3d103"
      },
      "outputs": [
        {
          "data": {
            "text/html": [
              "<div>\n",
              "<style scoped>\n",
              "    .dataframe tbody tr th:only-of-type {\n",
              "        vertical-align: middle;\n",
              "    }\n",
              "\n",
              "    .dataframe tbody tr th {\n",
              "        vertical-align: top;\n",
              "    }\n",
              "\n",
              "    .dataframe thead th {\n",
              "        text-align: right;\n",
              "    }\n",
              "</style>\n",
              "<table border=\"1\" class=\"dataframe\">\n",
              "  <thead>\n",
              "    <tr style=\"text-align: right;\">\n",
              "      <th></th>\n",
              "      <th>id</th>\n",
              "      <th>f0</th>\n",
              "      <th>f1</th>\n",
              "      <th>f2</th>\n",
              "      <th>product</th>\n",
              "    </tr>\n",
              "  </thead>\n",
              "  <tbody>\n",
              "    <tr>\n",
              "      <th>0</th>\n",
              "      <td>txEyH</td>\n",
              "      <td>0.705745</td>\n",
              "      <td>-0.497823</td>\n",
              "      <td>1.221170</td>\n",
              "      <td>105.280062</td>\n",
              "    </tr>\n",
              "    <tr>\n",
              "      <th>1</th>\n",
              "      <td>2acmU</td>\n",
              "      <td>1.334711</td>\n",
              "      <td>-0.340164</td>\n",
              "      <td>4.365080</td>\n",
              "      <td>73.037750</td>\n",
              "    </tr>\n",
              "    <tr>\n",
              "      <th>2</th>\n",
              "      <td>409Wp</td>\n",
              "      <td>1.022732</td>\n",
              "      <td>0.151990</td>\n",
              "      <td>1.419926</td>\n",
              "      <td>85.265647</td>\n",
              "    </tr>\n",
              "    <tr>\n",
              "      <th>3</th>\n",
              "      <td>iJLyR</td>\n",
              "      <td>-0.032172</td>\n",
              "      <td>0.139033</td>\n",
              "      <td>2.978566</td>\n",
              "      <td>168.620776</td>\n",
              "    </tr>\n",
              "    <tr>\n",
              "      <th>4</th>\n",
              "      <td>Xdl7t</td>\n",
              "      <td>1.988431</td>\n",
              "      <td>0.155413</td>\n",
              "      <td>4.751769</td>\n",
              "      <td>154.036647</td>\n",
              "    </tr>\n",
              "  </tbody>\n",
              "</table>\n",
              "</div>"
            ],
            "text/plain": [
              "      id        f0        f1        f2     product\n",
              "0  txEyH  0.705745 -0.497823  1.221170  105.280062\n",
              "1  2acmU  1.334711 -0.340164  4.365080   73.037750\n",
              "2  409Wp  1.022732  0.151990  1.419926   85.265647\n",
              "3  iJLyR -0.032172  0.139033  2.978566  168.620776\n",
              "4  Xdl7t  1.988431  0.155413  4.751769  154.036647"
            ]
          },
          "execution_count": 3,
          "metadata": {},
          "output_type": "execute_result"
        }
      ],
      "source": [
        "data0.head()"
      ]
    },
    {
      "cell_type": "code",
      "execution_count": null,
      "metadata": {
        "id": "q4LSpL12veeg",
        "outputId": "f86382ea-0da5-474f-ea3c-b3706fb6e6f3"
      },
      "outputs": [
        {
          "data": {
            "text/html": [
              "<div>\n",
              "<style scoped>\n",
              "    .dataframe tbody tr th:only-of-type {\n",
              "        vertical-align: middle;\n",
              "    }\n",
              "\n",
              "    .dataframe tbody tr th {\n",
              "        vertical-align: top;\n",
              "    }\n",
              "\n",
              "    .dataframe thead th {\n",
              "        text-align: right;\n",
              "    }\n",
              "</style>\n",
              "<table border=\"1\" class=\"dataframe\">\n",
              "  <thead>\n",
              "    <tr style=\"text-align: right;\">\n",
              "      <th></th>\n",
              "      <th>id</th>\n",
              "      <th>f0</th>\n",
              "      <th>f1</th>\n",
              "      <th>f2</th>\n",
              "      <th>product</th>\n",
              "    </tr>\n",
              "  </thead>\n",
              "  <tbody>\n",
              "    <tr>\n",
              "      <th>0</th>\n",
              "      <td>kBEdx</td>\n",
              "      <td>-15.001348</td>\n",
              "      <td>-8.276000</td>\n",
              "      <td>-0.005876</td>\n",
              "      <td>3.179103</td>\n",
              "    </tr>\n",
              "    <tr>\n",
              "      <th>1</th>\n",
              "      <td>62mP7</td>\n",
              "      <td>14.272088</td>\n",
              "      <td>-3.475083</td>\n",
              "      <td>0.999183</td>\n",
              "      <td>26.953261</td>\n",
              "    </tr>\n",
              "    <tr>\n",
              "      <th>2</th>\n",
              "      <td>vyE1P</td>\n",
              "      <td>6.263187</td>\n",
              "      <td>-5.948386</td>\n",
              "      <td>5.001160</td>\n",
              "      <td>134.766305</td>\n",
              "    </tr>\n",
              "    <tr>\n",
              "      <th>3</th>\n",
              "      <td>KcrkZ</td>\n",
              "      <td>-13.081196</td>\n",
              "      <td>-11.506057</td>\n",
              "      <td>4.999415</td>\n",
              "      <td>137.945408</td>\n",
              "    </tr>\n",
              "    <tr>\n",
              "      <th>4</th>\n",
              "      <td>AHL4O</td>\n",
              "      <td>12.702195</td>\n",
              "      <td>-8.147433</td>\n",
              "      <td>5.004363</td>\n",
              "      <td>134.766305</td>\n",
              "    </tr>\n",
              "  </tbody>\n",
              "</table>\n",
              "</div>"
            ],
            "text/plain": [
              "      id         f0         f1        f2     product\n",
              "0  kBEdx -15.001348  -8.276000 -0.005876    3.179103\n",
              "1  62mP7  14.272088  -3.475083  0.999183   26.953261\n",
              "2  vyE1P   6.263187  -5.948386  5.001160  134.766305\n",
              "3  KcrkZ -13.081196 -11.506057  4.999415  137.945408\n",
              "4  AHL4O  12.702195  -8.147433  5.004363  134.766305"
            ]
          },
          "execution_count": 4,
          "metadata": {},
          "output_type": "execute_result"
        }
      ],
      "source": [
        "data1.head()"
      ]
    },
    {
      "cell_type": "code",
      "execution_count": null,
      "metadata": {
        "id": "v7vxUA4Qveeh",
        "outputId": "5a80ba7a-4f7f-4eb7-a50e-880f7af98304"
      },
      "outputs": [
        {
          "data": {
            "text/html": [
              "<div>\n",
              "<style scoped>\n",
              "    .dataframe tbody tr th:only-of-type {\n",
              "        vertical-align: middle;\n",
              "    }\n",
              "\n",
              "    .dataframe tbody tr th {\n",
              "        vertical-align: top;\n",
              "    }\n",
              "\n",
              "    .dataframe thead th {\n",
              "        text-align: right;\n",
              "    }\n",
              "</style>\n",
              "<table border=\"1\" class=\"dataframe\">\n",
              "  <thead>\n",
              "    <tr style=\"text-align: right;\">\n",
              "      <th></th>\n",
              "      <th>id</th>\n",
              "      <th>f0</th>\n",
              "      <th>f1</th>\n",
              "      <th>f2</th>\n",
              "      <th>product</th>\n",
              "    </tr>\n",
              "  </thead>\n",
              "  <tbody>\n",
              "    <tr>\n",
              "      <th>0</th>\n",
              "      <td>fwXo0</td>\n",
              "      <td>-1.146987</td>\n",
              "      <td>0.963328</td>\n",
              "      <td>-0.828965</td>\n",
              "      <td>27.758673</td>\n",
              "    </tr>\n",
              "    <tr>\n",
              "      <th>1</th>\n",
              "      <td>WJtFt</td>\n",
              "      <td>0.262778</td>\n",
              "      <td>0.269839</td>\n",
              "      <td>-2.530187</td>\n",
              "      <td>56.069697</td>\n",
              "    </tr>\n",
              "    <tr>\n",
              "      <th>2</th>\n",
              "      <td>ovLUW</td>\n",
              "      <td>0.194587</td>\n",
              "      <td>0.289035</td>\n",
              "      <td>-5.586433</td>\n",
              "      <td>62.871910</td>\n",
              "    </tr>\n",
              "    <tr>\n",
              "      <th>3</th>\n",
              "      <td>q6cA6</td>\n",
              "      <td>2.236060</td>\n",
              "      <td>-0.553760</td>\n",
              "      <td>0.930038</td>\n",
              "      <td>114.572842</td>\n",
              "    </tr>\n",
              "    <tr>\n",
              "      <th>4</th>\n",
              "      <td>WPMUX</td>\n",
              "      <td>-0.515993</td>\n",
              "      <td>1.716266</td>\n",
              "      <td>5.899011</td>\n",
              "      <td>149.600746</td>\n",
              "    </tr>\n",
              "  </tbody>\n",
              "</table>\n",
              "</div>"
            ],
            "text/plain": [
              "      id        f0        f1        f2     product\n",
              "0  fwXo0 -1.146987  0.963328 -0.828965   27.758673\n",
              "1  WJtFt  0.262778  0.269839 -2.530187   56.069697\n",
              "2  ovLUW  0.194587  0.289035 -5.586433   62.871910\n",
              "3  q6cA6  2.236060 -0.553760  0.930038  114.572842\n",
              "4  WPMUX -0.515993  1.716266  5.899011  149.600746"
            ]
          },
          "execution_count": 5,
          "metadata": {},
          "output_type": "execute_result"
        }
      ],
      "source": [
        "data2.head()"
      ]
    },
    {
      "cell_type": "code",
      "execution_count": null,
      "metadata": {
        "id": "MZ8s-zGUveeh",
        "outputId": "36e1c35b-f430-44a3-e70e-1d794de5957e"
      },
      "outputs": [
        {
          "data": {
            "text/plain": [
              "id         0\n",
              "f0         0\n",
              "f1         0\n",
              "f2         0\n",
              "product    0\n",
              "dtype: int64"
            ]
          },
          "execution_count": 6,
          "metadata": {},
          "output_type": "execute_result"
        }
      ],
      "source": [
        "data0.isna().sum()"
      ]
    },
    {
      "cell_type": "code",
      "execution_count": null,
      "metadata": {
        "id": "J9CGmmBYveei",
        "outputId": "759c6c0f-4006-49fe-a6ac-495d68227ef9"
      },
      "outputs": [
        {
          "data": {
            "text/plain": [
              "id         0\n",
              "f0         0\n",
              "f1         0\n",
              "f2         0\n",
              "product    0\n",
              "dtype: int64"
            ]
          },
          "execution_count": 7,
          "metadata": {},
          "output_type": "execute_result"
        }
      ],
      "source": [
        "data1.isna().sum()"
      ]
    },
    {
      "cell_type": "code",
      "execution_count": null,
      "metadata": {
        "id": "7swmHrW2veei",
        "outputId": "391a4bb6-1b1c-4989-9da7-5038ef1d6f59"
      },
      "outputs": [
        {
          "data": {
            "text/plain": [
              "id         0\n",
              "f0         0\n",
              "f1         0\n",
              "f2         0\n",
              "product    0\n",
              "dtype: int64"
            ]
          },
          "execution_count": 8,
          "metadata": {},
          "output_type": "execute_result"
        }
      ],
      "source": [
        "data2.isna().sum()"
      ]
    },
    {
      "cell_type": "code",
      "execution_count": null,
      "metadata": {
        "id": "__tuzVodveei"
      },
      "outputs": [],
      "source": [
        "features0 = data0[['f0', 'f1', 'f2']]\n",
        "features1 = data1[['f0', 'f1', 'f2']]\n",
        "features2 = data2[['f0', 'f1', 'f2']]"
      ]
    },
    {
      "cell_type": "code",
      "execution_count": null,
      "metadata": {
        "id": "MV1-UVHMveej"
      },
      "outputs": [],
      "source": [
        "target0 = data0['product']\n",
        "target1 = data1['product']\n",
        "target2 = data2['product']"
      ]
    },
    {
      "cell_type": "markdown",
      "metadata": {
        "id": "bbSSlRn6veej"
      },
      "source": [
        "На всякий случай посмотреть это"
      ]
    },
    {
      "cell_type": "markdown",
      "metadata": {
        "id": "mJb4fM-mveej"
      },
      "source": [
        "## Обучение и проверка модели"
      ]
    },
    {
      "cell_type": "code",
      "execution_count": null,
      "metadata": {
        "id": "NU4cW4Sjveek"
      },
      "outputs": [],
      "source": [
        "def best_lr(data):\n",
        "    features = data[['f0', 'f1', 'f2']]\n",
        "    target = data['product']\n",
        "    features_train, features_valid, target_train, target_valid = train_test_split(\n",
        "        features, target, test_size = 0.25, random_state = 12345)\n",
        "    param_grid = {\n",
        "    'fit_intercept': [True, False],\n",
        "    'normalize': [True, False]\n",
        "    }\n",
        "\n",
        "    model = LinearRegression()\n",
        "\n",
        "    grid_search = GridSearchCV(model, param_grid, cv=5, scoring='neg_mean_squared_error')\n",
        "\n",
        "    grid_search.fit(features_train, target_train)\n",
        "\n",
        "    data['predictions'] = grid_search.predict(features)\n",
        "    predictions = grid_search.predict(features_valid)\n",
        "    rmse = np.sqrt(mean_squared_error(target_valid, predictions))\n",
        "\n",
        "\n",
        "    b_p = [grid_search.best_params_['fit_intercept'],\n",
        "    grid_search.best_params_['normalize']]\n",
        "\n",
        "\n",
        "    return b_p, rmse, predictions"
      ]
    },
    {
      "cell_type": "markdown",
      "metadata": {
        "id": "g9Qt7Yc7veek"
      },
      "source": [
        "Первый регион"
      ]
    },
    {
      "cell_type": "code",
      "execution_count": null,
      "metadata": {
        "id": "F0btT01Eveek",
        "outputId": "08fcd7aa-8530-4e64-ed26-8a30423434c3"
      },
      "outputs": [
        {
          "name": "stdout",
          "output_type": "stream",
          "text": [
            "Лучшие параметры fit_intercept и normalize = [True, True], RMSE = 37.5794217150813\n",
            "Средний запас предсказанного: 92.59256778438035, средний запас выборки 92.50000000000001\n"
          ]
        }
      ],
      "source": [
        "best_params0, rmse0, predictions0 = best_lr(data0)\n",
        "print(f'Лучшие параметры fit_intercept и normalize = {best_params0}, RMSE = {rmse0}')\n",
        "print(f'Средний запас предсказанного: {predictions0.mean()}, средний запас выборки {target0.mean()}')"
      ]
    },
    {
      "cell_type": "markdown",
      "metadata": {
        "id": "DlL2xpnmveek"
      },
      "source": [
        "Второй регион"
      ]
    },
    {
      "cell_type": "code",
      "execution_count": null,
      "metadata": {
        "id": "kmYsz6Y6veel",
        "outputId": "5c47879c-018a-438b-a07c-a159a62f5585"
      },
      "outputs": [
        {
          "name": "stdout",
          "output_type": "stream",
          "text": [
            "Лучшие параметры fit_intercept и normalize = [True, True], RMSE = 0.8930992867756168\n",
            "Средний запас предсказанного: 68.728546895446, средний запас выборки 68.82500000000002\n"
          ]
        }
      ],
      "source": [
        "best_params1, rmse1, predictions1 = best_lr(data1)\n",
        "print(f'Лучшие параметры fit_intercept и normalize = {best_params1}, RMSE = {rmse1}')\n",
        "print(f'Средний запас предсказанного: {predictions1.mean()}, средний запас выборки {target1.mean()}')"
      ]
    },
    {
      "cell_type": "markdown",
      "metadata": {
        "id": "yRkqiw7Aveel"
      },
      "source": [
        "Третий регион"
      ]
    },
    {
      "cell_type": "code",
      "execution_count": null,
      "metadata": {
        "id": "rB3izhv8veel",
        "outputId": "633b3ecd-c93d-4e76-9e67-bfcb9fbcc43e"
      },
      "outputs": [
        {
          "name": "stdout",
          "output_type": "stream",
          "text": [
            "Лучшие параметры fit_intercept и normalize = [True, True], RMSE = 40.02970873393434\n",
            "Средний запас предсказанного: 94.96504596800489, средний запас выборки 95.00000000000004\n"
          ]
        }
      ],
      "source": [
        "best_params2, rmse2, predictions2 = best_lr(data2)\n",
        "print(f'Лучшие параметры fit_intercept и normalize = {best_params2}, RMSE = {rmse2}')\n",
        "print(f'Средний запас предсказанного: {predictions2.mean()}, средний запас выборки {target2.mean()}')"
      ]
    },
    {
      "cell_type": "markdown",
      "metadata": {
        "id": "HYsMtPVvveel"
      },
      "source": [
        "Вывод: Первый и третий регион сходи по RMSE, второй регион имеет корень из средней ошибки всего 0.89, на фоне 92.6, 95 - это выглядит странно"
      ]
    },
    {
      "cell_type": "markdown",
      "metadata": {
        "id": "b1GwYrxPveem"
      },
      "source": [
        "## Подготовка к расчёту прибыли"
      ]
    },
    {
      "cell_type": "markdown",
      "metadata": {
        "id": "mCtDJaoHveem"
      },
      "source": [
        "Ввод общих данных и расчет объема"
      ]
    },
    {
      "cell_type": "code",
      "execution_count": null,
      "metadata": {
        "id": "f5nltVfnveem",
        "outputId": "1e70ec7f-63df-411c-d52e-4c015d0aa1a2"
      },
      "outputs": [
        {
          "data": {
            "text/plain": [
              "2.2222222222222223"
            ]
          },
          "execution_count": 15,
          "metadata": {},
          "output_type": "execute_result"
        }
      ],
      "source": [
        "BUDGET = 10 ** 10\n",
        "PROFIT = 450_000\n",
        "BOREHOLE = 10 ** 4\n",
        "vol = BUDGET / (PROFIT * BOREHOLE)\n",
        "vol"
      ]
    },
    {
      "cell_type": "markdown",
      "metadata": {
        "id": "ObNKR5iQveen"
      },
      "source": [
        "Объем для топ 200 скважин"
      ]
    },
    {
      "cell_type": "code",
      "execution_count": null,
      "metadata": {
        "id": "Bt9rlunSveen",
        "outputId": "560ec706-6370-471b-db1e-b393b006e2bf"
      },
      "outputs": [
        {
          "data": {
            "text/plain": [
              "111.11111111111111"
            ]
          },
          "execution_count": 16,
          "metadata": {},
          "output_type": "execute_result"
        }
      ],
      "source": [
        "vol_top_200 = BUDGET / (200 * PROFIT)\n",
        "vol_top_200"
      ]
    },
    {
      "cell_type": "code",
      "execution_count": null,
      "metadata": {
        "id": "CB8EJcRCveeo",
        "outputId": "afc7f92f-1a5f-4d39-b89d-69a6209b3f76"
      },
      "outputs": [
        {
          "name": "stdout",
          "output_type": "stream",
          "text": [
            "Средняя прибыль по регионам, 1-й: 41644433.28084\n",
            "Средняя прибыль по регионам, 2-й: 30905623.88216\n",
            "Средняя прибыль по регионам, 3-й: 42712048.46252\n"
          ]
        }
      ],
      "source": [
        "print(f'Средняя прибыль по регионам, 1-й: {np.array([round((value * PROFIT) - (BUDGET / PROFIT)) for value in predictions0]).mean()}')\n",
        "print(f'Средняя прибыль по регионам, 2-й: {np.array([round((value * PROFIT) - (BUDGET / PROFIT)) for value in predictions1]).mean()}')\n",
        "print(f'Средняя прибыль по регионам, 3-й: {np.array([round((value * PROFIT) - (BUDGET / PROFIT)) for value in predictions2]).mean()}')"
      ]
    },
    {
      "cell_type": "code",
      "execution_count": null,
      "metadata": {
        "id": "v1NWiEOTveeo",
        "outputId": "ac2b751f-ae58-4e7c-bfeb-1ea1f7521cc0"
      },
      "outputs": [
        {
          "data": {
            "image/png": "[encoded data removed]",
            "text/plain": [
              "<Figure size 432x288 with 1 Axes>"
            ]
          },
          "metadata": {
            "needs_background": "light"
          },
          "output_type": "display_data"
        }
      ],
      "source": [
        "plt.boxplot(predictions0)\n",
        "plt.grid()\n",
        "plt.show()"
      ]
    },
    {
      "cell_type": "code",
      "execution_count": null,
      "metadata": {
        "id": "h5CU-Uqxveep",
        "outputId": "8aa8a6c6-52ad-4bb4-9d56-7cceb4fe4e67"
      },
      "outputs": [
        {
          "data": {
            "image/png": "[encoded data removed]",
            "text/plain": [
              "<Figure size 432x288 with 1 Axes>"
            ]
          },
          "metadata": {
            "needs_background": "light"
          },
          "output_type": "display_data"
        }
      ],
      "source": [
        "plt.boxplot(predictions1)\n",
        "plt.grid()\n",
        "plt.show()"
      ]
    },
    {
      "cell_type": "code",
      "execution_count": null,
      "metadata": {
        "id": "R5Om4z5nveep",
        "outputId": "9565e844-a56f-4705-b118-86b32ce41912"
      },
      "outputs": [
        {
          "data": {
            "image/png": "[encoded data removed]",
            "text/plain": [
              "<Figure size 432x288 with 1 Axes>"
            ]
          },
          "metadata": {
            "needs_background": "light"
          },
          "output_type": "display_data"
        }
      ],
      "source": [
        "plt.boxplot(predictions2)\n",
        "plt.grid()\n",
        "plt.show()"
      ]
    },
    {
      "cell_type": "markdown",
      "metadata": {
        "id": "IZA8L2Hpveeq"
      },
      "source": [
        "Вывод: Выбросов нет, следовательно, нет значений, которые могли повлиять на среднее. У второй скважины наибольший разброс значений, следовательно вероятность получить от скважины максимум выше."
      ]
    },
    {
      "cell_type": "markdown",
      "metadata": {
        "id": "f__hEkRZvees"
      },
      "source": [
        "## Расчёт прибыли и рисков"
      ]
    },
    {
      "cell_type": "code",
      "execution_count": null,
      "metadata": {
        "id": "DPv-rlwtvees"
      },
      "outputs": [],
      "source": [
        "def revenue(df):\n",
        "    sort_predicted = df.sort_values('predictions', ascending = False).head(200)\n",
        "    sort_real = df[df.index.isin(sort_predicted.index)]\n",
        "    revenue = sort_real['product'].sum() * PROFIT\n",
        "    return revenue"
      ]
    },
    {
      "cell_type": "markdown",
      "metadata": {
        "id": "nIjXM_Gpvees"
      },
      "source": [
        "Первый регион"
      ]
    },
    {
      "cell_type": "code",
      "execution_count": null,
      "metadata": {
        "id": "G-Yv3XXIvees",
        "outputId": "0bb4482f-d06f-4b0a-e9a5-2ccbf5025741"
      },
      "outputs": [
        {
          "name": "stdout",
          "output_type": "stream",
          "text": [
            "Доход: 13494104192\n"
          ]
        }
      ],
      "source": [
        "print(f'Доход: {round(revenue(data0))}')"
      ]
    },
    {
      "cell_type": "markdown",
      "metadata": {
        "id": "GHlo5dd1veet"
      },
      "source": [
        "Второй регион"
      ]
    },
    {
      "cell_type": "code",
      "execution_count": null,
      "metadata": {
        "id": "Mudb1GGSveet",
        "outputId": "8ff1af63-78ad-4572-96b3-1f0f7d7d5b47"
      },
      "outputs": [
        {
          "name": "stdout",
          "output_type": "stream",
          "text": [
            "Доход: 12415086697\n"
          ]
        }
      ],
      "source": [
        "print(f'Доход: {round(revenue(data1))}')"
      ]
    },
    {
      "cell_type": "markdown",
      "metadata": {
        "id": "qOEAm4kiveet"
      },
      "source": [
        "Третий регион"
      ]
    },
    {
      "cell_type": "code",
      "execution_count": null,
      "metadata": {
        "id": "SgeS9T9Bveet",
        "outputId": "981b5e14-2d0c-4c6a-ae60-31dd2d0a2e39"
      },
      "outputs": [
        {
          "name": "stdout",
          "output_type": "stream",
          "text": [
            "Доход: 12571410632\n"
          ]
        }
      ],
      "source": [
        "print(f'Доход: {round(revenue(data2))}')"
      ]
    },
    {
      "cell_type": "markdown",
      "metadata": {
        "id": "NKEpnRsZveet"
      },
      "source": [
        "Вывод: По доходу за топ 200 скважин, второй регион не так сильно отстает, по сравнению с 1м и 3м."
      ]
    },
    {
      "cell_type": "code",
      "execution_count": null,
      "metadata": {
        "id": "zeC6XvMBveeu"
      },
      "outputs": [],
      "source": [
        "def risks(df):\n",
        "    alpha = .975\n",
        "    random_state = np.random.RandomState(12345)\n",
        "    bootstrap_samples = 1000\n",
        "    target = df['product']\n",
        "    predictions = df['predictions']\n",
        "    profits = []\n",
        "    riscs = []\n",
        "    for i in range (bootstrap_samples):\n",
        "        subsample = predictions.sample(500, replace = True, random_state = random_state)\n",
        "        data = df[df.index.isin(subsample.index)]\n",
        "        rev = revenue(data)\n",
        "        profits.append(rev - BUDGET)\n",
        "        riscs.append((rev - BUDGET) < 0)\n",
        "    profits = pd.Series(profits)\n",
        "    riscs = pd.Series(riscs)\n",
        "    mean_profit = profits.mean()\n",
        "    risc_percent = round(riscs.mean() * 100, 1)\n",
        "    confidence_interval = (profits.quantile(1 - alpha), profits.quantile(alpha))\n",
        "    return mean_profit, confidence_interval, risc_percent"
      ]
    },
    {
      "cell_type": "code",
      "execution_count": null,
      "metadata": {
        "id": "wWc2ChMQveev",
        "outputId": "922ab120-a25c-4c42-aa80-eeb06de13fe8"
      },
      "outputs": [
        {
          "name": "stdout",
          "output_type": "stream",
          "text": [
            "Первый регион. Средняя прибыль: 420090221.95273775, доверительный интервал: (-82095968.91506802, 957763960.4688318), риск: 5.6 %\n"
          ]
        }
      ],
      "source": [
        "mean_profit, ci, risk_percentage = risks(data0)\n",
        "print(f'Первый регион. Средняя прибыль: {mean_profit}, доверительный интервал: {ci}, риск: {risk_percentage} %')"
      ]
    },
    {
      "cell_type": "code",
      "execution_count": null,
      "metadata": {
        "id": "rUzsrOqVveev",
        "outputId": "5d87e8e2-1bde-432a-c0a9-608813318c88"
      },
      "outputs": [
        {
          "name": "stdout",
          "output_type": "stream",
          "text": [
            "Второй регион. Средняя прибыль: 441557582.849264, доверительный интервал: (31758584.93007156, 816790454.0916667), риск: 1.4 %\n"
          ]
        }
      ],
      "source": [
        "mean_profit, ci, risk_percentage = risks(data1)\n",
        "print(f'Второй регион. Средняя прибыль: {mean_profit}, доверительный интервал: {ci}, риск: {risk_percentage} %')"
      ]
    },
    {
      "cell_type": "code",
      "execution_count": null,
      "metadata": {
        "id": "7DHiePy0veev",
        "outputId": "b834b62c-b892-477c-fb7f-30cd8b46e064"
      },
      "outputs": [
        {
          "name": "stdout",
          "output_type": "stream",
          "text": [
            "Третий регион. Средняя прибыль: 370724217.8045304, доверительный интервал: (-192505752.72463456, 889544958.2930584), риск: 9.1 %\n"
          ]
        }
      ],
      "source": [
        "mean_profit, ci, risk_percentage = risks(data2)\n",
        "print(f'Третий регион. Средняя прибыль: {mean_profit}, доверительный интервал: {ci}, риск: {risk_percentage} %')"
      ]
    },
    {
      "cell_type": "markdown",
      "metadata": {
        "id": "19MeGT5Oveev"
      },
      "source": [
        "ВЫВОД: По итогам исследования:\n",
        "* У всех регионов будет прибыль, если их выбрать для разработки, прибыль у всех будет +- одинаковой, но у первого она чуть больше второго и третьего.\n",
        "* Если препложить идентичность условий разработки скважин, то у второй скажины наибольшая потенциальная прибыль - 441557582.\n",
        "* Второй регион имеет наименьший процент риска - 1.4%"
      ]
    },
    {
      "cell_type": "markdown",
      "metadata": {
        "id": "W5s_ZHYbveew"
      },
      "source": [
        "## Чек-лист готовности проекта"
      ]
    },
    {
      "cell_type": "markdown",
      "metadata": {
        "id": "KHkc4EuEveew"
      },
      "source": [
        "- [x]  Jupyter Notebook открыт\n",
        "- [x]  Весь код выполняется без ошибок\n",
        "- [x]  Ячейки с кодом расположены в порядке исполнения\n",
        "- [x]  Выполнен шаг 1: данные подготовлены\n",
        "- [x]  Выполнен шаг 2: модели обучены и проверены\n",
        "    - [x]  Данные корректно разбиты на обучающую и валидационную выборки\n",
        "    - [x]  Модели обучены, предсказания сделаны\n",
        "    - [x]  Предсказания и правильные ответы на валидационной выборке сохранены\n",
        "    - [x]  На экране напечатаны результаты\n",
        "    - [x]  Сделаны выводы\n",
        "- [x]  Выполнен шаг 3: проведена подготовка к расчёту прибыли\n",
        "    - [x]  Для всех ключевых значений созданы константы Python\n",
        "    - [x]  Посчитано минимальное среднее количество продукта в месторождениях региона, достаточное для разработки\n",
        "    - [x]  По предыдущему пункту сделаны выводы\n",
        "    - [x]  Написана функция расчёта прибыли\n",
        "- [x]  Выполнен шаг 4: посчитаны риски и прибыль\n",
        "    - [x]  Проведена процедура *Bootstrap*\n",
        "    - [x]  Все параметры бутстрепа соответствуют условию\n",
        "    - [x]  Найдены все нужные величины\n",
        "    - [x]  Предложен регион для разработки месторождения\n",
        "    - [x]  Выбор региона обоснован"
      ]
    },
    {
      "cell_type": "code",
      "execution_count": null,
      "metadata": {
        "id": "DaB9AU6zveew"
      },
      "outputs": [],
      "source": []
    }
  ],
  "metadata": {
    "ExecuteTimeLog": [
      {
        "duration": 48,
        "start_time": "2023-06-07T12:15:15.685Z"
      },
      {
        "duration": 446,
        "start_time": "2023-06-07T12:15:18.273Z"
      },
      {
        "duration": 1776,
        "start_time": "2023-06-07T12:15:18.722Z"
      },
      {
        "duration": 19,
        "start_time": "2023-06-07T12:15:20.499Z"
      },
      {
        "duration": 9,
        "start_time": "2023-06-07T12:15:20.520Z"
      },
      {
        "duration": 20,
        "start_time": "2023-06-07T12:15:20.531Z"
      },
      {
        "duration": 32,
        "start_time": "2023-06-07T12:25:35.493Z"
      },
      {
        "duration": 10,
        "start_time": "2023-06-07T12:25:44.239Z"
      },
      {
        "duration": 4,
        "start_time": "2023-06-07T12:26:53.103Z"
      },
      {
        "duration": 5,
        "start_time": "2023-06-07T12:26:56.957Z"
      },
      {
        "duration": 5,
        "start_time": "2023-06-07T12:26:58.930Z"
      },
      {
        "duration": 5,
        "start_time": "2023-06-07T12:27:03.034Z"
      },
      {
        "duration": 27,
        "start_time": "2023-06-07T12:35:53.852Z"
      },
      {
        "duration": 14,
        "start_time": "2023-06-07T12:36:01.435Z"
      },
      {
        "duration": 17,
        "start_time": "2023-06-07T12:36:10.794Z"
      },
      {
        "duration": 15,
        "start_time": "2023-06-07T12:36:14.607Z"
      },
      {
        "duration": 1784,
        "start_time": "2023-06-07T12:40:01.617Z"
      },
      {
        "duration": 178,
        "start_time": "2023-06-07T12:47:23.108Z"
      },
      {
        "duration": 6,
        "start_time": "2023-06-07T12:48:38.298Z"
      },
      {
        "duration": 51,
        "start_time": "2023-06-07T12:52:07.634Z"
      },
      {
        "duration": 13,
        "start_time": "2023-06-07T12:52:19.409Z"
      },
      {
        "duration": 3,
        "start_time": "2023-06-07T12:52:53.238Z"
      },
      {
        "duration": 86,
        "start_time": "2023-06-07T13:00:19.150Z"
      },
      {
        "duration": 17,
        "start_time": "2023-06-07T13:00:41.948Z"
      },
      {
        "duration": 26,
        "start_time": "2023-06-07T13:00:50.502Z"
      },
      {
        "duration": 6,
        "start_time": "2023-06-07T13:00:54.609Z"
      },
      {
        "duration": 31,
        "start_time": "2023-06-07T13:00:56.580Z"
      },
      {
        "duration": 40,
        "start_time": "2023-06-07T13:01:06.355Z"
      },
      {
        "duration": 7,
        "start_time": "2023-06-07T13:01:45.586Z"
      },
      {
        "duration": 37,
        "start_time": "2023-06-07T13:01:52.592Z"
      },
      {
        "duration": 143,
        "start_time": "2023-06-07T13:04:17.700Z"
      },
      {
        "duration": 5,
        "start_time": "2023-06-07T13:04:22.392Z"
      },
      {
        "duration": 3744,
        "start_time": "2023-06-07T13:04:24.401Z"
      },
      {
        "duration": 6,
        "start_time": "2023-06-07T13:06:53.078Z"
      },
      {
        "duration": 2567,
        "start_time": "2023-06-07T13:06:55.111Z"
      },
      {
        "duration": 7,
        "start_time": "2023-06-07T13:07:44.203Z"
      },
      {
        "duration": 2568,
        "start_time": "2023-06-07T13:07:46.483Z"
      },
      {
        "duration": 4,
        "start_time": "2023-06-07T13:09:45.442Z"
      },
      {
        "duration": 2333,
        "start_time": "2023-06-07T13:14:46.913Z"
      },
      {
        "duration": 0,
        "start_time": "2023-06-07T13:14:49.267Z"
      },
      {
        "duration": 2473,
        "start_time": "2023-06-07T13:14:51.027Z"
      },
      {
        "duration": 7,
        "start_time": "2023-06-07T13:14:54.141Z"
      },
      {
        "duration": 2177,
        "start_time": "2023-06-07T13:14:55.898Z"
      },
      {
        "duration": 13,
        "start_time": "2023-06-07T13:15:07.166Z"
      },
      {
        "duration": 2822,
        "start_time": "2023-06-07T13:15:08.942Z"
      },
      {
        "duration": 6,
        "start_time": "2023-06-07T13:16:32.347Z"
      },
      {
        "duration": 1957,
        "start_time": "2023-06-07T13:16:34.222Z"
      },
      {
        "duration": 138,
        "start_time": "2023-06-07T13:18:15.777Z"
      },
      {
        "duration": 167,
        "start_time": "2023-06-07T13:18:18.920Z"
      },
      {
        "duration": 12,
        "start_time": "2023-06-07T13:18:25.891Z"
      },
      {
        "duration": 6,
        "start_time": "2023-06-07T13:18:31.527Z"
      },
      {
        "duration": 19,
        "start_time": "2023-06-07T13:18:39.893Z"
      },
      {
        "duration": 13,
        "start_time": "2023-06-07T13:18:59.142Z"
      },
      {
        "duration": 17,
        "start_time": "2023-06-07T13:19:04.987Z"
      },
      {
        "duration": 2844,
        "start_time": "2023-06-07T13:21:09.323Z"
      },
      {
        "duration": 6,
        "start_time": "2023-06-07T13:23:22.179Z"
      },
      {
        "duration": 2327,
        "start_time": "2023-06-07T13:23:24.148Z"
      },
      {
        "duration": 4,
        "start_time": "2023-06-07T13:23:50.974Z"
      },
      {
        "duration": 2291,
        "start_time": "2023-06-07T13:24:00.677Z"
      },
      {
        "duration": 2676,
        "start_time": "2023-06-07T13:39:14.783Z"
      },
      {
        "duration": 2079,
        "start_time": "2023-06-07T13:40:15.702Z"
      },
      {
        "duration": 2208,
        "start_time": "2023-06-07T13:40:17.861Z"
      },
      {
        "duration": 1739,
        "start_time": "2023-06-07T13:40:26.524Z"
      },
      {
        "duration": 2196,
        "start_time": "2023-06-07T13:40:33.670Z"
      },
      {
        "duration": 28,
        "start_time": "2023-06-07T13:41:06.236Z"
      },
      {
        "duration": 1447,
        "start_time": "2023-06-07T13:41:10.914Z"
      },
      {
        "duration": 2146,
        "start_time": "2023-06-07T13:41:18.127Z"
      },
      {
        "duration": 1819,
        "start_time": "2023-06-07T13:41:31.846Z"
      },
      {
        "duration": 1951,
        "start_time": "2023-06-07T13:53:48.308Z"
      },
      {
        "duration": 2196,
        "start_time": "2023-06-07T13:53:50.261Z"
      },
      {
        "duration": 2698,
        "start_time": "2023-06-07T13:53:52.459Z"
      },
      {
        "duration": 109,
        "start_time": "2023-06-07T13:56:08.674Z"
      },
      {
        "duration": 115,
        "start_time": "2023-06-07T13:56:12.919Z"
      },
      {
        "duration": 4,
        "start_time": "2023-06-07T13:56:15.537Z"
      },
      {
        "duration": 2043,
        "start_time": "2023-06-07T13:56:44.520Z"
      },
      {
        "duration": 2098,
        "start_time": "2023-06-07T13:56:46.566Z"
      },
      {
        "duration": 2290,
        "start_time": "2023-06-07T13:56:48.667Z"
      },
      {
        "duration": 2272,
        "start_time": "2023-06-07T13:56:58.693Z"
      },
      {
        "duration": 2093,
        "start_time": "2023-06-07T13:57:00.968Z"
      },
      {
        "duration": 2296,
        "start_time": "2023-06-07T13:57:03.066Z"
      },
      {
        "duration": 1923,
        "start_time": "2023-06-07T13:57:07.941Z"
      },
      {
        "duration": 4,
        "start_time": "2023-06-07T13:57:15.991Z"
      },
      {
        "duration": 400,
        "start_time": "2023-06-07T13:57:15.997Z"
      },
      {
        "duration": 10,
        "start_time": "2023-06-07T13:57:16.399Z"
      },
      {
        "duration": 14,
        "start_time": "2023-06-07T13:57:16.411Z"
      },
      {
        "duration": 14,
        "start_time": "2023-06-07T13:57:16.427Z"
      },
      {
        "duration": 25,
        "start_time": "2023-06-07T13:57:16.457Z"
      },
      {
        "duration": 11,
        "start_time": "2023-06-07T13:57:16.483Z"
      },
      {
        "duration": 10,
        "start_time": "2023-06-07T13:57:16.496Z"
      },
      {
        "duration": 27,
        "start_time": "2023-06-07T13:57:16.507Z"
      },
      {
        "duration": 5,
        "start_time": "2023-06-07T13:57:16.536Z"
      },
      {
        "duration": 4,
        "start_time": "2023-06-07T13:57:16.543Z"
      },
      {
        "duration": 16,
        "start_time": "2023-06-07T13:57:16.549Z"
      },
      {
        "duration": 0,
        "start_time": "2023-06-07T13:57:16.566Z"
      },
      {
        "duration": 0,
        "start_time": "2023-06-07T13:57:16.568Z"
      },
      {
        "duration": 0,
        "start_time": "2023-06-07T13:57:16.569Z"
      },
      {
        "duration": 5,
        "start_time": "2023-06-07T13:59:59.288Z"
      },
      {
        "duration": 391,
        "start_time": "2023-06-07T13:59:59.295Z"
      },
      {
        "duration": 9,
        "start_time": "2023-06-07T13:59:59.688Z"
      },
      {
        "duration": 27,
        "start_time": "2023-06-07T13:59:59.699Z"
      },
      {
        "duration": 96,
        "start_time": "2023-06-07T13:59:59.729Z"
      },
      {
        "duration": 42,
        "start_time": "2023-06-07T13:59:59.827Z"
      },
      {
        "duration": 36,
        "start_time": "2023-06-07T13:59:59.870Z"
      },
      {
        "duration": 20,
        "start_time": "2023-06-07T13:59:59.908Z"
      },
      {
        "duration": 32,
        "start_time": "2023-06-07T13:59:59.930Z"
      },
      {
        "duration": 33,
        "start_time": "2023-06-07T13:59:59.964Z"
      },
      {
        "duration": 52,
        "start_time": "2023-06-07T13:59:59.999Z"
      },
      {
        "duration": 2006,
        "start_time": "2023-06-07T14:00:00.053Z"
      },
      {
        "duration": 2200,
        "start_time": "2023-06-07T14:00:02.061Z"
      },
      {
        "duration": 2096,
        "start_time": "2023-06-07T14:00:04.266Z"
      },
      {
        "duration": 2140,
        "start_time": "2023-06-07T14:04:16.519Z"
      },
      {
        "duration": 2245,
        "start_time": "2023-06-07T14:04:23.114Z"
      },
      {
        "duration": 2406,
        "start_time": "2023-06-07T14:04:25.362Z"
      },
      {
        "duration": 2066,
        "start_time": "2023-06-07T14:04:36.894Z"
      },
      {
        "duration": 2070,
        "start_time": "2023-06-07T14:04:39.390Z"
      },
      {
        "duration": 1620,
        "start_time": "2023-06-07T14:09:42.140Z"
      },
      {
        "duration": 0,
        "start_time": "2023-06-07T14:09:43.763Z"
      },
      {
        "duration": 137,
        "start_time": "2023-06-07T14:13:07.359Z"
      },
      {
        "duration": 6,
        "start_time": "2023-06-07T14:13:08.759Z"
      },
      {
        "duration": 114,
        "start_time": "2023-06-07T14:13:09.400Z"
      },
      {
        "duration": 21,
        "start_time": "2023-06-07T14:13:27.683Z"
      },
      {
        "duration": 2259,
        "start_time": "2023-06-07T14:13:41.289Z"
      },
      {
        "duration": 117,
        "start_time": "2023-06-07T14:13:54.932Z"
      },
      {
        "duration": 1757,
        "start_time": "2023-06-07T14:14:09.359Z"
      },
      {
        "duration": 118,
        "start_time": "2023-06-07T14:14:25.753Z"
      },
      {
        "duration": 1902,
        "start_time": "2023-06-07T14:14:33.374Z"
      },
      {
        "duration": 7,
        "start_time": "2023-06-07T14:15:00.927Z"
      },
      {
        "duration": 3009,
        "start_time": "2023-06-07T14:15:01.348Z"
      },
      {
        "duration": 2056,
        "start_time": "2023-06-07T14:20:56.707Z"
      },
      {
        "duration": 5,
        "start_time": "2023-06-07T14:22:28.500Z"
      },
      {
        "duration": 2180,
        "start_time": "2023-06-07T14:22:30.203Z"
      },
      {
        "duration": 6,
        "start_time": "2023-06-07T14:22:53.070Z"
      },
      {
        "duration": 2189,
        "start_time": "2023-06-07T14:22:54.574Z"
      },
      {
        "duration": 5,
        "start_time": "2023-06-07T14:23:53.192Z"
      },
      {
        "duration": 4006,
        "start_time": "2023-06-07T14:23:54.773Z"
      },
      {
        "duration": 6,
        "start_time": "2023-06-07T14:24:13.183Z"
      },
      {
        "duration": 2159,
        "start_time": "2023-06-07T14:24:14.509Z"
      },
      {
        "duration": 6,
        "start_time": "2023-06-07T14:25:12.271Z"
      },
      {
        "duration": 120,
        "start_time": "2023-06-07T14:25:12.687Z"
      },
      {
        "duration": 1974,
        "start_time": "2023-06-07T14:25:36.382Z"
      },
      {
        "duration": 4,
        "start_time": "2023-06-07T14:26:16.340Z"
      },
      {
        "duration": 582,
        "start_time": "2023-06-07T14:26:16.346Z"
      },
      {
        "duration": 12,
        "start_time": "2023-06-07T14:26:16.930Z"
      },
      {
        "duration": 30,
        "start_time": "2023-06-07T14:26:16.945Z"
      },
      {
        "duration": 45,
        "start_time": "2023-06-07T14:26:16.978Z"
      },
      {
        "duration": 30,
        "start_time": "2023-06-07T14:26:17.025Z"
      },
      {
        "duration": 27,
        "start_time": "2023-06-07T14:26:17.062Z"
      },
      {
        "duration": 20,
        "start_time": "2023-06-07T14:26:17.092Z"
      },
      {
        "duration": 13,
        "start_time": "2023-06-07T14:26:17.114Z"
      },
      {
        "duration": 20,
        "start_time": "2023-06-07T14:26:17.129Z"
      },
      {
        "duration": 24,
        "start_time": "2023-06-07T14:26:17.152Z"
      },
      {
        "duration": 2387,
        "start_time": "2023-06-07T14:26:17.178Z"
      },
      {
        "duration": 100,
        "start_time": "2023-06-07T14:26:19.567Z"
      },
      {
        "duration": 2212,
        "start_time": "2023-06-07T14:26:26.872Z"
      },
      {
        "duration": 2058,
        "start_time": "2023-06-07T14:26:46.601Z"
      },
      {
        "duration": 145,
        "start_time": "2023-06-07T14:26:53.486Z"
      },
      {
        "duration": 1963,
        "start_time": "2023-06-07T14:27:23.609Z"
      },
      {
        "duration": 23,
        "start_time": "2023-06-07T14:27:54.710Z"
      },
      {
        "duration": 21,
        "start_time": "2023-06-07T14:28:19.463Z"
      },
      {
        "duration": 2162,
        "start_time": "2023-06-07T14:28:31.612Z"
      },
      {
        "duration": 1852,
        "start_time": "2023-06-07T14:28:52.816Z"
      },
      {
        "duration": 2015,
        "start_time": "2023-06-07T14:28:54.970Z"
      },
      {
        "duration": 2282,
        "start_time": "2023-06-07T14:29:23.394Z"
      },
      {
        "duration": 2104,
        "start_time": "2023-06-07T14:29:25.755Z"
      },
      {
        "duration": 2398,
        "start_time": "2023-06-07T14:29:27.868Z"
      },
      {
        "duration": 5,
        "start_time": "2023-06-07T14:42:47.496Z"
      },
      {
        "duration": 3,
        "start_time": "2023-06-07T14:43:33.322Z"
      },
      {
        "duration": 5,
        "start_time": "2023-06-07T14:43:37.751Z"
      },
      {
        "duration": 4,
        "start_time": "2023-06-07T14:49:42.587Z"
      },
      {
        "duration": 15,
        "start_time": "2023-06-07T14:51:22.293Z"
      },
      {
        "duration": 12,
        "start_time": "2023-06-07T14:51:36.396Z"
      },
      {
        "duration": 50,
        "start_time": "2023-06-07T14:53:04.279Z"
      },
      {
        "duration": 69,
        "start_time": "2023-06-07T14:53:13.961Z"
      },
      {
        "duration": 174,
        "start_time": "2023-06-07T14:53:27.186Z"
      },
      {
        "duration": 124,
        "start_time": "2023-06-07T15:22:15.998Z"
      },
      {
        "duration": 11,
        "start_time": "2023-06-07T15:22:28.095Z"
      },
      {
        "duration": 109,
        "start_time": "2023-06-07T15:22:28.285Z"
      },
      {
        "duration": 113,
        "start_time": "2023-06-07T15:22:31.096Z"
      },
      {
        "duration": 17,
        "start_time": "2023-06-07T15:37:30.845Z"
      },
      {
        "duration": 5,
        "start_time": "2023-06-07T15:43:26.825Z"
      },
      {
        "duration": 1052,
        "start_time": "2023-06-07T15:43:26.833Z"
      },
      {
        "duration": 11,
        "start_time": "2023-06-07T15:43:27.886Z"
      },
      {
        "duration": 30,
        "start_time": "2023-06-07T15:43:27.899Z"
      },
      {
        "duration": 33,
        "start_time": "2023-06-07T15:43:27.933Z"
      },
      {
        "duration": 22,
        "start_time": "2023-06-07T15:43:27.968Z"
      },
      {
        "duration": 19,
        "start_time": "2023-06-07T15:43:27.993Z"
      },
      {
        "duration": 11,
        "start_time": "2023-06-07T15:43:28.014Z"
      },
      {
        "duration": 16,
        "start_time": "2023-06-07T15:43:28.027Z"
      },
      {
        "duration": 12,
        "start_time": "2023-06-07T15:43:28.045Z"
      },
      {
        "duration": 18,
        "start_time": "2023-06-07T15:43:28.061Z"
      },
      {
        "duration": 1389,
        "start_time": "2023-06-07T15:43:28.082Z"
      },
      {
        "duration": 1507,
        "start_time": "2023-06-07T15:43:29.477Z"
      },
      {
        "duration": 2430,
        "start_time": "2023-06-07T15:43:31.057Z"
      },
      {
        "duration": 81,
        "start_time": "2023-06-07T15:43:33.493Z"
      },
      {
        "duration": 78,
        "start_time": "2023-06-07T15:43:33.583Z"
      },
      {
        "duration": 158,
        "start_time": "2023-06-07T15:43:33.667Z"
      },
      {
        "duration": 124,
        "start_time": "2023-06-07T15:43:33.827Z"
      },
      {
        "duration": 224,
        "start_time": "2023-06-07T15:43:33.958Z"
      },
      {
        "duration": 158,
        "start_time": "2023-06-07T15:43:34.184Z"
      },
      {
        "duration": 25,
        "start_time": "2023-06-07T15:43:34.344Z"
      },
      {
        "duration": 0,
        "start_time": "2023-06-07T15:43:34.371Z"
      },
      {
        "duration": 14,
        "start_time": "2023-06-07T15:43:41.938Z"
      },
      {
        "duration": 30,
        "start_time": "2023-06-07T15:43:57.982Z"
      },
      {
        "duration": 28,
        "start_time": "2023-06-07T15:44:12.493Z"
      },
      {
        "duration": 34,
        "start_time": "2023-06-07T15:45:50.425Z"
      },
      {
        "duration": 30,
        "start_time": "2023-06-07T15:46:02.206Z"
      },
      {
        "duration": 37,
        "start_time": "2023-06-07T15:46:03.576Z"
      },
      {
        "duration": 13,
        "start_time": "2023-06-07T15:55:15.858Z"
      },
      {
        "duration": 26,
        "start_time": "2023-06-07T15:55:17.445Z"
      },
      {
        "duration": 3,
        "start_time": "2023-06-07T15:55:33.693Z"
      },
      {
        "duration": 16,
        "start_time": "2023-06-07T15:55:35.433Z"
      },
      {
        "duration": 4,
        "start_time": "2023-06-07T15:55:49.050Z"
      },
      {
        "duration": 30,
        "start_time": "2023-06-07T15:55:50.275Z"
      },
      {
        "duration": 32,
        "start_time": "2023-06-07T15:55:57.422Z"
      },
      {
        "duration": 31,
        "start_time": "2023-06-07T15:56:20.591Z"
      },
      {
        "duration": 4,
        "start_time": "2023-06-07T15:56:22.170Z"
      },
      {
        "duration": 38,
        "start_time": "2023-06-07T15:56:22.523Z"
      },
      {
        "duration": 44,
        "start_time": "2023-06-07T15:56:22.848Z"
      },
      {
        "duration": 3,
        "start_time": "2023-06-07T15:56:38.313Z"
      },
      {
        "duration": 32,
        "start_time": "2023-06-07T15:56:38.670Z"
      },
      {
        "duration": 40,
        "start_time": "2023-06-07T15:56:38.982Z"
      },
      {
        "duration": 28,
        "start_time": "2023-06-07T15:56:39.489Z"
      },
      {
        "duration": 4,
        "start_time": "2023-06-07T16:38:37.223Z"
      },
      {
        "duration": 8,
        "start_time": "2023-06-07T16:49:30.127Z"
      },
      {
        "duration": 3269,
        "start_time": "2023-06-07T16:51:53.098Z"
      },
      {
        "duration": 3264,
        "start_time": "2023-06-07T16:54:37.976Z"
      },
      {
        "duration": 3449,
        "start_time": "2023-06-07T16:54:56.649Z"
      },
      {
        "duration": 3352,
        "start_time": "2023-06-07T16:56:03.123Z"
      },
      {
        "duration": 3389,
        "start_time": "2023-06-07T16:56:06.477Z"
      },
      {
        "duration": 3244,
        "start_time": "2023-06-07T16:56:09.867Z"
      },
      {
        "duration": 153,
        "start_time": "2023-06-07T16:59:22.592Z"
      },
      {
        "duration": 11,
        "start_time": "2023-06-07T16:59:31.898Z"
      },
      {
        "duration": 469,
        "start_time": "2023-06-07T16:59:31.911Z"
      },
      {
        "duration": 21,
        "start_time": "2023-06-07T16:59:32.382Z"
      },
      {
        "duration": 31,
        "start_time": "2023-06-07T16:59:32.405Z"
      },
      {
        "duration": 10,
        "start_time": "2023-06-07T16:59:32.439Z"
      },
      {
        "duration": 25,
        "start_time": "2023-06-07T16:59:32.450Z"
      },
      {
        "duration": 22,
        "start_time": "2023-06-07T16:59:32.484Z"
      },
      {
        "duration": 15,
        "start_time": "2023-06-07T16:59:32.508Z"
      },
      {
        "duration": 9,
        "start_time": "2023-06-07T16:59:32.525Z"
      },
      {
        "duration": 6,
        "start_time": "2023-06-07T16:59:32.536Z"
      },
      {
        "duration": 5,
        "start_time": "2023-06-07T16:59:32.544Z"
      },
      {
        "duration": 1834,
        "start_time": "2023-06-07T16:59:32.557Z"
      },
      {
        "duration": 2066,
        "start_time": "2023-06-07T16:59:34.395Z"
      },
      {
        "duration": 1894,
        "start_time": "2023-06-07T16:59:36.477Z"
      },
      {
        "duration": 12,
        "start_time": "2023-06-07T16:59:38.373Z"
      },
      {
        "duration": 8,
        "start_time": "2023-06-07T16:59:38.392Z"
      },
      {
        "duration": 177,
        "start_time": "2023-06-07T16:59:38.460Z"
      },
      {
        "duration": 116,
        "start_time": "2023-06-07T16:59:38.639Z"
      },
      {
        "duration": 130,
        "start_time": "2023-06-07T16:59:38.761Z"
      },
      {
        "duration": 129,
        "start_time": "2023-06-07T16:59:38.900Z"
      },
      {
        "duration": 4,
        "start_time": "2023-06-07T16:59:39.031Z"
      },
      {
        "duration": 53,
        "start_time": "2023-06-07T16:59:39.036Z"
      },
      {
        "duration": 36,
        "start_time": "2023-06-07T16:59:39.091Z"
      },
      {
        "duration": 60,
        "start_time": "2023-06-07T16:59:39.130Z"
      },
      {
        "duration": 8,
        "start_time": "2023-06-07T16:59:39.197Z"
      },
      {
        "duration": 3394,
        "start_time": "2023-06-07T16:59:39.207Z"
      },
      {
        "duration": 3276,
        "start_time": "2023-06-07T16:59:42.603Z"
      },
      {
        "duration": 3375,
        "start_time": "2023-06-07T16:59:45.890Z"
      },
      {
        "duration": 195,
        "start_time": "2023-06-07T20:50:53.209Z"
      },
      {
        "duration": 108,
        "start_time": "2023-06-07T20:57:33.632Z"
      },
      {
        "duration": 1550,
        "start_time": "2023-06-08T11:16:35.676Z"
      },
      {
        "duration": 1619,
        "start_time": "2023-06-08T11:16:37.228Z"
      },
      {
        "duration": 19,
        "start_time": "2023-06-08T11:16:38.849Z"
      },
      {
        "duration": 14,
        "start_time": "2023-06-08T11:16:38.870Z"
      },
      {
        "duration": 12,
        "start_time": "2023-06-08T11:16:38.887Z"
      },
      {
        "duration": 20,
        "start_time": "2023-06-08T11:16:38.901Z"
      },
      {
        "duration": 29,
        "start_time": "2023-06-08T11:16:38.922Z"
      },
      {
        "duration": 9,
        "start_time": "2023-06-08T11:16:38.952Z"
      },
      {
        "duration": 12,
        "start_time": "2023-06-08T11:16:38.963Z"
      },
      {
        "duration": 8,
        "start_time": "2023-06-08T11:16:38.976Z"
      },
      {
        "duration": 16,
        "start_time": "2023-06-08T11:16:38.985Z"
      },
      {
        "duration": 2740,
        "start_time": "2023-06-08T11:16:39.002Z"
      },
      {
        "duration": 0,
        "start_time": "2023-06-08T11:16:41.744Z"
      },
      {
        "duration": 0,
        "start_time": "2023-06-08T11:16:41.750Z"
      },
      {
        "duration": 0,
        "start_time": "2023-06-08T11:16:41.751Z"
      },
      {
        "duration": 0,
        "start_time": "2023-06-08T11:16:41.752Z"
      },
      {
        "duration": 0,
        "start_time": "2023-06-08T11:16:41.753Z"
      },
      {
        "duration": 0,
        "start_time": "2023-06-08T11:16:41.755Z"
      },
      {
        "duration": 0,
        "start_time": "2023-06-08T11:16:41.756Z"
      },
      {
        "duration": 0,
        "start_time": "2023-06-08T11:16:41.757Z"
      },
      {
        "duration": 0,
        "start_time": "2023-06-08T11:16:41.758Z"
      },
      {
        "duration": 0,
        "start_time": "2023-06-08T11:16:41.760Z"
      },
      {
        "duration": 0,
        "start_time": "2023-06-08T11:16:41.761Z"
      },
      {
        "duration": 0,
        "start_time": "2023-06-08T11:16:41.762Z"
      },
      {
        "duration": 0,
        "start_time": "2023-06-08T11:16:41.763Z"
      },
      {
        "duration": 0,
        "start_time": "2023-06-08T11:16:41.764Z"
      },
      {
        "duration": 0,
        "start_time": "2023-06-08T11:16:41.765Z"
      },
      {
        "duration": 0,
        "start_time": "2023-06-08T11:16:41.766Z"
      },
      {
        "duration": 4,
        "start_time": "2023-06-08T11:18:25.462Z"
      },
      {
        "duration": 361,
        "start_time": "2023-06-08T11:18:25.468Z"
      },
      {
        "duration": 9,
        "start_time": "2023-06-08T11:18:25.831Z"
      },
      {
        "duration": 14,
        "start_time": "2023-06-08T11:18:25.841Z"
      },
      {
        "duration": 10,
        "start_time": "2023-06-08T11:18:25.858Z"
      },
      {
        "duration": 11,
        "start_time": "2023-06-08T11:18:25.869Z"
      },
      {
        "duration": 12,
        "start_time": "2023-06-08T11:18:25.881Z"
      },
      {
        "duration": 10,
        "start_time": "2023-06-08T11:18:25.895Z"
      },
      {
        "duration": 44,
        "start_time": "2023-06-08T11:18:25.907Z"
      },
      {
        "duration": 10,
        "start_time": "2023-06-08T11:18:25.953Z"
      },
      {
        "duration": 24,
        "start_time": "2023-06-08T11:18:25.964Z"
      },
      {
        "duration": 2067,
        "start_time": "2023-06-08T11:18:25.989Z"
      },
      {
        "duration": 2199,
        "start_time": "2023-06-08T11:18:28.058Z"
      },
      {
        "duration": 2200,
        "start_time": "2023-06-08T11:18:30.262Z"
      },
      {
        "duration": 101,
        "start_time": "2023-06-08T11:18:32.551Z"
      },
      {
        "duration": 0,
        "start_time": "2023-06-08T11:18:32.653Z"
      },
      {
        "duration": 0,
        "start_time": "2023-06-08T11:18:32.655Z"
      },
      {
        "duration": 0,
        "start_time": "2023-06-08T11:18:32.656Z"
      },
      {
        "duration": 0,
        "start_time": "2023-06-08T11:18:32.657Z"
      },
      {
        "duration": 0,
        "start_time": "2023-06-08T11:18:32.659Z"
      },
      {
        "duration": 0,
        "start_time": "2023-06-08T11:18:32.660Z"
      },
      {
        "duration": 0,
        "start_time": "2023-06-08T11:18:32.662Z"
      },
      {
        "duration": 0,
        "start_time": "2023-06-08T11:18:32.663Z"
      },
      {
        "duration": 0,
        "start_time": "2023-06-08T11:18:32.666Z"
      },
      {
        "duration": 0,
        "start_time": "2023-06-08T11:18:32.667Z"
      },
      {
        "duration": 0,
        "start_time": "2023-06-08T11:18:32.668Z"
      },
      {
        "duration": 0,
        "start_time": "2023-06-08T11:18:32.669Z"
      },
      {
        "duration": 0,
        "start_time": "2023-06-08T11:18:32.671Z"
      },
      {
        "duration": 5,
        "start_time": "2023-06-08T11:19:05.671Z"
      },
      {
        "duration": 8,
        "start_time": "2023-06-08T11:19:06.739Z"
      },
      {
        "duration": 136,
        "start_time": "2023-06-08T11:19:06.855Z"
      },
      {
        "duration": 106,
        "start_time": "2023-06-08T11:19:07.038Z"
      },
      {
        "duration": 96,
        "start_time": "2023-06-08T11:19:07.182Z"
      },
      {
        "duration": 4,
        "start_time": "2023-06-08T11:19:23.749Z"
      },
      {
        "duration": 141,
        "start_time": "2023-06-08T11:19:24.446Z"
      },
      {
        "duration": 99,
        "start_time": "2023-06-08T11:19:24.598Z"
      },
      {
        "duration": 100,
        "start_time": "2023-06-08T11:19:24.766Z"
      },
      {
        "duration": 96,
        "start_time": "2023-06-08T11:19:24.943Z"
      },
      {
        "duration": 4,
        "start_time": "2023-06-08T11:19:26.558Z"
      },
      {
        "duration": 42,
        "start_time": "2023-06-08T11:19:26.966Z"
      },
      {
        "duration": 37,
        "start_time": "2023-06-08T11:19:27.350Z"
      },
      {
        "duration": 37,
        "start_time": "2023-06-08T11:19:27.782Z"
      },
      {
        "duration": 3,
        "start_time": "2023-06-08T13:07:59.200Z"
      },
      {
        "duration": 25,
        "start_time": "2023-06-08T13:07:59.539Z"
      },
      {
        "duration": 26,
        "start_time": "2023-06-08T13:07:59.859Z"
      },
      {
        "duration": 26,
        "start_time": "2023-06-08T13:08:00.225Z"
      },
      {
        "duration": 4,
        "start_time": "2023-06-08T13:08:01.285Z"
      },
      {
        "duration": 15,
        "start_time": "2023-06-08T13:08:03.595Z"
      },
      {
        "duration": 16,
        "start_time": "2023-06-08T13:08:03.776Z"
      },
      {
        "duration": 5,
        "start_time": "2023-06-08T13:08:29.178Z"
      },
      {
        "duration": 3102,
        "start_time": "2023-06-08T13:08:30.263Z"
      },
      {
        "duration": 3039,
        "start_time": "2023-06-08T13:08:33.368Z"
      },
      {
        "duration": 3027,
        "start_time": "2023-06-08T13:08:36.408Z"
      },
      {
        "duration": 1639,
        "start_time": "2023-06-08T14:00:09.119Z"
      },
      {
        "duration": 2048,
        "start_time": "2023-06-08T14:00:10.760Z"
      },
      {
        "duration": 16,
        "start_time": "2023-06-08T14:00:12.810Z"
      },
      {
        "duration": 9,
        "start_time": "2023-06-08T14:00:12.828Z"
      },
      {
        "duration": 18,
        "start_time": "2023-06-08T14:00:12.839Z"
      },
      {
        "duration": 12,
        "start_time": "2023-06-08T14:00:12.859Z"
      },
      {
        "duration": 14,
        "start_time": "2023-06-08T14:00:12.873Z"
      },
      {
        "duration": 10,
        "start_time": "2023-06-08T14:00:12.889Z"
      },
      {
        "duration": 13,
        "start_time": "2023-06-08T14:00:12.901Z"
      },
      {
        "duration": 5,
        "start_time": "2023-06-08T14:00:12.916Z"
      },
      {
        "duration": 10,
        "start_time": "2023-06-08T14:00:12.923Z"
      },
      {
        "duration": 2240,
        "start_time": "2023-06-08T14:00:12.935Z"
      },
      {
        "duration": 2807,
        "start_time": "2023-06-08T14:00:15.260Z"
      },
      {
        "duration": 2501,
        "start_time": "2023-06-08T14:00:18.160Z"
      },
      {
        "duration": 7,
        "start_time": "2023-06-08T14:00:20.664Z"
      },
      {
        "duration": 30,
        "start_time": "2023-06-08T14:00:20.757Z"
      },
      {
        "duration": 155,
        "start_time": "2023-06-08T14:00:20.789Z"
      },
      {
        "duration": 119,
        "start_time": "2023-06-08T14:00:20.945Z"
      },
      {
        "duration": 132,
        "start_time": "2023-06-08T14:00:21.066Z"
      },
      {
        "duration": 125,
        "start_time": "2023-06-08T14:00:21.200Z"
      },
      {
        "duration": 4,
        "start_time": "2023-06-08T14:00:21.328Z"
      },
      {
        "duration": 57,
        "start_time": "2023-06-08T14:00:21.335Z"
      },
      {
        "duration": 36,
        "start_time": "2023-06-08T14:00:21.394Z"
      },
      {
        "duration": 52,
        "start_time": "2023-06-08T14:00:21.432Z"
      },
      {
        "duration": 5,
        "start_time": "2023-06-08T14:00:21.486Z"
      },
      {
        "duration": 3458,
        "start_time": "2023-06-08T14:00:21.494Z"
      },
      {
        "duration": 3538,
        "start_time": "2023-06-08T14:00:24.957Z"
      },
      {
        "duration": 3411,
        "start_time": "2023-06-08T14:00:28.497Z"
      },
      {
        "duration": 1567,
        "start_time": "2023-06-09T07:15:21.735Z"
      },
      {
        "duration": 777,
        "start_time": "2023-06-09T07:15:23.304Z"
      },
      {
        "duration": 19,
        "start_time": "2023-06-09T07:15:24.083Z"
      },
      {
        "duration": 20,
        "start_time": "2023-06-09T07:15:24.104Z"
      },
      {
        "duration": 17,
        "start_time": "2023-06-09T07:15:24.127Z"
      },
      {
        "duration": 15,
        "start_time": "2023-06-09T07:15:24.145Z"
      },
      {
        "duration": 11,
        "start_time": "2023-06-09T07:15:24.162Z"
      },
      {
        "duration": 11,
        "start_time": "2023-06-09T07:15:24.175Z"
      },
      {
        "duration": 10,
        "start_time": "2023-06-09T07:15:24.188Z"
      },
      {
        "duration": 6,
        "start_time": "2023-06-09T07:15:24.200Z"
      },
      {
        "duration": 36,
        "start_time": "2023-06-09T07:15:24.208Z"
      },
      {
        "duration": 2595,
        "start_time": "2023-06-09T07:15:24.246Z"
      },
      {
        "duration": 2505,
        "start_time": "2023-06-09T07:15:26.844Z"
      },
      {
        "duration": 2599,
        "start_time": "2023-06-09T07:15:29.352Z"
      },
      {
        "duration": 7,
        "start_time": "2023-06-09T07:15:32.042Z"
      },
      {
        "duration": 111,
        "start_time": "2023-06-09T07:15:32.053Z"
      },
      {
        "duration": 154,
        "start_time": "2023-06-09T07:15:32.167Z"
      },
      {
        "duration": 110,
        "start_time": "2023-06-09T07:15:32.324Z"
      },
      {
        "duration": 107,
        "start_time": "2023-06-09T07:15:32.441Z"
      },
      {
        "duration": 108,
        "start_time": "2023-06-09T07:15:32.549Z"
      },
      {
        "duration": 4,
        "start_time": "2023-06-09T07:15:32.658Z"
      },
      {
        "duration": 47,
        "start_time": "2023-06-09T07:15:32.664Z"
      },
      {
        "duration": 43,
        "start_time": "2023-06-09T07:15:32.713Z"
      },
      {
        "duration": 34,
        "start_time": "2023-06-09T07:15:32.757Z"
      },
      {
        "duration": 7,
        "start_time": "2023-06-09T07:15:32.793Z"
      },
      {
        "duration": 3077,
        "start_time": "2023-06-09T07:15:32.801Z"
      },
      {
        "duration": 2906,
        "start_time": "2023-06-09T07:15:35.880Z"
      },
      {
        "duration": 2892,
        "start_time": "2023-06-09T07:15:38.787Z"
      }
    ],
    "kernelspec": {
      "display_name": "Python 3 (ipykernel)",
      "language": "python",
      "name": "python3"
    },
    "language_info": {
      "codemirror_mode": {
        "name": "ipython",
        "version": 3
      },
      "file_extension": ".py",
      "mimetype": "text/x-python",
      "name": "python",
      "nbconvert_exporter": "python",
      "pygments_lexer": "ipython3",
      "version": "3.9.5"
    },
    "toc": {
      "base_numbering": 1,
      "nav_menu": {},
      "number_sections": true,
      "sideBar": true,
      "skip_h1_title": true,
      "title_cell": "Table of Contents",
      "title_sidebar": "Contents",
      "toc_cell": false,
      "toc_position": {},
      "toc_section_display": true,
      "toc_window_display": false
    },
    "colab": {
      "provenance": []
    }
  },
  "nbformat": 4,
  "nbformat_minor": 0
}